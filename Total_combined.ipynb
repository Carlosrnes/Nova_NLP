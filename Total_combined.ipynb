{
 "cells": [
  {
   "cell_type": "markdown",
   "metadata": {
    "colab_type": "text",
    "id": "view-in-github"
   },
   "source": [
    "<a href=\"https://colab.research.google.com/github/Carlosrnes/Nova_NLP/blob/main/NLP_Tensorflow.ipynb\" target=\"_parent\"><img src=\"https://colab.research.google.com/assets/colab-badge.svg\" alt=\"Open In Colab\"/></a>"
   ]
  },
  {
   "cell_type": "markdown",
   "metadata": {
    "id": "XiPHxiPNloga"
   },
   "source": [
    "### GPU"
   ]
  },
  {
   "cell_type": "code",
   "execution_count": 1,
   "metadata": {
    "colab": {
     "base_uri": "https://localhost:8080/"
    },
    "id": "On8-qL8J7nhX",
    "outputId": "f8fd6f5e-8545-4a42-ba41-3bed092457b0"
   },
   "outputs": [
    {
     "name": "stdout",
     "output_type": "stream",
     "text": [
      "GPU 0: Tesla T4 (UUID: GPU-05fdf5dd-9262-75a2-2842-acd8e986ec81)\n"
     ]
    }
   ],
   "source": [
    "# Check GPU\n",
    "!nvidia-smi -L"
   ]
  },
  {
   "cell_type": "code",
   "execution_count": 2,
   "metadata": {
    "colab": {
     "base_uri": "https://localhost:8080/"
    },
    "id": "tGf4KNpjz9l-",
    "outputId": "f45168e8-98c8-4fae-d0da-38498c04dc79"
   },
   "outputs": [
    {
     "name": "stdout",
     "output_type": "stream",
     "text": [
      "\u001b[K     |████████████████████████████████| 4.9 MB 4.9 MB/s \n",
      "\u001b[?25h"
     ]
    }
   ],
   "source": [
    "# A dependency of the preprocessing for BERT inputs\n",
    "!pip install -q -U \"tensorflow-text==2.8.*\""
   ]
  },
  {
   "cell_type": "markdown",
   "metadata": {
    "id": "-lU6h8yE_Y73"
   },
   "source": [
    "### Libraries"
   ]
  },
  {
   "cell_type": "code",
   "execution_count": 3,
   "metadata": {
    "id": "xny5XgcK_cdk"
   },
   "outputs": [],
   "source": [
    "from IPython.core.display import display, HTML\n",
    "display(HTML(\"<style>.container { width:90% !important; }</style>\"))\n",
    "\n",
    "import pandas as pd\n",
    "pd.set_option('display.max_colwidth', 150)\n",
    "import numpy as np\n",
    "import random\n",
    "import matplotlib.pyplot as plt\n",
    "import seaborn as sns\n",
    "import regex as re\n",
    "\n",
    "import tqdm\n",
    "import sys\n",
    "np.set_printoptions(threshold=sys.maxsize)\n",
    "\n",
    "from sklearn.preprocessing import OneHotEncoder\n",
    "from sklearn.feature_extraction.text import TfidfVectorizer\n",
    "from sklearn.naive_bayes import MultinomialNB\n",
    "from sklearn.linear_model import LogisticRegression\n",
    "from sklearn.ensemble import RandomForestClassifier\n",
    "\n",
    "from sklearn.pipeline import Pipeline\n",
    "from sklearn import metrics\n",
    "from sklearn.metrics import accuracy_score, precision_recall_fscore_support\n",
    "from sklearn.metrics import f1_score\n",
    "from nltk.corpus import stopwords\n",
    "from nltk.stem.wordnet import WordNetLemmatizer\n",
    "from bs4 import BeautifulSoup\n",
    "\n",
    "\n",
    "import tensorflow_hub as hub\n",
    "import tensorflow as tf\n",
    "import tensorflow_text as text\n",
    "from tensorflow.keras.layers.experimental.preprocessing import TextVectorization\n",
    "from tensorflow.keras import layers"
   ]
  },
  {
   "cell_type": "markdown",
   "metadata": {
    "id": "Up7bWxY6-5ae"
   },
   "source": [
    "### Get the data"
   ]
  },
  {
   "cell_type": "code",
   "execution_count": 67,
   "metadata": {
    "colab": {
     "base_uri": "https://localhost:8080/",
     "height": 81
    },
    "id": "HygAy9-F-4v6",
    "outputId": "2d66c602-1993-4d93-e0f1-f4cc79d926e6"
   },
   "outputs": [
    {
     "data": {
      "text/html": [
       "\n",
       "  <div id=\"df-301fe4f1-b4d3-4cdd-8367-69fd7366b329\">\n",
       "    <div class=\"colab-df-container\">\n",
       "      <div>\n",
       "<style scoped>\n",
       "    .dataframe tbody tr th:only-of-type {\n",
       "        vertical-align: middle;\n",
       "    }\n",
       "\n",
       "    .dataframe tbody tr th {\n",
       "        vertical-align: top;\n",
       "    }\n",
       "\n",
       "    .dataframe thead th {\n",
       "        text-align: right;\n",
       "    }\n",
       "</style>\n",
       "<table border=\"1\" class=\"dataframe\">\n",
       "  <thead>\n",
       "    <tr style=\"text-align: right;\">\n",
       "      <th></th>\n",
       "      <th>sentence</th>\n",
       "      <th>emotion</th>\n",
       "    </tr>\n",
       "  </thead>\n",
       "  <tbody>\n",
       "    <tr>\n",
       "      <th>0</th>\n",
       "      <td>I'm too old to be traded in .</td>\n",
       "      <td>6</td>\n",
       "    </tr>\n",
       "  </tbody>\n",
       "</table>\n",
       "</div>\n",
       "      <button class=\"colab-df-convert\" onclick=\"convertToInteractive('df-301fe4f1-b4d3-4cdd-8367-69fd7366b329')\"\n",
       "              title=\"Convert this dataframe to an interactive table.\"\n",
       "              style=\"display:none;\">\n",
       "        \n",
       "  <svg xmlns=\"http://www.w3.org/2000/svg\" height=\"24px\"viewBox=\"0 0 24 24\"\n",
       "       width=\"24px\">\n",
       "    <path d=\"M0 0h24v24H0V0z\" fill=\"none\"/>\n",
       "    <path d=\"M18.56 5.44l.94 2.06.94-2.06 2.06-.94-2.06-.94-.94-2.06-.94 2.06-2.06.94zm-11 1L8.5 8.5l.94-2.06 2.06-.94-2.06-.94L8.5 2.5l-.94 2.06-2.06.94zm10 10l.94 2.06.94-2.06 2.06-.94-2.06-.94-.94-2.06-.94 2.06-2.06.94z\"/><path d=\"M17.41 7.96l-1.37-1.37c-.4-.4-.92-.59-1.43-.59-.52 0-1.04.2-1.43.59L10.3 9.45l-7.72 7.72c-.78.78-.78 2.05 0 2.83L4 21.41c.39.39.9.59 1.41.59.51 0 1.02-.2 1.41-.59l7.78-7.78 2.81-2.81c.8-.78.8-2.07 0-2.86zM5.41 20L4 18.59l7.72-7.72 1.47 1.35L5.41 20z\"/>\n",
       "  </svg>\n",
       "      </button>\n",
       "      \n",
       "  <style>\n",
       "    .colab-df-container {\n",
       "      display:flex;\n",
       "      flex-wrap:wrap;\n",
       "      gap: 12px;\n",
       "    }\n",
       "\n",
       "    .colab-df-convert {\n",
       "      background-color: #E8F0FE;\n",
       "      border: none;\n",
       "      border-radius: 50%;\n",
       "      cursor: pointer;\n",
       "      display: none;\n",
       "      fill: #1967D2;\n",
       "      height: 32px;\n",
       "      padding: 0 0 0 0;\n",
       "      width: 32px;\n",
       "    }\n",
       "\n",
       "    .colab-df-convert:hover {\n",
       "      background-color: #E2EBFA;\n",
       "      box-shadow: 0px 1px 2px rgba(60, 64, 67, 0.3), 0px 1px 3px 1px rgba(60, 64, 67, 0.15);\n",
       "      fill: #174EA6;\n",
       "    }\n",
       "\n",
       "    [theme=dark] .colab-df-convert {\n",
       "      background-color: #3B4455;\n",
       "      fill: #D2E3FC;\n",
       "    }\n",
       "\n",
       "    [theme=dark] .colab-df-convert:hover {\n",
       "      background-color: #434B5C;\n",
       "      box-shadow: 0px 1px 3px 1px rgba(0, 0, 0, 0.15);\n",
       "      filter: drop-shadow(0px 1px 2px rgba(0, 0, 0, 0.3));\n",
       "      fill: #FFFFFF;\n",
       "    }\n",
       "  </style>\n",
       "\n",
       "      <script>\n",
       "        const buttonEl =\n",
       "          document.querySelector('#df-301fe4f1-b4d3-4cdd-8367-69fd7366b329 button.colab-df-convert');\n",
       "        buttonEl.style.display =\n",
       "          google.colab.kernel.accessAllowed ? 'block' : 'none';\n",
       "\n",
       "        async function convertToInteractive(key) {\n",
       "          const element = document.querySelector('#df-301fe4f1-b4d3-4cdd-8367-69fd7366b329');\n",
       "          const dataTable =\n",
       "            await google.colab.kernel.invokeFunction('convertToInteractive',\n",
       "                                                     [key], {});\n",
       "          if (!dataTable) return;\n",
       "\n",
       "          const docLinkHtml = 'Like what you see? Visit the ' +\n",
       "            '<a target=\"_blank\" href=https://colab.research.google.com/notebooks/data_table.ipynb>data table notebook</a>'\n",
       "            + ' to learn more about interactive tables.';\n",
       "          element.innerHTML = '';\n",
       "          dataTable['output_type'] = 'display_data';\n",
       "          await google.colab.output.renderOutput(dataTable, element);\n",
       "          const docLink = document.createElement('div');\n",
       "          docLink.innerHTML = docLinkHtml;\n",
       "          element.appendChild(docLink);\n",
       "        }\n",
       "      </script>\n",
       "    </div>\n",
       "  </div>\n",
       "  "
      ],
      "text/plain": [
       "                        sentence  emotion\n",
       "0  I'm too old to be traded in .        6"
      ]
     },
     "execution_count": 67,
     "metadata": {},
     "output_type": "execute_result"
    }
   ],
   "source": [
    "train_df = pd.read_csv(\"https://raw.githubusercontent.com/Carlosrnes/Nova_NLP/main/data/training_set.txt\", sep=\"\\t\")\n",
    "valid_df = pd.read_csv(\"https://raw.githubusercontent.com/Carlosrnes/Nova_NLP/main/data/dev_set.txt\", sep=\"\\t\")\n",
    "test_df = pd.read_csv(\"https://raw.githubusercontent.com/Carlosrnes/Nova_NLP/main/data/test_set.txt\", sep=\"\\t\")\n",
    "train_df.head(1)"
   ]
  },
  {
   "cell_type": "markdown",
   "metadata": {
    "id": "s2AsdHHIArbB"
   },
   "source": [
    "### Explore Dataset"
   ]
  },
  {
   "cell_type": "code",
   "execution_count": 64,
   "metadata": {
    "colab": {
     "base_uri": "https://localhost:8080/",
     "height": 318
    },
    "id": "4h7S4dZV_5wu",
    "outputId": "4ac3d2b8-4d55-4886-ff4e-5ab185bbd912"
   },
   "outputs": [
    {
     "name": "stdout",
     "output_type": "stream",
     "text": [
      "[1 2 3 4 5 6 7 8]\n"
     ]
    },
    {
     "data": {
      "text/html": [
       "\n",
       "  <div id=\"df-4d23588d-bb23-40b6-8167-d3c6b2a0a8e5\">\n",
       "    <div class=\"colab-df-container\">\n",
       "      <div>\n",
       "<style scoped>\n",
       "    .dataframe tbody tr th:only-of-type {\n",
       "        vertical-align: middle;\n",
       "    }\n",
       "\n",
       "    .dataframe tbody tr th {\n",
       "        vertical-align: top;\n",
       "    }\n",
       "\n",
       "    .dataframe thead th {\n",
       "        text-align: right;\n",
       "    }\n",
       "</style>\n",
       "<table border=\"1\" class=\"dataframe\">\n",
       "  <thead>\n",
       "    <tr style=\"text-align: right;\">\n",
       "      <th></th>\n",
       "      <th>emotion</th>\n",
       "      <th>sentence</th>\n",
       "      <th>perc_total</th>\n",
       "      <th>dataset</th>\n",
       "    </tr>\n",
       "  </thead>\n",
       "  <tbody>\n",
       "    <tr>\n",
       "      <th>0</th>\n",
       "      <td>1</td>\n",
       "      <td>2999</td>\n",
       "      <td>0.21</td>\n",
       "      <td>Train</td>\n",
       "    </tr>\n",
       "    <tr>\n",
       "      <th>1</th>\n",
       "      <td>2</td>\n",
       "      <td>2129</td>\n",
       "      <td>0.15</td>\n",
       "      <td>Train</td>\n",
       "    </tr>\n",
       "    <tr>\n",
       "      <th>2</th>\n",
       "      <td>3</td>\n",
       "      <td>1343</td>\n",
       "      <td>0.10</td>\n",
       "      <td>Train</td>\n",
       "    </tr>\n",
       "    <tr>\n",
       "      <th>3</th>\n",
       "      <td>4</td>\n",
       "      <td>1442</td>\n",
       "      <td>0.10</td>\n",
       "      <td>Train</td>\n",
       "    </tr>\n",
       "    <tr>\n",
       "      <th>4</th>\n",
       "      <td>5</td>\n",
       "      <td>1470</td>\n",
       "      <td>0.10</td>\n",
       "      <td>Train</td>\n",
       "    </tr>\n",
       "    <tr>\n",
       "      <th>5</th>\n",
       "      <td>6</td>\n",
       "      <td>1384</td>\n",
       "      <td>0.10</td>\n",
       "      <td>Train</td>\n",
       "    </tr>\n",
       "    <tr>\n",
       "      <th>6</th>\n",
       "      <td>7</td>\n",
       "      <td>1138</td>\n",
       "      <td>0.08</td>\n",
       "      <td>Train</td>\n",
       "    </tr>\n",
       "    <tr>\n",
       "      <th>7</th>\n",
       "      <td>8</td>\n",
       "      <td>2095</td>\n",
       "      <td>0.15</td>\n",
       "      <td>Train</td>\n",
       "    </tr>\n",
       "  </tbody>\n",
       "</table>\n",
       "</div>\n",
       "      <button class=\"colab-df-convert\" onclick=\"convertToInteractive('df-4d23588d-bb23-40b6-8167-d3c6b2a0a8e5')\"\n",
       "              title=\"Convert this dataframe to an interactive table.\"\n",
       "              style=\"display:none;\">\n",
       "        \n",
       "  <svg xmlns=\"http://www.w3.org/2000/svg\" height=\"24px\"viewBox=\"0 0 24 24\"\n",
       "       width=\"24px\">\n",
       "    <path d=\"M0 0h24v24H0V0z\" fill=\"none\"/>\n",
       "    <path d=\"M18.56 5.44l.94 2.06.94-2.06 2.06-.94-2.06-.94-.94-2.06-.94 2.06-2.06.94zm-11 1L8.5 8.5l.94-2.06 2.06-.94-2.06-.94L8.5 2.5l-.94 2.06-2.06.94zm10 10l.94 2.06.94-2.06 2.06-.94-2.06-.94-.94-2.06-.94 2.06-2.06.94z\"/><path d=\"M17.41 7.96l-1.37-1.37c-.4-.4-.92-.59-1.43-.59-.52 0-1.04.2-1.43.59L10.3 9.45l-7.72 7.72c-.78.78-.78 2.05 0 2.83L4 21.41c.39.39.9.59 1.41.59.51 0 1.02-.2 1.41-.59l7.78-7.78 2.81-2.81c.8-.78.8-2.07 0-2.86zM5.41 20L4 18.59l7.72-7.72 1.47 1.35L5.41 20z\"/>\n",
       "  </svg>\n",
       "      </button>\n",
       "      \n",
       "  <style>\n",
       "    .colab-df-container {\n",
       "      display:flex;\n",
       "      flex-wrap:wrap;\n",
       "      gap: 12px;\n",
       "    }\n",
       "\n",
       "    .colab-df-convert {\n",
       "      background-color: #E8F0FE;\n",
       "      border: none;\n",
       "      border-radius: 50%;\n",
       "      cursor: pointer;\n",
       "      display: none;\n",
       "      fill: #1967D2;\n",
       "      height: 32px;\n",
       "      padding: 0 0 0 0;\n",
       "      width: 32px;\n",
       "    }\n",
       "\n",
       "    .colab-df-convert:hover {\n",
       "      background-color: #E2EBFA;\n",
       "      box-shadow: 0px 1px 2px rgba(60, 64, 67, 0.3), 0px 1px 3px 1px rgba(60, 64, 67, 0.15);\n",
       "      fill: #174EA6;\n",
       "    }\n",
       "\n",
       "    [theme=dark] .colab-df-convert {\n",
       "      background-color: #3B4455;\n",
       "      fill: #D2E3FC;\n",
       "    }\n",
       "\n",
       "    [theme=dark] .colab-df-convert:hover {\n",
       "      background-color: #434B5C;\n",
       "      box-shadow: 0px 1px 3px 1px rgba(0, 0, 0, 0.15);\n",
       "      filter: drop-shadow(0px 1px 2px rgba(0, 0, 0, 0.3));\n",
       "      fill: #FFFFFF;\n",
       "    }\n",
       "  </style>\n",
       "\n",
       "      <script>\n",
       "        const buttonEl =\n",
       "          document.querySelector('#df-4d23588d-bb23-40b6-8167-d3c6b2a0a8e5 button.colab-df-convert');\n",
       "        buttonEl.style.display =\n",
       "          google.colab.kernel.accessAllowed ? 'block' : 'none';\n",
       "\n",
       "        async function convertToInteractive(key) {\n",
       "          const element = document.querySelector('#df-4d23588d-bb23-40b6-8167-d3c6b2a0a8e5');\n",
       "          const dataTable =\n",
       "            await google.colab.kernel.invokeFunction('convertToInteractive',\n",
       "                                                     [key], {});\n",
       "          if (!dataTable) return;\n",
       "\n",
       "          const docLinkHtml = 'Like what you see? Visit the ' +\n",
       "            '<a target=\"_blank\" href=https://colab.research.google.com/notebooks/data_table.ipynb>data table notebook</a>'\n",
       "            + ' to learn more about interactive tables.';\n",
       "          element.innerHTML = '';\n",
       "          dataTable['output_type'] = 'display_data';\n",
       "          await google.colab.output.renderOutput(dataTable, element);\n",
       "          const docLink = document.createElement('div');\n",
       "          docLink.innerHTML = docLinkHtml;\n",
       "          element.appendChild(docLink);\n",
       "        }\n",
       "      </script>\n",
       "    </div>\n",
       "  </div>\n",
       "  "
      ],
      "text/plain": [
       "   emotion  sentence  perc_total dataset\n",
       "0        1      2999        0.21   Train\n",
       "1        2      2129        0.15   Train\n",
       "2        3      1343        0.10   Train\n",
       "3        4      1442        0.10   Train\n",
       "4        5      1470        0.10   Train\n",
       "5        6      1384        0.10   Train\n",
       "6        7      1138        0.08   Train\n",
       "7        8      2095        0.15   Train"
      ]
     },
     "execution_count": 64,
     "metadata": {},
     "output_type": "execute_result"
    }
   ],
   "source": [
    "# check if the emotions are correctly defined:\n",
    "print(np.sort(train_df['emotion'].unique()))\n",
    "\n",
    "# check the distribution of sentences in each emotion class:\n",
    "df = train_df.groupby('emotion').count().reset_index()\n",
    "sum_total = df['sentence'].sum()\n",
    "df['perc_total'] = round(df['sentence']/sum_total,2)\n",
    "df['dataset'] = 'Train'\n",
    "df"
   ]
  },
  {
   "cell_type": "code",
   "execution_count": null,
   "metadata": {},
   "outputs": [],
   "source": [
    "# size of the dataset and null values\n",
    "train_df.info()"
   ]
  },
  {
   "cell_type": "code",
   "execution_count": 6,
   "metadata": {
    "colab": {
     "base_uri": "https://localhost:8080/"
    },
    "id": "e-M8XuVkAc8v",
    "outputId": "0e37ddab-31e7-43b6-9d91-deea9c3f4938"
   },
   "outputs": [
    {
     "name": "stdout",
     "output_type": "stream",
     "text": [
      "Total training samples: 14000\n",
      "Total valid samples: 1000\n",
      "Total samples: 15000\n"
     ]
    }
   ],
   "source": [
    "# Samples\n",
    "print(f\"Total training samples: {len(train_df)}\")\n",
    "print(f\"Total valid samples: {len(valid_df)}\")\n",
    "print(f\"Total samples: {len(train_df) + len(valid_df)}\")"
   ]
  },
  {
   "cell_type": "markdown",
   "metadata": {
    "id": "YZ4hnCvOAvGG"
   },
   "source": [
    "### Baseline Model"
   ]
  },
  {
   "cell_type": "code",
   "execution_count": null,
   "metadata": {},
   "outputs": [],
   "source": [
    "train = train_df.copy()\n",
    "val = valid_df.copy()"
   ]
  },
  {
   "cell_type": "code",
   "execution_count": 44,
   "metadata": {},
   "outputs": [],
   "source": [
    "#minimal preprocessing\n",
    "train.dropna(inplace=True)\n",
    "train.emotion=train.emotion-1\n",
    "train.emotion=train.emotion.astype(\"int\")\n",
    "train= train.reset_index(drop=True)"
   ]
  },
  {
   "cell_type": "code",
   "execution_count": 45,
   "metadata": {},
   "outputs": [
    {
     "data": {
      "text/plain": [
       "((14000, 7185), (14000,))"
      ]
     },
     "execution_count": 45,
     "metadata": {},
     "output_type": "execute_result"
    }
   ],
   "source": [
    "#feature extraction \n",
    "vectorizer = TfidfVectorizer(stop_words=\"english\", max_df=.8)\n",
    "X = vectorizer.fit_transform(train.sentence).toarray()\n",
    "Y = train.emotion\n",
    "X.shape, Y.shape"
   ]
  },
  {
   "cell_type": "code",
   "execution_count": 46,
   "metadata": {},
   "outputs": [
    {
     "data": {
      "text/plain": [
       "((968, 7185), (968,))"
      ]
     },
     "execution_count": 46,
     "metadata": {},
     "output_type": "execute_result"
    }
   ],
   "source": [
    "#applying the same steps to validation data\n",
    "val = pd.read_csv(\"data/dev_set.txt\",sep=\" .\t\",engine='python', names=[\"sentence\",\"emotion\"],skiprows=1 )\n",
    "val.dropna(inplace=True)\n",
    "val.emotion=val.emotion-1\n",
    "val.emotion=val.emotion.astype(\"int\")\n",
    "val= val.reset_index(drop=True)\n",
    "\n",
    "X_test = vectorizer.transform(val.sentence).toarray()\n",
    "Y_test = val.emotion\n",
    "X_test.shape, Y_test.shape"
   ]
  },
  {
   "cell_type": "code",
   "execution_count": 47,
   "metadata": {},
   "outputs": [],
   "source": [
    "clf = LogisticRegression(random_state=0, max_iter=1000, class_weight='balanced').fit(X, Y)\n",
    "Y_pred = clf.predict(X_test)"
   ]
  },
  {
   "cell_type": "code",
   "execution_count": 48,
   "metadata": {},
   "outputs": [
    {
     "name": "stdout",
     "output_type": "stream",
     "text": [
      "accuracy:  0.32541322314049587\n"
     ]
    }
   ],
   "source": [
    "score = clf.score(X_test, Y_test)\n",
    "print('accuracy: ', score)"
   ]
  },
  {
   "cell_type": "code",
   "execution_count": 49,
   "metadata": {},
   "outputs": [
    {
     "name": "stdout",
     "output_type": "stream",
     "text": [
      "Classification report for classifier LogisticRegression(class_weight='balanced', max_iter=1000, random_state=0):\n",
      "              precision    recall  f1-score   support\n",
      "\n",
      "           0       0.41      0.21      0.28       205\n",
      "           1       0.38      0.38      0.38       165\n",
      "           2       0.14      0.28      0.19        72\n",
      "           3       0.33      0.37      0.35       102\n",
      "           4       0.38      0.45      0.41        97\n",
      "           5       0.31      0.35      0.33        81\n",
      "           6       0.32      0.44      0.37        94\n",
      "           7       0.37      0.26      0.30       152\n",
      "\n",
      "    accuracy                           0.33       968\n",
      "   macro avg       0.33      0.34      0.33       968\n",
      "weighted avg       0.35      0.33      0.33       968\n",
      "\n",
      "\n"
     ]
    }
   ],
   "source": [
    "print(\n",
    "    f\"Classification report for classifier {clf}:\\n\"\n",
    "    f\"{metrics.classification_report(Y_test, Y_pred)}\\n\"\n",
    ")"
   ]
  },
  {
   "cell_type": "markdown",
   "metadata": {},
   "source": [
    "### Preprocessing\n",
    "\n",
    "Now that we have a baseline score (.214), we can try additional preprocessing to improve the score, as well as different models and embessing layers."
   ]
  },
  {
   "cell_type": "code",
   "execution_count": 50,
   "metadata": {},
   "outputs": [],
   "source": [
    "def preprocessing(dataframe, column):\n",
    "    \n",
    "    processed_corpus = []\n",
    "    stop_words = set(stopwords.words(\"english\"))\n",
    "    \n",
    "    for i in (range(len(dataframe))):\n",
    "        text = dataframe[column].iloc[i]\n",
    "        \n",
    "        # Remove tags\n",
    "        text = BeautifulSoup(text).get_text()\n",
    "        \n",
    "        # Remove punctuations - mantain only the final . or !\n",
    "        text = re.sub(\"[^a-zA-z!.?:'\\s]\", '', text)\n",
    "        text = re.sub(\"[.]{2,}\", '', text)\n",
    "        text = re.sub(\"[?]\", \"questionmark\", text)\n",
    "        text = re.sub(\"[!]\", \"exclamationmark\", text)\n",
    "\n",
    "        # Convert to lowercase\n",
    "        text = text.lower()        \n",
    "        \n",
    "        # Convert to list from string\n",
    "        text = text.split()\n",
    "\n",
    "        # Lemmatization\n",
    "        lem = WordNetLemmatizer()\n",
    "        text = [lem.lemmatize(word) for word in text if not word in stop_words] \n",
    "        text = \" \".join(text)\n",
    "        processed_corpus.append(text)\n",
    "    dataframe['sentence_prep'] = processed_corpus\n",
    "        \n",
    "    return dataframe"
   ]
  },
  {
   "cell_type": "code",
   "execution_count": 51,
   "metadata": {},
   "outputs": [],
   "source": [
    "#reimport data\n",
    "train = pd.read_csv(\"data/training_set.txt\", sep=\"\t\", engine='python', names=[\"sentence\",\"emotion\"], skiprows=1)\n",
    "test = pd.read_csv(\"data/dev_set.txt\", sep=\"\t\", engine='python', names=[\"sentence\",\"emotion\"], skiprows=1)"
   ]
  },
  {
   "cell_type": "code",
   "execution_count": 52,
   "metadata": {},
   "outputs": [
    {
     "name": "stderr",
     "output_type": "stream",
     "text": [
      "C:\\Users\\mdurh\\anaconda3\\lib\\site-packages\\bs4\\__init__.py:435: MarkupResemblesLocatorWarning: The input looks more like a filename than markup. You may want to open this file and pass the filehandle into Beautiful Soup.\n",
      "  warnings.warn(\n"
     ]
    }
   ],
   "source": [
    "train = preprocessing(train, 'sentence')"
   ]
  },
  {
   "cell_type": "code",
   "execution_count": 53,
   "metadata": {},
   "outputs": [
    {
     "data": {
      "text/html": [
       "<div>\n",
       "<style scoped>\n",
       "    .dataframe tbody tr th:only-of-type {\n",
       "        vertical-align: middle;\n",
       "    }\n",
       "\n",
       "    .dataframe tbody tr th {\n",
       "        vertical-align: top;\n",
       "    }\n",
       "\n",
       "    .dataframe thead th {\n",
       "        text-align: right;\n",
       "    }\n",
       "</style>\n",
       "<table border=\"1\" class=\"dataframe\">\n",
       "  <thead>\n",
       "    <tr style=\"text-align: right;\">\n",
       "      <th></th>\n",
       "      <th>sentence</th>\n",
       "      <th>emotion</th>\n",
       "      <th>sentence_prep</th>\n",
       "    </tr>\n",
       "  </thead>\n",
       "  <tbody>\n",
       "    <tr>\n",
       "      <th>12447</th>\n",
       "      <td>Listen , I - I know you're gonna think this is real dumb of me , but , uh , I haven't been feeling very good lately , and , uh ...</td>\n",
       "      <td>2</td>\n",
       "      <td>listen know gonna think real dumb uh feeling good lately uh</td>\n",
       "    </tr>\n",
       "    <tr>\n",
       "      <th>7142</th>\n",
       "      <td>At least they can dream .</td>\n",
       "      <td>5</td>\n",
       "      <td>least dream .</td>\n",
       "    </tr>\n",
       "    <tr>\n",
       "      <th>1232</th>\n",
       "      <td>You're not gonna give him a chance , are you ?</td>\n",
       "      <td>4</td>\n",
       "      <td>gonna give chance questionmark</td>\n",
       "    </tr>\n",
       "    <tr>\n",
       "      <th>8071</th>\n",
       "      <td>How can you be so mean ?</td>\n",
       "      <td>3</td>\n",
       "      <td>mean questionmark</td>\n",
       "    </tr>\n",
       "    <tr>\n",
       "      <th>5589</th>\n",
       "      <td>What if I could get you the money you're waiting for before midnight ?</td>\n",
       "      <td>8</td>\n",
       "      <td>could get money waiting midnight questionmark</td>\n",
       "    </tr>\n",
       "    <tr>\n",
       "      <th>11313</th>\n",
       "      <td>I shall wish a book jacket that is only letters .</td>\n",
       "      <td>8</td>\n",
       "      <td>shall wish book jacket letter .</td>\n",
       "    </tr>\n",
       "    <tr>\n",
       "      <th>11745</th>\n",
       "      <td>With what money , and what about us ?</td>\n",
       "      <td>4</td>\n",
       "      <td>money u questionmark</td>\n",
       "    </tr>\n",
       "    <tr>\n",
       "      <th>3925</th>\n",
       "      <td>Want to see a strange object ?</td>\n",
       "      <td>2</td>\n",
       "      <td>want see strange object questionmark</td>\n",
       "    </tr>\n",
       "    <tr>\n",
       "      <th>11309</th>\n",
       "      <td>Wait till I ask Dad if this is any way to run an airline .</td>\n",
       "      <td>1</td>\n",
       "      <td>wait till ask dad way run airline .</td>\n",
       "    </tr>\n",
       "    <tr>\n",
       "      <th>10322</th>\n",
       "      <td>I'd like to introduce you to ...</td>\n",
       "      <td>2</td>\n",
       "      <td>i'd like introduce</td>\n",
       "    </tr>\n",
       "  </tbody>\n",
       "</table>\n",
       "</div>"
      ],
      "text/plain": [
       "                                                                                                                                 sentence  \\\n",
       "12447  Listen , I - I know you're gonna think this is real dumb of me , but , uh , I haven't been feeling very good lately , and , uh ...   \n",
       "7142                                                                                                            At least they can dream .   \n",
       "1232                                                                                       You're not gonna give him a chance , are you ?   \n",
       "8071                                                                                                             How can you be so mean ?   \n",
       "5589                                                               What if I could get you the money you're waiting for before midnight ?   \n",
       "11313                                                                                   I shall wish a book jacket that is only letters .   \n",
       "11745                                                                                               With what money , and what about us ?   \n",
       "3925                                                                                                       Want to see a strange object ?   \n",
       "11309                                                                          Wait till I ask Dad if this is any way to run an airline .   \n",
       "10322                                                                                                    I'd like to introduce you to ...   \n",
       "\n",
       "       emotion                                                sentence_prep  \n",
       "12447        2  listen know gonna think real dumb uh feeling good lately uh  \n",
       "7142         5                                                least dream .  \n",
       "1232         4                               gonna give chance questionmark  \n",
       "8071         3                                            mean questionmark  \n",
       "5589         8                could get money waiting midnight questionmark  \n",
       "11313        8                              shall wish book jacket letter .  \n",
       "11745        4                                         money u questionmark  \n",
       "3925         2                         want see strange object questionmark  \n",
       "11309        1                          wait till ask dad way run airline .  \n",
       "10322        2                                           i'd like introduce  "
      ]
     },
     "execution_count": 53,
     "metadata": {},
     "output_type": "execute_result"
    }
   ],
   "source": [
    "train.sample(10)"
   ]
  },
  {
   "cell_type": "code",
   "execution_count": 54,
   "metadata": {},
   "outputs": [
    {
     "data": {
      "text/plain": [
       "((14000, 6582), (14000,))"
      ]
     },
     "execution_count": 54,
     "metadata": {},
     "output_type": "execute_result"
    }
   ],
   "source": [
    "#feature extraction \n",
    "vectorizer = TfidfVectorizer(stop_words=None, max_df=.8, strip_accents='unicode', lowercase=False, analyzer='word')\n",
    "X = vectorizer.fit_transform(train['sentence_prep']).toarray()\n",
    "Y = train['emotion']\n",
    "X.shape, Y.shape"
   ]
  },
  {
   "cell_type": "code",
   "execution_count": 55,
   "metadata": {},
   "outputs": [],
   "source": [
    "test = preprocessing(test, 'sentence')"
   ]
  },
  {
   "cell_type": "code",
   "execution_count": 56,
   "metadata": {},
   "outputs": [
    {
     "data": {
      "text/plain": [
       "((1000, 6582), (1000,))"
      ]
     },
     "execution_count": 56,
     "metadata": {},
     "output_type": "execute_result"
    }
   ],
   "source": [
    "X_test = vectorizer.transform(test['sentence_prep']).toarray()\n",
    "Y_test = test['emotion']\n",
    "X_test.shape, Y_test.shape"
   ]
  },
  {
   "cell_type": "markdown",
   "metadata": {},
   "source": [
    "### Model w/ Preprocessing - LogisticRegression"
   ]
  },
  {
   "cell_type": "code",
   "execution_count": 57,
   "metadata": {},
   "outputs": [],
   "source": [
    "clf = LogisticRegression(random_state=0, max_iter=1000, class_weight='balanced').fit(X, Y)\n",
    "Y_pred = clf.predict(X_test)"
   ]
  },
  {
   "cell_type": "code",
   "execution_count": 58,
   "metadata": {},
   "outputs": [
    {
     "name": "stdout",
     "output_type": "stream",
     "text": [
      "accuracy:  0.361\n"
     ]
    }
   ],
   "source": [
    "score = clf.score(X_test, Y_test)\n",
    "print('accuracy: ', score)"
   ]
  },
  {
   "cell_type": "code",
   "execution_count": 59,
   "metadata": {},
   "outputs": [
    {
     "name": "stdout",
     "output_type": "stream",
     "text": [
      "Classification report for classifier LogisticRegression(class_weight='balanced', max_iter=1000, random_state=0):\n",
      "              precision    recall  f1-score   support\n",
      "\n",
      "           1       0.48      0.26      0.34       211\n",
      "           2       0.39      0.35      0.37       170\n",
      "           3       0.24      0.38      0.29        77\n",
      "           4       0.33      0.38      0.35       104\n",
      "           5       0.40      0.45      0.43        97\n",
      "           6       0.27      0.37      0.31        87\n",
      "           7       0.34      0.47      0.39        96\n",
      "           8       0.44      0.36      0.40       158\n",
      "\n",
      "    accuracy                           0.36      1000\n",
      "   macro avg       0.36      0.38      0.36      1000\n",
      "weighted avg       0.39      0.36      0.36      1000\n",
      "\n",
      "\n"
     ]
    }
   ],
   "source": [
    "print(\n",
    "    f\"Classification report for classifier {clf}:\\n\"\n",
    "    f\"{metrics.classification_report(Y_test, Y_pred)}\\n\"\n",
    ")"
   ]
  },
  {
   "cell_type": "code",
   "execution_count": 60,
   "metadata": {},
   "outputs": [
    {
     "name": "stdout",
     "output_type": "stream",
     "text": [
      "[[55 21 32 26  8 26 26 17]\n",
      " [14 60 16 16 17  9 23 15]\n",
      " [ 8 10 29  5  4  6  7  8]\n",
      " [ 7  7  9 39  3 18 10 11]\n",
      " [ 4  6  8  4 44 10  9 12]\n",
      " [11 12  8  6  7 32  5  6]\n",
      " [ 3 15  3 14  4  8 45  4]\n",
      " [12 21 18  8 23 10  9 57]]\n"
     ]
    }
   ],
   "source": [
    "cm = metrics.confusion_matrix(Y_test, Y_pred)\n",
    "print(cm)\n",
    "cm = pd.DataFrame(cm, index=range(1,9), columns=range(1,9))"
   ]
  },
  {
   "cell_type": "code",
   "execution_count": 61,
   "metadata": {},
   "outputs": [
    {
     "data": {
      "image/png": "[encoded data removed]",
      "text/plain": [
       "<Figure size 648x648 with 2 Axes>"
      ]
     },
     "metadata": {
      "needs_background": "light"
     },
     "output_type": "display_data"
    }
   ],
   "source": [
    "plt.figure(figsize=(9,9))\n",
    "sns.heatmap(cm, annot=True, fmt=\".3f\", linewidths=.5, square = True, cmap = 'coolwarm');\n",
    "plt.ylabel('Actual label');\n",
    "plt.xlabel('Predicted label');\n",
    "all_sample_title = 'Accuracy Score: {0}'.format(score)\n",
    "plt.title(all_sample_title, size = 15);"
   ]
  },
  {
   "cell_type": "code",
   "execution_count": 62,
   "metadata": {},
   "outputs": [],
   "source": [
    "feature_names = vectorizer.get_feature_names_out()"
   ]
  },
  {
   "cell_type": "code",
   "execution_count": 30,
   "metadata": {},
   "outputs": [
    {
     "name": "stdout",
     "output_type": "stream",
     "text": [
      "['aa' 'aarfy' 'abandoned' 'abandoning' 'abdominal' 'abercrombie' 'abide'\n",
      " 'ability' 'able' 'ably' 'aboard' 'abracadabra' 'absence' 'absolute'\n",
      " 'absolutely' 'absolve' 'absolved' 'absurd' 'absurdly' 'abundance' 'abuse'\n",
      " 'abused' 'abusive' 'accent' 'accept' 'acceptable' 'accepted' 'accepts'\n",
      " 'access' 'accessory' 'accident' 'accommodate' 'accomplish' 'according'\n",
      " 'account' 'accountable' 'accountant' 'accusation' 'accuse' 'accused'\n",
      " 'accuses' 'ace' 'ache' 'ached' 'aching' 'acid' 'acknowledge'\n",
      " 'acknowledging' 'acquaintance' 'acquainted' 'acquisition' 'acre' 'across'\n",
      " 'act' 'acted' 'acting' 'action' 'active' 'activity' 'actress' 'actual'\n",
      " 'actually' 'ad' 'adalind' 'add' 'addicted' 'additional' 'address' 'adept'\n",
      " 'adiran' 'administration' 'administrative' 'admiral' 'admire' 'admired'\n",
      " 'admiring' 'admission' 'admit' 'admitting' 'adolescence' 'adolescent'\n",
      " 'adopt' 'adopted' 'adoption' 'adore' 'adrian' 'adrift' 'adult' 'advance'\n",
      " 'advantage' 'adventure' 'advertising' 'advice' 'advise' 'adviser'\n",
      " 'advisor' 'aeroplane' 'affair' 'affect' 'affecting' 'affirmative'\n",
      " 'afford' 'aficionado' 'afraid' 'afternoon' 'afterwards' 'age' 'aged'\n",
      " 'ageing' 'agency' 'agenda' 'agent' 'aggression' 'aggressiveness' 'aglet'\n",
      " 'ago' 'agree' 'agreeable' 'agreed' 'agreement' 'agrees' 'agricultural'\n",
      " 'ah' 'ahead' 'ahem' 'ahme' 'ahoy' 'aid' 'aim' 'aiming' 'ain' 'air'\n",
      " 'airborne' 'aircraft' 'airline' 'airplane' 'airport' 'al' 'ala' 'alarm'\n",
      " 'alarmed' 'alarming' 'album' 'alcohol' 'ale' 'alert' 'alerted' 'alibi'\n",
      " 'alien' 'alimony' 'alive' 'all' 'alleviate' 'alley' 'alliance' 'allie'\n",
      " 'allow' 'allowance' 'allowed' 'almost' 'alone' 'along' 'alonger'\n",
      " 'alphabet' 'already' 'alright' 'also' 'altar' 'alter' 'altering'\n",
      " 'alternative' 'although' 'altitude' 'always' 'am' 'amalgate' 'amateur'\n",
      " 'amazed' 'amazing' 'ambassador' 'ambition' 'ambulance' 'ambush'\n",
      " 'ambushed' 'amen' 'amended' 'amendment' 'amends' 'american' 'ami'\n",
      " 'ammunition' 'amnesty' 'among' 'amount' 'amulet' 'amuse' 'analysing'\n",
      " 'analysis' 'analyze' 'anarchist' 'ancestor' 'ancient' 'angel' 'anger'\n",
      " 'angina' 'anglicize' 'angry' 'animal' 'ankle' 'annals' 'announce'\n",
      " 'announcer' 'annoy' 'annoying' 'annual' 'anonymous' 'another' 'answer'\n",
      " 'answered' 'answering' 'antecedent' 'antidumping' 'antinuke' 'antisocial'\n",
      " 'antistuffed' 'anxious' 'anybody' 'anyhow' 'anymore' 'anyone' 'anyplace'\n",
      " 'anything' 'anytime' 'anyway' 'anyways' 'anywhere' 'apart' 'apartment'\n",
      " 'ape' 'apollo' 'apologise' 'apologize' 'apology' 'apparently' 'appealing'\n",
      " 'appear' 'appearance' 'appears' 'appetite' 'applauding' 'apply'\n",
      " 'applying' 'appointment' 'appreciate' 'appreciation' 'apprentice'\n",
      " 'approach' 'approaching' 'appropriate' 'appropriately' 'appropriation'\n",
      " 'approval' 'approve' 'approvechamos' 'approved' 'archdiocese' 'archery'\n",
      " 'area' 'argh' 'argue' 'arguing' 'argument' 'arm' 'armed' 'armenian'\n",
      " 'army' 'arnie' 'aroma' 'aroud' 'around' 'arrange' 'arranged' 'arrest'\n",
      " 'arrested' 'arrived' 'arrives' 'arrogant' 'arrow' 'arse' 'arsonist' 'art'\n",
      " 'artery' 'article' 'artillery' 'artist' 'artistic' 'as' 'ash' 'ashamed'\n",
      " 'ashore' 'ashtray' 'aside' 'ask' 'asked' 'askin' 'asking' 'asks' 'asleep'\n",
      " 'aspect' 'ass' 'assassination' 'assaulted' 'assembly' 'assessment'\n",
      " 'asset' 'asshole' 'assignment' 'assistant' 'assisted' 'assisting'\n",
      " 'assume' 'assumed' 'assurance' 'assure' 'assured' 'astonished' 'astray'\n",
      " 'ate' 'atom' 'atone' 'atreyu' 'attack' 'attacked' 'attempt' 'attempted'\n",
      " 'attend' 'attention' 'attitude' 'attorney' 'attract' 'attracted'\n",
      " 'attractive' 'audience' 'audit' 'auditor' 'aunt' 'authority' 'authorize'\n",
      " 'autographed' 'autumn' 'available' 'avalanche' 'avenge' 'avenue'\n",
      " 'average' 'avoid' 'avoiding' 'aw' 'await' 'awaits' 'awake' 'awaken'\n",
      " 'award' 'aware' 'away' 'awesome' 'awful' 'awfully' 'awhile' 'awkward'\n",
      " 'ax' 'aye' 'azupep' 'babbling' 'babe' 'baby' 'babyhood' 'babysitter'\n",
      " 'bachelor' 'back' 'backed' 'backfire' 'background' 'backpage'\n",
      " 'backstairs' 'bacon' 'bacteria' 'bad' 'badass' 'badge' 'badly' 'bag'\n",
      " 'bagged' 'bail' 'bait' 'balalaika' 'balance' 'balboa' 'bald' 'ball'\n",
      " 'ballast' 'balloon' 'band' 'bandage' 'bandit' 'bang' 'banging' 'banish'\n",
      " 'banished' 'bank' 'banker' 'banking' 'bankruptcy' 'banquet' 'banshee'\n",
      " 'bantam' 'bar' 'barbara' 'barbecue' 'bare' 'barely' 'barge' 'barley'\n",
      " 'barn' 'barney' 'baroness' 'barricade' 'base' 'baseball' 'based'\n",
      " 'basement' 'bashful' 'basic' 'basis' 'bastard' 'bat' 'bath' 'bathing'\n",
      " 'bathroom' 'bathtub' 'battalion' 'battery' 'batting' 'battle'\n",
      " 'battleship' 'battling' 'beach' 'beacon' 'bean' 'bear' 'beard' 'bearded'\n",
      " 'bearing' 'beast' 'beat' 'beaten' 'beater' 'beating' 'beau' 'beaujolais'\n",
      " 'beautiful' 'beautifully' 'beauty' 'became' 'become' 'becoming' 'bed'\n",
      " 'beddy' 'bedroom' 'beef' 'beer' 'beetle' 'befriend' 'beg' 'began'\n",
      " 'beggar' 'begged' 'begging' 'begin' 'beginner' 'beginning' 'begs' 'begun'\n",
      " 'behalf' 'behave' 'behaved' 'behaves' 'behaving' 'behavior' 'behaviour'\n",
      " 'behead' 'beheld' 'behind' 'behold' 'beholden' 'being' 'belief' 'believe'\n",
      " 'believed' 'bell' 'bellboy' 'bellied' 'belly' 'bellyful' 'belong'\n",
      " 'belonged' 'belonging' 'belongs' 'belt' 'bench' 'bend' 'beneath'\n",
      " 'benefit' 'benham' 'bent' 'beside' 'besides' 'best' 'bested' 'bestow'\n",
      " 'bet' 'betray' 'betrayed' 'betrothed' 'better' 'betting' 'betty'\n",
      " 'beverage' 'beyond' 'bffs' 'bibbidi' 'bible' 'bicycle' 'bid' 'big'\n",
      " 'bigger' 'biggest' 'bigot' 'bike' 'biker' 'bikers' 'bill' 'billion'\n",
      " 'bimbo' 'bingo' 'bird' 'birdie' 'birth' 'birthday' 'bit' 'bitch' 'bite'\n",
      " 'bited' 'biting' 'bitten' 'bitter' 'bitterly' 'blabbermouth' 'black'\n",
      " 'blackboard' 'blacken' 'blacking' 'blackmail' 'blackout' 'bladder'\n",
      " 'blade' 'blame' 'blamed' 'blaming' 'blank' 'blaspheme' 'blaspheming'\n",
      " 'blasphemous' 'blasphemy' 'blast' 'blasted' 'bleach' 'bleacher'\n",
      " 'bleaching' 'bled' 'bleed' 'bleeding' 'bless' 'blessed' 'blessing'\n",
      " 'blind' 'blindfold' 'blindly' 'block' 'blocked' 'blocking' 'bloke'\n",
      " 'blond' 'blood' 'bloodshed' 'bloody' 'bloomy' 'blouse' 'blow' 'blue'\n",
      " 'blueberry' 'bluff' 'blunt' 'boar' 'board' 'boarding' 'boast' 'boasting'\n",
      " 'boat' 'bobbidi' 'body' 'bohunk' 'boiled' 'boiler' 'boiling' 'bold'\n",
      " 'bolshevik' 'bolt' 'bomb' 'bombing' 'bonanza' 'bonded' 'bone' 'boner'\n",
      " 'bonnet' 'boo' 'boob' 'booger' 'book' 'booked' 'boom' 'boot' 'booze'\n",
      " 'border' 'bordering' 'bore' 'bored' 'boring' 'born' 'borrow' 'bos' 'boss'\n",
      " 'botch' 'bother' 'bothered' 'bothering' 'bottle' 'bottom' 'bottomed'\n",
      " 'bought' 'boulevardier' 'bouncer' 'bound' 'boundary' 'bounder'\n",
      " 'boundless' 'bountiful' 'bourbon' 'bourgeois' 'bout' 'bow' 'bowel' 'bowl'\n",
      " 'box' 'boy' 'boychick' 'boycott' 'boyfriend' 'bqe' 'bra' 'brain'\n",
      " 'brainstorm' 'brake' 'brand' 'brandy' 'brat' 'brave' 'bravo' 'breaching'\n",
      " 'bread' 'break' 'breakdown' 'breakfast' 'breaking' 'breakthrough'\n",
      " 'breath' 'breathe' 'breathing' 'breathtaking' 'bred' 'breechclouted'\n",
      " 'breeding' 'breeze' 'brew' 'bribe' 'bribed' 'bribery' 'bridal' 'bride'\n",
      " 'bridge' 'brief' 'briefcase' 'briefing' 'bright' 'brighter' 'brilliant'\n",
      " 'bring' 'bringin' 'bringing' 'brings' 'brink' 'british' 'broke' 'broken'\n",
      " 'brom' 'bronco' 'brooding' 'broomstick' 'brophy' 'brother' 'brotherhood'\n",
      " 'brotherly' 'brought' 'brown' 'brownie' 'bruise' 'brush' 'brutal'\n",
      " 'brutals' 'brute' 'bruv' 'bubble' 'bubbled' 'bubbly' 'buccaneer' 'buck'\n",
      " 'bucket' 'buckoes' 'bud' 'buddy' 'budget' 'bug' 'bugger' 'bugging'\n",
      " 'build' 'building' 'built' 'bulb' 'buljanoff' 'bulldozing' 'bullet'\n",
      " 'bullshit' 'bum' 'bumped' 'bumpy' 'bunch' 'bunk' 'burden' 'bureau'\n",
      " 'bureaucratically' 'burger' 'burglar' 'buried' 'burn' 'burned' 'burning'\n",
      " 'burnt' 'burrito' 'burrow' 'bury' 'burying' 'bus' 'business'\n",
      " 'businessman' 'businessmen' 'bust' 'busted' 'buster' 'busting' 'busy'\n",
      " 'butcher' 'butt' 'butterfly' 'butting' 'button' 'buy' 'buying' 'bye'\n",
      " 'cab' 'cabin' 'cabinet' 'cable' 'cactus' 'cadaver' 'cafe' 'cage'\n",
      " 'calamity' 'calculated' 'calendar' 'call' 'called' 'callin' 'calling'\n",
      " 'calm' 'cam' 'came' 'camera' 'cameraman' 'camouflage' 'camp' 'campaign'\n",
      " 'camphor' 'camping' 'campus' 'can' 'canadian' 'canary' 'canceled'\n",
      " 'canceling' 'cancer' 'candidate' 'candied' 'candlelight' 'candy'\n",
      " 'cannibal' 'cannibalism' 'cannon' 'cannonball' 'capability' 'capable'\n",
      " 'capisce' 'capital' 'capitalistic' 'cappuccino' 'capt' 'captain'\n",
      " 'captured' 'car' 'carbon' 'card' 'care' 'cared' 'career' 'careful'\n",
      " 'carefully' 'careless' 'carlo' 'carnage' 'carpenter' 'carriage' 'carried'\n",
      " 'carrier' 'carry' 'carrying' 'carryovers' 'carter' 'carved' 'carving'\n",
      " 'case' 'cash' 'cashew' 'casino' 'cassette' 'cast' 'castle' 'casualty'\n",
      " 'cat' 'catalogue' 'catch' 'catcher' 'catholic' 'cattle' 'caucus' 'caught'\n",
      " 'cauldron' 'cause' 'caused' 'causing' 'caution' 'cavalry' 'caving' 'cda'\n",
      " 'cease' 'ceased' 'ceiling' 'celebrate' 'celebrated' 'celebrating'\n",
      " 'celebration' 'celery' 'cell' 'cellar' 'cellulite' 'cent' 'center'\n",
      " 'central' 'centrum' 'century' 'cereal' 'ceremony' 'certain' 'certainly'\n",
      " 'certainty' 'certification' 'chablis' 'chain' 'chair' 'chalk' 'challenge'\n",
      " 'chamber' 'champ' 'champagne' 'champion' 'chance' 'chancellor' 'chancery'\n",
      " 'change' 'changed' 'changing' 'channel' 'chanting' 'chaos' 'chap'\n",
      " 'chapel' 'chaplain' 'chapped' 'character' 'characteristic' 'charade'\n",
      " 'charge' 'charged' 'charging' 'charity' 'charlatan' 'charlie' 'charlies'\n",
      " 'charm' 'charmed' 'charmer' 'charming' 'chart' 'chase' 'chasing' 'chat'\n",
      " 'chatting' 'chauffeur' 'chauvinist' 'cheap' 'cheapest' 'cheat' 'cheated'\n",
      " 'cheating' 'check' 'checking' 'cheek' 'cheekbone' 'cheer' 'cheered'\n",
      " 'cheerful' 'cheerfully' 'cheering' 'cheerleader' 'cheese' 'chef'\n",
      " 'chemist' 'cheque' 'chest' 'chevelle' 'chew' 'chewgood' 'chica'\n",
      " 'chicanery' 'chick' 'chicken' 'chickenshit' 'chief' 'child' 'childhood'\n",
      " 'childish' 'childlike' 'chill' 'chimney' 'chin' 'chinese' 'chino'\n",
      " 'chipping' 'chocolate' 'choice' 'choirboy' 'cholera' 'choose' 'chop'\n",
      " 'chopper' 'chopping' 'choppy' 'chorus' 'chose' 'chosen' 'chow' 'chri'\n",
      " 'chrissake' 'christ' 'christmas' 'chuck' 'chuckle' 'chukker' 'chump'\n",
      " 'chunk' 'church' 'cia' 'cicada' 'cigar' 'cigarette' 'cinch' 'cinder'\n",
      " 'circle' 'circuit' 'circulation' 'circumstance' 'circus' 'cit' 'cite'\n",
      " 'citizen' 'city' 'civic' 'civil' 'civilian' 'civilisation' 'civilised'\n",
      " 'civilization' 'civilized' 'claim' 'claiming' 'clang' 'class'\n",
      " 'classified' 'claymore' 'clean' 'cleaned' 'cleaner' 'cleaning' 'clear'\n",
      " 'cleared' 'clearest' 'clearing' 'clearly' 'cleavage' 'clergyman' 'clerk'\n",
      " 'clever' 'clicked' 'clicking' 'client' 'climate' 'climb' 'climbed'\n",
      " 'climber' 'climbing' 'clinic' 'clip' 'clipper' 'cloak' 'clock' 'close'\n",
      " 'closed' 'closer' 'closet' 'closing' 'clothes' 'clothing' 'cloud' 'clout'\n",
      " 'clown' 'club' 'clumsy' 'clyde' 'co' 'coach' 'coast' 'coat' 'coated'\n",
      " 'coates' 'cobbler' 'cockamamie' 'cockroach' 'cocktail' 'coco' 'cocoa'\n",
      " 'coconspirator' 'coconut' 'code' 'cody' 'coffee' 'coincidence' 'cojones'\n",
      " 'coke' 'col' 'cold' 'coldcocked' 'collapse' 'collar' 'colleague'\n",
      " 'collect' 'collected' 'collection' 'college' 'collision' 'colombian'\n",
      " 'colonel' 'color' 'colour' 'comb' 'combat' 'come' 'comeback' 'comedy'\n",
      " 'comfort' 'comfortable' 'comforting' 'comin' 'coming' 'command'\n",
      " 'commander' 'commanding' 'commence' 'commencing' 'commendation' 'comment'\n",
      " 'commercial' 'commission' 'commissioner' 'commit' 'commitment'\n",
      " 'committed' 'committee' 'committing' 'commodity' 'common' 'communicate'\n",
      " 'communicating' 'communication' 'communist' 'community' 'commuter'\n",
      " 'compadre' 'company' 'comparing' 'compartment' 'compartmented' 'compass'\n",
      " 'compatriot' 'compete' 'competition' 'competitive' 'complain'\n",
      " 'complaining' 'complaint' 'complete' 'completed' 'completely' 'complex'\n",
      " 'complexion' 'compliance' 'complicated' 'complication' 'compliment'\n",
      " 'complimentary' 'composer' 'compound' 'compressor' 'compromised'\n",
      " 'computer' 'comrade' 'con' 'conceivable' 'concentrate' 'concentrating'\n",
      " 'concern' 'concerned' 'concluded' 'concocted' 'condescending' 'condition'\n",
      " 'conditioner' 'condo' 'condone' 'conduct' 'conference' 'confess'\n",
      " 'confessed' 'confessing' 'confession' 'confidence' 'confident'\n",
      " 'confidential' 'confirmed' 'confiscated' 'conflict' 'confrontation'\n",
      " 'confused' 'confusing' 'confusion' 'congratulate' 'congratulated'\n",
      " 'congratulating' 'congratulation' 'congregation' 'congress'\n",
      " 'congressional' 'congressman' 'conjectural' 'conk' 'connected'\n",
      " 'connection' 'conquered' 'conscience' 'conscious' 'consciously'\n",
      " 'consciousness' 'consent' 'consented' 'consequence' 'consequently'\n",
      " 'conservative' 'consider' 'considerate' 'considered' 'considering'\n",
      " 'consolation' 'conspiracy' 'constantly' 'constructive' 'consul' 'consult'\n",
      " 'consultation' 'consumer' 'contact' 'contacted' 'contacting'\n",
      " 'contaminated' 'contempt' 'contemptible' 'contend' 'content' 'contest'\n",
      " 'continue' 'continued' 'continues' 'contract' 'contrary' 'contributable'\n",
      " 'control' 'controlling' 'convenience' 'convenient' 'convent' 'convention'\n",
      " 'conversation' 'convict' 'convicted' 'conviction' 'convince' 'convulsion'\n",
      " 'convulsive' 'coochie' 'cook' 'cookie' 'cooking' 'cooky' 'cool' 'cooled'\n",
      " 'coolie' 'coon' 'cooperate' 'cooperating' 'coordinate' 'coot' 'cop'\n",
      " 'coping' 'copy' 'copycat' 'cordial' 'cordially' 'core' 'corner' 'coroner'\n",
      " 'corp' 'corporal' 'corporation' 'corpse' 'correct' 'corrected'\n",
      " 'correspond' 'corridor' 'corrupt' 'corruption' 'cost' 'costume' 'cotton'\n",
      " 'coughing' 'couid' 'could' 'councillor' 'counsel' 'counseling'\n",
      " 'counsellor' 'counselor' 'count' 'counted' 'countess' 'counting'\n",
      " 'country' 'county' 'couple' 'coupled' 'courage' 'course' 'court'\n",
      " 'courtesy' 'courthouse' 'courtroom' 'cousin' 'cover' 'covered' 'covert'\n",
      " 'covet' 'cow' 'coward' 'cowardice' 'cowboy' 'cower' 'crack' 'cracker'\n",
      " 'crackhead' 'crap' 'crash' 'crashed' 'crashing' 'crawl' 'crawling'\n",
      " 'crazed' 'craziest' 'crazy' 'cream' 'creamed' 'create' 'created'\n",
      " 'creating' 'creation' 'creative' 'creature' 'credit' 'creed' 'creep'\n",
      " 'cremated' 'crew' 'crewman' 'cried' 'crime' 'criminal' 'cringe' 'cripple'\n",
      " 'crippled' 'crisis' 'critic' 'criticism' 'crockery' 'crocodile' 'crook'\n",
      " 'crooked' 'crop' 'cross' 'crossborder' 'crossed' 'crossfire' 'crossing'\n",
      " 'crossmodify' 'crow' 'crowd' 'crowding' 'crown' 'crucial' 'crud' 'cruel'\n",
      " 'cruelty' 'cruiser' 'crush' 'crushed' 'cry' 'cryin' 'crystal' 'cuban'\n",
      " 'cucumber' 'cuddle' 'cunt' 'cup' 'cure' 'cured' 'curious' 'current'\n",
      " 'curry' 'curse' 'cursed' 'cursing' 'curtain' 'curve' 'cushion' 'cushy'\n",
      " 'custer' 'custody' 'custom' 'customary' 'customer' 'cut' 'cutaway' 'cute'\n",
      " 'cutie' 'cutoff' 'cutter' 'cutthroat' 'cutting' 'cuz' 'czanne' 'da' 'dad'\n",
      " 'daddy' 'daft' 'dagger' 'daily' 'daisy' 'dam' 'damage' 'damaged' 'dame'\n",
      " 'damn' 'damned' 'damnedest' 'damning' 'dance' 'danced' 'dancehall'\n",
      " 'dancer' 'dancing' 'dandy' 'danger' 'dangerous' 'dangerously' 'dangled'\n",
      " 'dare' 'dark' 'darkness' 'darling' 'darn' 'data' 'date' 'daubing'\n",
      " 'daughter' 'dawdle' 'dawg' 'day' 'daydreaming' 'daylight' 'daytime' 'de'\n",
      " 'dea' 'dead' 'deadly' 'deal' 'dealer' 'dealing' 'dealt' 'dear' 'dearest'\n",
      " 'death' 'debased' 'debate' 'debbie' 'debt' 'decade' 'decaying' 'deceased'\n",
      " 'deceive' 'decency' 'decent' 'decide' 'decided' 'decides' 'deciding'\n",
      " 'decision' 'deck' 'decker' 'declared' 'decode' 'decoded' 'decorate'\n",
      " 'decoration' 'decorator' 'deed' 'deeded' 'deep' 'deeper' 'deepest'\n",
      " 'deeply' 'deface' 'defeat' 'defeated' 'defence' 'defend' 'defendant'\n",
      " 'defense' 'definitely' 'degeneracy' 'degree' 'delay' 'delayed'\n",
      " 'deliberate' 'deliberately' 'delicately' 'delicious' 'deliciously'\n",
      " 'delight' 'delighted' 'delightful' 'delineated' 'deliver' 'delivered'\n",
      " 'delivery' 'delta' 'delusion' 'deluxe' 'demand' 'demanded' 'demanding'\n",
      " 'demise' 'democracy' 'democratic' 'demolition' 'demon' 'demonic' 'denied'\n",
      " 'dent' 'dental' 'deny' 'denying' 'department' 'departure' 'depend'\n",
      " 'depends' 'depict' 'deposited' 'depositor' 'depressed' 'depressing'\n",
      " 'deprivation' 'deputy' 'descent' 'describe' 'described' 'desecration'\n",
      " 'desert' 'deserted' 'deserve' 'deserved' 'deserves' 'deserving' 'design'\n",
      " 'designed' 'desirability' 'desire' 'desk' 'despair' 'desperate'\n",
      " 'desperately' 'despise' 'despised' 'despite' 'despoiler' 'dessert'\n",
      " 'destination' 'destined' 'destiny' 'destitute' 'destroy' 'destroyed'\n",
      " 'destroyer' 'destruction' 'destructive' 'detail' 'detaining' 'detective'\n",
      " 'determined' 'detonation' 'devastate' 'devastation' 'develop'\n",
      " 'developing' 'development' 'devil' 'devote' 'devoted' 'devotion' 'devour'\n",
      " 'devouring' 'devries' 'diamond' 'diaper' 'dice' 'dicey' 'dickhead'\n",
      " 'dictate' 'diddly' 'die' 'died' 'difference' 'different' 'difficult'\n",
      " 'dig' 'digest' 'digging' 'digital' 'dignity' 'dime' 'dimensional' 'dine'\n",
      " 'dinge' 'dingo' 'dinner' 'dip' 'diploma' 'diplomatic' 'dire' 'direct'\n",
      " 'directed' 'directing' 'direction' 'directly' 'director' 'dirt' 'dirty'\n",
      " 'disability' 'disagree' 'disagreed' 'disagreement' 'disappear'\n",
      " 'disappeared' 'disappointed' 'disappointing' 'disappointment'\n",
      " 'disapprove' 'disapproved' 'disaster' 'disastrous' 'disbanding'\n",
      " 'discarnate' 'discipline' 'disclose' 'discount' 'discourage'\n",
      " 'discouraged' 'discover' 'discovered' 'discovery' 'discretion'\n",
      " 'discriminating' 'discus' 'discussed' 'discussion' 'disease' 'disembowel'\n",
      " 'disgrace' 'disgracing' 'disguise' 'disgust' 'disgusting' 'dish'\n",
      " 'dislike' 'disloyal' 'dismembered' 'dismissed' 'dismount' 'disorderly'\n",
      " 'dispatch' 'display' 'disposal' 'disposing' 'disppearance' 'disrespect'\n",
      " 'disrespectful' 'disrupted' 'distance' 'distinguished' 'distracted'\n",
      " 'distracting' 'distraught' 'distress' 'distributed' 'distributor'\n",
      " 'disturb' 'disturbed' 'disturbing' 'ditch' 'ditched' 'divided' 'divine'\n",
      " 'divinely' 'diving' 'divorce' 'divorced' 'divvy' 'dix' 'dizzy' 'dna'\n",
      " 'doc' 'doctor' 'doctored' 'document' 'dog' 'dogl' 'doin' 'doll' 'dollar'\n",
      " 'dolores' 'domain' 'dome' 'dominate' 'dominion' 'donation' 'done' 'donor'\n",
      " 'doomed' 'door' 'doorman' 'doorpost' 'doorstep' 'dope' 'dopehead'\n",
      " 'dorcas' 'dork' 'dotes' 'doth' 'double' 'doubt' 'douchebag' 'dough'\n",
      " 'doughnut' 'dove' 'dovitch' 'downer' 'downhill' 'downpour' 'downstairs'\n",
      " 'downtown' 'dowry' 'dozen' 'dr' 'drab' 'drag' 'dragged' 'dragging'\n",
      " 'drain' 'drained' 'draining' 'drama' 'drape' 'drastically' 'draw'\n",
      " 'drawer' 'drawing' 'dreadful' 'dream' 'dreamed' 'dreamer' 'dreaming'\n",
      " 'dreamt' 'dreary' 'dress' 'dressed' 'dressing' 'drew' 'dried' 'drift'\n",
      " 'drill' 'drilled' 'drink' 'drinkin' 'drinking' 'dripper' 'dripping'\n",
      " 'drive' 'driver' 'driving' 'drooling' 'drop' 'dropped' 'drown' 'drowned'\n",
      " 'drowning' 'drug' 'drugged' 'drugstore' 'drummer' 'drunk' 'drunkard'\n",
      " 'drunken' 'drunkenness' 'dry' 'du' 'dubious' 'duchess' 'duck' 'duckling'\n",
      " 'dude' 'due' 'dug' 'dull' 'dumb' 'dummy' 'dump' 'dumped' 'dutch' 'duty'\n",
      " 'dwell' 'dy' 'dying' 'dyke' 'eager' 'eagle' 'ear' 'earliest' 'early'\n",
      " 'earn' 'earned' 'earring' 'earth' 'earthling' 'earthquake' 'ease'\n",
      " 'easier' 'easily' 'east' 'easterner' 'easy' 'eat' 'eaten' 'eater' 'eatin'\n",
      " 'eating' 'eats' 'economic' 'ecstasy' 'edge' 'edition' 'educated'\n",
      " 'education' 'eeere' 'effect' 'effective' 'efficiency' 'efficiently'\n",
      " 'effort' 'effortlessly' 'egg' 'ego' 'egyptian' 'eh' 'eight' 'eighteen'\n",
      " 'einstein' 'either' 'elder' 'elect' 'elected' 'election' 'electric'\n",
      " 'elegance' 'elementary' 'elevator' 'eliminate' 'eloquent' 'else' 'em'\n",
      " 'embarrass' 'embarrassed' 'embarrassing' 'embarrassment' 'embassy'\n",
      " 'embezzled' 'embezzler' 'embraced' 'emergency' 'emo' 'emotion'\n",
      " 'emotional' 'emotionally' 'empathicalist' 'empathy' 'emperor'\n",
      " 'emphatically' 'empire' 'employ' 'employee' 'employment' 'empress'\n",
      " 'empty' 'en' 'enacted' 'enacting' 'enchantment' 'encouragement'\n",
      " 'encouraging' 'end' 'endanger' 'endangered' 'ended' 'endless' 'endure'\n",
      " 'enduring' 'enema' 'enemy' 'energy' 'enforce' 'enforcement' 'engage'\n",
      " 'engaged' 'engagement' 'engine' 'engineered' 'english' 'englishman'\n",
      " 'englishwoman' 'enjoy' 'enjoyed' 'enjoying' 'enlighten' 'enlightenment'\n",
      " 'enlisted' 'enormous' 'enough' 'enquirer' 'enraged' 'ensign' 'enter'\n",
      " 'entered' 'entertaining' 'entertainment' 'enthusiasm' 'enthusiastic'\n",
      " 'entire' 'entirely' 'entitled' 'entity' 'entrance' 'environment'\n",
      " 'environmental' 'environmentalist' 'envoy' 'eod' 'epidemic' 'episode'\n",
      " 'epithet' 'equal' 'equality' 'equipment' 'equivalent' 'equivocated' 'er'\n",
      " 'erase' 'erm' 'errand' 'error' 'escape' 'escaped' 'escaping' 'escort'\n",
      " 'esp' 'especially' 'espresso' 'essential' 'essex' 'establishing'\n",
      " 'establishment' 'estate' 'estimate' 'estimation' 'eternal' 'etiquette'\n",
      " 'euro' 'european' 'evade' 'evaluation' 'even' 'evening' 'event'\n",
      " 'eventually' 'ever' 'every' 'everybody' 'everyday' 'everyone' 'everythin'\n",
      " 'everything' 'everywhere' 'evidence' 'evie' 'evil' 'exact' 'exactly'\n",
      " 'exaggerate' 'exam' 'examination' 'examine' 'examiner' 'example'\n",
      " 'exceeded' 'excellency' 'excellent' 'excels' 'except' 'exception'\n",
      " 'exchange' 'exchorus' 'excite' 'excited' 'excitement' 'exciting'\n",
      " 'excivilians' 'exclamationmark' 'exclude' 'excuse' 'exdog' 'execution'\n",
      " 'executioner' 'executive' 'exemplary' 'exercise' 'exertion' 'exhaust'\n",
      " 'exhausted' 'exhibit' 'exhome' 'exist' 'existed' 'existence' 'exists'\n",
      " 'exit' 'exorcism' 'exotic' 'expanse' 'expect' 'expected' 'expecting'\n",
      " 'expense' 'expensive' 'experience' 'experiment' 'expert' 'expired'\n",
      " 'explain' 'explained' 'explaining' 'explains' 'explanation' 'explode'\n",
      " 'exploded' 'exploding' 'explorer' 'exploring' 'explosion' 'expose'\n",
      " 'exposed' 'exposing' 'exposure' 'express' 'expression' 'expulsion'\n",
      " 'exquisite' 'extend' 'extended' 'extension' 'extent' 'exterior'\n",
      " 'external' 'extinct' 'extinction' 'extra' 'extracting' 'extraordinary'\n",
      " 'extraterrestrial' 'extravaganza' 'extreme' 'extremely' 'extremist'\n",
      " 'extro' 'exuberance' 'exwife' 'eye' 'eyeball' 'eyebrow' 'eyed' 'fabric'\n",
      " 'fabulous' 'face' 'faced' 'facility' 'facing' 'fact' 'facto' 'factory'\n",
      " 'fade' 'fading' 'fail' 'failed' 'failure' 'faint' 'fainting' 'fair'\n",
      " 'fairly' 'fairmont' 'fairness' 'fairy' 'faith' 'faithful' 'faithfully'\n",
      " 'fake' 'fall' 'fallen' 'falling' 'false' 'falsie' 'fam' 'fame' 'familiar'\n",
      " 'family' 'famous' 'fan' 'fancy' 'fantasia' 'fantastic' 'far' 'faraway'\n",
      " 'fare' 'farewell' 'farm' 'farmhouse' 'faro' 'fart' 'farther'\n",
      " 'fascinating' 'fashion' 'fashioned' 'fast' 'fasten' 'faster' 'fat'\n",
      " 'fatal' 'fate' 'fated' 'father' 'fati' 'fatter' 'fault' 'faulty' 'favor'\n",
      " 'favorite' 'favour' 'favourite' 'favrinis' 'faxed' 'fbi' 'fear' 'feared'\n",
      " 'fearful' 'feast' 'feather' 'feature' 'feces' 'fed' 'federal' 'feed'\n",
      " 'feeding' 'feel' 'feeling' 'fell' 'fella' 'fellow' 'fellowship' 'felony'\n",
      " 'felt' 'female' 'fence' 'fencer' 'fend' 'ferocious' 'ferry' 'festivity'\n",
      " 'fetch' 'fiction' 'fiddler' 'fidgeting' 'field' 'fiend' 'fifteen' 'fifth'\n",
      " 'fifty' 'fight' 'fighter' 'fighting' 'figure' 'figured' 'figuring' 'file'\n",
      " 'filed' 'fill' 'filled' 'film' 'filth' 'filthy' 'final' 'finalize'\n",
      " 'finally' 'finance' 'financial' 'financially' 'financials' 'find'\n",
      " 'finding' 'fine' 'finest' 'finger' 'fingered' 'fingerprint' 'fingertip'\n",
      " 'finish' 'finished' 'finishing' 'fink' 'fire' 'firearm' 'firebase'\n",
      " 'fired' 'firepower' 'firing' 'firm' 'firmament' 'first' 'fish' 'fishbowl'\n",
      " 'fishing' 'fist' 'fit' 'fitted' 'fitting' 'five' 'fix' 'fixed' 'fixer'\n",
      " 'fla' 'flabby' 'flabellina' 'flag' 'flagship' 'flaky' 'flame' 'flaming'\n",
      " 'flashback' 'flat' 'flea' 'fledged' 'fleeing' 'fleet' 'flesh' 'flew'\n",
      " 'flier' 'flight' 'flip' 'flipped' 'flirt' 'flirtation' 'flo' 'float'\n",
      " 'floating' 'floor' 'flop' 'flow' 'flower' 'flu' 'fluffy' 'fly' 'flying'\n",
      " 'fm' 'focus' 'focused' 'fog' 'foggy' 'folk' 'folla' 'follow' 'followed'\n",
      " 'follower' 'following' 'follows' 'fond' 'foo' 'food' 'fool' 'fooled'\n",
      " 'foolish' 'foot' 'force' 'forced' 'forcing' 'ford' 'fore' 'foreclose'\n",
      " 'forehead' 'foreign' 'foreigner' 'forensic' 'forest' 'forever' 'forfeit'\n",
      " 'forgery' 'forget' 'forgets' 'forgetting' 'forgive' 'forgiven' 'forgot'\n",
      " 'forgotten' 'fork' 'forked' 'form' 'formal' 'formed' 'formula' 'forth'\n",
      " 'fortunate' 'fortunately' 'fortune' 'forward' 'fossil' 'foster' 'fought'\n",
      " 'found' 'founded' 'founder' 'four' 'foursome' 'fourth' 'fox' 'fragile'\n",
      " 'fragment' 'frame' 'framed' 'francis' 'frank' 'frankly' 'frantic'\n",
      " 'fraternity' 'fraud' 'freak' 'freaking' 'freaky' 'free' 'freedom'\n",
      " 'freeze' 'french' 'frenchy' 'frequent' 'fresh' 'freshman' 'freud'\n",
      " 'friday' 'fridge' 'friend' 'friendliest' 'friendly' 'friggin' 'frigging'\n",
      " 'frightened' 'frightfully' 'frog' 'frogface' 'front' 'frontier' 'froze'\n",
      " 'frozen' 'fruit' 'fruitless' 'frustrated' 'fuck' 'fucked' 'fucker'\n",
      " 'fuckhead' 'fuckin' 'fucking' 'fudge' 'fuel' 'fueled' 'fugitive'\n",
      " 'fulfill' 'full' 'fuller' 'fully' 'fun' 'functioning' 'fund'\n",
      " 'fundamentally' 'funding' 'funeral' 'funniest' 'funny' 'fur' 'furnace'\n",
      " 'furniture' 'future' 'fuzzball' 'gab' 'gag' 'gal' 'gall' 'gamble'\n",
      " 'gambler' 'game' 'ganef' 'gang' 'gangster' 'garage' 'garbage' 'garden'\n",
      " 'gardener' 'garlic' 'garter' 'gas' 'gasoline' 'gastritis' 'gate' 'gather'\n",
      " 'gathered' 'gave' 'gay' 'gazing' 'gear' 'gee' 'geezer' 'gender' 'gene'\n",
      " 'general' 'generation' 'generous' 'genius' 'gentle' 'gentleman' 'geritol'\n",
      " 'germ' 'german' 'gestapo' 'gesture' 'get' 'getaway' 'gettin' 'getting'\n",
      " 'ghastly' 'ghetto' 'ghost' 'giant' 'gibbering' 'gift' 'gifted' 'giggle'\n",
      " 'gigolo' 'gill' 'gim' 'ginger' 'girl' 'girlfriend' 'girly' 'git' 'give'\n",
      " 'given' 'giver' 'givin' 'giving' 'gj' 'glacial' 'glad' 'gladly'\n",
      " 'gladness' 'glamour' 'glasnost' 'glass' 'glitch' 'glob' 'gloomy'\n",
      " 'glorious' 'glory' 'glove' 'glow' 'gnawed' 'go' 'goal' 'goat' 'gobble'\n",
      " 'god' 'goddamn' 'goddamned' 'goddess' 'godhood' 'godliness' 'godsend'\n",
      " 'godspeed' 'goin' 'going' 'gold' 'golden' 'goldfish' 'golf' 'gondola'\n",
      " 'gone' 'gonna' 'good' 'goodbye' 'goodness' 'goodnight' 'goon' 'gorgeous'\n",
      " 'gorilla' 'gosh' 'gosling' 'gossip' 'got' 'gots' 'gotten' 'gourd'\n",
      " 'government' 'governor' 'gown' 'grab' 'grabbed' 'grace' 'graceful'\n",
      " 'gracious' 'grade' 'graduation' 'graft' 'grail' 'grand' 'granddad'\n",
      " 'granddaughter' 'grandest' 'grandfather' 'grandma' 'grandmother'\n",
      " 'grandpa' 'grandparent' 'granted' 'grapefruit' 'grass' 'grateful' 'grave'\n",
      " 'gray' 'greaser' 'great' 'greater' 'greatest' 'greatly' 'greedy' 'greek'\n",
      " 'green' 'greeted' 'grenade' 'grew' 'grey' 'grief' 'grille' 'grimm' 'grin'\n",
      " 'grind' 'gringo' 'grip' 'grit' 'grocery' 'grog' 'groovy' 'gross' 'ground'\n",
      " 'grounded' 'group' 'grow' 'growing' 'grown' 'grows' 'grub' 'grubstake'\n",
      " 'gruesome' 'grumbling' 'grumpy' 'grunt' 'gu' 'guarantee' 'guaranteed'\n",
      " 'guard' 'guarded' 'guess' 'guessed' 'guessing' 'guest' 'guide' 'guilt'\n",
      " 'guilty' 'guinea' 'guitar' 'gum' 'gun' 'gunboat' 'gunfight' 'gunfighter'\n",
      " 'gunnery' 'guppy' 'gurning' 'gut' 'gutless' 'gutter' 'guy' 'guys'\n",
      " 'gymnasium' 'gypsy' 'ha' 'habit' 'hag' 'hail' 'hair' 'haircut' 'half'\n",
      " 'halfpenny' 'halfway' 'hallucination' 'hallway' 'halt' 'hammer' 'han'\n",
      " 'hand' 'handed' 'handful' 'handicapped' 'handing' 'handkerchief' 'handle'\n",
      " 'handled' 'handsome' 'handsomest' 'handwriting' 'handy' 'hang' 'hanging'\n",
      " 'hangman' 'hangover' 'hannah' 'haphazardly' 'happen' 'happened'\n",
      " 'happenin' 'happening' 'happens' 'happier' 'happiest' 'happily'\n",
      " 'happiness' 'happy' 'harboring' 'harbour' 'hard' 'harden' 'harder'\n",
      " 'hardest' 'hardly' 'hardship' 'hardware' 'harem' 'harm' 'harming'\n",
      " 'harmless' 'harmony' 'harrassing' 'harry' 'harvard' 'hastings' 'hat'\n",
      " 'hatch' 'hatching' 'hate' 'hated' 'hatred' 'haul' 'hauling' 'haunted'\n",
      " 'havin' 'hawaiian' 'hawk' 'hawkins' 'hazard' 'he' 'head' 'headache'\n",
      " 'headcase' 'headed' 'heading' 'headman' 'heal' 'health' 'healthy'\n",
      " 'healys' 'heap' 'hear' 'heard' 'hearing' 'hears' 'heart' 'heartbeat'\n",
      " 'hearted' 'hearth' 'heartily' 'heat' 'heathen' 'heaven' 'heavier'\n",
      " 'heavily' 'heavy' 'hebe' 'hedge' 'heeding' 'heel' 'heh' 'height' 'heist'\n",
      " 'hel' 'helaros' 'held' 'helicopter' 'hell' 'hellhole' 'hello' 'helluva'\n",
      " 'helm' 'helmsman' 'helo' 'help' 'helped' 'helpful' 'helping' 'helpless'\n",
      " 'henceforth' 'henhouse' 'here' 'hereby' 'hereford' 'hero' 'heroic'\n",
      " 'hesitate' 'hexenbiest' 'hey' 'hi' 'hick' 'hid' 'hide' 'hideous'\n",
      " 'hideously' 'hiding' 'high' 'highest' 'highly' 'highness' 'highway'\n",
      " 'hike' 'hilarious' 'hill' 'him' 'hint' 'hip' 'hire' 'hired' 'history'\n",
      " 'hit' 'hitchhike' 'hitting' 'hiya' 'hm' 'hmm' 'ho' 'hob' 'hog' 'hold'\n",
      " 'holdin' 'holding' 'hole' 'holiday' 'hollow' 'holy' 'home' 'homeless'\n",
      " 'homemade' 'homicide' 'homo' 'homosexual' 'hon' 'honest' 'honestly'\n",
      " 'honey' 'honeymoon' 'honked' 'honor' 'honorable' 'honorary' 'honour'\n",
      " 'honourable' 'honoured' 'hoof' 'hook' 'hooked' 'hooker' 'hoot' 'hop'\n",
      " 'hope' 'hoped' 'hopefully' 'hopeless' 'hopelessly' 'hoping' 'hopper'\n",
      " 'horn' 'hornet' 'horrible' 'horribly' 'horrid' 'horrifying' 'horror'\n",
      " 'hors' 'horse' 'hospital' 'hospitality' 'host' 'hostage' 'hostile'\n",
      " 'hostility' 'hot' 'hotel' 'hotshot' 'hound' 'hour' 'hours' 'house'\n",
      " 'housing' 'how' 'howdy' 'however' 'hu' 'hug' 'huge' 'huh' 'human'\n",
      " 'humanity' 'humble' 'humiliated' 'humor' 'humorous' 'humour' 'hunch'\n",
      " 'hundjager' 'hundred' 'hung' 'hungry' 'hunk' 'hunt' 'hunted' 'hunting'\n",
      " 'hurry' 'hurt' 'hurting' 'husband' 'hush' 'husky' 'hustled' 'hustler'\n",
      " 'hut' 'hydraulic' 'hydrogen' 'hyphenated' 'hypnotized' 'hypocrite'\n",
      " 'hypothetical' 'hysteric' 'hysterical' 'ice' 'iceberg' 'id' 'idea'\n",
      " 'ideal' 'identical' 'identified' 'identify' 'ideology' 'idiot' 'idiotic'\n",
      " 'idle' 'idol' 'ignore' 'ii' 'ill' 'illegal' 'illness' 'image'\n",
      " 'imagination' 'imagine' 'imagined' 'imitated' 'imitates' 'immediate'\n",
      " 'immediately' 'immense' 'immoral' 'impasse' 'imperial' 'implication'\n",
      " 'implying' 'impolite' 'importance' 'important' 'impossibility'\n",
      " 'impossible' 'impostor' 'impress' 'impressed' 'impression' 'impressive'\n",
      " 'imprisoned' 'improve' 'improved' 'impure' 'in' 'inbreeding'\n",
      " 'incalculable' 'incest' 'inch' 'incident' 'incidentally' 'inclined'\n",
      " 'including' 'incognito' 'income' 'incompetent' 'incontestable'\n",
      " 'inconvenient' 'incorporated' 'increase' 'increased' 'increasingly'\n",
      " 'incredible' 'incredibly' 'incumbent' 'indecency' 'indeed' 'indefinitely'\n",
      " 'independence' 'indian' 'indicate' 'indicated' 'indication' 'indicator'\n",
      " 'indie' 'indirectly' 'indiscreet' 'individual' 'indoors' 'industrial'\n",
      " 'industry' 'inebriated' 'inevitably' 'infant' 'infatuation' 'infected'\n",
      " 'infection' 'infernally' 'inferno' 'infiltrate' 'infinitamente'\n",
      " 'infinity' 'influence' 'influential' 'informant' 'information'\n",
      " 'infuriating' 'inglethorp' 'ingls' 'inherit' 'inheritance' 'inhuman'\n",
      " 'injure' 'injured' 'inked' 'inmate' 'inner' 'inning' 'innit' 'innocence'\n",
      " 'innocent' 'innovation' 'inquest' 'inquiry' 'insane' 'insensitive'\n",
      " 'inside' 'insight' 'insist' 'insisted' 'insistent' 'inspecting'\n",
      " 'inspector' 'inspirational' 'inspired' 'instability' 'installment'\n",
      " 'instance' 'instead' 'instigated' 'instil' 'instinct' 'institution'\n",
      " 'institutional' 'instruct' 'instructed' 'instruction' 'instrument'\n",
      " 'insubordinate' 'insult' 'insulting' 'insurance' 'intake' 'integral'\n",
      " 'integrity' 'intellectual' 'intelligence' 'intelligent' 'intend' 'intent'\n",
      " 'intention' 'interaction' 'intercept' 'intercourse' 'interest'\n",
      " 'interested' 'interesting' 'interfere' 'interfered' 'interference'\n",
      " 'international' 'internet' 'interplanetary' 'interpreted' 'interrupt'\n",
      " 'interrupting' 'intervention' 'interview' 'intolerable' 'intolerant'\n",
      " 'intriguing' 'introduce' 'introducing' 'intrude' 'intruder' 'invade'\n",
      " 'invaluable' 'invested' 'investigation' 'investment' 'invisible'\n",
      " 'invitation' 'invite' 'invited' 'inviting' 'involve' 'involved'\n",
      " 'involvement' 'iong' 'iove' 'irks' 'ironically' 'irrelevant'\n",
      " 'irresponsible' 'irritable' 'irritating' 'isaac' 'isabel' 'isabelle'\n",
      " 'isi' 'island' 'islander' 'isolated' 'israeli' 'issue' 'it' 'italian'\n",
      " 'itchy' 'item' 'iv' 'ivory' 'jab' 'jack' 'jacked' 'jacket' 'jackpot'\n",
      " 'jail' 'jam' 'jamaican' 'jamboree' 'jap' 'jealous' 'jealousy' 'jean'\n",
      " 'jeanne' 'jeez' 'jefe' 'jekyll' 'jellied' 'jelly' 'jeopardized'\n",
      " 'jeopardizing' 'jeopardy' 'jerk' 'jerry' 'jesus' 'jet' 'jewel' 'jewish'\n",
      " 'jfk' 'jiffy' 'job' 'jocelin' 'jock' 'jockstrap' 'john' 'join' 'joined'\n",
      " 'joining' 'joint' 'joke' 'joked' 'joker' 'joking' 'jolly' 'josphine'\n",
      " 'journalism' 'journalist' 'journey' 'joy' 'jr' 'judge' 'judgement'\n",
      " 'judging' 'judgment' 'juice' 'juicing' 'julep' 'july' 'jumbo' 'jump'\n",
      " 'jumping' 'jumpy' 'june' 'jungle' 'junior' 'junk' 'junkie' 'junky' 'jury'\n",
      " 'justice' 'justifies' 'justify' 'justly' 'ka' 'kaili' 'kamoja'\n",
      " 'kandinsky' 'karma' 'keel' 'keen' 'keep' 'keeping' 'kelly' 'kennedy'\n",
      " 'kept' 'kettle' 'key' 'kick' 'kicked' 'kickin' 'kicking' 'kid' 'kiddie'\n",
      " 'kiddin' 'kidding' 'kiddo' 'kidnap' 'kidnapped' 'kidnapper' 'kidney'\n",
      " 'kill' 'killed' 'killer' 'killing' 'kind' 'kinda' 'kindliness' 'kindly'\n",
      " 'kindness' 'king' 'kingdom' 'kirk' 'kiss' 'kissed' 'kisser' 'kissing'\n",
      " 'kit' 'kitchen' 'knack' 'knackered' 'knee' 'knew' 'knickers' 'knife'\n",
      " 'knock' 'knocked' 'knocking' 'knockout' 'knot' 'know' 'knowin' 'knowing'\n",
      " 'knowledge' 'known' 'knuckle' 'kook' 'kopeck' 'kuwaiti' 'la' 'lab'\n",
      " 'labor' 'labour' 'lace' 'lack' 'lacked' 'lacy' 'lad' 'lady' 'laid' 'lake'\n",
      " 'laker' 'lamb' 'lance' 'land' 'landed' 'landing' 'language' 'lanky' 'lap'\n",
      " 'large' 'largest' 'laser' 'last' 'lasted' 'late' 'lately' 'later'\n",
      " 'latest' 'latino' 'latter' 'laugh' 'laughed' 'laughing' 'laughter'\n",
      " 'launch' 'laundered' 'laundry' 'lava' 'law' 'lawsuit' 'lawyer' 'lay'\n",
      " 'layout' 'lazy' 'le' 'lead' 'leader' 'leadership' 'leaf' 'league' 'lean'\n",
      " 'leann' 'learn' 'learned' 'learns' 'least' 'leave' 'leaving' 'lech' 'led'\n",
      " 'leery' 'left' 'leg' 'legacy' 'legal' 'legally' 'legend' 'legged'\n",
      " 'legion' 'legislation' 'legitimate' 'lemon' 'lemonade' 'lend' 'lending'\n",
      " 'lends' 'length' 'leon' 'lesson' 'let' 'letdown' 'letter' 'lettin'\n",
      " 'letting' 'lettuce' 'level' 'leveraged' 'levitation' 'liability' 'liable'\n",
      " 'liar' 'liberate' 'liberty' 'library' 'licence' 'license' 'lick' 'lie'\n",
      " 'lied' 'lieutenant' 'life' 'lifetime' 'lift' 'lifted' 'light' 'lighted'\n",
      " 'lighten' 'lighter' 'lighting' 'lightning' 'like' 'liked' 'likely'\n",
      " 'liking' 'lil' 'limb' 'limit' 'lincoln' 'line' 'lined' 'lingers'\n",
      " 'linguini' 'lining' 'link' 'lion' 'lip' 'lipranzer' 'liquor' 'list'\n",
      " 'listen' 'listened' 'listening' 'literally' 'literature' 'litigation'\n",
      " 'little' 'live' 'lived' 'lively' 'liven' 'liver' 'livin' 'living' 'll'\n",
      " 'lo' 'load' 'loaded' 'loan' 'lobby' 'lobotomy' 'local' 'locate'\n",
      " 'location' 'lock' 'locked' 'locking' 'loft' 'log' 'logical' 'lon'\n",
      " 'loneliness' 'lonely' 'lonesome' 'long' 'longed' 'longer' 'longest'\n",
      " 'look' 'looked' 'looker' 'lookin' 'looking' 'looped' 'loose' 'looter'\n",
      " 'looting' 'lopussa' 'lord' 'lose' 'loser' 'loses' 'losing' 'loss' 'lost'\n",
      " 'lot' 'loud' 'louder' 'louisiana' 'louse' 'lousy' 'lovable' 'love'\n",
      " 'lovebird' 'loved' 'loveliest' 'lovely' 'lover' 'loving' 'lovingly' 'low'\n",
      " 'lower' 'loyal' 'loyalty' 'lt' 'lucito' 'luck' 'lucky' 'lucrative'\n",
      " 'luggage' 'lunar' 'lunatic' 'lunch' 'lust' 'lyin' 'lying' 'ma' 'mac'\n",
      " 'macaroni' 'machine' 'macho' 'mackerel' 'mad' 'madam' 'madame' 'made'\n",
      " 'madhouse' 'mafia' 'mag' 'magazine' 'magic' 'magical' 'magnificent'\n",
      " 'maiden' 'mail' 'mainland' 'mainly' 'maintain' 'majesty' 'major'\n",
      " 'majority' 'make' 'makeup' 'makin' 'making' 'male' 'malice' 'malicious'\n",
      " 'mama' 'mambo' 'mammy' 'man' 'manage' 'managed' 'manager' 'manchester'\n",
      " 'mandate' 'mandatory' 'maniac' 'manicure' 'manipulate' 'manipulated'\n",
      " 'manipulates' 'mankind' 'manly' 'manner' 'manoeuvre' 'mantle' 'manual'\n",
      " 'manufacturing' 'manuscript' 'many' 'map' 'maple' 'mar' 'march'\n",
      " 'marching' 'margin' 'maria' 'marigold' 'marinara' 'marine' 'mark'\n",
      " 'marked' 'marker' 'market' 'marketing' 'marking' 'marooned' 'marriage'\n",
      " 'married' 'marries' 'marry' 'marrying' 'marshal' 'marshmallow' 'martial'\n",
      " 'martian' 'martyr' 'marvellous' 'marvelous' 'masochist' 'masquerading'\n",
      " 'mass' 'massacre' 'master' 'matador' 'match' 'matchbook' 'mate'\n",
      " 'material' 'math' 'matter' 'max' 'maximum' 'maxwell' 'may' 'maybe'\n",
      " 'mayii' 'mayor' 'meal' 'mean' 'meaning' 'meaningless' 'meant' 'meantime'\n",
      " 'meanwhile' 'measure' 'measured' 'meat' 'mechanic' 'mechanised' 'medal'\n",
      " 'medical' 'medically' 'medicare' 'medication' 'medicine' 'medium' 'meet'\n",
      " 'meeting' 'melancholy' 'melon' 'melt' 'melted' 'member' 'memory' 'men'\n",
      " 'menace' 'mend' 'mendacity' 'menopause' 'mental' 'mentally' 'mention'\n",
      " 'mentioned' 'menu' 'merchant' 'mercifully' 'merciless' 'mercy' 'mere'\n",
      " 'merely' 'merge' 'meringue' 'mermaid' 'mess' 'message' 'messed'\n",
      " 'messenger' 'messy' 'met' 'metal' 'metaphor' 'meteor' 'meth' 'method'\n",
      " 'metropolitan' 'mexican' 'mezcal' 'middle' 'midnight' 'midship' 'might'\n",
      " 'mighty' 'migraine' 'mike' 'mildly' 'mile' 'mileage' 'military' 'milk'\n",
      " 'mill' 'millimeter' 'million' 'millionaire' 'mind' 'mine' 'mingling'\n",
      " 'minimum' 'minister' 'mink' 'minnie' 'minor' 'minority' 'mint' 'minute'\n",
      " 'miracle' 'mirror' 'miscarriage' 'misdemeanour' 'miserable' 'misery'\n",
      " 'mishnev' 'misinformation' 'misplaced' 'misquoted' 'miss' 'missed'\n",
      " 'missile' 'missin' 'missing' 'mission' 'mistake' 'mistakenly' 'mistaking'\n",
      " 'mister' 'mistress' 'misunderstand' 'mit' 'mitigating' 'mixed' 'mm'\n",
      " 'mobile' 'mobilized' 'mock' 'model' 'modesty' 'modicum' 'module' 'molten'\n",
      " 'mom' 'moment' 'mommy' 'mon' 'monday' 'money' 'monitor' 'monitoring'\n",
      " 'monk' 'monkey' 'monopoly' 'monosyllabically' 'monsieur' 'monsignor'\n",
      " 'monster' 'monstrous' 'month' 'monument' 'mood' 'moon' 'moral' 'morale'\n",
      " 'morality' 'morally' 'morning' 'moron' 'mortal' 'mortar' 'mortgage'\n",
      " 'motel' 'mother' 'motherfucker' 'motion' 'motive' 'motor' 'motorcycle'\n",
      " 'motorist' 'mountain' 'mountie' 'mouse' 'moustache' 'mouth' 'mouthwash'\n",
      " 'move' 'moved' 'movement' 'movie' 'movin' 'moving' 'mr' 'mrs' 'ms' 'much'\n",
      " 'muddied' 'muffin' 'mule' 'multiply' 'mum' 'munition' 'murder' 'murdered'\n",
      " 'murderer' 'murderess' 'murdering' 'muscle' 'muscovy' 'music' 'musical'\n",
      " 'must' 'musty' 'mut' 'mutant' 'mutineer' 'mutiny' 'muzzling' 'mysterious'\n",
      " 'mystery' 'mystic' 'na' 'nagging' 'nah' 'nail' 'nailed' 'naked' 'name'\n",
      " 'named' 'nap' 'narcotic' 'narrow' 'nasty' 'nately' 'nation' 'national'\n",
      " 'native' 'natural' 'naturally' 'nature' 'naughty' 'nautilus' 'naval'\n",
      " 'navy' 'ncmec' 'near' 'nearest' 'nearing' 'nearly' 'neatly' 'necessarily'\n",
      " 'necessary' 'neck' 'necklace' 'ned' 'need' 'needed' 'needing' 'needle'\n",
      " 'negative' 'neglect' 'negotiable' 'negotiation' 'negotiator' 'neighbor'\n",
      " 'neighborhood' 'neighbour' 'neighbourhood' 'neither' 'nellis' 'nemo'\n",
      " 'nero' 'nerve' 'nervous' 'nest' 'network' 'neuron' 'neurotic'\n",
      " 'neutralize' 'never' 'neverending' 'nevertheless' 'new' 'news' 'newsboy'\n",
      " 'newspaper' 'newspaperman' 'next' 'nice' 'nicely' 'nicest' 'nicked'\n",
      " 'nickel' 'niece' 'night' 'nightclub' 'nightfall' 'nightingale' 'nightly'\n",
      " 'nightmare' 'nimbly' 'nine' 'ninotchka' 'nip' 'nitrate' 'noble' 'nobody'\n",
      " 'nod' 'noise' 'noisier' 'nominee' 'nonchalant' 'none' 'nonsense' 'noodle'\n",
      " 'noon' 'normal' 'normally' 'north' 'nose' 'nosed' 'nostalgic' 'nosy'\n",
      " 'note' 'notebook' 'nothin' 'nothing' 'notice' 'noticed' 'noticing'\n",
      " 'notified' 'notion' 'novel' 'now' 'nowhere' 'nowl' 'nsa' 'nuclear' 'nude'\n",
      " 'nudist' 'nudity' 'nuggies' 'nuke' 'number' 'nun' 'nurse' 'nut'\n",
      " 'nutritionally' 'nutritious' 'nword' 'nyt' 'oar' 'oath' 'obey' 'obeyed'\n",
      " 'object' 'objection' 'objective' 'oblige' 'obliged' 'obscene' 'obscenely'\n",
      " 'observation' 'obsessed' 'obsession' 'obsolescing' 'obstacle' 'obvious'\n",
      " 'occasion' 'occult' 'occupation' 'occupational' 'occupy' 'occur'\n",
      " 'occurred' 'occurring' 'occurs' 'ocean' 'och' 'ocp' 'oculina' 'odd'\n",
      " 'odds' 'oeuvres' 'oextry' 'offended' 'offends' 'offense' 'offensive'\n",
      " 'offer' 'offered' 'offering' 'offhand' 'office' 'officer' 'official'\n",
      " 'offs' 'often' 'oh' 'ohh' 'ohl' 'oi' 'oil' 'ok' 'okay' 'old' 'older'\n",
      " 'oldest' 'ole' 'olive' 'olla' 'omega' 'omen' 'omni' 'one' 'onerous'\n",
      " 'ongoing' 'onion' 'online' 'onto' 'onward' 'ooh' 'open' 'opened'\n",
      " 'opening' 'openly' 'openness' 'opera' 'operate' 'operation' 'operator'\n",
      " 'opinion' 'opinionated' 'opoly' 'opponent' 'opportune' 'opportunist'\n",
      " 'opportunity' 'opposing' 'opposite' 'oppressive' 'optimism' 'optimistic'\n",
      " 'option' 'oral' 'orange' 'orator' 'order' 'ordered' 'ordering' 'ordinary'\n",
      " 'organisation' 'organized' 'orgy' 'original' 'orleans' 'ornery' 'orphan'\n",
      " 'orphanage' 'oscar' 'ostentatious' 'other' 'others' 'otherwise' 'ottaa'\n",
      " 'ouch' 'ought' 'oughta' 'oughtta' 'oui' 'ounce' 'outback' 'outclassed'\n",
      " 'outdated' 'outdone' 'outer' 'outfit' 'outgoing' 'outmatched'\n",
      " 'outnumbered' 'outrageous' 'outrageously' 'outside' 'outsider' 'outsmart'\n",
      " 'outspoken' 'outstanding' 'outta' 'oven' 'overboard' 'overcame'\n",
      " 'overdoses' 'overhear' 'overloaded' 'overlooked' 'overnight' 'overpower'\n",
      " 'overruled' 'overseas' 'oversell' 'overthrow' 'overwork' 'overworking'\n",
      " 'owe' 'owed' 'owes' 'owing' 'owned' 'owner' 'owns' 'oxygen' 'oyster' 'pa'\n",
      " 'pablo' 'pacify' 'pack' 'package' 'packed' 'pact' 'page' 'paid' 'paige'\n",
      " 'pain' 'paine' 'pained' 'painful' 'painkiller' 'painless' 'paint'\n",
      " 'paintbrush' 'painted' 'painter' 'painting' 'pair' 'pal' 'palace' 'pale'\n",
      " 'palm' 'pancake' 'panel' 'panic' 'panicked' 'pant' 'pantyhose' 'papa'\n",
      " 'paper' 'parachute' 'parade' 'parading' 'paradise' 'paralysed' 'parasite'\n",
      " 'pardon' 'parent' 'parish' 'parisian' 'park' 'parked' 'parking' 'parlor'\n",
      " 'parole' 'part' 'partake' 'parted' 'participant' 'participate'\n",
      " 'participation' 'particular' 'particularly' 'partner' 'partnership'\n",
      " 'party' 'pas' 'passed' 'passenger' 'passing' 'passion' 'passport' 'past'\n",
      " 'pastoral' 'pastry' 'pasture' 'pat' 'path' 'pathetic' 'pathologist'\n",
      " 'patience' 'patient' 'patriotic' 'patriotism' 'patrn' 'patrol' 'patron'\n",
      " 'patronize' 'pattern' 'pavilion' 'paw' 'pawed' 'pawn' 'pay' 'paycheck'\n",
      " 'payday' 'payin' 'paying' 'payment' 'payroll' 'pea' 'peace' 'peaceful'\n",
      " 'peak' 'pearl' 'peasant' 'peddler' 'peddling' 'pee' 'peeing' 'peek'\n",
      " 'peeking' 'pen' 'penalty' 'pencil' 'pending' 'penguin' 'penis' 'penny'\n",
      " 'pension' 'pentagon' 'people' 'pepper' 'per' 'perceived' 'percent'\n",
      " 'perfect' 'perfection' 'perfectly' 'perform' 'performance' 'perfume'\n",
      " 'perhaps' 'periodic' 'permanent' 'permanently' 'permission' 'permit'\n",
      " 'perpetrator' 'perseus' 'persistent' 'person' 'personal' 'personality'\n",
      " 'personally' 'personnel' 'perspective' 'pervade' 'perverse' 'pervert'\n",
      " 'peso' 'pet' 'petrified' 'petticoat' 'petty' 'pharmacist' 'pheasant'\n",
      " 'philosophical' 'philosophy' 'phone' 'phoned' 'phony' 'phosphate' 'photo'\n",
      " 'photographing' 'phrase' 'physical' 'physician' 'piano' 'pick' 'picked'\n",
      " 'picker' 'picking' 'picnic' 'picture' 'picturesque' 'piece' 'piedmontese'\n",
      " 'pier' 'piety' 'pig' 'pigeon' 'piling' 'pill' 'pilloried' 'pilot'\n",
      " 'piloting' 'pimp' 'pimple' 'pink' 'pint' 'pipe' 'piracy' 'pirate' 'piss'\n",
      " 'pissed' 'pissing' 'pitch' 'pitiful' 'pitty' 'pity' 'pivotal' 'pivsi'\n",
      " 'place' 'placed' 'plague' 'plagued' 'plain' 'plaintiff' 'plan' 'plane'\n",
      " 'planet' 'planned' 'planning' 'plant' 'planted' 'planting' 'plaque'\n",
      " 'plastic' 'plate' 'platform' 'platoon' 'play' 'playboy' 'played' 'player'\n",
      " 'playin' 'playing' 'playmate' 'playroom' 'ple' 'plead' 'pleasant'\n",
      " 'pleasantly' 'please' 'pleased' 'pleasure' 'pledge' 'plenty' 'plethora'\n",
      " 'plot' 'plug' 'plum' 'plunder' 'plunge' 'plunged' 'plural' 'plus'\n",
      " 'pneumonia' 'pocket' 'poem' 'poetic' 'poetry' 'point' 'pointless'\n",
      " 'poisoned' 'poisonous' 'poker' 'poking' 'pole' 'polecat' 'polhemus'\n",
      " 'police' 'policeman' 'policy' 'policymaker' 'polish' 'polite' 'political'\n",
      " 'politician' 'politics' 'pollute' 'polluted' 'pollywog' 'pompous' 'ponzi'\n",
      " 'poo' 'pool' 'poontang' 'poor' 'pop' 'poppa' 'popped' 'popular'\n",
      " 'popularity' 'population' 'porch' 'porking' 'porn' 'pornography'\n",
      " 'porridge' 'port' 'portable' 'pose' 'posed' 'position' 'positive'\n",
      " 'positively' 'posse' 'possession' 'possibility' 'possible' 'possibly'\n",
      " 'post' 'postcard' 'posted' 'poster' 'posting' 'pot' 'potential' 'potion'\n",
      " 'potluck' 'pound' 'poverty' 'powder' 'power' 'powered' 'powerful'\n",
      " 'powerless' 'practically' 'practice' 'praise' 'prancing' 'pray' 'prayer'\n",
      " 'praying' 'preached' 'precarious' 'precaution' 'precedent' 'precinct'\n",
      " 'precious' 'precocious' 'prediction' 'prefer' 'preferred' 'prefrontal'\n",
      " 'pregnant' 'prejudice' 'prejudiced' 'premature' 'premise' 'preoccupy'\n",
      " 'preparation' 'prepare' 'prepared' 'preparing' 'preschool' 'prescription'\n",
      " 'presence' 'present' 'presented' 'presenting' 'presently' 'preserve'\n",
      " 'president' 'presidential' 'press' 'pressed' 'pressing' 'pressure'\n",
      " 'prestige' 'presumably' 'presumptuous' 'pretend' 'pretended' 'pretender'\n",
      " 'pretending' 'prettiest' 'prettily' 'pretty' 'pretzel' 'prevent'\n",
      " 'previously' 'prey' 'price' 'priceless' 'prick' 'pride' 'priest'\n",
      " 'priggishness' 'prime' 'primitive' 'primo' 'prince' 'princess'\n",
      " 'principle' 'print' 'printed' 'prior' 'priority' 'prison' 'prisoner'\n",
      " 'private' 'privately' 'privileged' 'prize' 'pro' 'probable' 'probably'\n",
      " 'probe' 'problem' 'process' 'producer' 'producing' 'product' 'profess'\n",
      " 'professional' 'professionalism' 'professor' 'profit' 'profitable'\n",
      " 'progeny' 'program' 'project' 'projected' 'promilitary' 'prominently'\n",
      " 'promise' 'promised' 'promoter' 'promoting' 'promotion' 'proof' 'proper'\n",
      " 'properly' 'property' 'prophecy' 'proposal' 'propose' 'proposed'\n",
      " 'proposition' 'propulsion' 'prosecuting' 'prosecutor' 'prospect'\n",
      " 'prosper' 'prosperity' 'prosperous' 'prostituting' 'protect' 'protected'\n",
      " 'protection' 'protest' 'protocol' 'proud' 'prove' 'proved' 'proven'\n",
      " 'provide' 'provided' 'provides' 'provoking' 'provost' 'prowling' 'pry'\n",
      " 'psychiatrist' 'psychologically' 'psychologist' 'pt' 'ptti' 'pub'\n",
      " 'public' 'publication' 'publicity' 'publicly' 'publish' 'published'\n",
      " 'publisher' 'publishing' 'pudding' 'puerto' 'puff' 'puke' 'puked' 'pull'\n",
      " 'pulled' 'pulling' 'pump' 'pumped' 'pumpkin' 'punch' 'punching' 'punish'\n",
      " 'punished' 'punishes' 'punk' 'pupil' 'puppet' 'puppy' 'purchase'\n",
      " 'purchaser' 'pure' 'purgatory' 'purifies' 'purport' 'purpose' 'purse'\n",
      " 'pursue' 'pursuing' 'pursuit' 'pus' 'push' 'pushing' 'pussy' 'put'\n",
      " 'putrid' 'putting' 'putz' 'puzzle' 'puzzled' 'pyjama' 'qu'\n",
      " 'qualification' 'qualified' 'quality' 'quarreling' 'quarter' 'queeg'\n",
      " 'queen' 'queered' 'question' 'questioning' 'questionmark' 'quick'\n",
      " 'quickly' 'quiet' 'quilt' 'quinine' 'quit' 'quite' 'quoted' 'rabbit'\n",
      " 'race' 'racial' 'racing' 'rack' 'racket' 'radar' 'radarjockeys' 'radio'\n",
      " 'rae' 'raft' 'rag' 'ragged' 'raid' 'rail' 'rain' 'rainbow' 'raise'\n",
      " 'raised' 'raising' 'raked' 'rambos' 'ran' 'ranch' 'rancid' 'range'\n",
      " 'ranger' 'rank' 'ranking' 'ransacked' 'ransom' 'rape' 'raped' 'raping'\n",
      " 'rare' 'rash' 'raspberry' 'rat' 'rate' 'rather' 'rating' 'ration'\n",
      " 'raunch' 'raw' 'raymond' 'razor' 'razorback' 'rd' 're' 'reach' 'reached'\n",
      " 'reaching' 'reaction' 'reactivated' 'read' 'readin' 'reading' 'ready'\n",
      " 'reaffirming' 'real' 'realise' 'reality' 'realization' 'realize'\n",
      " 'realized' 'really' 'rear' 'reason' 'reasonable' 'reassuring' 'rebel'\n",
      " 'rebellion' 'rebuild' 'recall' 'recap' 'receive' 'recent' 'recently'\n",
      " 'receptionist' 'recess' 'recipe' 'recite' 'reckless' 'reckon' 'recognise'\n",
      " 'recognize' 'recognized' 'recollection' 'recommend' 'reconnaissance'\n",
      " 'reconsidered' 'record' 'recorded' 'recorder' 'recording' 'recovered'\n",
      " 'recovery' 'recruit' 'rectory' 'recycled' 'red' 'reduce' 'reduced' 'reef'\n",
      " 'reel' 'refers' 'reforming' 'refreshment' 'refrigerator' 'refueling'\n",
      " 'refuge' 'refugee' 'refuse' 'refused' 'refusing' 'regard' 'regardless'\n",
      " 'regatta' 'regiment' 'regional' 'regis' 'regressed' 'regret'\n",
      " 'regrettable' 'regular' 'regulation' 'rehab' 'rehabilitation' 'rehearsed'\n",
      " 'rehearsing' 'reinforce' 'reject' 'rejoin' 'rejuvenated' 'rekindled'\n",
      " 'relating' 'relation' 'relationship' 'relative' 'relax' 'relaxed'\n",
      " 'release' 'released' 'relentless' 'relevant' 'reliable' 'relief'\n",
      " 'relieve' 'relieved' 'religion' 'religious' 'relish' 'reluctantly' 'rely'\n",
      " 'relying' 'remain' 'remained' 'remains' 'remark' 'rematch' 'remedy'\n",
      " 'remember' 'remembered' 'remembers' 'remind' 'reminded' 'reminder'\n",
      " 'reminding' 'reminds' 'remote' 'removed' 'rent' 'rented' 'repay' 'repeat'\n",
      " 'repeating' 'repent' 'repents' 'repercussion' 'replace' 'reply' 'report'\n",
      " 'reported' 'reporter' 'reporting' 'represent' 'representative'\n",
      " 'reprimanding' 'reprisal' 'republican' 'reputation' 'require' 'required'\n",
      " 'requirement' 'rerererepossessed' 'rescue' 'rescued' 'research'\n",
      " 'resemblance' 'resent' 'resenting' 'reservation' 'reserve' 'reservoir'\n",
      " 'residence' 'resident' 'resign' 'resignation' 'resigning' 'resilient'\n",
      " 'resist' 'resistance' 'resisting' 'resists' 'resolve' 'resort' 'resource'\n",
      " 'respect' 'respectability' 'respectable' 'respected' 'respond'\n",
      " 'responsibility' 'responsible' 'rest' 'restaurant' 'restful' 'restraint'\n",
      " 'restricted' 'result' 'retainer' 'retard' 'retarded' 'retire'\n",
      " 'retirement' 'retiring' 'retreat' 'return' 'returned' 'reveal' 'revealed'\n",
      " 'revenge' 'reverend' 'reverent' 'reversal' 'reverse' 'reviewed'\n",
      " 'reviving' 'revolution' 'revolver' 'reward' 'rewarding' 'rheumatism' 'ri'\n",
      " 'rican' 'rice' 'rich' 'richer' 'rid' 'riddance' 'riddled' 'ride' 'rider'\n",
      " 'ridicule' 'ridiculed' 'ridiculous' 'riding' 'rifle' 'right' 'righteous'\n",
      " 'rightful' 'rigid' 'rigmarole' 'ring' 'ringo' 'rink' 'rinse' 'riot' 'rip'\n",
      " 'ripped' 'rise' 'risen' 'rising' 'risk' 'risked' 'risking' 'risky'\n",
      " 'rival' 'river' 'rj' 'road' 'roam' 'roast' 'robbed' 'robber' 'robbery'\n",
      " 'robbing' 'robocop' 'robot' 'rock' 'rocky' 'rode' 'rogue' 'role' 'roll'\n",
      " 'rolled' 'rolling' 'romance' 'romantic' 'roof' 'room' 'rooster' 'rope'\n",
      " 'rose' 'rosy' 'rotten' 'rough' 'round' 'route' 'routine' 'rover' 'row'\n",
      " 'royal' 'royalty' 'rubber' 'rubbish' 'ruby' 'rudder' 'rude' 'rug' 'ruin'\n",
      " 'ruined' 'ruining' 'rule' 'rumble' 'rumbled' 'rummy' 'rumour' 'rumph'\n",
      " 'run' 'rung' 'runnin' 'running' 'runway' 'rush' 'rushing' 'russian'\n",
      " 'rust' 'rusted' 'ruthless' 'ruuuuuth' 'ryan' 'ryans' 'sabbatical'\n",
      " 'sabotage' 'sack' 'sacramento' 'sacred' 'sacrifice' 'sacrificed' 'sad'\n",
      " 'saddened' 'sadder' 'saddest' 'safe' 'safely' 'safer' 'safest' 'safety'\n",
      " 'sag' 'saga' 'sagging' 'said' 'sail' 'sailboat' 'sailed' 'sailing'\n",
      " 'sailor' 'saintly' 'sake' 'sal' 'salad' 'salary' 'sale' 'salesman'\n",
      " 'sally' 'saloon' 'sanctuary' 'sand' 'sandstorm' 'sandwich' 'sane' 'sappy'\n",
      " 'sarcasm' 'sarcastic' 'sat' 'satan' 'satisfaction' 'satisfied' 'satisfy'\n",
      " 'saturday' 'sauce' 'saucer' 'savage' 'save' 'saved' 'saving' 'savor'\n",
      " 'saw' 'sawn' 'saxophone' 'say' 'sayin' 'saying' 'scalpel' 'scamming'\n",
      " 'scandal' 'scar' 'scare' 'scarecrow' 'scared' 'scarf' 'scaring' 'scary'\n",
      " 'scatter' 'scene' 'scenic' 'schedule' 'scheme' 'schizo' 'schizophrenia'\n",
      " 'schmuck' 'schnauzer' 'school' 'schooling' 'science' 'scientific'\n",
      " 'scientist' 'scope' 'scorpio' 'scot' 'scotch' 'scout' 'scouting' 'scram'\n",
      " 'scramble' 'scrambled' 'scrambling' 'scrap' 'scrape' 'scratch'\n",
      " 'scratched' 'scrawny' 'scream' 'screamed' 'screaming' 'screen' 'screw'\n",
      " 'screwed' 'screwing' 'script' 'scripture' 'scrounge' 'scrub' 'scrubbing'\n",
      " 'scuffer' 'scum' 'scumbag' 'scungilli' 'scuzzball' 'sea' 'seagull' 'seal'\n",
      " 'seaman' 'search' 'searched' 'searching' 'seasick' 'season' 'seat'\n",
      " 'seattle' 'second' 'secrecy' 'secret' 'secretary' 'secretly' 'section'\n",
      " 'secure' 'securing' 'security' 'seducer' 'see' 'seed' 'seedling' 'seeing'\n",
      " 'seek' 'seeking' 'seem' 'seemed' 'seemingly' 'seems' 'seen' 'seize'\n",
      " 'selah' 'selected' 'selecting' 'self' 'selfish' 'sell' 'selling' 'senate'\n",
      " 'senator' 'send' 'sending' 'sends' 'senile' 'senior' 'senor' 'senorita'\n",
      " 'sens' 'sensational' 'sense' 'senseless' 'senselessly' 'sensitive'\n",
      " 'sensor' 'sent' 'sentence' 'sentimental' 'sentry' 'seoritas' 'separate'\n",
      " 'separated' 'sephardic' 'sequined' 'sergeant' 'serious' 'seriously'\n",
      " 'servant' 'serve' 'served' 'service' 'sesame' 'session' 'set' 'setting'\n",
      " 'settle' 'settled' 'settlement' 'setup' 'seven' 'seventeen' 'seventh'\n",
      " 'several' 'severe' 'severed' 'sex' 'sexual' 'sexy' 'sh' 'shade' 'shadow'\n",
      " 'shady' 'shake' 'shaking' 'shaky' 'shalakazam' 'shall' 'shame' 'shamrock'\n",
      " 'shangri' 'shanty' 'shape' 'shaped' 'share' 'sharing' 'shark' 'sharp'\n",
      " 'sharpshooter' 'shave' 'she' 'sheba' 'shed' 'sheep' 'sheepherder' 'sheer'\n",
      " 'sheet' 'shelf' 'shell' 'shelled' 'shelleen' 'shelling' 'shenanigan'\n",
      " 'sheriff' 'shh' 'shield' 'shikseh' 'ship' 'shipment' 'shipyard' 'shirt'\n",
      " 'shit' 'shithole' 'shitless' 'shitload' 'shittiest' 'shitting' 'shitty'\n",
      " 'shock' 'shocked' 'shocking' 'shoddy' 'shoe' 'shoeshine' 'shone' 'shoo'\n",
      " 'shook' 'shoot' 'shooter' 'shooting' 'shootout' 'shop' 'shopping' 'short'\n",
      " 'shortcut' 'shorter' 'shortly' 'shot' 'shotgun' 'shoulda' 'shout' 'shove'\n",
      " 'shoved' 'show' 'showed' 'shower' 'showing' 'shown' 'showroom' 'shred'\n",
      " 'shut' 'shutting' 'shy' 'sic' 'sick' 'sicker' 'sicking' 'sickly' 'side'\n",
      " 'sidewalk' 'siegfried' 'sigh' 'sight' 'sighted' 'sign' 'signalled'\n",
      " 'signed' 'significant' 'signifying' 'signing' 'silence' 'silly' 'silver'\n",
      " 'simple' 'simply' 'sin' 'since' 'sincere' 'sincerity' 'sinew' 'sinful'\n",
      " 'sing' 'singing' 'single' 'sink' 'sinker' 'sinned' 'sinner' 'sioc' 'sir'\n",
      " 'sister' 'sistine' 'sit' 'site' 'sitter' 'sitting' 'situation' 'six'\n",
      " 'sixth' 'size' 'sized' 'skag' 'skepticism' 'skiff' 'skill' 'skin'\n",
      " 'skinhead' 'skinned' 'skip' 'skipping' 'skirt' 'sky' 'slack' 'slaughter'\n",
      " 'slaughtered' 'slaughterhouse' 'slaughtering' 'slave' 'slaved' 'slavery'\n",
      " 'sledge' 'sleep' 'sleeper' 'sleeping' 'sleeve' 'slept' 'slice' 'slight'\n",
      " 'slightest' 'slightly' 'slim' 'slime' 'slimy' 'slip' 'slipped' 'slipping'\n",
      " 'slit' 'slob' 'slop' 'sloth' 'slouch' 'slow' 'slowly' 'slumber' 'slumped'\n",
      " 'slur' 'slut' 'smack' 'small' 'smaller' 'smallest' 'smalltime' 'smart'\n",
      " 'smarter' 'smartest' 'smartphone' 'smash' 'smashed' 'smell' 'smelling'\n",
      " 'smile' 'smiling' 'smog' 'smoke' 'smokin' 'smoking' 'smooth' 'smuggle'\n",
      " 'smuggling' 'snack' 'snake' 'snap' 'snapped' 'snappy' 'snatch' 'sneak'\n",
      " 'sneaker' 'sneaking' 'sneaky' 'sniffing' 'snitch' 'snoring' 'snow'\n",
      " 'snowball' 'so' 'soap' 'soar' 'sob' 'sober' 'soccer' 'sociable'\n",
      " 'socialist' 'society' 'sociopath' 'sock' 'socket' 'sod' 'soda' 'sodbury'\n",
      " 'soft' 'soiled' 'solace' 'sold' 'soldier' 'soldiering' 'solid' 'solitary'\n",
      " 'soltis' 'solution' 'solve' 'solved' 'somebody' 'someday' 'somehow'\n",
      " 'someone' 'someplace' 'somethin' 'something' 'sometime' 'sometimes'\n",
      " 'somewhat' 'somewhere' 'son' 'song' 'soon' 'sooner' 'soothing'\n",
      " 'sophisticated' 'sorcerer' 'sore' 'sorority' 'sorrow' 'sorry' 'sort'\n",
      " 'soul' 'sound' 'sounding' 'soup' 'sourcastic' 'source' 'south'\n",
      " 'southeast' 'souvenir' 'sov' 'soviet' 'space' 'spaghetti' 'spanish'\n",
      " 'spank' 'spare' 'spared' 'spark' 'sparkle' 'speak' 'speaker' 'speaking'\n",
      " 'speaks' 'special' 'specialty' 'specimen' 'spectacle' 'spectacular'\n",
      " 'speculator' 'speech' 'speed' 'speeding' 'speedy' 'spell' 'spend'\n",
      " 'spending' 'spends' 'spent' 'sperm' 'spermicide' 'spic' 'spice' 'spider'\n",
      " 'spiffy' 'spin' 'spindle' 'spine' 'spirit' 'spiritual' 'spit' 'spite'\n",
      " 'splendid' 'split' 'spoil' 'spoiled' 'spoiling' 'spoke' 'spoken'\n",
      " 'sponsor' 'sponsored' 'spooked' 'spoon' 'sport' 'sporting' 'spot'\n",
      " 'spotted' 'spout' 'spread' 'spreading' 'spree' 'spring' 'sprouting' 'spy'\n",
      " 'spying' 'squad' 'squadron' 'squalor' 'square' 'squeeze' 'squirm'\n",
      " 'squirrel' 'squirt' 'st' 'stab' 'stabbed' 'stabbing' 'stability' 'stable'\n",
      " 'stack' 'stage' 'staged' 'stair' 'stake' 'stakeout' 'stale' 'stall'\n",
      " 'stamp' 'stand' 'standard' 'standing' 'star' 'starboard' 'stare' 'stared'\n",
      " 'staring' 'start' 'started' 'starter' 'starting' 'startling' 'starved'\n",
      " 'starving' 'stash' 'state' 'stated' 'statement' 'station' 'stationed'\n",
      " 'statue' 'status' 'stay' 'stayed' 'staying' 'steady' 'steak' 'steal'\n",
      " 'stealin' 'stealing' 'steaming' 'steamroller' 'steed' 'steel' 'steep'\n",
      " 'steer' 'stench' 'stenographer' 'step' 'stepped' 'stepper' 'stepping'\n",
      " 'sterile' 'stern' 'steward' 'stewardess' 'stick' 'sticker' 'sticking'\n",
      " 'still' 'stimulating' 'stinger' 'stink' 'stinker' 'stinking' 'stirred'\n",
      " 'stock' 'stockade' 'stole' 'stolen' 'stomach' 'stone' 'stood' 'stooge'\n",
      " 'stool' 'stop' 'stopped' 'stopping' 'store' 'storm' 'stormed' 'story'\n",
      " 'stove' 'straggler' 'straight' 'straighten' 'straightened' 'strain'\n",
      " 'strange' 'strangely' 'stranger' 'strangest' 'strangled' 'strategy'\n",
      " 'straw' 'strawberry' 'stray' 'streak' 'stream' 'streamer' 'street'\n",
      " 'streetwalker' 'strelnikov' 'strength' 'stress' 'stretch' 'stretcher'\n",
      " 'strict' 'strictly' 'strike' 'stringent' 'strip' 'stripped' 'strived'\n",
      " 'stroke' 'strong' 'stronger' 'strongly' 'struck' 'structure' 'struggle'\n",
      " 'struggled' 'struggling' 'strung' 'strychnine' 'stubborn' 'stubbornness'\n",
      " 'stuck' 'stud' 'student' 'study' 'studying' 'stuff' 'stuffed' 'stumble'\n",
      " 'stump' 'stung' 'stunt' 'stupid' 'stupidity' 'style' 'sub' 'subcommittee'\n",
      " 'subject' 'submarine' 'submit' 'subordinate' 'subpoena' 'subsequently'\n",
      " 'substance' 'substitute' 'subtle' 'suburb' 'subway' 'succeeds' 'success'\n",
      " 'successful' 'successfully' 'suck' 'sucker' 'sudden' 'suddenly' 'sue'\n",
      " 'suffer' 'suffered' 'suffering' 'sufficient' 'suffocation' 'sugar'\n",
      " 'suggest' 'suggesting' 'suggestion' 'suicidal' 'suicide' 'suit'\n",
      " 'suitable' 'suitcase' 'suitcoat' 'suite' 'summer' 'summerhouse'\n",
      " 'summertime' 'sun' 'sunburned' 'sunday' 'sundown' 'sunglass' 'sunny'\n",
      " 'sunset' 'sunshine' 'super' 'superachiever' 'superb' 'superior'\n",
      " 'supermarket' 'supernatural' 'supper' 'supply' 'support' 'supported'\n",
      " 'supporter' 'supporting' 'suppose' 'supposed' 'supposing' 'suppress'\n",
      " 'supreme' 'sure' 'surely' 'surface' 'surgeon' 'surgery' 'surprise'\n",
      " 'surprised' 'surprising' 'surrender' 'surrendered' 'surrogate' 'surround'\n",
      " 'surrounded' 'surveillance' 'surveilling' 'survive' 'survived' 'survivor'\n",
      " 'sushi' 'suspect' 'suspend' 'suspense' 'suspicion' 'suspicious' 'sustain'\n",
      " 'sustains' 'swallow' 'swallowed' 'swan' 'swat' 'swayback' 'swear'\n",
      " 'swearing' 'swears' 'sweat' 'sweater' 'sweating' 'sweep' 'sweeping'\n",
      " 'sweet' 'sweeter' 'sweetest' 'sweetheart' 'sweetie' 'sweety' 'swell'\n",
      " 'swim' 'swimming' 'swing' 'swiss' 'switch' 'sword' 'swordfish'\n",
      " 'swordsman' 'swore' 'sworn' 'sycophant' 'symbol' 'symmetry' 'sympathetic'\n",
      " 'sympathy' 'sync' 'syrian' 'syrup' 'system' 'ta' 'table' 'tacky'\n",
      " 'tactical' 'tadminster' 'tag' 'tail' 'tailed' 'tailing' 'take' 'taken'\n",
      " 'takeover' 'takin' 'taking' 'tale' 'talent' 'talk' 'talked' 'talkin'\n",
      " 'talking' 'tall' 'tampering' 'tan' 'tank' 'tap' 'tape' 'taped' 'target'\n",
      " 'tariff' 'task' 'taste' 'tasted' 'tattoo' 'taught' 'taxi' 'taxpayer'\n",
      " 'taylor' 'tea' 'teach' 'teacher' 'teaching' 'team' 'tear' 'technology'\n",
      " 'teddy' 'teenager' 'teeth' 'teidt' 'telegram' 'telephone' 'television'\n",
      " 'tell' 'telling' 'temper' 'temperature' 'tempered' 'temple' 'temptation'\n",
      " 'tempted' 'ten' 'tendency' 'tender' 'tendon' 'tense' 'tension' 'tent'\n",
      " 'tenth' 'terenia' 'term' 'terminus' 'terrible' 'terribly' 'terrific'\n",
      " 'terrifying' 'territory' 'terrorise' 'terrorism' 'test' 'tested'\n",
      " 'testicle' 'testified' 'testify' 'testifying' 'testimony' 'testing' 'tex'\n",
      " 'texador' 'texted' 'th' 'thank' 'thankful' 'thanks' 'that' 'theater'\n",
      " 'theatre' 'thee' 'theft' 'theme' 'theological' 'theoretically' 'theory'\n",
      " 'therapy' 'there' 'thereby' 'therefore' 'they' 'thick' 'thicken' 'thief'\n",
      " 'thieving' 'thigh' 'thin' 'thing' 'things' 'think' 'thinkin' 'thinking'\n",
      " 'third' 'thirsty' 'thirteen' 'thirty' 'this' 'thoroughfare' 'thoroughly'\n",
      " 'though' 'thought' 'thoughtful' 'thousand' 'threat' 'threaten'\n",
      " 'threatened' 'threatening' 'three' 'threesome' 'threw' 'thrill'\n",
      " 'thrilled' 'throat' 'throne' 'throughout' 'throw' 'throwin' 'throwing'\n",
      " 'thrown' 'thrust' 'thumb' 'thursday' 'thy' 'ticket' 'ticking' 'ticklish'\n",
      " 'tide' 'tidy' 'tie' 'tied' 'tight' 'tilalle' 'till' 'tilting' 'time'\n",
      " 'timed' 'timer' 'timing' 'tip' 'tipped' 'tirade' 'tire' 'tired' 'tiring'\n",
      " 'tit' 'title' 'toad' 'toast' 'tobacco' 'tobruk' 'today' 'toe' 'toffee'\n",
      " 'toga' 'together' 'toilet' 'told' 'tolerance' 'tolerant' 'tolerate'\n",
      " 'tomato' 'tommy' 'tomorrow' 'ton' 'tone' 'tongue' 'tonic' 'tonight'\n",
      " 'tonya' 'took' 'tool' 'tooth' 'top' 'torlato' 'torment' 'tormented'\n",
      " 'torn' 'torpedo' 'torture' 'tortured' 'torturing' 'tossing' 'tot' 'total'\n",
      " 'touch' 'touched' 'touching' 'tough' 'tougher' 'toughest' 'tour' 'tow'\n",
      " 'towards' 'towed' 'tower' 'town' 'towner' 'toy' 'trace' 'traced' 'track'\n",
      " 'tracking' 'trade' 'traded' 'trading' 'traffic' 'trafficked'\n",
      " 'trafficking' 'tragedy' 'tragic' 'trail' 'trailer' 'train' 'trained'\n",
      " 'trainer' 'training' 'traitor' 'tramp' 'transaction' 'transfer'\n",
      " 'transferred' 'transform' 'transit' 'translate' 'translating'\n",
      " 'translation' 'translator' 'transmission' 'transmutation' 'transport'\n",
      " 'transportation' 'transported' 'trap' 'trapeze' 'trapped' 'trash'\n",
      " 'trauma' 'traumatised' 'traumatizing' 'travel' 'traveled' 'traveling'\n",
      " 'tray' 'tread' 'treason' 'treasure' 'treat' 'treated' 'treating'\n",
      " 'treatment' 'treaty' 'tree' 'tremendous' 'tremendously' 'trespass'\n",
      " 'trial' 'triangulated' 'tribute' 'trick' 'tried' 'trigger' 'trillion'\n",
      " 'trinity' 'trip' 'triple' 'tripped' 'trite' 'triumph' 'troop' 'trouble'\n",
      " 'troubled' 'troublesome' 'trubel' 'truck' 'true' 'truly' 'trunk' 'trust'\n",
      " 'trusted' 'trusting' 'trustworthy' 'truth' 'truthful' 'try' 'tryin'\n",
      " 'trying' 'tryout' 'tub' 'tuck' 'tuesday' 'tune' 'tunnel' 'tureen' 'turk'\n",
      " 'turkey' 'turn' 'turned' 'turnin' 'turning' 'turnip' 'turtle'\n",
      " 'tuscaloosa' 'tusk' 'tuxedo' 'tv' 'tweaking' 'twelve' 'twenty' 'twerp'\n",
      " 'twice' 'twin' 'twist' 'twisted' 'twister' 'two' 'type' 'typed'\n",
      " 'typewriter' 'typhoid' 'typical' 'tyrant' 'tyre' 'ufo' 'ugh' 'ugly' 'uh'\n",
      " 'uhhuh' 'uhoh' 'um' 'umbrella' 'un' 'unable' 'unacknowledged' 'unanimous'\n",
      " 'unannounced' 'unarmed' 'unassisted' 'unauthorised' 'unavailable'\n",
      " 'unbelievable' 'unborn' 'uncertainty' 'uncle' 'unclean' 'uncomfortable'\n",
      " 'unconstitutional' 'uncontested' 'uncorroborated' 'uncorrupted'\n",
      " 'undercover' 'underdog' 'undergone' 'underground' 'understand'\n",
      " 'understanding' 'understands' 'undertaker' 'underwater' 'underwear'\n",
      " 'underwrite' 'undo' 'undoubtedly' 'undress' 'unendurable' 'unequaled'\n",
      " 'unexpected' 'unfair' 'unfaithful' 'unfeeling' 'unfinished' 'unfolding'\n",
      " 'unforgiving' 'unfortunate' 'unfortunately' 'unhappy' 'unheard'\n",
      " 'unhinged' 'unholy' 'unidentified' 'uniform' 'unimportant'\n",
      " 'uninhabitable' 'union' 'unique' 'unit' 'unite' 'united' 'uniting'\n",
      " 'unity' 'universal' 'universe' 'university' 'unjust' 'unjustly' 'unknown'\n",
      " 'unless' 'unlock' 'unlocked' 'unlucky' 'unnecessary' 'unnoticed'\n",
      " 'unpleasant' 'unpleasantness' 'unpredictable' 'unprofessional' 'unproven'\n",
      " 'unreliable' 'unsavory' 'unscheduled' 'unsuited' 'unsupported'\n",
      " 'unsuspecting' 'unto' 'unusual' 'unwashed' 'upchucked' 'update' 'upgrade'\n",
      " 'uphold' 'upload' 'upon' 'upper' 'upset' 'upstairs' 'uptake' 'upward'\n",
      " 'upwardly' 'upwards' 'urals' 'urgent' 'us' 'use' 'used' 'useful'\n",
      " 'useless' 'usher' 'using' 'usual' 'usually' 'utter' 'utterly' 'vacation'\n",
      " 'vago' 'vain' 'vale' 'valedictorian' 'valium' 'valour' 'valuable' 'value'\n",
      " 'vamos' 'vampire' 'van' 'vanished' 'vanity' 'variety' 'various' 'varsity'\n",
      " 'vast' 'vault' 'vcr' 've' 'vega' 'vegetable' 'vehicle' 'vein' 'velvet'\n",
      " 'vendetta' 'veneer' 'ventura' 'venture' 'verify' 'vermin' 'verrat'\n",
      " 'verua' 'vessel' 'vibration' 'vice' 'vicinity' 'vicious' 'victim'\n",
      " 'victory' 'video' 'viennese' 'view' 'viktor' 'villa' 'village'\n",
      " 'vindicated' 'vine' 'vinnie' 'violated' 'violence' 'violent' 'violently'\n",
      " 'violin' 'virginity' 'virus' 'visible' 'visit' 'visitation' 'visiting'\n",
      " 'visitor' 'visual' 'visualize' 'vital' 'vitals' 'vocation' 'vodka'\n",
      " 'voice' 'volavent' 'volt' 'volunteer' 'volunteered' 'vomit' 'vomited'\n",
      " 'voodoo' 'vortex' 'vote' 'voted' 'voter' 'vouch' 'voyage' 'vulgar'\n",
      " 'vulgaris' 'vulnerable' 'vulture' 'waded' 'waffle' 'waggle' 'wagon'\n",
      " 'waistband' 'wait' 'waited' 'waiter' 'waitin' 'waiting' 'wake' 'waking'\n",
      " 'walk' 'walked' 'walking' 'wall' 'wallet' 'wan' 'wandering' 'wanna'\n",
      " 'want' 'wanted' 'wanting' 'war' 'warden' 'warehouse' 'warm' 'warmed'\n",
      " 'warn' 'warned' 'warning' 'warrant' 'warship' 'wash' 'wasp' 'waste'\n",
      " 'wasted' 'wasteful' 'wasting' 'watch' 'watched' 'watching' 'water'\n",
      " 'waterhole' 'watermelon' 'watling' 'wave' 'waved' 'way' 'wayward' 'we'\n",
      " 'weak' 'wealth' 'wealthy' 'weapon' 'wear' 'wearer' 'wearin' 'wearing'\n",
      " 'weather' 'website' 'wedding' 'weed' 'week' 'weekend' 'weight' 'weird'\n",
      " 'weirdest' 'welcome' 'well' 'weller' 'went' 'wesen' 'west' 'wet'\n",
      " 'wetback' 'wh' 'whaddya' 'whale' 'whaling' 'wham' 'what' 'whatever'\n",
      " 'wheel' 'wheelchair' 'when' 'whenever' 'where' 'whereas' 'wherever'\n",
      " 'whether' 'whiner' 'whining' 'whiny' 'whipped' 'whippersnapper'\n",
      " 'whipping' 'whiskey' 'whisky' 'whispered' 'whistle' 'white' 'whitebread'\n",
      " 'whitehall' 'whitest' 'whiz' 'who' 'whoa' 'whoever' 'whole' 'whoop'\n",
      " 'whore' 'whose' 'why' 'wicked' 'wicklow' 'wide' 'widespread' 'wienies'\n",
      " 'wife' 'wiggle' 'wild' 'wilderness' 'will' 'willing' 'willy' 'wimping'\n",
      " 'wimple' 'win' 'wind' 'window' 'windy' 'wine' 'wing' 'winked' 'winner'\n",
      " 'winning' 'wipe' 'wiped' 'wire' 'wired' 'wireless' 'wiring' 'wise'\n",
      " 'wised' 'wiser' 'wish' 'wished' 'wishing' 'wit' 'witch' 'withdraw'\n",
      " 'withdrawal' 'within' 'without' 'witness' 'wog' 'woke' 'woken' 'wolf'\n",
      " 'woman' 'women' 'wonder' 'wondered' 'wonderful' 'wonderfully' 'wondering'\n",
      " 'woo' 'wood' 'wop' 'word' 'wore' 'work' 'worked' 'worker' 'workin'\n",
      " 'working' 'workingman' 'world' 'worldwide' 'worm' 'worn' 'worried'\n",
      " 'worry' 'worse' 'worship' 'worshipped' 'worst' 'worth' 'worthless'\n",
      " 'worthy' 'would' 'woulda' 'wound' 'wounded' 'woven' 'wow' 'wracking'\n",
      " 'wrap' 'wrapped' 'wrath' 'wreck' 'wrecked' 'wrench' 'wrestle' 'wrestler'\n",
      " 'wrestling' 'wretch' 'wrinkle' 'wrinkled' 'wrist' 'writ' 'write' 'writer'\n",
      " 'writing' 'written' 'wrong' 'wronged' 'wrongly' 'wrote' 'wrought' 'wtf'\n",
      " 'wuss' 'xayide' 'xobile' 'xray' 'xrays' 'ya' 'yacht' 'yale' 'yank'\n",
      " 'yankee' 'yard' 'yawn' 'yeah' 'year' 'yell' 'yelled' 'yelling' 'yellow'\n",
      " 'yep' 'yes' 'yesterday' 'yet' 'yield' 'yielded' 'yikes' 'yo' 'yoga'\n",
      " 'yokel' 'york' 'young' 'younger' 'youngster' 'yous' 'youth' 'youtube'\n",
      " 'yowling' 'yucky' 'yummy' 'zardoz' 'zealot' 'zebra' 'zen' 'zombie' 'zone']\n"
     ]
    }
   ],
   "source": [
    "print(feature_names)"
   ]
  },
  {
   "cell_type": "code",
   "execution_count": null,
   "metadata": {},
   "outputs": [],
   "source": []
  },
  {
   "cell_type": "code",
   "execution_count": null,
   "metadata": {},
   "outputs": [],
   "source": []
  },
  {
   "cell_type": "code",
   "execution_count": null,
   "metadata": {},
   "outputs": [],
   "source": []
  },
  {
   "cell_type": "code",
   "execution_count": null,
   "metadata": {},
   "outputs": [],
   "source": []
  },
  {
   "cell_type": "code",
   "execution_count": null,
   "metadata": {},
   "outputs": [],
   "source": []
  },
  {
   "cell_type": "code",
   "execution_count": null,
   "metadata": {},
   "outputs": [],
   "source": []
  },
  {
   "cell_type": "code",
   "execution_count": null,
   "metadata": {},
   "outputs": [],
   "source": []
  },
  {
   "cell_type": "code",
   "execution_count": null,
   "metadata": {},
   "outputs": [],
   "source": []
  },
  {
   "cell_type": "markdown",
   "metadata": {
    "id": "YZ4hnCvOAvGG"
   },
   "source": [
    "### Transform training, validation and test sets to Numpy"
   ]
  },
  {
   "cell_type": "code",
   "execution_count": 7,
   "metadata": {
    "colab": {
     "base_uri": "https://localhost:8080/"
    },
    "id": "jikX_tHJAlak",
    "outputId": "3d2d497c-4333-4acb-f996-876216e43299"
   },
   "outputs": [
    {
     "data": {
      "text/plain": [
       "(14000, 14000, 1000, 1000, 2000)"
      ]
     },
     "execution_count": 7,
     "metadata": {},
     "output_type": "execute_result"
    }
   ],
   "source": [
    "# Transform to numpy\n",
    "train_sentences = train_df[\"sentence\"].to_numpy()\n",
    "val_sentences = valid_df[\"sentence\"].to_numpy()\n",
    "test_sentences = test_df[\"sentence\"].to_numpy()\n",
    "train_labels = train_df[\"emotion\"].to_numpy()\n",
    "val_labels = valid_df[\"emotion\"].to_numpy()\n",
    "\n",
    "\n",
    "# Check the lengths\n",
    "len(train_sentences), len(train_labels), len(val_sentences), len(val_labels), len(test_sentences)"
   ]
  },
  {
   "cell_type": "markdown",
   "metadata": {
    "id": "ulXhItj3CmM7"
   },
   "source": [
    "### Tokenization"
   ]
  },
  {
   "cell_type": "code",
   "execution_count": 8,
   "metadata": {
    "id": "CC2bxpPNCoed"
   },
   "outputs": [],
   "source": [
    "# The default TextVectorization variables\n",
    "text_vectorizer = TextVectorization(max_tokens=None,\n",
    "                                    standardize=\"lower_and_strip_punctuation\", \n",
    "                                    split=\"whitespace\", \n",
    "                                    ngrams=None, \n",
    "                                    output_mode=\"int\", \n",
    "                                    output_sequence_length=None) "
   ]
  },
  {
   "cell_type": "code",
   "execution_count": 9,
   "metadata": {
    "colab": {
     "base_uri": "https://localhost:8080/"
    },
    "id": "tD8b6xUCC3yz",
    "outputId": "0a7ade6c-3858-445e-a63e-a40aaa96185f"
   },
   "outputs": [
    {
     "data": {
      "text/plain": [
       "9"
      ]
     },
     "execution_count": 9,
     "metadata": {},
     "output_type": "execute_result"
    }
   ],
   "source": [
    "# Average number of tokens (words) in training set\n",
    "round(sum([len(i.split()) for i in train_sentences])/len(train_sentences))"
   ]
  },
  {
   "cell_type": "code",
   "execution_count": 10,
   "metadata": {
    "id": "WW0c4tpZDGV7"
   },
   "outputs": [],
   "source": [
    "# Setup text vectorization with custom variables\n",
    "max_vocab_length = 10000\n",
    "max_length = 9\n",
    "\n",
    "text_vectorizer = TextVectorization(max_tokens=max_vocab_length,\n",
    "                                    output_mode=\"int\",\n",
    "                                    output_sequence_length=max_length)"
   ]
  },
  {
   "cell_type": "code",
   "execution_count": 11,
   "metadata": {
    "id": "r6oubcScDcPQ"
   },
   "outputs": [],
   "source": [
    "# Fit the text vectorizer to the training text\n",
    "text_vectorizer.adapt(train_sentences)"
   ]
  },
  {
   "cell_type": "code",
   "execution_count": 12,
   "metadata": {
    "colab": {
     "base_uri": "https://localhost:8080/"
    },
    "id": "3PY256fFDeej",
    "outputId": "6cb9132e-a67a-4271-88be-dc2f15c0ebb3"
   },
   "outputs": [
    {
     "name": "stdout",
     "output_type": "stream",
     "text": [
      "Number of words in vocab: 7656\n"
     ]
    }
   ],
   "source": [
    "# Get the unique words in the vocabulary\n",
    "words_in_vocab = text_vectorizer.get_vocabulary()\n",
    "print(f\"Number of words in vocab: {len(words_in_vocab)}\")"
   ]
  },
  {
   "cell_type": "code",
   "execution_count": 13,
   "metadata": {
    "colab": {
     "base_uri": "https://localhost:8080/"
    },
    "id": "lf1CAnfx1TEW",
    "outputId": "fa827138-4589-4ad3-e289-f24b682377a5"
   },
   "outputs": [
    {
     "data": {
      "text/plain": [
       "{'batch_input_shape': (None,),\n",
       " 'dtype': 'string',\n",
       " 'idf_weights': None,\n",
       " 'max_tokens': 10000,\n",
       " 'name': 'text_vectorization_1',\n",
       " 'ngrams': None,\n",
       " 'output_mode': 'int',\n",
       " 'output_sequence_length': 9,\n",
       " 'pad_to_max_tokens': False,\n",
       " 'ragged': False,\n",
       " 'sparse': False,\n",
       " 'split': 'whitespace',\n",
       " 'standardize': 'lower_and_strip_punctuation',\n",
       " 'trainable': True,\n",
       " 'vocabulary': None}"
      ]
     },
     "execution_count": 13,
     "metadata": {},
     "output_type": "execute_result"
    }
   ],
   "source": [
    "# Get the config of our text vectorizer\n",
    "text_vectorizer.get_config()"
   ]
  },
  {
   "cell_type": "markdown",
   "metadata": {
    "id": "LMETdiVcEKu1"
   },
   "source": [
    "### Embedding"
   ]
  },
  {
   "cell_type": "code",
   "execution_count": 14,
   "metadata": {
    "colab": {
     "base_uri": "https://localhost:8080/"
    },
    "id": "9Dv3Rdl6EKF8",
    "outputId": "196164ca-35db-402b-97ba-ab650381db74"
   },
   "outputs": [
    {
     "data": {
      "text/plain": [
       "<keras.layers.embeddings.Embedding at 0x7f2f201a0450>"
      ]
     },
     "execution_count": 14,
     "metadata": {},
     "output_type": "execute_result"
    }
   ],
   "source": [
    "tf.random.set_seed(42)\n",
    "\n",
    "embedding = layers.Embedding(input_dim=max_vocab_length, # set input shape\n",
    "                             output_dim=128, # set size of embedding vector\n",
    "                             embeddings_initializer=\"uniform\", # default, intialize randomly\n",
    "                             input_length=max_length, # how long is each input\n",
    "                             name=\"embedding_1\") \n",
    "\n",
    "embedding"
   ]
  },
  {
   "cell_type": "code",
   "execution_count": 15,
   "metadata": {
    "colab": {
     "base_uri": "https://localhost:8080/"
    },
    "id": "97cp_PRd-tIs",
    "outputId": "c2657b0c-9af6-434e-a87e-49e2fcb58f59"
   },
   "outputs": [
    {
     "data": {
      "text/plain": [
       "array([[0., 0., 0., ..., 1., 0., 0.],\n",
       "       [0., 0., 0., ..., 0., 0., 1.],\n",
       "       [0., 0., 0., ..., 1., 0., 0.],\n",
       "       ...,\n",
       "       [0., 0., 0., ..., 0., 0., 0.],\n",
       "       [0., 0., 0., ..., 0., 0., 0.],\n",
       "       [0., 0., 0., ..., 1., 0., 0.]])"
      ]
     },
     "execution_count": 15,
     "metadata": {},
     "output_type": "execute_result"
    }
   ],
   "source": [
    "# One hot encode labels\n",
    "one_hot_encoder = OneHotEncoder(sparse=False)\n",
    "train_labels_one_hot = one_hot_encoder.fit_transform(train_labels.reshape(-1, 1))\n",
    "val_labels_one_hot = one_hot_encoder.transform(val_labels.reshape(-1, 1))\n",
    "\n",
    "# Check what training labels look like\n",
    "train_labels_one_hot"
   ]
  },
  {
   "cell_type": "code",
   "execution_count": 16,
   "metadata": {
    "colab": {
     "base_uri": "https://localhost:8080/"
    },
    "id": "1gSueEy4-GUM",
    "outputId": "f06df553-9b67-42f4-f933-57633ed1f250"
   },
   "outputs": [
    {
     "data": {
      "text/plain": [
       "<TensorSliceDataset element_spec=(TensorSpec(shape=(), dtype=tf.string, name=None), TensorSpec(shape=(8,), dtype=tf.float64, name=None))>"
      ]
     },
     "execution_count": 16,
     "metadata": {},
     "output_type": "execute_result"
    }
   ],
   "source": [
    "# Turn data into TensorFlow Datasets\n",
    "train_dataset = tf.data.Dataset.from_tensor_slices((train_sentences, train_labels_one_hot))\n",
    "valid_dataset = tf.data.Dataset.from_tensor_slices((val_sentences, val_labels_one_hot))\n",
    "\n",
    "train_dataset"
   ]
  },
  {
   "cell_type": "code",
   "execution_count": 17,
   "metadata": {
    "colab": {
     "base_uri": "https://localhost:8080/"
    },
    "id": "rmZKJEij-PRM",
    "outputId": "a8b5e5ed-061e-4943-a5e4-4174f4f6a48e"
   },
   "outputs": [
    {
     "data": {
      "text/plain": [
       "<PrefetchDataset element_spec=(TensorSpec(shape=(None,), dtype=tf.string, name=None), TensorSpec(shape=(None, 8), dtype=tf.float64, name=None))>"
      ]
     },
     "execution_count": 17,
     "metadata": {},
     "output_type": "execute_result"
    }
   ],
   "source": [
    "# Take the TensorSliceDataset's and turn them into prefetched batches\n",
    "train_dataset = train_dataset.batch(32).prefetch(tf.data.AUTOTUNE)\n",
    "valid_dataset = valid_dataset.batch(32).prefetch(tf.data.AUTOTUNE)\n",
    "\n",
    "train_dataset"
   ]
  },
  {
   "cell_type": "markdown",
   "metadata": {
    "id": "JjHYjPuzEple"
   },
   "source": [
    "### Create Models"
   ]
  },
  {
   "cell_type": "code",
   "execution_count": 18,
   "metadata": {
    "id": "Gl9CUWB6FNjJ"
   },
   "outputs": [],
   "source": [
    "# Function to evaluate: accuracy, precision, recall, f1-score\n",
    "\n",
    "def calculate_results(y_true, y_pred):\n",
    "  \"\"\"\n",
    "  Calculates model accuracy, precision, recall and f1 score of a binary classification model.\n",
    "\n",
    "  Args:\n",
    "  -----\n",
    "  y_true = true labels in the form of a 1D array\n",
    "  y_pred = predicted labels in the form of a 1D array\n",
    "\n",
    "  Returns a dictionary of accuracy, precision, recall, f1-score.\n",
    "  \"\"\"\n",
    "  # Calculate model accuracy\n",
    "  model_accuracy = accuracy_score(y_true, y_pred) * 100\n",
    "  # Calculate model precision, recall and f1 score using \"weighted\" average\n",
    "  model_precision, model_recall, model_f1, _ = precision_recall_fscore_support(y_true, y_pred, average=\"weighted\")\n",
    "  model_results = {\"accuracy\": model_accuracy,\n",
    "                  \"precision\": model_precision,\n",
    "                  \"recall\": model_recall,\n",
    "                  \"f1\": model_f1}\n",
    "  return model_results"
   ]
  },
  {
   "cell_type": "markdown",
   "metadata": {
    "id": "SyIJv8NCFA2W"
   },
   "source": [
    "#### Model 1 - A simple dense model"
   ]
  },
  {
   "cell_type": "code",
   "execution_count": 19,
   "metadata": {
    "id": "z1r3C44DT_Mv"
   },
   "outputs": [],
   "source": [
    "# Create 1D convolutional model to process sequences\n",
    "inputs = layers.Input(shape=(1,), dtype=tf.string)\n",
    "text_vectors = text_vectorizer(inputs) # vectorize text inputs\n",
    "token_embeddings = embedding(text_vectors) # create embedding\n",
    "x = layers.Conv1D(64, kernel_size=5, padding=\"same\", activation=\"relu\")(token_embeddings)\n",
    "x = layers.GlobalAveragePooling1D()(x) # condense the output of our feature vector\n",
    "outputs = layers.Dense(8, activation=\"softmax\")(x)\n",
    "model_1 = tf.keras.Model(inputs, outputs)\n",
    "\n",
    "# Compile\n",
    "model_1.compile(loss=\"categorical_crossentropy\",\n",
    "                optimizer=tf.keras.optimizers.Adam(),\n",
    "                metrics=[\"accuracy\"])"
   ]
  },
  {
   "cell_type": "code",
   "execution_count": 20,
   "metadata": {
    "id": "OmP8FaoYFtP5"
   },
   "outputs": [],
   "source": [
    "# Compile model\n",
    "model_1.compile(loss=\"categorical_crossentropy\",\n",
    "                optimizer=tf.keras.optimizers.Adam(),\n",
    "                metrics=[\"accuracy\"])"
   ]
  },
  {
   "cell_type": "code",
   "execution_count": 21,
   "metadata": {
    "colab": {
     "base_uri": "https://localhost:8080/"
    },
    "id": "fL1tNgNHFvpA",
    "outputId": "036ed35d-98a4-40ca-e944-fc68e455b7b0"
   },
   "outputs": [
    {
     "name": "stdout",
     "output_type": "stream",
     "text": [
      "Model: \"model\"\n",
      "_________________________________________________________________\n",
      " Layer (type)                Output Shape              Param #   \n",
      "=================================================================\n",
      " input_1 (InputLayer)        [(None, 1)]               0         \n",
      "                                                                 \n",
      " text_vectorization_1 (TextV  (None, 9)                0         \n",
      " ectorization)                                                   \n",
      "                                                                 \n",
      " embedding_1 (Embedding)     (None, 9, 128)            1280000   \n",
      "                                                                 \n",
      " conv1d (Conv1D)             (None, 9, 64)             41024     \n",
      "                                                                 \n",
      " global_average_pooling1d (G  (None, 64)               0         \n",
      " lobalAveragePooling1D)                                          \n",
      "                                                                 \n",
      " dense (Dense)               (None, 8)                 520       \n",
      "                                                                 \n",
      "=================================================================\n",
      "Total params: 1,321,544\n",
      "Trainable params: 1,321,544\n",
      "Non-trainable params: 0\n",
      "_________________________________________________________________\n"
     ]
    }
   ],
   "source": [
    "# Get a summary of the model\n",
    "model_1.summary()"
   ]
  },
  {
   "cell_type": "code",
   "execution_count": 22,
   "metadata": {
    "colab": {
     "base_uri": "https://localhost:8080/"
    },
    "id": "a4b71MD6RaJW",
    "outputId": "73c374b9-2c0f-4ebf-9618-43d02505f3ef"
   },
   "outputs": [
    {
     "name": "stdout",
     "output_type": "stream",
     "text": [
      "Epoch 1/3\n",
      "438/438 [==============================] - 19s 9ms/step - loss: 1.9133 - accuracy: 0.2699 - val_loss: 1.7532 - val_accuracy: 0.3510\n",
      "Epoch 2/3\n",
      "438/438 [==============================] - 3s 6ms/step - loss: 1.5514 - accuracy: 0.4454 - val_loss: 1.7390 - val_accuracy: 0.3620\n",
      "Epoch 3/3\n",
      "438/438 [==============================] - 4s 8ms/step - loss: 1.2572 - accuracy: 0.5724 - val_loss: 1.8591 - val_accuracy: 0.3550\n"
     ]
    }
   ],
   "source": [
    "# Fit the model\n",
    "model_1_history = model_1.fit(train_dataset,\n",
    "                              steps_per_epoch=int(len(train_dataset)),\n",
    "                              epochs=3,\n",
    "                              validation_data=valid_dataset,\n",
    "                              validation_steps=int(len(valid_dataset))) "
   ]
  },
  {
   "cell_type": "code",
   "execution_count": 23,
   "metadata": {
    "colab": {
     "base_uri": "https://localhost:8080/"
    },
    "id": "yBujIzLMAQ6U",
    "outputId": "24395240-7504-4506-925a-f3bb4d18c6be"
   },
   "outputs": [
    {
     "data": {
      "text/plain": [
       "array([[0.01925442, 0.40411887, 0.00680164, ..., 0.01223091, 0.00496434,\n",
       "        0.22463526],\n",
       "       [0.12202242, 0.01194044, 0.04783471, ..., 0.28316745, 0.01008671,\n",
       "        0.06522798],\n",
       "       [0.00946379, 0.02571615, 0.00844525, ..., 0.01820526, 0.05136825,\n",
       "        0.08076279],\n",
       "       ...,\n",
       "       [0.5266714 , 0.19861057, 0.03513527, ..., 0.00694043, 0.05070744,\n",
       "        0.07130747],\n",
       "       [0.05422463, 0.08013153, 0.15507077, ..., 0.13004048, 0.13392441,\n",
       "        0.09900999],\n",
       "       [0.16303611, 0.22051178, 0.03180406, ..., 0.05660051, 0.04634143,\n",
       "        0.25960347]], dtype=float32)"
      ]
     },
     "execution_count": 23,
     "metadata": {},
     "output_type": "execute_result"
    }
   ],
   "source": [
    "# Make predictions\n",
    "model_1_pred_probs = model_1.predict(valid_dataset)\n",
    "model_1_pred_probs"
   ]
  },
  {
   "cell_type": "code",
   "execution_count": 24,
   "metadata": {
    "colab": {
     "base_uri": "https://localhost:8080/"
    },
    "id": "vgJ5Gj4XAUEI",
    "outputId": "8474199e-26d9-4e59-b6be-c5e4e54dbf56"
   },
   "outputs": [
    {
     "data": {
      "text/plain": [
       "<tf.Tensor: shape=(1000,), dtype=int64, numpy=\n",
       "array([2, 4, 5, 2, 1, 1, 7, 3, 1, 5, 5, 6, 1, 5, 2, 1, 2, 1, 1, 2, 5, 5,\n",
       "       3, 1, 1, 8, 5, 4, 2, 2, 2, 7, 5, 2, 6, 4, 1, 8, 8, 2, 2, 4, 1, 1,\n",
       "       1, 2, 1, 1, 8, 8, 2, 2, 5, 5, 6, 8, 1, 3, 2, 3, 1, 7, 1, 8, 6, 8,\n",
       "       2, 8, 2, 2, 1, 6, 6, 8, 2, 2, 8, 1, 2, 7, 2, 1, 5, 8, 8, 4, 1, 8,\n",
       "       8, 4, 2, 1, 3, 2, 8, 1, 4, 1, 1, 5, 4, 8, 2, 1, 6, 2, 8, 7, 2, 7,\n",
       "       2, 8, 1, 1, 6, 8, 5, 5, 5, 7, 5, 8, 2, 8, 7, 7, 3, 2, 2, 8, 2, 4,\n",
       "       1, 3, 4, 1, 1, 2, 1, 3, 5, 5, 2, 3, 8, 8, 5, 6, 1, 4, 8, 8, 7, 1,\n",
       "       1, 2, 7, 5, 7, 5, 6, 2, 4, 3, 8, 2, 2, 5, 3, 3, 2, 2, 2, 1, 1, 6,\n",
       "       8, 7, 8, 6, 5, 5, 7, 8, 2, 8, 2, 8, 8, 7, 6, 6, 6, 4, 2, 2, 2, 8,\n",
       "       1, 8, 1, 8, 1, 3, 1, 5, 8, 2, 2, 3, 5, 3, 5, 8, 6, 1, 2, 2, 1, 3,\n",
       "       5, 4, 7, 7, 5, 3, 8, 8, 8, 8, 2, 4, 2, 1, 2, 5, 6, 7, 2, 8, 4, 1,\n",
       "       2, 2, 2, 6, 3, 5, 8, 8, 2, 6, 7, 7, 1, 4, 4, 2, 7, 1, 3, 1, 3, 4,\n",
       "       5, 1, 4, 8, 2, 8, 1, 6, 2, 1, 1, 2, 1, 3, 8, 1, 1, 1, 1, 8, 8, 8,\n",
       "       2, 5, 7, 1, 1, 7, 1, 6, 6, 7, 5, 3, 5, 8, 7, 2, 5, 1, 6, 5, 5, 2,\n",
       "       2, 1, 2, 1, 1, 1, 4, 5, 2, 8, 1, 7, 2, 2, 8, 2, 2, 8, 5, 6, 4, 2,\n",
       "       8, 3, 8, 5, 1, 2, 1, 1, 2, 3, 5, 2, 5, 4, 7, 8, 2, 2, 7, 1, 7, 8,\n",
       "       2, 8, 8, 1, 8, 8, 6, 2, 3, 8, 2, 8, 1, 4, 8, 1, 8, 3, 1, 5, 1, 4,\n",
       "       4, 6, 6, 5, 3, 2, 1, 1, 2, 2, 7, 1, 1, 1, 1, 4, 3, 7, 2, 2, 4, 1,\n",
       "       2, 1, 8, 8, 8, 1, 2, 2, 5, 6, 8, 1, 1, 4, 8, 4, 5, 1, 1, 3, 4, 1,\n",
       "       2, 6, 1, 1, 2, 2, 5, 2, 5, 1, 8, 8, 4, 5, 1, 2, 8, 4, 3, 5, 5, 2,\n",
       "       1, 7, 1, 5, 4, 2, 7, 6, 8, 6, 8, 1, 1, 8, 1, 2, 8, 2, 1, 8, 3, 6,\n",
       "       1, 5, 8, 2, 8, 2, 1, 6, 6, 6, 1, 1, 8, 8, 5, 1, 1, 2, 2, 2, 1, 2,\n",
       "       4, 4, 4, 3, 2, 1, 8, 3, 1, 8, 2, 1, 3, 5, 2, 5, 1, 8, 1, 4, 8, 2,\n",
       "       6, 1, 1, 4, 2, 2, 3, 1, 5, 8, 1, 2, 8, 1, 6, 2, 4, 8, 7, 5, 1, 8,\n",
       "       5, 2, 8, 3, 1, 1, 4, 8, 2, 8, 1, 3, 4, 2, 8, 1, 3, 7, 4, 1, 1, 2,\n",
       "       1, 5, 1, 1, 5, 1, 2, 5, 4, 3, 2, 8, 8, 3, 1, 3, 1, 5, 5, 2, 1, 1,\n",
       "       5, 2, 8, 4, 1, 2, 1, 5, 6, 3, 2, 1, 5, 2, 1, 6, 4, 5, 1, 1, 5, 3,\n",
       "       2, 2, 5, 4, 2, 8, 5, 1, 7, 2, 7, 5, 8, 4, 1, 6, 5, 2, 8, 2, 5, 2,\n",
       "       4, 1, 5, 1, 4, 1, 8, 3, 8, 2, 2, 6, 1, 5, 6, 8, 3, 8, 1, 1, 1, 2,\n",
       "       1, 4, 1, 8, 1, 8, 2, 2, 6, 8, 7, 5, 3, 5, 8, 8, 6, 5, 8, 8, 7, 6,\n",
       "       1, 1, 8, 1, 3, 6, 1, 7, 8, 6, 3, 2, 5, 5, 2, 6, 1, 2, 5, 5, 4, 1,\n",
       "       5, 2, 8, 1, 7, 3, 8, 8, 1, 5, 8, 4, 1, 1, 1, 6, 4, 5, 2, 1, 8, 2,\n",
       "       3, 5, 1, 5, 1, 8, 5, 1, 7, 1, 1, 1, 2, 3, 6, 2, 1, 4, 1, 1, 6, 8,\n",
       "       6, 6, 2, 1, 2, 1, 8, 4, 7, 1, 6, 4, 6, 1, 2, 4, 1, 2, 2, 2, 1, 8,\n",
       "       5, 7, 2, 8, 2, 3, 1, 1, 3, 2, 7, 8, 6, 6, 8, 1, 1, 2, 8, 2, 2, 2,\n",
       "       4, 5, 6, 2, 2, 8, 5, 8, 7, 1, 1, 1, 1, 4, 6, 2, 4, 2, 6, 5, 5, 4,\n",
       "       3, 4, 3, 6, 6, 1, 6, 2, 7, 4, 5, 1, 6, 4, 8, 7, 7, 2, 2, 1, 1, 6,\n",
       "       2, 1, 5, 2, 8, 3, 2, 4, 4, 1, 1, 1, 2, 5, 8, 4, 2, 3, 7, 1, 8, 8,\n",
       "       1, 4, 5, 8, 1, 8, 3, 4, 4, 2, 5, 2, 8, 2, 2, 2, 6, 1, 5, 6, 7, 2,\n",
       "       7, 8, 2, 8, 1, 2, 2, 2, 1, 8, 8, 3, 1, 4, 2, 1, 4, 1, 7, 3, 1, 8,\n",
       "       6, 3, 1, 2, 1, 6, 7, 8, 5, 2, 3, 7, 2, 2, 6, 1, 6, 3, 1, 1, 7, 4,\n",
       "       6, 4, 1, 7, 3, 2, 1, 7, 1, 4, 5, 4, 8, 1, 2, 5, 8, 1, 1, 8, 5, 2,\n",
       "       1, 1, 2, 8, 1, 2, 6, 2, 4, 2, 4, 6, 5, 2, 2, 3, 3, 6, 1, 1, 8, 1,\n",
       "       7, 7, 1, 2, 5, 4, 1, 2, 2, 8, 1, 1, 2, 2, 1, 4, 2, 1, 1, 1, 2, 4,\n",
       "       1, 2, 4, 5, 2, 1, 5, 2, 8, 3, 2, 2, 5, 1, 8, 6, 8, 8, 3, 1, 3, 1,\n",
       "       1, 5, 4, 6, 7, 4, 5, 1, 5, 8])>"
      ]
     },
     "execution_count": 24,
     "metadata": {},
     "output_type": "execute_result"
    }
   ],
   "source": [
    "# Convert pred probs to classes\n",
    "model_1_preds = tf.argmax(model_1_pred_probs, axis=1) + 1\n",
    "model_1_preds"
   ]
  },
  {
   "cell_type": "code",
   "execution_count": 25,
   "metadata": {
    "colab": {
     "base_uri": "https://localhost:8080/"
    },
    "id": "C9thZtMpAY7b",
    "outputId": "b635abaa-384b-48cd-f16e-29055b447f57"
   },
   "outputs": [
    {
     "data": {
      "text/plain": [
       "{'accuracy': 35.5,\n",
       " 'f1': 0.3522124269586234,\n",
       " 'precision': 0.35562377208793644,\n",
       " 'recall': 0.355}"
      ]
     },
     "execution_count": 25,
     "metadata": {},
     "output_type": "execute_result"
    }
   ],
   "source": [
    "# Calculate model_1 results\n",
    "model_1_results = calculate_results(y_true=val_labels,\n",
    "                                    y_pred=model_1_preds)\n",
    "model_1_results"
   ]
  },
  {
   "cell_type": "markdown",
   "metadata": {
    "id": "6V327siDAjxq"
   },
   "source": [
    "#### Model 2 - Feature extraction with pretrained token embeddings - Universal Sentence Encoder"
   ]
  },
  {
   "cell_type": "code",
   "execution_count": 26,
   "metadata": {
    "id": "UfHv1xuNBgOH"
   },
   "outputs": [],
   "source": [
    "# Download pretrained TensorFlow Hub universal sentence encoder\n",
    "\n",
    "tf_hub_embedding_layer = hub.KerasLayer(\"https://tfhub.dev/google/universal-sentence-encoder/4\",\n",
    "                                        trainable=False,\n",
    "                                        name=\"universal_sentence_encoder\")"
   ]
  },
  {
   "cell_type": "code",
   "execution_count": 27,
   "metadata": {
    "colab": {
     "base_uri": "https://localhost:8080/"
    },
    "id": "FpVyTT5uCEke",
    "outputId": "b13c2a9d-4fa8-4aa4-b840-11a18d1df239"
   },
   "outputs": [
    {
     "name": "stdout",
     "output_type": "stream",
     "text": [
      "Model: \"model_1\"\n",
      "_________________________________________________________________\n",
      " Layer (type)                Output Shape              Param #   \n",
      "=================================================================\n",
      " input_2 (InputLayer)        [(None,)]                 0         \n",
      "                                                                 \n",
      " universal_sentence_encoder   (None, 512)              256797824 \n",
      " (KerasLayer)                                                    \n",
      "                                                                 \n",
      " dense_1 (Dense)             (None, 128)               65664     \n",
      "                                                                 \n",
      " dense_2 (Dense)             (None, 128)               16512     \n",
      "                                                                 \n",
      " dense_3 (Dense)             (None, 8)                 1032      \n",
      "                                                                 \n",
      "=================================================================\n",
      "Total params: 256,881,032\n",
      "Trainable params: 83,208\n",
      "Non-trainable params: 256,797,824\n",
      "_________________________________________________________________\n"
     ]
    }
   ],
   "source": [
    "# Define feature extractor model using TF Hub layer\n",
    "inputs = layers.Input(shape=[], dtype=tf.string)\n",
    "pretrained_embedding = tf_hub_embedding_layer(inputs) # tokenize text and create embedding\n",
    "x = layers.Dense(128, activation=\"relu\")(pretrained_embedding) # add a fully connected layer on top of the embedding\n",
    "x = layers.Dense(128, activation=\"relu\")(x) # add a fully connected layer on top of the embedding\n",
    "outputs = layers.Dense(8, activation=\"softmax\")(x) # create the output layer\n",
    "model_2 = tf.keras.Model(inputs=inputs,\n",
    "                        outputs=outputs)\n",
    "\n",
    "# Compile the model\n",
    "model_2.compile(loss=\"categorical_crossentropy\",\n",
    "                optimizer=tf.keras.optimizers.Adam(),\n",
    "                metrics=[\"accuracy\"])\n",
    "\n",
    "# Get a summary of the model\n",
    "model_2.summary()"
   ]
  },
  {
   "cell_type": "code",
   "execution_count": 28,
   "metadata": {
    "colab": {
     "base_uri": "https://localhost:8080/"
    },
    "id": "9iGYxIQgCRiV",
    "outputId": "1730fa71-36ab-4b74-f0c7-4b9fbd9ae89e"
   },
   "outputs": [
    {
     "name": "stdout",
     "output_type": "stream",
     "text": [
      "Epoch 1/3\n",
      "438/438 [==============================] - 12s 11ms/step - loss: 1.6562 - accuracy: 0.3866 - val_loss: 1.5468 - val_accuracy: 0.4350\n",
      "Epoch 2/3\n",
      "438/438 [==============================] - 5s 11ms/step - loss: 1.4813 - accuracy: 0.4616 - val_loss: 1.5364 - val_accuracy: 0.4440\n",
      "Epoch 3/3\n",
      "438/438 [==============================] - 5s 11ms/step - loss: 1.4347 - accuracy: 0.4775 - val_loss: 1.5376 - val_accuracy: 0.4580\n"
     ]
    },
    {
     "data": {
      "text/plain": [
       "<keras.callbacks.History at 0x7f2e80612190>"
      ]
     },
     "execution_count": 28,
     "metadata": {},
     "output_type": "execute_result"
    }
   ],
   "source": [
    "# Fit feature extractor model for 3 epochs\n",
    "model_2.fit(train_dataset,\n",
    "            steps_per_epoch=int(len(train_dataset)),\n",
    "            epochs=3,\n",
    "            validation_data=valid_dataset,\n",
    "            validation_steps=int(len(valid_dataset)))"
   ]
  },
  {
   "cell_type": "code",
   "execution_count": 29,
   "metadata": {
    "colab": {
     "base_uri": "https://localhost:8080/"
    },
    "id": "k1jIbCpXCdKe",
    "outputId": "00a02405-69d0-4cf1-eb0b-9d9380ab2487"
   },
   "outputs": [
    {
     "data": {
      "text/plain": [
       "array([[0.03853206, 0.19867864, 0.01085741, ..., 0.02084739, 0.0126064 ,\n",
       "        0.09305403],\n",
       "       [0.05414039, 0.08543688, 0.05898725, ..., 0.33492014, 0.11734294,\n",
       "        0.124318  ],\n",
       "       [0.05036435, 0.04177938, 0.01777322, ..., 0.1116325 , 0.38502666,\n",
       "        0.07196869],\n",
       "       ...,\n",
       "       [0.79743457, 0.05824201, 0.01270586, ..., 0.0044113 , 0.00856827,\n",
       "        0.06074514],\n",
       "       [0.0630599 , 0.45517784, 0.01713153, ..., 0.0193417 , 0.29449823,\n",
       "        0.0867078 ],\n",
       "       [0.05906989, 0.35715607, 0.01876134, ..., 0.01033775, 0.06410109,\n",
       "        0.1122647 ]], dtype=float32)"
      ]
     },
     "execution_count": 29,
     "metadata": {},
     "output_type": "execute_result"
    }
   ],
   "source": [
    "# Make predictions with feature extraction model\n",
    "model_2_pred_probs = model_2.predict(valid_dataset)\n",
    "model_2_pred_probs"
   ]
  },
  {
   "cell_type": "code",
   "execution_count": 30,
   "metadata": {
    "colab": {
     "base_uri": "https://localhost:8080/"
    },
    "id": "Y1J2oFhPChMd",
    "outputId": "25010ba7-f19c-41c0-dd10-19284a8906d7"
   },
   "outputs": [
    {
     "data": {
      "text/plain": [
       "<tf.Tensor: shape=(1000,), dtype=int64, numpy=\n",
       "array([4, 6, 7, 1, 7, 3, 1, 1, 6, 5, 8, 5, 1, 8, 2, 8, 8, 1, 1, 1, 5, 5,\n",
       "       1, 1, 1, 7, 5, 4, 2, 2, 2, 7, 8, 2, 4, 6, 4, 5, 8, 2, 6, 5, 1, 1,\n",
       "       2, 8, 2, 7, 5, 1, 1, 2, 5, 5, 6, 1, 2, 6, 2, 6, 1, 2, 3, 8, 3, 1,\n",
       "       8, 8, 4, 8, 7, 8, 6, 4, 7, 2, 4, 6, 2, 2, 2, 1, 5, 6, 4, 1, 1, 1,\n",
       "       2, 8, 2, 8, 4, 2, 8, 1, 4, 1, 6, 8, 1, 1, 3, 1, 6, 1, 1, 7, 7, 7,\n",
       "       8, 8, 1, 2, 1, 5, 5, 5, 4, 1, 2, 3, 2, 4, 7, 2, 1, 5, 7, 1, 5, 6,\n",
       "       2, 2, 8, 1, 1, 1, 1, 2, 5, 2, 1, 1, 2, 8, 8, 6, 1, 6, 8, 8, 5, 1,\n",
       "       1, 2, 7, 1, 5, 6, 6, 2, 1, 1, 4, 8, 1, 5, 3, 7, 2, 2, 7, 1, 1, 1,\n",
       "       2, 6, 3, 6, 2, 5, 7, 3, 4, 8, 5, 5, 8, 5, 4, 2, 6, 4, 5, 8, 1, 7,\n",
       "       1, 8, 1, 1, 1, 7, 1, 1, 8, 1, 2, 6, 8, 1, 2, 8, 5, 1, 2, 2, 1, 1,\n",
       "       2, 2, 5, 1, 2, 2, 8, 1, 8, 2, 2, 4, 2, 1, 2, 5, 6, 7, 1, 3, 4, 1,\n",
       "       3, 1, 2, 1, 3, 5, 8, 1, 2, 6, 7, 6, 1, 4, 6, 5, 5, 1, 2, 8, 1, 4,\n",
       "       3, 6, 4, 8, 2, 8, 1, 6, 2, 2, 2, 7, 1, 2, 8, 8, 1, 1, 1, 1, 2, 8,\n",
       "       1, 8, 1, 1, 1, 3, 1, 4, 6, 7, 5, 8, 3, 4, 2, 2, 2, 3, 8, 5, 3, 2,\n",
       "       2, 1, 7, 1, 1, 6, 1, 5, 8, 2, 3, 4, 2, 7, 1, 2, 7, 7, 8, 6, 1, 2,\n",
       "       7, 1, 8, 2, 1, 2, 3, 1, 6, 7, 8, 2, 8, 1, 7, 8, 2, 2, 1, 2, 1, 1,\n",
       "       5, 8, 5, 1, 5, 4, 6, 4, 2, 8, 2, 8, 3, 1, 7, 2, 2, 3, 1, 5, 2, 2,\n",
       "       1, 2, 6, 5, 1, 2, 2, 1, 2, 2, 7, 4, 1, 6, 1, 2, 4, 1, 5, 1, 2, 1,\n",
       "       2, 1, 1, 8, 6, 1, 1, 1, 1, 1, 8, 2, 6, 4, 8, 4, 5, 1, 1, 3, 4, 1,\n",
       "       7, 6, 1, 1, 6, 1, 8, 2, 5, 1, 6, 2, 4, 5, 1, 5, 2, 4, 1, 5, 8, 2,\n",
       "       8, 7, 1, 1, 4, 2, 1, 1, 8, 5, 6, 3, 6, 1, 1, 7, 8, 5, 6, 8, 1, 1,\n",
       "       3, 5, 8, 6, 2, 8, 1, 1, 1, 6, 1, 1, 8, 5, 2, 4, 7, 2, 8, 2, 1, 5,\n",
       "       1, 4, 6, 1, 5, 7, 2, 1, 1, 1, 4, 8, 1, 5, 2, 5, 1, 8, 1, 1, 8, 2,\n",
       "       7, 1, 1, 4, 2, 8, 2, 4, 5, 8, 2, 2, 8, 4, 4, 2, 4, 6, 7, 5, 1, 1,\n",
       "       8, 7, 5, 1, 1, 1, 6, 8, 6, 2, 1, 3, 4, 2, 1, 1, 2, 3, 4, 6, 1, 3,\n",
       "       2, 2, 8, 1, 5, 3, 2, 2, 1, 1, 2, 1, 8, 3, 1, 6, 1, 1, 8, 2, 1, 1,\n",
       "       5, 8, 1, 3, 6, 1, 6, 8, 1, 1, 1, 1, 3, 1, 2, 6, 1, 6, 1, 1, 8, 3,\n",
       "       1, 2, 8, 7, 2, 7, 2, 2, 7, 1, 2, 3, 8, 1, 1, 6, 5, 4, 1, 2, 5, 2,\n",
       "       1, 1, 5, 1, 8, 1, 5, 8, 1, 2, 8, 3, 2, 2, 6, 1, 2, 6, 1, 1, 8, 2,\n",
       "       7, 1, 1, 7, 7, 8, 5, 8, 4, 8, 7, 6, 8, 2, 8, 8, 8, 5, 1, 6, 7, 1,\n",
       "       1, 3, 5, 1, 1, 6, 1, 7, 8, 1, 4, 2, 6, 4, 2, 6, 1, 2, 2, 8, 4, 1,\n",
       "       5, 2, 2, 2, 6, 1, 2, 8, 1, 4, 2, 2, 1, 8, 2, 1, 1, 8, 2, 1, 3, 2,\n",
       "       2, 8, 1, 5, 1, 1, 1, 1, 3, 4, 6, 1, 8, 1, 1, 2, 6, 7, 1, 1, 4, 2,\n",
       "       1, 5, 1, 1, 4, 1, 8, 1, 2, 1, 6, 4, 2, 7, 2, 1, 1, 2, 2, 2, 1, 5,\n",
       "       5, 2, 2, 2, 8, 7, 1, 8, 3, 2, 1, 2, 6, 4, 8, 1, 1, 2, 5, 6, 2, 2,\n",
       "       4, 4, 6, 2, 2, 8, 5, 8, 7, 3, 1, 1, 1, 3, 1, 2, 1, 2, 3, 2, 5, 6,\n",
       "       3, 1, 4, 1, 2, 6, 2, 7, 6, 4, 5, 1, 8, 4, 7, 2, 8, 7, 4, 1, 3, 4,\n",
       "       1, 8, 5, 2, 3, 2, 8, 6, 1, 1, 1, 4, 1, 4, 8, 3, 4, 7, 2, 1, 8, 5,\n",
       "       1, 6, 8, 8, 1, 5, 6, 2, 8, 7, 5, 2, 1, 7, 2, 2, 6, 1, 5, 6, 2, 2,\n",
       "       7, 8, 2, 8, 4, 2, 2, 2, 1, 1, 8, 5, 1, 4, 1, 1, 6, 2, 1, 7, 7, 8,\n",
       "       6, 2, 1, 6, 6, 6, 2, 1, 5, 8, 1, 1, 2, 2, 6, 1, 1, 3, 8, 1, 1, 6,\n",
       "       6, 1, 1, 1, 7, 6, 1, 8, 1, 1, 5, 5, 4, 1, 2, 2, 2, 7, 1, 5, 5, 2,\n",
       "       1, 1, 4, 5, 1, 2, 6, 2, 3, 3, 2, 8, 5, 1, 3, 1, 1, 1, 1, 3, 4, 1,\n",
       "       7, 2, 4, 2, 5, 1, 8, 1, 2, 1, 1, 3, 4, 1, 1, 4, 1, 1, 1, 1, 1, 8,\n",
       "       1, 2, 1, 5, 8, 4, 5, 2, 6, 3, 2, 6, 8, 1, 2, 5, 3, 8, 8, 7, 2, 1,\n",
       "       8, 5, 1, 3, 1, 8, 3, 1, 2, 4])>"
      ]
     },
     "execution_count": 30,
     "metadata": {},
     "output_type": "execute_result"
    }
   ],
   "source": [
    "# Convert the predictions with feature extraction model to classes\n",
    "model_2_preds = tf.argmax(model_2_pred_probs, axis=1) + 1\n",
    "model_2_preds"
   ]
  },
  {
   "cell_type": "code",
   "execution_count": 31,
   "metadata": {
    "colab": {
     "base_uri": "https://localhost:8080/"
    },
    "id": "BZlj4jYgClhF",
    "outputId": "652512ec-2c08-46b6-f566-e8bcff68d95b"
   },
   "outputs": [
    {
     "data": {
      "text/plain": [
       "{'accuracy': 45.800000000000004,\n",
       " 'f1': 0.45042331151252785,\n",
       " 'precision': 0.45843485506930065,\n",
       " 'recall': 0.458}"
      ]
     },
     "execution_count": 31,
     "metadata": {},
     "output_type": "execute_result"
    }
   ],
   "source": [
    "# Calculate results from TF Hub pretrained embeddings results on validation set\n",
    "model_2_results = calculate_results(y_true=val_labels,\n",
    "                                    y_pred=model_2_preds)\n",
    "model_2_results"
   ]
  },
  {
   "cell_type": "markdown",
   "metadata": {
    "id": "01Wqr5MdCljD"
   },
   "source": [
    "#### Model 3 - Conv1D with character embeddings"
   ]
  },
  {
   "cell_type": "code",
   "execution_count": 32,
   "metadata": {
    "colab": {
     "base_uri": "https://localhost:8080/"
    },
    "id": "s9_o4HWMcXVm",
    "outputId": "3a65c7be-7183-47ed-c5aa-3300c743db41"
   },
   "outputs": [
    {
     "name": "stdout",
     "output_type": "stream",
     "text": [
      "I ' m   t o o   o l d   t o   b e   t r a d e d   i n   .\n"
     ]
    }
   ],
   "source": [
    "# Make function to split sentences into characters\n",
    "def split_chars(text):\n",
    "  return \" \".join(list(text))\n",
    "\n",
    "# Split sequence-level data splits into character-level data splits\n",
    "train_chars = [split_chars(sentence) for sentence in train_sentences]\n",
    "val_chars = [split_chars(sentence) for sentence in val_sentences]\n",
    "\n",
    "print(train_chars[0])"
   ]
  },
  {
   "cell_type": "code",
   "execution_count": 33,
   "metadata": {
    "colab": {
     "base_uri": "https://localhost:8080/"
    },
    "id": "l2O0_Ipgchu3",
    "outputId": "d587431f-c1b8-4aba-db08-d683b7501816"
   },
   "outputs": [
    {
     "data": {
      "text/plain": [
       "39.99371428571428"
      ]
     },
     "execution_count": 33,
     "metadata": {},
     "output_type": "execute_result"
    }
   ],
   "source": [
    "# Average character length\n",
    "char_lens = [len(sentence) for sentence in train_sentences]\n",
    "mean_char_len = np.mean(char_lens)\n",
    "mean_char_len"
   ]
  },
  {
   "cell_type": "code",
   "execution_count": 34,
   "metadata": {
    "colab": {
     "base_uri": "https://localhost:8080/"
    },
    "id": "2-dLPYEgcrZK",
    "outputId": "754fb278-458d-499b-b973-05260570ca36"
   },
   "outputs": [
    {
     "data": {
      "text/plain": [
       "86"
      ]
     },
     "execution_count": 34,
     "metadata": {},
     "output_type": "execute_result"
    }
   ],
   "source": [
    "# Find what character length covers 95% of sequences\n",
    "output_seq_char_len = int(np.percentile(char_lens, 95))\n",
    "output_seq_char_len"
   ]
  },
  {
   "cell_type": "code",
   "execution_count": 35,
   "metadata": {
    "colab": {
     "base_uri": "https://localhost:8080/",
     "height": 0
    },
    "id": "SQMkxEqcct74",
    "outputId": "6b7713b2-6164-4ffb-f833-92cb61a52f40"
   },
   "outputs": [
    {
     "data": {
      "application/vnd.google.colaboratory.intrinsic+json": {
       "type": "string"
      },
      "text/plain": [
       "'abcdefghijklmnopqrstuvwxyz0123456789!\"#$%&\\'()*+,-./:;<=>?@[\\\\]^_`{|}~'"
      ]
     },
     "execution_count": 35,
     "metadata": {},
     "output_type": "execute_result"
    }
   ],
   "source": [
    "# Get all keyboard characters for char-level embedding\n",
    "import string\n",
    "alphabet = string.ascii_lowercase + string.digits + string.punctuation\n",
    "alphabet"
   ]
  },
  {
   "cell_type": "code",
   "execution_count": 36,
   "metadata": {
    "id": "suaUoMGPc_AZ"
   },
   "outputs": [],
   "source": [
    "# Create char-level token vectorizer instance\n",
    "NUM_CHAR_TOKENS = len(alphabet) + 2 # num characters in alphabet + space + OOV token\n",
    "char_vectorizer = TextVectorization(max_tokens=NUM_CHAR_TOKENS,  \n",
    "                                    output_sequence_length=output_seq_char_len,\n",
    "                                    standardize=\"lower_and_strip_punctuation\",\n",
    "                                    name=\"char_vectorizer\")\n",
    "\n",
    "# Adapt character vectorizer to training characters\n",
    "char_vectorizer.adapt(train_chars)"
   ]
  },
  {
   "cell_type": "code",
   "execution_count": 37,
   "metadata": {
    "colab": {
     "base_uri": "https://localhost:8080/"
    },
    "id": "hyIz22f8dDaK",
    "outputId": "5c342f15-1a3a-4ea4-f140-c6bf14071373"
   },
   "outputs": [
    {
     "name": "stdout",
     "output_type": "stream",
     "text": [
      "Number of different characters in character vocab: 45\n"
     ]
    }
   ],
   "source": [
    "# Check character vocabulary characteristics\n",
    "char_vocab = char_vectorizer.get_vocabulary()\n",
    "print(f\"Number of different characters in character vocab: {len(char_vocab)}\")"
   ]
  },
  {
   "cell_type": "code",
   "execution_count": 38,
   "metadata": {
    "id": "ZdXAVdvwdMk7"
   },
   "outputs": [],
   "source": [
    "# Create char embedding layer\n",
    "char_embed = layers.Embedding(input_dim=NUM_CHAR_TOKENS, # number of different characters\n",
    "                              output_dim=25, # embedding dimension of each character (same as Figure 1 in https://arxiv.org/pdf/1612.05251.pdf)\n",
    "                              mask_zero=False, \n",
    "                              name=\"char_embed\")"
   ]
  },
  {
   "cell_type": "code",
   "execution_count": 39,
   "metadata": {
    "colab": {
     "base_uri": "https://localhost:8080/"
    },
    "id": "n7U4nsDzdP_R",
    "outputId": "7e87cd78-cd58-42df-b594-f7fd26858364"
   },
   "outputs": [
    {
     "name": "stdout",
     "output_type": "stream",
     "text": [
      "Model: \"model_3_conv1D_char_embedding\"\n",
      "_________________________________________________________________\n",
      " Layer (type)                Output Shape              Param #   \n",
      "=================================================================\n",
      " input_3 (InputLayer)        [(None, 1)]               0         \n",
      "                                                                 \n",
      " char_vectorizer (TextVector  (None, 86)               0         \n",
      " ization)                                                        \n",
      "                                                                 \n",
      " char_embed (Embedding)      (None, 86, 25)            1750      \n",
      "                                                                 \n",
      " conv1d_1 (Conv1D)           (None, 86, 64)            8064      \n",
      "                                                                 \n",
      " global_max_pooling1d (Globa  (None, 64)               0         \n",
      " lMaxPooling1D)                                                  \n",
      "                                                                 \n",
      " dense_4 (Dense)             (None, 8)                 520       \n",
      "                                                                 \n",
      "=================================================================\n",
      "Total params: 10,334\n",
      "Trainable params: 10,334\n",
      "Non-trainable params: 0\n",
      "_________________________________________________________________\n"
     ]
    }
   ],
   "source": [
    "# Make Conv1D on chars only\n",
    "inputs = layers.Input(shape=(1,), dtype=\"string\")\n",
    "char_vectors = char_vectorizer(inputs)\n",
    "char_embeddings = char_embed(char_vectors)\n",
    "x = layers.Conv1D(64, kernel_size=5, padding=\"same\", activation=\"relu\")(char_embeddings)\n",
    "x = layers.GlobalMaxPool1D()(x)\n",
    "outputs = layers.Dense(8, activation=\"softmax\")(x)\n",
    "model_3 = tf.keras.Model(inputs=inputs,\n",
    "                         outputs=outputs,\n",
    "                         name=\"model_3_conv1D_char_embedding\")\n",
    "\n",
    "# Compile model\n",
    "model_3.compile(loss=\"categorical_crossentropy\",\n",
    "                optimizer=tf.keras.optimizers.Adam(),\n",
    "                metrics=[\"accuracy\"])\n",
    "\n",
    "# Check the summary of conv1d_char_model\n",
    "model_3.summary()"
   ]
  },
  {
   "cell_type": "code",
   "execution_count": 40,
   "metadata": {
    "colab": {
     "base_uri": "https://localhost:8080/"
    },
    "id": "0A5c4H1FdVhD",
    "outputId": "d32befa5-bd38-4671-8940-16450f39eafb"
   },
   "outputs": [
    {
     "data": {
      "text/plain": [
       "<PrefetchDataset element_spec=(TensorSpec(shape=(None,), dtype=tf.string, name=None), TensorSpec(shape=(None, 8), dtype=tf.float64, name=None))>"
      ]
     },
     "execution_count": 40,
     "metadata": {},
     "output_type": "execute_result"
    }
   ],
   "source": [
    "# Create char datasets\n",
    "train_char_dataset = tf.data.Dataset.from_tensor_slices((train_chars, train_labels_one_hot)).batch(32).prefetch(tf.data.AUTOTUNE)\n",
    "val_char_dataset = tf.data.Dataset.from_tensor_slices((val_chars, val_labels_one_hot)).batch(32).prefetch(tf.data.AUTOTUNE)\n",
    "\n",
    "train_char_dataset"
   ]
  },
  {
   "cell_type": "code",
   "execution_count": 41,
   "metadata": {
    "colab": {
     "base_uri": "https://localhost:8080/"
    },
    "id": "fb0Vg6tmdd2x",
    "outputId": "de7fb9b6-dd25-4dea-c96c-fcc73150872b"
   },
   "outputs": [
    {
     "name": "stdout",
     "output_type": "stream",
     "text": [
      "Epoch 1/3\n",
      "438/438 [==============================] - 3s 5ms/step - loss: 2.0176 - accuracy: 0.2154 - val_loss: 1.9921 - val_accuracy: 0.2240\n",
      "Epoch 2/3\n",
      "438/438 [==============================] - 2s 5ms/step - loss: 1.9677 - accuracy: 0.2426 - val_loss: 1.9395 - val_accuracy: 0.2670\n",
      "Epoch 3/3\n",
      "438/438 [==============================] - 2s 5ms/step - loss: 1.9031 - accuracy: 0.2780 - val_loss: 1.9017 - val_accuracy: 0.2800\n"
     ]
    }
   ],
   "source": [
    "# Fit the model on chars only\n",
    "model_3_history = model_3.fit(train_char_dataset,\n",
    "                              steps_per_epoch=int(len(train_char_dataset)),\n",
    "                              epochs=3,\n",
    "                              validation_data=val_char_dataset,\n",
    "                              validation_steps=int(len(val_char_dataset)))"
   ]
  },
  {
   "cell_type": "code",
   "execution_count": 42,
   "metadata": {
    "colab": {
     "base_uri": "https://localhost:8080/"
    },
    "id": "b38nBLevdr-2",
    "outputId": "691fbdcd-7909-4b04-e10a-73ee03ae5c6d"
   },
   "outputs": [
    {
     "data": {
      "text/plain": [
       "array([[0.34880123, 0.10423933, 0.11662428, ..., 0.08956998, 0.08964644,\n",
       "        0.09542986],\n",
       "       [0.12320825, 0.1378548 , 0.1125724 , ..., 0.15527251, 0.04789127,\n",
       "        0.11088578],\n",
       "       [0.2989727 , 0.05116589, 0.1620101 , ..., 0.11757448, 0.06966659,\n",
       "        0.11478056],\n",
       "       ...,\n",
       "       [0.44052467, 0.17031944, 0.05085824, ..., 0.05303805, 0.05474152,\n",
       "        0.09234633],\n",
       "       [0.20139845, 0.18251647, 0.09899014, ..., 0.07076918, 0.06078338,\n",
       "        0.18656822],\n",
       "       [0.20576257, 0.24129811, 0.0916743 , ..., 0.07533367, 0.04689684,\n",
       "        0.20915681]], dtype=float32)"
      ]
     },
     "execution_count": 42,
     "metadata": {},
     "output_type": "execute_result"
    }
   ],
   "source": [
    "# Make predictions with character model only\n",
    "model_3_pred_probs = model_3.predict(val_char_dataset)\n",
    "model_3_pred_probs"
   ]
  },
  {
   "cell_type": "code",
   "execution_count": 43,
   "metadata": {
    "colab": {
     "base_uri": "https://localhost:8080/"
    },
    "id": "g9n-V5qtdtrN",
    "outputId": "989c710b-f386-44e5-82c3-23cfc29e459d"
   },
   "outputs": [
    {
     "data": {
      "text/plain": [
       "<tf.Tensor: shape=(1000,), dtype=int64, numpy=\n",
       "array([1, 5, 1, 1, 1, 1, 8, 1, 4, 1, 8, 1, 1, 5, 2, 2, 1, 1, 1, 1, 5, 5,\n",
       "       1, 1, 1, 2, 5, 1, 2, 2, 1, 1, 8, 2, 1, 6, 2, 2, 8, 2, 2, 1, 1, 1,\n",
       "       2, 8, 1, 1, 1, 1, 4, 1, 2, 8, 8, 2, 4, 8, 8, 1, 2, 6, 3, 8, 2, 2,\n",
       "       1, 2, 1, 1, 1, 2, 6, 2, 1, 1, 8, 2, 1, 1, 1, 1, 8, 1, 1, 1, 8, 1,\n",
       "       1, 2, 5, 1, 1, 1, 8, 1, 1, 1, 1, 6, 1, 8, 3, 1, 8, 2, 1, 8, 8, 8,\n",
       "       8, 8, 1, 1, 1, 2, 5, 5, 6, 1, 1, 6, 2, 5, 1, 2, 1, 2, 1, 1, 2, 2,\n",
       "       1, 1, 8, 1, 1, 2, 1, 2, 5, 2, 1, 1, 1, 8, 8, 1, 1, 3, 1, 8, 4, 1,\n",
       "       1, 1, 3, 8, 6, 1, 6, 2, 1, 1, 1, 1, 4, 8, 2, 1, 2, 2, 2, 8, 1, 1,\n",
       "       2, 1, 2, 5, 2, 8, 8, 1, 1, 8, 2, 5, 1, 4, 2, 6, 2, 2, 5, 8, 1, 2,\n",
       "       1, 8, 1, 1, 1, 1, 1, 2, 1, 2, 8, 4, 8, 1, 5, 1, 4, 1, 1, 4, 1, 1,\n",
       "       2, 1, 1, 1, 2, 2, 8, 2, 1, 1, 2, 2, 1, 1, 1, 2, 1, 2, 1, 1, 1, 1,\n",
       "       1, 2, 2, 2, 1, 5, 8, 8, 1, 5, 2, 1, 1, 5, 1, 2, 2, 1, 2, 1, 1, 2,\n",
       "       5, 1, 4, 1, 2, 1, 1, 1, 2, 1, 2, 6, 1, 2, 2, 2, 2, 1, 6, 1, 1, 8,\n",
       "       1, 8, 8, 8, 1, 1, 2, 2, 1, 1, 1, 2, 2, 5, 2, 2, 2, 1, 6, 8, 8, 2,\n",
       "       8, 8, 1, 1, 1, 6, 2, 5, 2, 1, 1, 1, 1, 1, 1, 8, 1, 2, 5, 2, 1, 8,\n",
       "       8, 8, 5, 1, 1, 2, 1, 2, 1, 1, 8, 2, 5, 1, 1, 8, 2, 1, 8, 2, 1, 5,\n",
       "       8, 1, 2, 1, 8, 2, 1, 2, 1, 8, 1, 1, 1, 8, 2, 1, 1, 1, 1, 5, 1, 1,\n",
       "       3, 2, 6, 1, 1, 1, 1, 1, 2, 1, 1, 8, 1, 1, 1, 1, 8, 1, 2, 2, 2, 2,\n",
       "       2, 1, 1, 1, 8, 1, 1, 1, 8, 5, 7, 2, 1, 3, 2, 8, 1, 2, 2, 2, 8, 1,\n",
       "       8, 5, 1, 1, 1, 1, 2, 1, 8, 1, 5, 1, 1, 5, 2, 6, 2, 8, 6, 8, 8, 2,\n",
       "       8, 5, 2, 2, 1, 1, 1, 1, 1, 8, 1, 1, 1, 1, 1, 2, 1, 2, 8, 2, 1, 1,\n",
       "       1, 2, 8, 8, 8, 5, 1, 1, 2, 1, 1, 1, 8, 6, 2, 8, 8, 1, 8, 3, 1, 2,\n",
       "       1, 2, 3, 2, 4, 1, 8, 1, 1, 8, 2, 2, 5, 8, 2, 1, 1, 2, 2, 1, 1, 1,\n",
       "       2, 1, 1, 6, 2, 1, 2, 2, 2, 1, 2, 8, 2, 1, 1, 2, 1, 2, 1, 1, 1, 1,\n",
       "       6, 1, 2, 2, 1, 1, 1, 8, 2, 2, 1, 1, 1, 8, 2, 1, 1, 4, 2, 2, 1, 1,\n",
       "       1, 1, 2, 2, 1, 8, 2, 6, 1, 2, 2, 1, 1, 1, 1, 8, 1, 2, 5, 1, 5, 1,\n",
       "       2, 1, 4, 1, 1, 1, 2, 5, 2, 1, 1, 8, 2, 1, 8, 1, 1, 5, 1, 1, 8, 5,\n",
       "       1, 2, 5, 1, 8, 1, 8, 1, 2, 2, 1, 1, 8, 1, 1, 8, 8, 1, 1, 2, 5, 1,\n",
       "       1, 1, 1, 6, 1, 1, 8, 1, 1, 2, 2, 1, 1, 5, 1, 8, 1, 2, 1, 1, 1, 2,\n",
       "       1, 8, 1, 1, 1, 1, 5, 1, 1, 1, 1, 6, 8, 1, 8, 1, 8, 5, 3, 2, 1, 8,\n",
       "       1, 3, 2, 1, 8, 1, 1, 1, 2, 1, 8, 2, 2, 1, 2, 6, 1, 2, 2, 5, 2, 8,\n",
       "       5, 1, 8, 5, 2, 2, 8, 8, 8, 1, 1, 1, 1, 2, 1, 1, 1, 2, 8, 1, 2, 1,\n",
       "       5, 8, 8, 8, 5, 2, 1, 1, 2, 1, 1, 1, 1, 1, 8, 1, 1, 1, 8, 1, 1, 1,\n",
       "       6, 1, 1, 1, 1, 2, 2, 2, 1, 8, 6, 1, 2, 2, 2, 1, 1, 1, 4, 8, 8, 5,\n",
       "       5, 1, 1, 1, 1, 1, 2, 8, 1, 1, 1, 1, 2, 1, 1, 1, 1, 2, 8, 2, 8, 2,\n",
       "       4, 1, 1, 5, 4, 8, 2, 1, 8, 2, 1, 1, 1, 1, 8, 1, 1, 2, 8, 1, 1, 1,\n",
       "       1, 1, 4, 1, 1, 1, 2, 2, 1, 4, 5, 1, 2, 1, 1, 1, 1, 8, 4, 1, 1, 1,\n",
       "       1, 1, 1, 1, 1, 2, 4, 1, 5, 1, 2, 2, 2, 1, 1, 8, 1, 1, 8, 2, 8, 5,\n",
       "       8, 2, 1, 8, 1, 3, 1, 2, 1, 1, 1, 2, 2, 1, 2, 2, 6, 1, 8, 2, 1, 8,\n",
       "       1, 5, 8, 2, 2, 1, 8, 5, 5, 1, 8, 5, 1, 1, 2, 1, 1, 1, 1, 1, 8, 2,\n",
       "       5, 8, 1, 3, 3, 2, 1, 1, 5, 8, 1, 4, 1, 1, 1, 1, 1, 1, 8, 1, 1, 1,\n",
       "       1, 8, 1, 1, 2, 2, 1, 2, 1, 1, 1, 1, 1, 1, 1, 5, 8, 1, 2, 2, 5, 2,\n",
       "       1, 1, 2, 6, 1, 2, 1, 1, 1, 1, 1, 6, 2, 1, 1, 8, 2, 2, 1, 1, 6, 2,\n",
       "       2, 2, 5, 1, 5, 1, 1, 8, 1, 1, 6, 1, 2, 1, 1, 1, 2, 1, 1, 1, 1, 2,\n",
       "       1, 1, 1, 5, 2, 5, 5, 2, 8, 2, 1, 1, 8, 1, 2, 5, 1, 8, 1, 1, 8, 1,\n",
       "       8, 5, 2, 1, 1, 1, 1, 1, 1, 2])>"
      ]
     },
     "execution_count": 43,
     "metadata": {},
     "output_type": "execute_result"
    }
   ],
   "source": [
    "# Convert predictions to classes\n",
    "model_3_preds = tf.argmax(model_3_pred_probs, axis=1) + 1\n",
    "model_3_preds"
   ]
  },
  {
   "cell_type": "code",
   "execution_count": 44,
   "metadata": {
    "colab": {
     "base_uri": "https://localhost:8080/"
    },
    "id": "owE_vEjCdyWT",
    "outputId": "3da83604-3cc1-4c29-ef25-f943427d4398"
   },
   "outputs": [
    {
     "data": {
      "text/plain": [
       "{'accuracy': 28.000000000000004,\n",
       " 'f1': 0.2366193186557883,\n",
       " 'precision': 0.2656139557732325,\n",
       " 'recall': 0.28}"
      ]
     },
     "execution_count": 44,
     "metadata": {},
     "output_type": "execute_result"
    }
   ],
   "source": [
    "# Calculate Conv1D char only model results\n",
    "model_3_results = calculate_results(y_true=val_labels,\n",
    "                                        y_pred=model_3_preds)\n",
    "model_3_results"
   ]
  },
  {
   "cell_type": "markdown",
   "metadata": {
    "id": "KEVF8ymld4ba"
   },
   "source": [
    "#### Model 4: Combining pretrained token embeddings + character embeddings \n",
    "(hybrid embedding layer)"
   ]
  },
  {
   "cell_type": "code",
   "execution_count": 45,
   "metadata": {
    "colab": {
     "base_uri": "https://localhost:8080/"
    },
    "id": "A3BvQqBxd3TD",
    "outputId": "18f3aacd-1d28-4e77-8c34-64256a1ef42a"
   },
   "outputs": [
    {
     "name": "stdout",
     "output_type": "stream",
     "text": [
      "Model: \"model_4_token_and_char_embeddings\"\n",
      "__________________________________________________________________________________________________\n",
      " Layer (type)                   Output Shape         Param #     Connected to                     \n",
      "==================================================================================================\n",
      " char_input (InputLayer)        [(None, 1)]          0           []                               \n",
      "                                                                                                  \n",
      " token_input (InputLayer)       [(None,)]            0           []                               \n",
      "                                                                                                  \n",
      " char_vectorizer (TextVectoriza  (None, 86)          0           ['char_input[0][0]']             \n",
      " tion)                                                                                            \n",
      "                                                                                                  \n",
      " universal_sentence_encoder (Ke  (None, 512)         256797824   ['token_input[0][0]']            \n",
      " rasLayer)                                                                                        \n",
      "                                                                                                  \n",
      " char_embed (Embedding)         (None, 86, 25)       1750        ['char_vectorizer[1][0]']        \n",
      "                                                                                                  \n",
      " dense_5 (Dense)                (None, 128)          65664       ['universal_sentence_encoder[1][0\n",
      "                                                                 ]']                              \n",
      "                                                                                                  \n",
      " bidirectional (Bidirectional)  (None, 50)           10200       ['char_embed[1][0]']             \n",
      "                                                                                                  \n",
      " token_char_hybrid (Concatenate  (None, 178)         0           ['dense_5[0][0]',                \n",
      " )                                                                'bidirectional[0][0]']          \n",
      "                                                                                                  \n",
      " dropout (Dropout)              (None, 178)          0           ['token_char_hybrid[0][0]']      \n",
      "                                                                                                  \n",
      " dense_6 (Dense)                (None, 200)          35800       ['dropout[0][0]']                \n",
      "                                                                                                  \n",
      " dropout_1 (Dropout)            (None, 200)          0           ['dense_6[0][0]']                \n",
      "                                                                                                  \n",
      " dense_7 (Dense)                (None, 8)            1608        ['dropout_1[0][0]']              \n",
      "                                                                                                  \n",
      "==================================================================================================\n",
      "Total params: 256,912,846\n",
      "Trainable params: 115,022\n",
      "Non-trainable params: 256,797,824\n",
      "__________________________________________________________________________________________________\n"
     ]
    }
   ],
   "source": [
    "# 1. Setup token inputs/model\n",
    "token_inputs = layers.Input(shape=[], dtype=tf.string, name=\"token_input\")\n",
    "token_embeddings = tf_hub_embedding_layer(token_inputs)\n",
    "token_output = layers.Dense(128, activation=\"relu\")(token_embeddings)\n",
    "token_model = tf.keras.Model(inputs=token_inputs,\n",
    "                             outputs=token_output)\n",
    "\n",
    "# 2. Setup char inputs/model\n",
    "char_inputs = layers.Input(shape=(1,), dtype=tf.string, name=\"char_input\")\n",
    "char_vectors = char_vectorizer(char_inputs)\n",
    "char_embeddings = char_embed(char_vectors)\n",
    "char_bi_lstm = layers.Bidirectional(layers.LSTM(25))(char_embeddings) # bi-LSTM shown in Figure 1 of https://arxiv.org/pdf/1612.05251.pdf\n",
    "char_model = tf.keras.Model(inputs=char_inputs,\n",
    "                            outputs=char_bi_lstm)\n",
    "\n",
    "# 3. Concatenate token and char inputs (create hybrid token embedding)\n",
    "token_char_concat = layers.Concatenate(name=\"token_char_hybrid\")([token_model.output, \n",
    "                                                                  char_model.output])\n",
    "\n",
    "# 4. Create output layers - addition of dropout discussed in 4.2 of https://arxiv.org/pdf/1612.05251.pdf\n",
    "combined_dropout = layers.Dropout(0.5)(token_char_concat)\n",
    "combined_dense = layers.Dense(200, activation=\"relu\")(combined_dropout)\n",
    "final_dropout = layers.Dropout(0.5)(combined_dense)\n",
    "output_layer = layers.Dense(8, activation=\"softmax\")(final_dropout)\n",
    "\n",
    "# 5. Construct model with char and token inputs\n",
    "model_4 = tf.keras.Model(inputs=[token_model.input, char_model.input],\n",
    "                         outputs=output_layer,\n",
    "                         name=\"model_4_token_and_char_embeddings\")\n",
    "\n",
    "# Get summary of token and character model\n",
    "model_4.summary()"
   ]
  },
  {
   "cell_type": "code",
   "execution_count": 46,
   "metadata": {
    "colab": {
     "base_uri": "https://localhost:8080/",
     "height": 0
    },
    "id": "I5EHgglTeLax",
    "outputId": "d94fe14d-76f6-4c8c-f16a-4d64f1738ea6"
   },
   "outputs": [
    {
     "data": {
      "image/png": "[encoded data removed]",
      "text/plain": [
       "<IPython.core.display.Image object>"
      ]
     },
     "execution_count": 46,
     "metadata": {},
     "output_type": "execute_result"
    }
   ],
   "source": [
    "# Plot hybrid token and character model\n",
    "from tensorflow.keras.utils import plot_model\n",
    "plot_model(model_4)"
   ]
  },
  {
   "cell_type": "code",
   "execution_count": 47,
   "metadata": {
    "id": "E_RL-EI0eU0w"
   },
   "outputs": [],
   "source": [
    "# Compile token char model\n",
    "model_4.compile(loss=\"categorical_crossentropy\",\n",
    "                optimizer=tf.keras.optimizers.Adam(),\n",
    "                metrics=[\"accuracy\"])"
   ]
  },
  {
   "cell_type": "code",
   "execution_count": 48,
   "metadata": {
    "colab": {
     "base_uri": "https://localhost:8080/"
    },
    "id": "aJq5j2w3eY3P",
    "outputId": "824f8d56-18cb-427f-eec2-3c23a635eb8d"
   },
   "outputs": [
    {
     "data": {
      "text/plain": [
       "(<PrefetchDataset element_spec=((TensorSpec(shape=(None,), dtype=tf.string, name=None), TensorSpec(shape=(None,), dtype=tf.string, name=None)), TensorSpec(shape=(None, 8), dtype=tf.float64, name=None))>,\n",
       " <PrefetchDataset element_spec=((TensorSpec(shape=(None,), dtype=tf.string, name=None), TensorSpec(shape=(None,), dtype=tf.string, name=None)), TensorSpec(shape=(None, 8), dtype=tf.float64, name=None))>)"
      ]
     },
     "execution_count": 48,
     "metadata": {},
     "output_type": "execute_result"
    }
   ],
   "source": [
    "# Combine chars and tokens into a dataset\n",
    "train_char_token_data = tf.data.Dataset.from_tensor_slices((train_sentences, train_chars)) # make data\n",
    "train_char_token_labels = tf.data.Dataset.from_tensor_slices(train_labels_one_hot) # make labels\n",
    "train_char_token_dataset = tf.data.Dataset.zip((train_char_token_data, train_char_token_labels)) # combine data and labels\n",
    "\n",
    "# Prefetch and batch train data\n",
    "train_char_token_dataset = train_char_token_dataset.batch(32).prefetch(tf.data.AUTOTUNE) \n",
    "\n",
    "# Repeat same steps validation data\n",
    "val_char_token_data = tf.data.Dataset.from_tensor_slices((val_sentences, val_chars))\n",
    "val_char_token_labels = tf.data.Dataset.from_tensor_slices(val_labels_one_hot)\n",
    "val_char_token_dataset = tf.data.Dataset.zip((val_char_token_data, val_char_token_labels))\n",
    "val_char_token_dataset = val_char_token_dataset.batch(32).prefetch(tf.data.AUTOTUNE)\n",
    "\n",
    "# Check out training char and token embedding dataset\n",
    "train_char_token_dataset, val_char_token_dataset"
   ]
  },
  {
   "cell_type": "code",
   "execution_count": 49,
   "metadata": {
    "colab": {
     "base_uri": "https://localhost:8080/"
    },
    "id": "FCiLhRiKecLu",
    "outputId": "31e49a35-b6de-4d5d-c0fe-da98089acd64"
   },
   "outputs": [
    {
     "name": "stdout",
     "output_type": "stream",
     "text": [
      "Epoch 1/3\n",
      "438/438 [==============================] - 15s 23ms/step - loss: 1.7857 - accuracy: 0.3318 - val_loss: 1.5929 - val_accuracy: 0.4120\n",
      "Epoch 2/3\n",
      "438/438 [==============================] - 10s 22ms/step - loss: 1.5933 - accuracy: 0.4192 - val_loss: 1.5554 - val_accuracy: 0.4370\n",
      "Epoch 3/3\n",
      "438/438 [==============================] - 9s 20ms/step - loss: 1.5491 - accuracy: 0.4394 - val_loss: 1.5426 - val_accuracy: 0.4500\n"
     ]
    }
   ],
   "source": [
    "# Fit the model on tokens and chars\n",
    "model_4_history = model_4.fit(train_char_token_dataset, # train on dataset of token and characters\n",
    "                              steps_per_epoch=int(len(train_char_token_dataset)),\n",
    "                              epochs=3,\n",
    "                              validation_data=val_char_token_dataset,\n",
    "                              validation_steps=int(len(val_char_token_dataset)))"
   ]
  },
  {
   "cell_type": "code",
   "execution_count": 50,
   "metadata": {
    "colab": {
     "base_uri": "https://localhost:8080/"
    },
    "id": "1vSD2FyIeybW",
    "outputId": "db5c1811-8bc4-4537-e3ec-e31abae3ba24"
   },
   "outputs": [
    {
     "data": {
      "text/plain": [
       "array([[0.06968046, 0.3813433 , 0.02523266, ..., 0.04406763, 0.03456238,\n",
       "        0.1107709 ],\n",
       "       [0.10432386, 0.07985891, 0.11371843, ..., 0.3242596 , 0.07480898,\n",
       "        0.09957623],\n",
       "       [0.09906039, 0.10033116, 0.07441902, ..., 0.11722167, 0.25520954,\n",
       "        0.11440235],\n",
       "       ...,\n",
       "       [0.709944  , 0.09654384, 0.02760937, ..., 0.00994515, 0.02003605,\n",
       "        0.07326838],\n",
       "       [0.09560562, 0.45738244, 0.03090233, ..., 0.03250269, 0.1737997 ,\n",
       "        0.09705254],\n",
       "       [0.08394863, 0.48059803, 0.02485082, ..., 0.01734845, 0.09371851,\n",
       "        0.11052062]], dtype=float32)"
      ]
     },
     "execution_count": 50,
     "metadata": {},
     "output_type": "execute_result"
    }
   ],
   "source": [
    "# Make predictions using the token-character model hybrid\n",
    "model_4_pred_probs = model_4.predict(val_char_token_dataset)\n",
    "model_4_pred_probs"
   ]
  },
  {
   "cell_type": "code",
   "execution_count": 51,
   "metadata": {
    "colab": {
     "base_uri": "https://localhost:8080/"
    },
    "id": "O_kmMKVte0xx",
    "outputId": "2b9e57f1-e0ad-4a90-e065-2310faf3a912"
   },
   "outputs": [
    {
     "data": {
      "text/plain": [
       "<tf.Tensor: shape=(1000,), dtype=int64, numpy=\n",
       "array([2, 6, 7, 1, 7, 3, 1, 1, 6, 5, 8, 8, 1, 8, 2, 8, 8, 1, 1, 1, 5, 5,\n",
       "       1, 1, 1, 8, 5, 4, 2, 2, 2, 1, 8, 2, 4, 6, 4, 5, 8, 2, 6, 8, 1, 1,\n",
       "       2, 8, 2, 7, 5, 1, 2, 2, 5, 5, 6, 1, 2, 6, 2, 6, 1, 2, 3, 8, 3, 1,\n",
       "       8, 8, 4, 1, 7, 8, 6, 4, 2, 2, 4, 6, 2, 2, 2, 1, 5, 8, 4, 6, 1, 1,\n",
       "       1, 1, 2, 8, 4, 2, 8, 1, 4, 1, 6, 5, 1, 1, 3, 1, 6, 1, 1, 7, 7, 7,\n",
       "       8, 8, 1, 2, 1, 5, 5, 5, 4, 1, 2, 3, 2, 1, 7, 2, 1, 5, 7, 1, 5, 6,\n",
       "       8, 2, 8, 1, 1, 1, 1, 2, 5, 2, 1, 1, 8, 8, 8, 6, 1, 6, 8, 8, 5, 1,\n",
       "       1, 2, 6, 1, 5, 1, 6, 2, 2, 3, 3, 8, 1, 5, 6, 7, 2, 2, 7, 1, 1, 1,\n",
       "       2, 6, 3, 6, 2, 5, 7, 3, 4, 8, 5, 5, 8, 5, 2, 2, 6, 4, 5, 8, 1, 7,\n",
       "       1, 8, 1, 2, 1, 1, 1, 1, 8, 1, 2, 2, 5, 1, 2, 8, 5, 1, 2, 2, 1, 1,\n",
       "       2, 2, 5, 1, 2, 1, 8, 1, 8, 2, 2, 4, 2, 1, 2, 5, 6, 7, 1, 3, 4, 1,\n",
       "       3, 1, 2, 1, 3, 5, 8, 1, 1, 6, 7, 3, 1, 8, 6, 5, 5, 1, 2, 2, 1, 4,\n",
       "       3, 6, 4, 8, 2, 8, 1, 6, 2, 2, 2, 2, 1, 2, 8, 8, 1, 1, 1, 8, 2, 8,\n",
       "       1, 8, 8, 1, 1, 1, 1, 4, 6, 1, 5, 8, 3, 4, 2, 2, 2, 3, 8, 8, 3, 2,\n",
       "       2, 1, 2, 1, 1, 6, 1, 5, 8, 2, 3, 1, 2, 2, 8, 2, 6, 7, 8, 6, 1, 2,\n",
       "       7, 1, 8, 2, 1, 2, 3, 8, 6, 7, 8, 2, 8, 1, 7, 8, 4, 2, 7, 2, 1, 1,\n",
       "       5, 8, 5, 1, 5, 4, 6, 4, 1, 8, 2, 2, 3, 1, 7, 2, 2, 3, 1, 2, 2, 2,\n",
       "       1, 7, 6, 5, 1, 2, 2, 1, 2, 2, 7, 8, 1, 1, 1, 2, 6, 1, 5, 1, 2, 1,\n",
       "       2, 1, 1, 8, 6, 1, 1, 1, 1, 1, 8, 2, 6, 4, 8, 4, 5, 1, 1, 3, 4, 1,\n",
       "       7, 6, 1, 1, 6, 1, 8, 2, 5, 1, 6, 5, 4, 5, 1, 5, 2, 6, 1, 5, 8, 2,\n",
       "       8, 5, 1, 2, 4, 2, 1, 6, 1, 5, 6, 3, 6, 1, 1, 2, 5, 5, 6, 8, 3, 1,\n",
       "       3, 5, 8, 6, 2, 8, 1, 6, 4, 6, 1, 1, 8, 5, 2, 1, 1, 2, 8, 2, 1, 5,\n",
       "       1, 8, 6, 1, 5, 1, 2, 1, 1, 1, 4, 1, 1, 8, 2, 5, 1, 8, 1, 1, 5, 2,\n",
       "       7, 1, 1, 4, 2, 8, 2, 1, 5, 8, 2, 2, 8, 4, 6, 2, 4, 6, 7, 5, 1, 1,\n",
       "       8, 7, 5, 1, 1, 1, 6, 8, 6, 2, 1, 3, 1, 2, 3, 1, 2, 3, 4, 6, 1, 3,\n",
       "       2, 2, 8, 1, 5, 1, 2, 2, 1, 1, 2, 1, 8, 3, 1, 6, 1, 1, 8, 2, 3, 1,\n",
       "       5, 8, 1, 3, 6, 1, 6, 5, 3, 1, 1, 1, 3, 1, 2, 1, 1, 6, 1, 1, 8, 3,\n",
       "       1, 2, 8, 7, 2, 7, 2, 2, 7, 1, 2, 3, 8, 1, 1, 6, 5, 4, 1, 2, 5, 2,\n",
       "       1, 1, 5, 1, 8, 1, 8, 8, 1, 2, 8, 3, 2, 2, 6, 1, 5, 6, 1, 1, 1, 8,\n",
       "       7, 2, 1, 7, 1, 5, 5, 8, 4, 8, 2, 6, 8, 5, 8, 8, 8, 5, 1, 6, 7, 1,\n",
       "       1, 3, 5, 1, 1, 6, 1, 7, 8, 1, 6, 2, 8, 3, 2, 6, 1, 2, 5, 8, 4, 1,\n",
       "       5, 2, 2, 2, 6, 1, 2, 8, 1, 4, 5, 2, 1, 8, 2, 1, 1, 8, 2, 1, 3, 2,\n",
       "       2, 8, 1, 5, 1, 1, 1, 1, 4, 4, 6, 1, 8, 1, 1, 2, 6, 7, 1, 1, 6, 2,\n",
       "       1, 5, 2, 1, 2, 2, 8, 1, 7, 1, 6, 4, 2, 7, 2, 1, 1, 2, 2, 2, 1, 8,\n",
       "       5, 2, 2, 2, 8, 7, 1, 8, 3, 2, 1, 2, 6, 4, 8, 1, 1, 2, 5, 4, 8, 2,\n",
       "       4, 6, 6, 2, 2, 8, 5, 8, 7, 1, 1, 1, 3, 3, 1, 2, 1, 2, 3, 2, 5, 6,\n",
       "       3, 1, 4, 3, 2, 6, 2, 7, 3, 4, 5, 1, 8, 4, 7, 2, 8, 7, 4, 1, 1, 1,\n",
       "       7, 8, 5, 2, 3, 2, 8, 6, 6, 1, 1, 4, 1, 4, 8, 3, 4, 7, 2, 8, 8, 5,\n",
       "       8, 6, 8, 8, 1, 5, 2, 2, 8, 7, 5, 2, 1, 2, 2, 2, 6, 6, 5, 6, 7, 2,\n",
       "       7, 8, 2, 8, 4, 2, 2, 2, 8, 1, 8, 5, 1, 4, 1, 1, 6, 2, 1, 7, 7, 8,\n",
       "       4, 5, 1, 4, 6, 6, 2, 7, 5, 8, 1, 1, 2, 2, 6, 6, 1, 3, 8, 1, 1, 6,\n",
       "       6, 1, 1, 1, 7, 6, 1, 8, 1, 1, 5, 5, 4, 1, 2, 2, 2, 7, 8, 5, 5, 2,\n",
       "       1, 1, 4, 5, 1, 2, 6, 2, 3, 3, 7, 8, 2, 1, 3, 6, 1, 1, 1, 3, 1, 1,\n",
       "       7, 2, 4, 2, 5, 1, 8, 1, 2, 7, 1, 3, 4, 7, 1, 4, 1, 1, 1, 1, 1, 8,\n",
       "       1, 2, 1, 5, 8, 1, 5, 2, 6, 3, 2, 6, 8, 1, 2, 5, 5, 8, 8, 7, 3, 1,\n",
       "       8, 8, 1, 3, 1, 8, 3, 1, 2, 2])>"
      ]
     },
     "execution_count": 51,
     "metadata": {},
     "output_type": "execute_result"
    }
   ],
   "source": [
    "# Turn prediction probabilities into prediction classes\n",
    "model_4_preds = tf.argmax(model_4_pred_probs, axis=1) + 1\n",
    "model_4_preds"
   ]
  },
  {
   "cell_type": "code",
   "execution_count": 52,
   "metadata": {
    "colab": {
     "base_uri": "https://localhost:8080/"
    },
    "id": "IQiHvT_Ue42h",
    "outputId": "e305d5fd-14d5-45de-e75a-baf0e7b62ecc"
   },
   "outputs": [
    {
     "data": {
      "text/plain": [
       "{'accuracy': 45.0,\n",
       " 'f1': 0.4400265694394553,\n",
       " 'precision': 0.4492801468539967,\n",
       " 'recall': 0.45}"
      ]
     },
     "execution_count": 52,
     "metadata": {},
     "output_type": "execute_result"
    }
   ],
   "source": [
    "# Get results of token-char-hybrid model\n",
    "model_4_results = calculate_results(y_true=val_labels,\n",
    "                                    y_pred=model_4_preds)\n",
    "model_4_results"
   ]
  },
  {
   "cell_type": "markdown",
   "metadata": {
    "id": "pcitCiORgyd4"
   },
   "source": [
    "## Compare model results"
   ]
  },
  {
   "cell_type": "code",
   "execution_count": 53,
   "metadata": {
    "colab": {
     "base_uri": "https://localhost:8080/",
     "height": 175
    },
    "id": "Yr3LEUnSg0yb",
    "outputId": "b38a03d6-ef71-4b98-8096-27a1a99af8c8"
   },
   "outputs": [
    {
     "data": {
      "text/html": [
       "\n",
       "  <div id=\"df-a8992d42-5b32-47f7-9358-a00ac837cf7d\">\n",
       "    <div class=\"colab-df-container\">\n",
       "      <div>\n",
       "<style scoped>\n",
       "    .dataframe tbody tr th:only-of-type {\n",
       "        vertical-align: middle;\n",
       "    }\n",
       "\n",
       "    .dataframe tbody tr th {\n",
       "        vertical-align: top;\n",
       "    }\n",
       "\n",
       "    .dataframe thead th {\n",
       "        text-align: right;\n",
       "    }\n",
       "</style>\n",
       "<table border=\"1\" class=\"dataframe\">\n",
       "  <thead>\n",
       "    <tr style=\"text-align: right;\">\n",
       "      <th></th>\n",
       "      <th>accuracy</th>\n",
       "      <th>precision</th>\n",
       "      <th>recall</th>\n",
       "      <th>f1</th>\n",
       "    </tr>\n",
       "  </thead>\n",
       "  <tbody>\n",
       "    <tr>\n",
       "      <th>custom_token_embed_conv1d</th>\n",
       "      <td>35.5</td>\n",
       "      <td>0.355624</td>\n",
       "      <td>0.355</td>\n",
       "      <td>0.352212</td>\n",
       "    </tr>\n",
       "    <tr>\n",
       "      <th>pretrained_token_embed</th>\n",
       "      <td>45.8</td>\n",
       "      <td>0.458435</td>\n",
       "      <td>0.458</td>\n",
       "      <td>0.450423</td>\n",
       "    </tr>\n",
       "    <tr>\n",
       "      <th>custom_char_embed_conv1d</th>\n",
       "      <td>28.0</td>\n",
       "      <td>0.265614</td>\n",
       "      <td>0.280</td>\n",
       "      <td>0.236619</td>\n",
       "    </tr>\n",
       "    <tr>\n",
       "      <th>hybrid_char_token_embed</th>\n",
       "      <td>45.0</td>\n",
       "      <td>0.449280</td>\n",
       "      <td>0.450</td>\n",
       "      <td>0.440027</td>\n",
       "    </tr>\n",
       "  </tbody>\n",
       "</table>\n",
       "</div>\n",
       "      <button class=\"colab-df-convert\" onclick=\"convertToInteractive('df-a8992d42-5b32-47f7-9358-a00ac837cf7d')\"\n",
       "              title=\"Convert this dataframe to an interactive table.\"\n",
       "              style=\"display:none;\">\n",
       "        \n",
       "  <svg xmlns=\"http://www.w3.org/2000/svg\" height=\"24px\"viewBox=\"0 0 24 24\"\n",
       "       width=\"24px\">\n",
       "    <path d=\"M0 0h24v24H0V0z\" fill=\"none\"/>\n",
       "    <path d=\"M18.56 5.44l.94 2.06.94-2.06 2.06-.94-2.06-.94-.94-2.06-.94 2.06-2.06.94zm-11 1L8.5 8.5l.94-2.06 2.06-.94-2.06-.94L8.5 2.5l-.94 2.06-2.06.94zm10 10l.94 2.06.94-2.06 2.06-.94-2.06-.94-.94-2.06-.94 2.06-2.06.94z\"/><path d=\"M17.41 7.96l-1.37-1.37c-.4-.4-.92-.59-1.43-.59-.52 0-1.04.2-1.43.59L10.3 9.45l-7.72 7.72c-.78.78-.78 2.05 0 2.83L4 21.41c.39.39.9.59 1.41.59.51 0 1.02-.2 1.41-.59l7.78-7.78 2.81-2.81c.8-.78.8-2.07 0-2.86zM5.41 20L4 18.59l7.72-7.72 1.47 1.35L5.41 20z\"/>\n",
       "  </svg>\n",
       "      </button>\n",
       "      \n",
       "  <style>\n",
       "    .colab-df-container {\n",
       "      display:flex;\n",
       "      flex-wrap:wrap;\n",
       "      gap: 12px;\n",
       "    }\n",
       "\n",
       "    .colab-df-convert {\n",
       "      background-color: #E8F0FE;\n",
       "      border: none;\n",
       "      border-radius: 50%;\n",
       "      cursor: pointer;\n",
       "      display: none;\n",
       "      fill: #1967D2;\n",
       "      height: 32px;\n",
       "      padding: 0 0 0 0;\n",
       "      width: 32px;\n",
       "    }\n",
       "\n",
       "    .colab-df-convert:hover {\n",
       "      background-color: #E2EBFA;\n",
       "      box-shadow: 0px 1px 2px rgba(60, 64, 67, 0.3), 0px 1px 3px 1px rgba(60, 64, 67, 0.15);\n",
       "      fill: #174EA6;\n",
       "    }\n",
       "\n",
       "    [theme=dark] .colab-df-convert {\n",
       "      background-color: #3B4455;\n",
       "      fill: #D2E3FC;\n",
       "    }\n",
       "\n",
       "    [theme=dark] .colab-df-convert:hover {\n",
       "      background-color: #434B5C;\n",
       "      box-shadow: 0px 1px 3px 1px rgba(0, 0, 0, 0.15);\n",
       "      filter: drop-shadow(0px 1px 2px rgba(0, 0, 0, 0.3));\n",
       "      fill: #FFFFFF;\n",
       "    }\n",
       "  </style>\n",
       "\n",
       "      <script>\n",
       "        const buttonEl =\n",
       "          document.querySelector('#df-a8992d42-5b32-47f7-9358-a00ac837cf7d button.colab-df-convert');\n",
       "        buttonEl.style.display =\n",
       "          google.colab.kernel.accessAllowed ? 'block' : 'none';\n",
       "\n",
       "        async function convertToInteractive(key) {\n",
       "          const element = document.querySelector('#df-a8992d42-5b32-47f7-9358-a00ac837cf7d');\n",
       "          const dataTable =\n",
       "            await google.colab.kernel.invokeFunction('convertToInteractive',\n",
       "                                                     [key], {});\n",
       "          if (!dataTable) return;\n",
       "\n",
       "          const docLinkHtml = 'Like what you see? Visit the ' +\n",
       "            '<a target=\"_blank\" href=https://colab.research.google.com/notebooks/data_table.ipynb>data table notebook</a>'\n",
       "            + ' to learn more about interactive tables.';\n",
       "          element.innerHTML = '';\n",
       "          dataTable['output_type'] = 'display_data';\n",
       "          await google.colab.output.renderOutput(dataTable, element);\n",
       "          const docLink = document.createElement('div');\n",
       "          docLink.innerHTML = docLinkHtml;\n",
       "          element.appendChild(docLink);\n",
       "        }\n",
       "      </script>\n",
       "    </div>\n",
       "  </div>\n",
       "  "
      ],
      "text/plain": [
       "                           accuracy  precision  recall        f1\n",
       "custom_token_embed_conv1d      35.5   0.355624   0.355  0.352212\n",
       "pretrained_token_embed         45.8   0.458435   0.458  0.450423\n",
       "custom_char_embed_conv1d       28.0   0.265614   0.280  0.236619\n",
       "hybrid_char_token_embed        45.0   0.449280   0.450  0.440027"
      ]
     },
     "execution_count": 53,
     "metadata": {},
     "output_type": "execute_result"
    }
   ],
   "source": [
    "# Combine model results into a DataFrame\n",
    "all_model_results = pd.DataFrame({\"custom_token_embed_conv1d\": model_1_results,\n",
    "                                  \"pretrained_token_embed\": model_2_results,\n",
    "                                  \"custom_char_embed_conv1d\": model_3_results,\n",
    "                                  \"hybrid_char_token_embed\": model_4_results})\n",
    "all_model_results = all_model_results.transpose()\n",
    "all_model_results"
   ]
  },
  {
   "cell_type": "markdown",
   "metadata": {
    "id": "S2ZrsrMqQyQ-"
   },
   "source": [
    "## Prediction - Model 2"
   ]
  },
  {
   "cell_type": "code",
   "execution_count": 54,
   "metadata": {
    "colab": {
     "base_uri": "https://localhost:8080/"
    },
    "id": "WuwAkU3wQxGb",
    "outputId": "8dae90b0-d6a4-447d-bfb0-ac6c1824ea9b"
   },
   "outputs": [
    {
     "name": "stdout",
     "output_type": "stream",
     "text": [
      "INFO:tensorflow:Assets written to: tf_universal_sentence_model/assets\n"
     ]
    },
    {
     "name": "stderr",
     "output_type": "stream",
     "text": [
      "INFO:tensorflow:Assets written to: tf_universal_sentence_model/assets\n"
     ]
    }
   ],
   "source": [
    "# Save best performing model to SavedModel format\n",
    "model_2.save(\"tf_universal_sentence_model\")"
   ]
  },
  {
   "cell_type": "code",
   "execution_count": 55,
   "metadata": {
    "id": "R_4Yh-xYRDTM"
   },
   "outputs": [],
   "source": [
    "model_path = \"/content/tf_universal_sentence_model\"\n",
    "\n",
    "# Load downloaded model from Google Storage\n",
    "loaded_model = tf.keras.models.load_model(model_path)"
   ]
  },
  {
   "cell_type": "code",
   "execution_count": 56,
   "metadata": {
    "id": "SLE1RNQBRIiX"
   },
   "outputs": [],
   "source": [
    "# Converting test_set sentences\n",
    "test_dataset = tf.data.Dataset.from_tensor_slices((test_sentences))\n",
    "test_dataset = test_dataset.batch(32).prefetch(tf.data.AUTOTUNE)"
   ]
  },
  {
   "cell_type": "code",
   "execution_count": 68,
   "metadata": {
    "colab": {
     "base_uri": "https://localhost:8080/",
     "height": 441
    },
    "id": "ctppnlWmRSGz",
    "outputId": "44f02ca7-a9b0-47c8-cb94-9a717281585d"
   },
   "outputs": [
    {
     "name": "stdout",
     "output_type": "stream",
     "text": [
      "63/63 [==============================] - 1s 8ms/step\n"
     ]
    },
    {
     "data": {
      "text/html": [
       "\n",
       "  <div id=\"df-d7fe41e8-1c90-46cb-9774-49438a5ce053\">\n",
       "    <div class=\"colab-df-container\">\n",
       "      <div>\n",
       "<style scoped>\n",
       "    .dataframe tbody tr th:only-of-type {\n",
       "        vertical-align: middle;\n",
       "    }\n",
       "\n",
       "    .dataframe tbody tr th {\n",
       "        vertical-align: top;\n",
       "    }\n",
       "\n",
       "    .dataframe thead th {\n",
       "        text-align: right;\n",
       "    }\n",
       "</style>\n",
       "<table border=\"1\" class=\"dataframe\">\n",
       "  <thead>\n",
       "    <tr style=\"text-align: right;\">\n",
       "      <th></th>\n",
       "      <th>sentence</th>\n",
       "      <th>emotion</th>\n",
       "    </tr>\n",
       "  </thead>\n",
       "  <tbody>\n",
       "    <tr>\n",
       "      <th>0</th>\n",
       "      <td>Come , let's go get that automobile .</td>\n",
       "      <td>2</td>\n",
       "    </tr>\n",
       "    <tr>\n",
       "      <th>1</th>\n",
       "      <td>Well , some other time , then ?</td>\n",
       "      <td>2</td>\n",
       "    </tr>\n",
       "    <tr>\n",
       "      <th>2</th>\n",
       "      <td>He's in trouble . Boy ?</td>\n",
       "      <td>3</td>\n",
       "    </tr>\n",
       "    <tr>\n",
       "      <th>3</th>\n",
       "      <td>Criminal gang unit to take control .</td>\n",
       "      <td>4</td>\n",
       "    </tr>\n",
       "    <tr>\n",
       "      <th>4</th>\n",
       "      <td>By Molto . No discussion . Interview .</td>\n",
       "      <td>1</td>\n",
       "    </tr>\n",
       "    <tr>\n",
       "      <th>...</th>\n",
       "      <td>...</td>\n",
       "      <td>...</td>\n",
       "    </tr>\n",
       "    <tr>\n",
       "      <th>1995</th>\n",
       "      <td>Let's do some good .</td>\n",
       "      <td>2</td>\n",
       "    </tr>\n",
       "    <tr>\n",
       "      <th>1996</th>\n",
       "      <td>Hey , you're looking good .</td>\n",
       "      <td>5</td>\n",
       "    </tr>\n",
       "    <tr>\n",
       "      <th>1997</th>\n",
       "      <td>Have they moved the embassy , or are you hijac...</td>\n",
       "      <td>7</td>\n",
       "    </tr>\n",
       "    <tr>\n",
       "      <th>1998</th>\n",
       "      <td>What that !</td>\n",
       "      <td>1</td>\n",
       "    </tr>\n",
       "    <tr>\n",
       "      <th>1999</th>\n",
       "      <td>Imagine interplanetary trade , how exciting th...</td>\n",
       "      <td>2</td>\n",
       "    </tr>\n",
       "  </tbody>\n",
       "</table>\n",
       "<p>2000 rows × 2 columns</p>\n",
       "</div>\n",
       "      <button class=\"colab-df-convert\" onclick=\"convertToInteractive('df-d7fe41e8-1c90-46cb-9774-49438a5ce053')\"\n",
       "              title=\"Convert this dataframe to an interactive table.\"\n",
       "              style=\"display:none;\">\n",
       "        \n",
       "  <svg xmlns=\"http://www.w3.org/2000/svg\" height=\"24px\"viewBox=\"0 0 24 24\"\n",
       "       width=\"24px\">\n",
       "    <path d=\"M0 0h24v24H0V0z\" fill=\"none\"/>\n",
       "    <path d=\"M18.56 5.44l.94 2.06.94-2.06 2.06-.94-2.06-.94-.94-2.06-.94 2.06-2.06.94zm-11 1L8.5 8.5l.94-2.06 2.06-.94-2.06-.94L8.5 2.5l-.94 2.06-2.06.94zm10 10l.94 2.06.94-2.06 2.06-.94-2.06-.94-.94-2.06-.94 2.06-2.06.94z\"/><path d=\"M17.41 7.96l-1.37-1.37c-.4-.4-.92-.59-1.43-.59-.52 0-1.04.2-1.43.59L10.3 9.45l-7.72 7.72c-.78.78-.78 2.05 0 2.83L4 21.41c.39.39.9.59 1.41.59.51 0 1.02-.2 1.41-.59l7.78-7.78 2.81-2.81c.8-.78.8-2.07 0-2.86zM5.41 20L4 18.59l7.72-7.72 1.47 1.35L5.41 20z\"/>\n",
       "  </svg>\n",
       "      </button>\n",
       "      \n",
       "  <style>\n",
       "    .colab-df-container {\n",
       "      display:flex;\n",
       "      flex-wrap:wrap;\n",
       "      gap: 12px;\n",
       "    }\n",
       "\n",
       "    .colab-df-convert {\n",
       "      background-color: #E8F0FE;\n",
       "      border: none;\n",
       "      border-radius: 50%;\n",
       "      cursor: pointer;\n",
       "      display: none;\n",
       "      fill: #1967D2;\n",
       "      height: 32px;\n",
       "      padding: 0 0 0 0;\n",
       "      width: 32px;\n",
       "    }\n",
       "\n",
       "    .colab-df-convert:hover {\n",
       "      background-color: #E2EBFA;\n",
       "      box-shadow: 0px 1px 2px rgba(60, 64, 67, 0.3), 0px 1px 3px 1px rgba(60, 64, 67, 0.15);\n",
       "      fill: #174EA6;\n",
       "    }\n",
       "\n",
       "    [theme=dark] .colab-df-convert {\n",
       "      background-color: #3B4455;\n",
       "      fill: #D2E3FC;\n",
       "    }\n",
       "\n",
       "    [theme=dark] .colab-df-convert:hover {\n",
       "      background-color: #434B5C;\n",
       "      box-shadow: 0px 1px 3px 1px rgba(0, 0, 0, 0.15);\n",
       "      filter: drop-shadow(0px 1px 2px rgba(0, 0, 0, 0.3));\n",
       "      fill: #FFFFFF;\n",
       "    }\n",
       "  </style>\n",
       "\n",
       "      <script>\n",
       "        const buttonEl =\n",
       "          document.querySelector('#df-d7fe41e8-1c90-46cb-9774-49438a5ce053 button.colab-df-convert');\n",
       "        buttonEl.style.display =\n",
       "          google.colab.kernel.accessAllowed ? 'block' : 'none';\n",
       "\n",
       "        async function convertToInteractive(key) {\n",
       "          const element = document.querySelector('#df-d7fe41e8-1c90-46cb-9774-49438a5ce053');\n",
       "          const dataTable =\n",
       "            await google.colab.kernel.invokeFunction('convertToInteractive',\n",
       "                                                     [key], {});\n",
       "          if (!dataTable) return;\n",
       "\n",
       "          const docLinkHtml = 'Like what you see? Visit the ' +\n",
       "            '<a target=\"_blank\" href=https://colab.research.google.com/notebooks/data_table.ipynb>data table notebook</a>'\n",
       "            + ' to learn more about interactive tables.';\n",
       "          element.innerHTML = '';\n",
       "          dataTable['output_type'] = 'display_data';\n",
       "          await google.colab.output.renderOutput(dataTable, element);\n",
       "          const docLink = document.createElement('div');\n",
       "          docLink.innerHTML = docLinkHtml;\n",
       "          element.appendChild(docLink);\n",
       "        }\n",
       "      </script>\n",
       "    </div>\n",
       "  </div>\n",
       "  "
      ],
      "text/plain": [
       "                                               sentence  emotion\n",
       "0                 Come , let's go get that automobile .        2\n",
       "1                       Well , some other time , then ?        2\n",
       "2                               He's in trouble . Boy ?        3\n",
       "3                  Criminal gang unit to take control .        4\n",
       "4                By Molto . No discussion . Interview .        1\n",
       "...                                                 ...      ...\n",
       "1995                               Let's do some good .        2\n",
       "1996                        Hey , you're looking good .        5\n",
       "1997  Have they moved the embassy , or are you hijac...        7\n",
       "1998                                        What that !        1\n",
       "1999  Imagine interplanetary trade , how exciting th...        2\n",
       "\n",
       "[2000 rows x 2 columns]"
      ]
     },
     "execution_count": 68,
     "metadata": {},
     "output_type": "execute_result"
    }
   ],
   "source": [
    "# Make predictions on the test dataset\n",
    "test_pred_probs = loaded_model.predict(test_dataset,\n",
    "                                       verbose=1)\n",
    "test_preds = tf.argmax(test_pred_probs, axis=1) +1\n",
    "\n",
    "# Inserting the emotion column in test_set dataframe\n",
    "test_df['emotion'] = test_preds\n",
    "\n",
    "# Save to csv\n",
    "test_df.to_csv(r'/content/test_set_predicted.txt', index=False, sep='\\t')\n",
    "\n",
    "test_df"
   ]
  },
  {
   "cell_type": "code",
   "execution_count": 65,
   "metadata": {
    "colab": {
     "base_uri": "https://localhost:8080/",
     "height": 456
    },
    "id": "51GIU6FeSIxC",
    "outputId": "af733ff0-ce22-4985-d510-a0394d1bcee1"
   },
   "outputs": [
    {
     "name": "stdout",
     "output_type": "stream",
     "text": [
      "[1 2 3 4 5 6 7 8]\n"
     ]
    },
    {
     "data": {
      "image/png": "[encoded data removed]",
      "text/plain": [
       "<Figure size 720x504 with 1 Axes>"
      ]
     },
     "metadata": {
      "needs_background": "light"
     },
     "output_type": "display_data"
    }
   ],
   "source": [
    "# check the emotions defined:\n",
    "print(np.sort(test_df['emotion'].unique()))\n",
    "\n",
    "# check the distribution of sentences in each emotion class:\n",
    "dft = test_df.groupby('emotion').count().reset_index()\n",
    "sum_total = dft['sentence'].sum()\n",
    "dft['perc_total'] = round(dft['sentence']/sum_total,2)\n",
    "dft['dataset'] = 'Test'\n",
    "df = df.append(dft)\n",
    "\n",
    "df_plt = df.pivot(index='emotion', columns='dataset', values='perc_total')\n",
    "\n",
    "# Plot and compare class distribution of the datasets\n",
    "df_plt.plot(kind=\"bar\", figsize=(10, 7)).legend(bbox_to_anchor=(1.0, 1.0))\n",
    "\n",
    "plt.show()"
   ]
  },
  {
   "cell_type": "code",
   "execution_count": 76,
   "metadata": {
    "colab": {
     "base_uri": "https://localhost:8080/",
     "height": 112
    },
    "id": "RIWhkB1pjUVz",
    "outputId": "849d3574-7f6a-414e-a9bc-9fd6f380e8bf"
   },
   "outputs": [
    {
     "data": {
      "text/html": [
       "\n",
       "  <div id=\"df-c4c39a65-5d78-44da-bfa3-2997f0e81fa0\">\n",
       "    <div class=\"colab-df-container\">\n",
       "      <div>\n",
       "<style scoped>\n",
       "    .dataframe tbody tr th:only-of-type {\n",
       "        vertical-align: middle;\n",
       "    }\n",
       "\n",
       "    .dataframe tbody tr th {\n",
       "        vertical-align: top;\n",
       "    }\n",
       "\n",
       "    .dataframe thead th {\n",
       "        text-align: right;\n",
       "    }\n",
       "</style>\n",
       "<table border=\"1\" class=\"dataframe\">\n",
       "  <thead>\n",
       "    <tr style=\"text-align: right;\">\n",
       "      <th></th>\n",
       "      <th>sentence</th>\n",
       "      <th>emotion</th>\n",
       "      <th>prediction</th>\n",
       "      <th>pred_prob</th>\n",
       "      <th>correct</th>\n",
       "    </tr>\n",
       "  </thead>\n",
       "  <tbody>\n",
       "    <tr>\n",
       "      <th>0</th>\n",
       "      <td>What happens to the gold in our safe ?</td>\n",
       "      <td>4</td>\n",
       "      <td>4</td>\n",
       "      <td>0.576391</td>\n",
       "      <td>True</td>\n",
       "    </tr>\n",
       "    <tr>\n",
       "      <th>1</th>\n",
       "      <td>Natural to get cold feet .</td>\n",
       "      <td>8</td>\n",
       "      <td>6</td>\n",
       "      <td>0.334920</td>\n",
       "      <td>False</td>\n",
       "    </tr>\n",
       "  </tbody>\n",
       "</table>\n",
       "</div>\n",
       "      <button class=\"colab-df-convert\" onclick=\"convertToInteractive('df-c4c39a65-5d78-44da-bfa3-2997f0e81fa0')\"\n",
       "              title=\"Convert this dataframe to an interactive table.\"\n",
       "              style=\"display:none;\">\n",
       "        \n",
       "  <svg xmlns=\"http://www.w3.org/2000/svg\" height=\"24px\"viewBox=\"0 0 24 24\"\n",
       "       width=\"24px\">\n",
       "    <path d=\"M0 0h24v24H0V0z\" fill=\"none\"/>\n",
       "    <path d=\"M18.56 5.44l.94 2.06.94-2.06 2.06-.94-2.06-.94-.94-2.06-.94 2.06-2.06.94zm-11 1L8.5 8.5l.94-2.06 2.06-.94-2.06-.94L8.5 2.5l-.94 2.06-2.06.94zm10 10l.94 2.06.94-2.06 2.06-.94-2.06-.94-.94-2.06-.94 2.06-2.06.94z\"/><path d=\"M17.41 7.96l-1.37-1.37c-.4-.4-.92-.59-1.43-.59-.52 0-1.04.2-1.43.59L10.3 9.45l-7.72 7.72c-.78.78-.78 2.05 0 2.83L4 21.41c.39.39.9.59 1.41.59.51 0 1.02-.2 1.41-.59l7.78-7.78 2.81-2.81c.8-.78.8-2.07 0-2.86zM5.41 20L4 18.59l7.72-7.72 1.47 1.35L5.41 20z\"/>\n",
       "  </svg>\n",
       "      </button>\n",
       "      \n",
       "  <style>\n",
       "    .colab-df-container {\n",
       "      display:flex;\n",
       "      flex-wrap:wrap;\n",
       "      gap: 12px;\n",
       "    }\n",
       "\n",
       "    .colab-df-convert {\n",
       "      background-color: #E8F0FE;\n",
       "      border: none;\n",
       "      border-radius: 50%;\n",
       "      cursor: pointer;\n",
       "      display: none;\n",
       "      fill: #1967D2;\n",
       "      height: 32px;\n",
       "      padding: 0 0 0 0;\n",
       "      width: 32px;\n",
       "    }\n",
       "\n",
       "    .colab-df-convert:hover {\n",
       "      background-color: #E2EBFA;\n",
       "      box-shadow: 0px 1px 2px rgba(60, 64, 67, 0.3), 0px 1px 3px 1px rgba(60, 64, 67, 0.15);\n",
       "      fill: #174EA6;\n",
       "    }\n",
       "\n",
       "    [theme=dark] .colab-df-convert {\n",
       "      background-color: #3B4455;\n",
       "      fill: #D2E3FC;\n",
       "    }\n",
       "\n",
       "    [theme=dark] .colab-df-convert:hover {\n",
       "      background-color: #434B5C;\n",
       "      box-shadow: 0px 1px 3px 1px rgba(0, 0, 0, 0.15);\n",
       "      filter: drop-shadow(0px 1px 2px rgba(0, 0, 0, 0.3));\n",
       "      fill: #FFFFFF;\n",
       "    }\n",
       "  </style>\n",
       "\n",
       "      <script>\n",
       "        const buttonEl =\n",
       "          document.querySelector('#df-c4c39a65-5d78-44da-bfa3-2997f0e81fa0 button.colab-df-convert');\n",
       "        buttonEl.style.display =\n",
       "          google.colab.kernel.accessAllowed ? 'block' : 'none';\n",
       "\n",
       "        async function convertToInteractive(key) {\n",
       "          const element = document.querySelector('#df-c4c39a65-5d78-44da-bfa3-2997f0e81fa0');\n",
       "          const dataTable =\n",
       "            await google.colab.kernel.invokeFunction('convertToInteractive',\n",
       "                                                     [key], {});\n",
       "          if (!dataTable) return;\n",
       "\n",
       "          const docLinkHtml = 'Like what you see? Visit the ' +\n",
       "            '<a target=\"_blank\" href=https://colab.research.google.com/notebooks/data_table.ipynb>data table notebook</a>'\n",
       "            + ' to learn more about interactive tables.';\n",
       "          element.innerHTML = '';\n",
       "          dataTable['output_type'] = 'display_data';\n",
       "          await google.colab.output.renderOutput(dataTable, element);\n",
       "          const docLink = document.createElement('div');\n",
       "          docLink.innerHTML = docLinkHtml;\n",
       "          element.appendChild(docLink);\n",
       "        }\n",
       "      </script>\n",
       "    </div>\n",
       "  </div>\n",
       "  "
      ],
      "text/plain": [
       "                                 sentence  emotion  prediction  pred_prob  \\\n",
       "0  What happens to the gold in our safe ?        4           4   0.576391   \n",
       "1              Natural to get cold feet .        8           6   0.334920   \n",
       "\n",
       "   correct  \n",
       "0     True  \n",
       "1    False  "
      ]
     },
     "execution_count": 76,
     "metadata": {},
     "output_type": "execute_result"
    }
   ],
   "source": [
    "# Analyze predictions valid dataframe\n",
    "valid_df[\"prediction\"] = model_2_preds # create column with test prediction class\n",
    "valid_df[\"pred_prob\"] = tf.reduce_max(model_2_pred_probs, axis=1).numpy() # get the maximum prediction probability\n",
    "valid_df[\"correct\"] = valid_df[\"prediction\"] == valid_df[\"emotion\"] # create binary column for whether the prediction is right or not\n",
    "valid_df.head(2)"
   ]
  },
  {
   "cell_type": "code",
   "execution_count": 75,
   "metadata": {
    "colab": {
     "base_uri": "https://localhost:8080/",
     "height": 677
    },
    "id": "URCosLRxjfPK",
    "outputId": "4a31412e-ac2e-4c97-a047-c083101f16b1"
   },
   "outputs": [
    {
     "data": {
      "text/html": [
       "\n",
       "  <div id=\"df-1e69432d-da69-46ae-947f-04eea119384d\">\n",
       "    <div class=\"colab-df-container\">\n",
       "      <div>\n",
       "<style scoped>\n",
       "    .dataframe tbody tr th:only-of-type {\n",
       "        vertical-align: middle;\n",
       "    }\n",
       "\n",
       "    .dataframe tbody tr th {\n",
       "        vertical-align: top;\n",
       "    }\n",
       "\n",
       "    .dataframe thead th {\n",
       "        text-align: right;\n",
       "    }\n",
       "</style>\n",
       "<table border=\"1\" class=\"dataframe\">\n",
       "  <thead>\n",
       "    <tr style=\"text-align: right;\">\n",
       "      <th></th>\n",
       "      <th>sentence</th>\n",
       "      <th>emotion</th>\n",
       "      <th>prediction</th>\n",
       "      <th>pred_prob</th>\n",
       "      <th>correct</th>\n",
       "    </tr>\n",
       "  </thead>\n",
       "  <tbody>\n",
       "    <tr>\n",
       "      <th>351</th>\n",
       "      <td>Leave us alone .</td>\n",
       "      <td>4</td>\n",
       "      <td>1</td>\n",
       "      <td>0.938546</td>\n",
       "      <td>False</td>\n",
       "    </tr>\n",
       "    <tr>\n",
       "      <th>776</th>\n",
       "      <td>Simply gorgeous .</td>\n",
       "      <td>8</td>\n",
       "      <td>5</td>\n",
       "      <td>0.908190</td>\n",
       "      <td>False</td>\n",
       "    </tr>\n",
       "    <tr>\n",
       "      <th>9</th>\n",
       "      <td>Happy may have hit on something tremendous here .</td>\n",
       "      <td>4</td>\n",
       "      <td>5</td>\n",
       "      <td>0.901412</td>\n",
       "      <td>False</td>\n",
       "    </tr>\n",
       "    <tr>\n",
       "      <th>117</th>\n",
       "      <td>I look great !</td>\n",
       "      <td>8</td>\n",
       "      <td>5</td>\n",
       "      <td>0.896160</td>\n",
       "      <td>False</td>\n",
       "    </tr>\n",
       "    <tr>\n",
       "      <th>948</th>\n",
       "      <td>We're playing with fire .</td>\n",
       "      <td>2</td>\n",
       "      <td>4</td>\n",
       "      <td>0.869198</td>\n",
       "      <td>False</td>\n",
       "    </tr>\n",
       "    <tr>\n",
       "      <th>634</th>\n",
       "      <td>You're not going to hang me ?</td>\n",
       "      <td>7</td>\n",
       "      <td>1</td>\n",
       "      <td>0.869110</td>\n",
       "      <td>False</td>\n",
       "    </tr>\n",
       "    <tr>\n",
       "      <th>329</th>\n",
       "      <td>See you tomorrow .</td>\n",
       "      <td>8</td>\n",
       "      <td>2</td>\n",
       "      <td>0.864423</td>\n",
       "      <td>False</td>\n",
       "    </tr>\n",
       "    <tr>\n",
       "      <th>386</th>\n",
       "      <td>Calm down !</td>\n",
       "      <td>8</td>\n",
       "      <td>1</td>\n",
       "      <td>0.852373</td>\n",
       "      <td>False</td>\n",
       "    </tr>\n",
       "    <tr>\n",
       "      <th>13</th>\n",
       "      <td>I can take care of myself !</td>\n",
       "      <td>1</td>\n",
       "      <td>8</td>\n",
       "      <td>0.852229</td>\n",
       "      <td>False</td>\n",
       "    </tr>\n",
       "    <tr>\n",
       "      <th>700</th>\n",
       "      <td>I'll see you tomorrow .</td>\n",
       "      <td>8</td>\n",
       "      <td>2</td>\n",
       "      <td>0.843304</td>\n",
       "      <td>False</td>\n",
       "    </tr>\n",
       "    <tr>\n",
       "      <th>160</th>\n",
       "      <td>I'm just tired .</td>\n",
       "      <td>1</td>\n",
       "      <td>6</td>\n",
       "      <td>0.835508</td>\n",
       "      <td>False</td>\n",
       "    </tr>\n",
       "    <tr>\n",
       "      <th>992</th>\n",
       "      <td>Please stop !</td>\n",
       "      <td>4</td>\n",
       "      <td>1</td>\n",
       "      <td>0.835416</td>\n",
       "      <td>False</td>\n",
       "    </tr>\n",
       "    <tr>\n",
       "      <th>412</th>\n",
       "      <td>Oh , this is so cool !</td>\n",
       "      <td>2</td>\n",
       "      <td>5</td>\n",
       "      <td>0.834969</td>\n",
       "      <td>False</td>\n",
       "    </tr>\n",
       "    <tr>\n",
       "      <th>240</th>\n",
       "      <td>They might have a hundred guns , but it's safe...</td>\n",
       "      <td>2</td>\n",
       "      <td>4</td>\n",
       "      <td>0.829419</td>\n",
       "      <td>False</td>\n",
       "    </tr>\n",
       "    <tr>\n",
       "      <th>855</th>\n",
       "      <td>I've forgotten how good a bad woman feels .</td>\n",
       "      <td>5</td>\n",
       "      <td>6</td>\n",
       "      <td>0.825249</td>\n",
       "      <td>False</td>\n",
       "    </tr>\n",
       "    <tr>\n",
       "      <th>268</th>\n",
       "      <td>[PERSON] , are we going to make it to the isla...</td>\n",
       "      <td>4</td>\n",
       "      <td>2</td>\n",
       "      <td>0.807158</td>\n",
       "      <td>False</td>\n",
       "    </tr>\n",
       "    <tr>\n",
       "      <th>46</th>\n",
       "      <td>You can come out now , Red Eagle .</td>\n",
       "      <td>8</td>\n",
       "      <td>2</td>\n",
       "      <td>0.803831</td>\n",
       "      <td>False</td>\n",
       "    </tr>\n",
       "    <tr>\n",
       "      <th>299</th>\n",
       "      <td>We was safe there .</td>\n",
       "      <td>8</td>\n",
       "      <td>4</td>\n",
       "      <td>0.801632</td>\n",
       "      <td>False</td>\n",
       "    </tr>\n",
       "    <tr>\n",
       "      <th>452</th>\n",
       "      <td>He's still emotionally unstable .</td>\n",
       "      <td>4</td>\n",
       "      <td>6</td>\n",
       "      <td>0.793864</td>\n",
       "      <td>False</td>\n",
       "    </tr>\n",
       "    <tr>\n",
       "      <th>655</th>\n",
       "      <td>It had to be filled with love .</td>\n",
       "      <td>2</td>\n",
       "      <td>5</td>\n",
       "      <td>0.793227</td>\n",
       "      <td>False</td>\n",
       "    </tr>\n",
       "  </tbody>\n",
       "</table>\n",
       "</div>\n",
       "      <button class=\"colab-df-convert\" onclick=\"convertToInteractive('df-1e69432d-da69-46ae-947f-04eea119384d')\"\n",
       "              title=\"Convert this dataframe to an interactive table.\"\n",
       "              style=\"display:none;\">\n",
       "        \n",
       "  <svg xmlns=\"http://www.w3.org/2000/svg\" height=\"24px\"viewBox=\"0 0 24 24\"\n",
       "       width=\"24px\">\n",
       "    <path d=\"M0 0h24v24H0V0z\" fill=\"none\"/>\n",
       "    <path d=\"M18.56 5.44l.94 2.06.94-2.06 2.06-.94-2.06-.94-.94-2.06-.94 2.06-2.06.94zm-11 1L8.5 8.5l.94-2.06 2.06-.94-2.06-.94L8.5 2.5l-.94 2.06-2.06.94zm10 10l.94 2.06.94-2.06 2.06-.94-2.06-.94-.94-2.06-.94 2.06-2.06.94z\"/><path d=\"M17.41 7.96l-1.37-1.37c-.4-.4-.92-.59-1.43-.59-.52 0-1.04.2-1.43.59L10.3 9.45l-7.72 7.72c-.78.78-.78 2.05 0 2.83L4 21.41c.39.39.9.59 1.41.59.51 0 1.02-.2 1.41-.59l7.78-7.78 2.81-2.81c.8-.78.8-2.07 0-2.86zM5.41 20L4 18.59l7.72-7.72 1.47 1.35L5.41 20z\"/>\n",
       "  </svg>\n",
       "      </button>\n",
       "      \n",
       "  <style>\n",
       "    .colab-df-container {\n",
       "      display:flex;\n",
       "      flex-wrap:wrap;\n",
       "      gap: 12px;\n",
       "    }\n",
       "\n",
       "    .colab-df-convert {\n",
       "      background-color: #E8F0FE;\n",
       "      border: none;\n",
       "      border-radius: 50%;\n",
       "      cursor: pointer;\n",
       "      display: none;\n",
       "      fill: #1967D2;\n",
       "      height: 32px;\n",
       "      padding: 0 0 0 0;\n",
       "      width: 32px;\n",
       "    }\n",
       "\n",
       "    .colab-df-convert:hover {\n",
       "      background-color: #E2EBFA;\n",
       "      box-shadow: 0px 1px 2px rgba(60, 64, 67, 0.3), 0px 1px 3px 1px rgba(60, 64, 67, 0.15);\n",
       "      fill: #174EA6;\n",
       "    }\n",
       "\n",
       "    [theme=dark] .colab-df-convert {\n",
       "      background-color: #3B4455;\n",
       "      fill: #D2E3FC;\n",
       "    }\n",
       "\n",
       "    [theme=dark] .colab-df-convert:hover {\n",
       "      background-color: #434B5C;\n",
       "      box-shadow: 0px 1px 3px 1px rgba(0, 0, 0, 0.15);\n",
       "      filter: drop-shadow(0px 1px 2px rgba(0, 0, 0, 0.3));\n",
       "      fill: #FFFFFF;\n",
       "    }\n",
       "  </style>\n",
       "\n",
       "      <script>\n",
       "        const buttonEl =\n",
       "          document.querySelector('#df-1e69432d-da69-46ae-947f-04eea119384d button.colab-df-convert');\n",
       "        buttonEl.style.display =\n",
       "          google.colab.kernel.accessAllowed ? 'block' : 'none';\n",
       "\n",
       "        async function convertToInteractive(key) {\n",
       "          const element = document.querySelector('#df-1e69432d-da69-46ae-947f-04eea119384d');\n",
       "          const dataTable =\n",
       "            await google.colab.kernel.invokeFunction('convertToInteractive',\n",
       "                                                     [key], {});\n",
       "          if (!dataTable) return;\n",
       "\n",
       "          const docLinkHtml = 'Like what you see? Visit the ' +\n",
       "            '<a target=\"_blank\" href=https://colab.research.google.com/notebooks/data_table.ipynb>data table notebook</a>'\n",
       "            + ' to learn more about interactive tables.';\n",
       "          element.innerHTML = '';\n",
       "          dataTable['output_type'] = 'display_data';\n",
       "          await google.colab.output.renderOutput(dataTable, element);\n",
       "          const docLink = document.createElement('div');\n",
       "          docLink.innerHTML = docLinkHtml;\n",
       "          element.appendChild(docLink);\n",
       "        }\n",
       "      </script>\n",
       "    </div>\n",
       "  </div>\n",
       "  "
      ],
      "text/plain": [
       "                                              sentence  emotion  prediction  \\\n",
       "351                                   Leave us alone .        4           1   \n",
       "776                                  Simply gorgeous .        8           5   \n",
       "9    Happy may have hit on something tremendous here .        4           5   \n",
       "117                                     I look great !        8           5   \n",
       "948                          We're playing with fire .        2           4   \n",
       "634                      You're not going to hang me ?        7           1   \n",
       "329                                 See you tomorrow .        8           2   \n",
       "386                                        Calm down !        8           1   \n",
       "13                         I can take care of myself !        1           8   \n",
       "700                            I'll see you tomorrow .        8           2   \n",
       "160                                   I'm just tired .        1           6   \n",
       "992                                      Please stop !        4           1   \n",
       "412                             Oh , this is so cool !        2           5   \n",
       "240  They might have a hundred guns , but it's safe...        2           4   \n",
       "855        I've forgotten how good a bad woman feels .        5           6   \n",
       "268  [PERSON] , are we going to make it to the isla...        4           2   \n",
       "46                  You can come out now , Red Eagle .        8           2   \n",
       "299                                We was safe there .        8           4   \n",
       "452                  He's still emotionally unstable .        4           6   \n",
       "655                    It had to be filled with love .        2           5   \n",
       "\n",
       "     pred_prob  correct  \n",
       "351   0.938546    False  \n",
       "776   0.908190    False  \n",
       "9     0.901412    False  \n",
       "117   0.896160    False  \n",
       "948   0.869198    False  \n",
       "634   0.869110    False  \n",
       "329   0.864423    False  \n",
       "386   0.852373    False  \n",
       "13    0.852229    False  \n",
       "700   0.843304    False  \n",
       "160   0.835508    False  \n",
       "992   0.835416    False  \n",
       "412   0.834969    False  \n",
       "240   0.829419    False  \n",
       "855   0.825249    False  \n",
       "268   0.807158    False  \n",
       "46    0.803831    False  \n",
       "299   0.801632    False  \n",
       "452   0.793864    False  \n",
       "655   0.793227    False  "
      ]
     },
     "execution_count": 75,
     "metadata": {},
     "output_type": "execute_result"
    }
   ],
   "source": [
    "# Find top 20 most wrong samples\n",
    "top_20_wrong = valid_df[valid_df[\"correct\"] == False].sort_values(\"pred_prob\", ascending=False)[:20]\n",
    "top_20_wrong"
   ]
  }
 ],
 "metadata": {
  "accelerator": "GPU",
  "colab": {
   "include_colab_link": true,
   "name": "NLP Tensorflow Final.ipynb",
   "provenance": []
  },
  "kernelspec": {
   "display_name": "Python 3 (ipykernel)",
   "language": "python",
   "name": "python3"
  },
  "language_info": {
   "codemirror_mode": {
    "name": "ipython",
    "version": 3
   },
   "file_extension": ".py",
   "mimetype": "text/x-python",
   "name": "python",
   "nbconvert_exporter": "python",
   "pygments_lexer": "ipython3",
   "version": "3.8.8"
  }
 },
 "nbformat": 4,
 "nbformat_minor": 1
}
