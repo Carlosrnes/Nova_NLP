{
  "nbformat": 4,
  "nbformat_minor": 0,
  "metadata": {
    "colab": {
      "name": "NLP Tensorflow Final.ipynb",
      "provenance": [],
      "include_colab_link": true
    },
    "kernelspec": {
      "name": "python3",
      "display_name": "Python 3"
    },
    "language_info": {
      "name": "python"
    },
    "accelerator": "GPU"
  },
  "cells": [
    {
      "cell_type": "markdown",
      "metadata": {
        "id": "view-in-github",
        "colab_type": "text"
      },
      "source": [
        "<a href=\"https://colab.research.google.com/github/Carlosrnes/Nova_NLP/blob/main/NLP_Tensorflow.ipynb\" target=\"_parent\"><img src=\"https://colab.research.google.com/assets/colab-badge.svg\" alt=\"Open In Colab\"/></a>"
      ]
    },
    {
      "cell_type": "markdown",
      "source": [
        "### GPU"
      ],
      "metadata": {
        "id": "XiPHxiPNloga"
      }
    },
    {
      "cell_type": "code",
      "execution_count": 1,
      "metadata": {
        "colab": {
          "base_uri": "https://localhost:8080/"
        },
        "id": "On8-qL8J7nhX",
        "outputId": "f9c0827e-72c5-4d0b-ce79-f0a50002de45"
      },
      "outputs": [
        {
          "output_type": "stream",
          "name": "stdout",
          "text": [
            "NVIDIA-SMI has failed because it couldn't communicate with the NVIDIA driver. Make sure that the latest NVIDIA driver is installed and running.\n",
            "\n"
          ]
        }
      ],
      "source": [
        "# Check GPU\n",
        "!nvidia-smi -L"
      ]
    },
    {
      "cell_type": "code",
      "source": [
        "# A dependency of the preprocessing for BERT inputs\n",
        "!pip install -q -U \"tensorflow-text==2.8.*\""
      ],
      "metadata": {
        "id": "tGf4KNpjz9l-",
        "colab": {
          "base_uri": "https://localhost:8080/"
        },
        "outputId": "267504ab-1d07-4006-81a8-6a32a5be6285"
      },
      "execution_count": 2,
      "outputs": [
        {
          "output_type": "stream",
          "name": "stdout",
          "text": [
            "\u001b[K     |████████████████████████████████| 4.9 MB 4.3 MB/s \n",
            "\u001b[?25h"
          ]
        }
      ]
    },
    {
      "cell_type": "markdown",
      "source": [
        "### Libraries"
      ],
      "metadata": {
        "id": "-lU6h8yE_Y73"
      }
    },
    {
      "cell_type": "code",
      "source": [
        "import pandas as pd\n",
        "import numpy as np\n",
        "import random\n",
        "import matplotlib.pyplot as plt\n",
        "\n",
        "from sklearn.preprocessing import OneHotEncoder\n",
        "\n",
        "from sklearn.feature_extraction.text import TfidfVectorizer\n",
        "from sklearn.naive_bayes import MultinomialNB\n",
        "from sklearn.pipeline import Pipeline\n",
        "from sklearn.metrics import accuracy_score, precision_recall_fscore_support\n",
        "\n",
        "from nltk.corpus import stopwords\n",
        "from nltk.stem.wordnet import WordNetLemmatizer\n",
        "from bs4 import BeautifulSoup\n",
        "\n",
        "\n",
        "import tensorflow_hub as hub\n",
        "import tensorflow as tf\n",
        "import tensorflow_text as text\n",
        "from tensorflow.keras.layers.experimental.preprocessing import TextVectorization\n",
        "from tensorflow.keras import layers"
      ],
      "metadata": {
        "id": "xny5XgcK_cdk"
      },
      "execution_count": 82,
      "outputs": []
    },
    {
      "cell_type": "markdown",
      "source": [
        "### Get the data"
      ],
      "metadata": {
        "id": "Up7bWxY6-5ae"
      }
    },
    {
      "cell_type": "code",
      "source": [
        "train_df = pd.read_csv(\"https://raw.githubusercontent.com/Carlosrnes/Nova_NLP/main/data/training_set.txt\", sep=\"\\t\")\n",
        "valid_df = pd.read_csv(\"https://raw.githubusercontent.com/Carlosrnes/Nova_NLP/main/data/dev_set.txt\", sep=\"\\t\")\n",
        "test_df = pd.read_csv(\"https://raw.githubusercontent.com/Carlosrnes/Nova_NLP/main/data/test_set.txt\", sep=\"\\t\")\n",
        "train_df.head(1)"
      ],
      "metadata": {
        "colab": {
          "base_uri": "https://localhost:8080/",
          "height": 81
        },
        "id": "HygAy9-F-4v6",
        "outputId": "d54e42ef-7a4c-44a8-bce2-90dca81a6df3"
      },
      "execution_count": 4,
      "outputs": [
        {
          "output_type": "execute_result",
          "data": {
            "text/plain": [
              "                        sentence  emotion\n",
              "0  I'm too old to be traded in .        6"
            ],
            "text/html": [
              "\n",
              "  <div id=\"df-0a4827d5-cedb-4a52-84d9-9517908eba86\">\n",
              "    <div class=\"colab-df-container\">\n",
              "      <div>\n",
              "<style scoped>\n",
              "    .dataframe tbody tr th:only-of-type {\n",
              "        vertical-align: middle;\n",
              "    }\n",
              "\n",
              "    .dataframe tbody tr th {\n",
              "        vertical-align: top;\n",
              "    }\n",
              "\n",
              "    .dataframe thead th {\n",
              "        text-align: right;\n",
              "    }\n",
              "</style>\n",
              "<table border=\"1\" class=\"dataframe\">\n",
              "  <thead>\n",
              "    <tr style=\"text-align: right;\">\n",
              "      <th></th>\n",
              "      <th>sentence</th>\n",
              "      <th>emotion</th>\n",
              "    </tr>\n",
              "  </thead>\n",
              "  <tbody>\n",
              "    <tr>\n",
              "      <th>0</th>\n",
              "      <td>I'm too old to be traded in .</td>\n",
              "      <td>6</td>\n",
              "    </tr>\n",
              "  </tbody>\n",
              "</table>\n",
              "</div>\n",
              "      <button class=\"colab-df-convert\" onclick=\"convertToInteractive('df-0a4827d5-cedb-4a52-84d9-9517908eba86')\"\n",
              "              title=\"Convert this dataframe to an interactive table.\"\n",
              "              style=\"display:none;\">\n",
              "        \n",
              "  <svg xmlns=\"http://www.w3.org/2000/svg\" height=\"24px\"viewBox=\"0 0 24 24\"\n",
              "       width=\"24px\">\n",
              "    <path d=\"M0 0h24v24H0V0z\" fill=\"none\"/>\n",
              "    <path d=\"M18.56 5.44l.94 2.06.94-2.06 2.06-.94-2.06-.94-.94-2.06-.94 2.06-2.06.94zm-11 1L8.5 8.5l.94-2.06 2.06-.94-2.06-.94L8.5 2.5l-.94 2.06-2.06.94zm10 10l.94 2.06.94-2.06 2.06-.94-2.06-.94-.94-2.06-.94 2.06-2.06.94z\"/><path d=\"M17.41 7.96l-1.37-1.37c-.4-.4-.92-.59-1.43-.59-.52 0-1.04.2-1.43.59L10.3 9.45l-7.72 7.72c-.78.78-.78 2.05 0 2.83L4 21.41c.39.39.9.59 1.41.59.51 0 1.02-.2 1.41-.59l7.78-7.78 2.81-2.81c.8-.78.8-2.07 0-2.86zM5.41 20L4 18.59l7.72-7.72 1.47 1.35L5.41 20z\"/>\n",
              "  </svg>\n",
              "      </button>\n",
              "      \n",
              "  <style>\n",
              "    .colab-df-container {\n",
              "      display:flex;\n",
              "      flex-wrap:wrap;\n",
              "      gap: 12px;\n",
              "    }\n",
              "\n",
              "    .colab-df-convert {\n",
              "      background-color: #E8F0FE;\n",
              "      border: none;\n",
              "      border-radius: 50%;\n",
              "      cursor: pointer;\n",
              "      display: none;\n",
              "      fill: #1967D2;\n",
              "      height: 32px;\n",
              "      padding: 0 0 0 0;\n",
              "      width: 32px;\n",
              "    }\n",
              "\n",
              "    .colab-df-convert:hover {\n",
              "      background-color: #E2EBFA;\n",
              "      box-shadow: 0px 1px 2px rgba(60, 64, 67, 0.3), 0px 1px 3px 1px rgba(60, 64, 67, 0.15);\n",
              "      fill: #174EA6;\n",
              "    }\n",
              "\n",
              "    [theme=dark] .colab-df-convert {\n",
              "      background-color: #3B4455;\n",
              "      fill: #D2E3FC;\n",
              "    }\n",
              "\n",
              "    [theme=dark] .colab-df-convert:hover {\n",
              "      background-color: #434B5C;\n",
              "      box-shadow: 0px 1px 3px 1px rgba(0, 0, 0, 0.15);\n",
              "      filter: drop-shadow(0px 1px 2px rgba(0, 0, 0, 0.3));\n",
              "      fill: #FFFFFF;\n",
              "    }\n",
              "  </style>\n",
              "\n",
              "      <script>\n",
              "        const buttonEl =\n",
              "          document.querySelector('#df-0a4827d5-cedb-4a52-84d9-9517908eba86 button.colab-df-convert');\n",
              "        buttonEl.style.display =\n",
              "          google.colab.kernel.accessAllowed ? 'block' : 'none';\n",
              "\n",
              "        async function convertToInteractive(key) {\n",
              "          const element = document.querySelector('#df-0a4827d5-cedb-4a52-84d9-9517908eba86');\n",
              "          const dataTable =\n",
              "            await google.colab.kernel.invokeFunction('convertToInteractive',\n",
              "                                                     [key], {});\n",
              "          if (!dataTable) return;\n",
              "\n",
              "          const docLinkHtml = 'Like what you see? Visit the ' +\n",
              "            '<a target=\"_blank\" href=https://colab.research.google.com/notebooks/data_table.ipynb>data table notebook</a>'\n",
              "            + ' to learn more about interactive tables.';\n",
              "          element.innerHTML = '';\n",
              "          dataTable['output_type'] = 'display_data';\n",
              "          await google.colab.output.renderOutput(dataTable, element);\n",
              "          const docLink = document.createElement('div');\n",
              "          docLink.innerHTML = docLinkHtml;\n",
              "          element.appendChild(docLink);\n",
              "        }\n",
              "      </script>\n",
              "    </div>\n",
              "  </div>\n",
              "  "
            ]
          },
          "metadata": {},
          "execution_count": 4
        }
      ]
    },
    {
      "cell_type": "markdown",
      "source": [
        "### Explore Dataset"
      ],
      "metadata": {
        "id": "s2AsdHHIArbB"
      }
    },
    {
      "cell_type": "code",
      "source": [
        "# check if the emotions are correctly defined:\n",
        "print(np.sort(train_df['emotion'].unique()))\n",
        "\n",
        "# check the distribution of sentences in each emotion class:\n",
        "df = train_df.groupby('emotion').count().reset_index()\n",
        "sum_total = df['sentence'].sum()\n",
        "df['perc_total'] = round(df['sentence']/sum_total,2)\n",
        "df['dataset'] = 'Train'\n",
        "df"
      ],
      "metadata": {
        "colab": {
          "base_uri": "https://localhost:8080/",
          "height": 318
        },
        "id": "4h7S4dZV_5wu",
        "outputId": "0baa87cd-022f-4b07-be3c-902e8977baeb"
      },
      "execution_count": 83,
      "outputs": [
        {
          "output_type": "stream",
          "name": "stdout",
          "text": [
            "[1 2 3 4 5 6 7 8]\n"
          ]
        },
        {
          "output_type": "execute_result",
          "data": {
            "text/plain": [
              "   emotion  sentence  perc_total dataset\n",
              "0        1      2999        0.21   Train\n",
              "1        2      2129        0.15   Train\n",
              "2        3      1343        0.10   Train\n",
              "3        4      1442        0.10   Train\n",
              "4        5      1470        0.10   Train\n",
              "5        6      1384        0.10   Train\n",
              "6        7      1138        0.08   Train\n",
              "7        8      2095        0.15   Train"
            ],
            "text/html": [
              "\n",
              "  <div id=\"df-1b4802a1-35e8-4e41-b570-2c8957ff26bf\">\n",
              "    <div class=\"colab-df-container\">\n",
              "      <div>\n",
              "<style scoped>\n",
              "    .dataframe tbody tr th:only-of-type {\n",
              "        vertical-align: middle;\n",
              "    }\n",
              "\n",
              "    .dataframe tbody tr th {\n",
              "        vertical-align: top;\n",
              "    }\n",
              "\n",
              "    .dataframe thead th {\n",
              "        text-align: right;\n",
              "    }\n",
              "</style>\n",
              "<table border=\"1\" class=\"dataframe\">\n",
              "  <thead>\n",
              "    <tr style=\"text-align: right;\">\n",
              "      <th></th>\n",
              "      <th>emotion</th>\n",
              "      <th>sentence</th>\n",
              "      <th>perc_total</th>\n",
              "      <th>dataset</th>\n",
              "    </tr>\n",
              "  </thead>\n",
              "  <tbody>\n",
              "    <tr>\n",
              "      <th>0</th>\n",
              "      <td>1</td>\n",
              "      <td>2999</td>\n",
              "      <td>0.21</td>\n",
              "      <td>Train</td>\n",
              "    </tr>\n",
              "    <tr>\n",
              "      <th>1</th>\n",
              "      <td>2</td>\n",
              "      <td>2129</td>\n",
              "      <td>0.15</td>\n",
              "      <td>Train</td>\n",
              "    </tr>\n",
              "    <tr>\n",
              "      <th>2</th>\n",
              "      <td>3</td>\n",
              "      <td>1343</td>\n",
              "      <td>0.10</td>\n",
              "      <td>Train</td>\n",
              "    </tr>\n",
              "    <tr>\n",
              "      <th>3</th>\n",
              "      <td>4</td>\n",
              "      <td>1442</td>\n",
              "      <td>0.10</td>\n",
              "      <td>Train</td>\n",
              "    </tr>\n",
              "    <tr>\n",
              "      <th>4</th>\n",
              "      <td>5</td>\n",
              "      <td>1470</td>\n",
              "      <td>0.10</td>\n",
              "      <td>Train</td>\n",
              "    </tr>\n",
              "    <tr>\n",
              "      <th>5</th>\n",
              "      <td>6</td>\n",
              "      <td>1384</td>\n",
              "      <td>0.10</td>\n",
              "      <td>Train</td>\n",
              "    </tr>\n",
              "    <tr>\n",
              "      <th>6</th>\n",
              "      <td>7</td>\n",
              "      <td>1138</td>\n",
              "      <td>0.08</td>\n",
              "      <td>Train</td>\n",
              "    </tr>\n",
              "    <tr>\n",
              "      <th>7</th>\n",
              "      <td>8</td>\n",
              "      <td>2095</td>\n",
              "      <td>0.15</td>\n",
              "      <td>Train</td>\n",
              "    </tr>\n",
              "  </tbody>\n",
              "</table>\n",
              "</div>\n",
              "      <button class=\"colab-df-convert\" onclick=\"convertToInteractive('df-1b4802a1-35e8-4e41-b570-2c8957ff26bf')\"\n",
              "              title=\"Convert this dataframe to an interactive table.\"\n",
              "              style=\"display:none;\">\n",
              "        \n",
              "  <svg xmlns=\"http://www.w3.org/2000/svg\" height=\"24px\"viewBox=\"0 0 24 24\"\n",
              "       width=\"24px\">\n",
              "    <path d=\"M0 0h24v24H0V0z\" fill=\"none\"/>\n",
              "    <path d=\"M18.56 5.44l.94 2.06.94-2.06 2.06-.94-2.06-.94-.94-2.06-.94 2.06-2.06.94zm-11 1L8.5 8.5l.94-2.06 2.06-.94-2.06-.94L8.5 2.5l-.94 2.06-2.06.94zm10 10l.94 2.06.94-2.06 2.06-.94-2.06-.94-.94-2.06-.94 2.06-2.06.94z\"/><path d=\"M17.41 7.96l-1.37-1.37c-.4-.4-.92-.59-1.43-.59-.52 0-1.04.2-1.43.59L10.3 9.45l-7.72 7.72c-.78.78-.78 2.05 0 2.83L4 21.41c.39.39.9.59 1.41.59.51 0 1.02-.2 1.41-.59l7.78-7.78 2.81-2.81c.8-.78.8-2.07 0-2.86zM5.41 20L4 18.59l7.72-7.72 1.47 1.35L5.41 20z\"/>\n",
              "  </svg>\n",
              "      </button>\n",
              "      \n",
              "  <style>\n",
              "    .colab-df-container {\n",
              "      display:flex;\n",
              "      flex-wrap:wrap;\n",
              "      gap: 12px;\n",
              "    }\n",
              "\n",
              "    .colab-df-convert {\n",
              "      background-color: #E8F0FE;\n",
              "      border: none;\n",
              "      border-radius: 50%;\n",
              "      cursor: pointer;\n",
              "      display: none;\n",
              "      fill: #1967D2;\n",
              "      height: 32px;\n",
              "      padding: 0 0 0 0;\n",
              "      width: 32px;\n",
              "    }\n",
              "\n",
              "    .colab-df-convert:hover {\n",
              "      background-color: #E2EBFA;\n",
              "      box-shadow: 0px 1px 2px rgba(60, 64, 67, 0.3), 0px 1px 3px 1px rgba(60, 64, 67, 0.15);\n",
              "      fill: #174EA6;\n",
              "    }\n",
              "\n",
              "    [theme=dark] .colab-df-convert {\n",
              "      background-color: #3B4455;\n",
              "      fill: #D2E3FC;\n",
              "    }\n",
              "\n",
              "    [theme=dark] .colab-df-convert:hover {\n",
              "      background-color: #434B5C;\n",
              "      box-shadow: 0px 1px 3px 1px rgba(0, 0, 0, 0.15);\n",
              "      filter: drop-shadow(0px 1px 2px rgba(0, 0, 0, 0.3));\n",
              "      fill: #FFFFFF;\n",
              "    }\n",
              "  </style>\n",
              "\n",
              "      <script>\n",
              "        const buttonEl =\n",
              "          document.querySelector('#df-1b4802a1-35e8-4e41-b570-2c8957ff26bf button.colab-df-convert');\n",
              "        buttonEl.style.display =\n",
              "          google.colab.kernel.accessAllowed ? 'block' : 'none';\n",
              "\n",
              "        async function convertToInteractive(key) {\n",
              "          const element = document.querySelector('#df-1b4802a1-35e8-4e41-b570-2c8957ff26bf');\n",
              "          const dataTable =\n",
              "            await google.colab.kernel.invokeFunction('convertToInteractive',\n",
              "                                                     [key], {});\n",
              "          if (!dataTable) return;\n",
              "\n",
              "          const docLinkHtml = 'Like what you see? Visit the ' +\n",
              "            '<a target=\"_blank\" href=https://colab.research.google.com/notebooks/data_table.ipynb>data table notebook</a>'\n",
              "            + ' to learn more about interactive tables.';\n",
              "          element.innerHTML = '';\n",
              "          dataTable['output_type'] = 'display_data';\n",
              "          await google.colab.output.renderOutput(dataTable, element);\n",
              "          const docLink = document.createElement('div');\n",
              "          docLink.innerHTML = docLinkHtml;\n",
              "          element.appendChild(docLink);\n",
              "        }\n",
              "      </script>\n",
              "    </div>\n",
              "  </div>\n",
              "  "
            ]
          },
          "metadata": {},
          "execution_count": 83
        }
      ]
    },
    {
      "cell_type": "code",
      "source": [
        "# Samples\n",
        "print(f\"Total training samples: {len(train_df)}\")\n",
        "print(f\"Total valid samples: {len(valid_df)}\")\n",
        "print(f\"Total samples: {len(train_df) + len(valid_df)}\")"
      ],
      "metadata": {
        "colab": {
          "base_uri": "https://localhost:8080/"
        },
        "id": "e-M8XuVkAc8v",
        "outputId": "b38e6cf9-4d95-4c41-9e77-893c45b9c680"
      },
      "execution_count": 6,
      "outputs": [
        {
          "output_type": "stream",
          "name": "stdout",
          "text": [
            "Total training samples: 14000\n",
            "Total valid samples: 1000\n",
            "Total samples: 15000\n"
          ]
        }
      ]
    },
    {
      "cell_type": "markdown",
      "source": [
        "### Transform training, validation and test sets to Numpy"
      ],
      "metadata": {
        "id": "YZ4hnCvOAvGG"
      }
    },
    {
      "cell_type": "code",
      "source": [
        "# Transform to numpy\n",
        "train_sentences = train_df[\"sentence\"].to_numpy()\n",
        "val_sentences = valid_df[\"sentence\"].to_numpy()\n",
        "test_sentences = test_df[\"sentence\"].to_numpy()\n",
        "train_labels = train_df[\"emotion\"].to_numpy()\n",
        "val_labels = valid_df[\"emotion\"].to_numpy()\n",
        "\n",
        "\n",
        "# Check the lengths\n",
        "len(train_sentences), len(train_labels), len(val_sentences), len(val_labels), len(test_sentences)"
      ],
      "metadata": {
        "colab": {
          "base_uri": "https://localhost:8080/"
        },
        "id": "jikX_tHJAlak",
        "outputId": "28af4c74-8e36-42d0-b1bf-23d2fdb2d757"
      },
      "execution_count": 7,
      "outputs": [
        {
          "output_type": "execute_result",
          "data": {
            "text/plain": [
              "(14000, 14000, 1000, 1000, 2000)"
            ]
          },
          "metadata": {},
          "execution_count": 7
        }
      ]
    },
    {
      "cell_type": "markdown",
      "source": [
        "### Tokenization"
      ],
      "metadata": {
        "id": "ulXhItj3CmM7"
      }
    },
    {
      "cell_type": "code",
      "source": [
        "# The default TextVectorization variables\n",
        "text_vectorizer = TextVectorization(max_tokens=None,\n",
        "                                    standardize=\"lower_and_strip_punctuation\", \n",
        "                                    split=\"whitespace\", \n",
        "                                    ngrams=None, \n",
        "                                    output_mode=\"int\", \n",
        "                                    output_sequence_length=None) "
      ],
      "metadata": {
        "id": "CC2bxpPNCoed"
      },
      "execution_count": 8,
      "outputs": []
    },
    {
      "cell_type": "code",
      "source": [
        "# Average number of tokens (words) in training set\n",
        "round(sum([len(i.split()) for i in train_sentences])/len(train_sentences))"
      ],
      "metadata": {
        "colab": {
          "base_uri": "https://localhost:8080/"
        },
        "id": "tD8b6xUCC3yz",
        "outputId": "df36bea2-459d-459a-d42e-c64aead0b997"
      },
      "execution_count": 9,
      "outputs": [
        {
          "output_type": "execute_result",
          "data": {
            "text/plain": [
              "9"
            ]
          },
          "metadata": {},
          "execution_count": 9
        }
      ]
    },
    {
      "cell_type": "code",
      "source": [
        "# Setup text vectorization with custom variables\n",
        "max_vocab_length = 10000\n",
        "max_length = 9\n",
        "\n",
        "text_vectorizer = TextVectorization(max_tokens=max_vocab_length,\n",
        "                                    output_mode=\"int\",\n",
        "                                    output_sequence_length=max_length)"
      ],
      "metadata": {
        "id": "WW0c4tpZDGV7"
      },
      "execution_count": 10,
      "outputs": []
    },
    {
      "cell_type": "code",
      "source": [
        "# Fit the text vectorizer to the training text\n",
        "text_vectorizer.adapt(train_sentences)"
      ],
      "metadata": {
        "id": "r6oubcScDcPQ"
      },
      "execution_count": 11,
      "outputs": []
    },
    {
      "cell_type": "code",
      "source": [
        "# Get the unique words in the vocabulary\n",
        "words_in_vocab = text_vectorizer.get_vocabulary()\n",
        "print(f\"Number of words in vocab: {len(words_in_vocab)}\")"
      ],
      "metadata": {
        "colab": {
          "base_uri": "https://localhost:8080/"
        },
        "id": "3PY256fFDeej",
        "outputId": "6d333326-ba7d-4690-8a16-059cc0ca6132"
      },
      "execution_count": 13,
      "outputs": [
        {
          "output_type": "stream",
          "name": "stdout",
          "text": [
            "Number of words in vocab: 7656\n"
          ]
        }
      ]
    },
    {
      "cell_type": "code",
      "source": [
        "# Get the config of our text vectorizer\n",
        "text_vectorizer.get_config()"
      ],
      "metadata": {
        "colab": {
          "base_uri": "https://localhost:8080/"
        },
        "id": "lf1CAnfx1TEW",
        "outputId": "68e39b06-0575-4a11-a7d4-a6903b38c6c2"
      },
      "execution_count": 14,
      "outputs": [
        {
          "output_type": "execute_result",
          "data": {
            "text/plain": [
              "{'batch_input_shape': (None,),\n",
              " 'dtype': 'string',\n",
              " 'idf_weights': None,\n",
              " 'max_tokens': 10000,\n",
              " 'name': 'text_vectorization_1',\n",
              " 'ngrams': None,\n",
              " 'output_mode': 'int',\n",
              " 'output_sequence_length': 9,\n",
              " 'pad_to_max_tokens': False,\n",
              " 'ragged': False,\n",
              " 'sparse': False,\n",
              " 'split': 'whitespace',\n",
              " 'standardize': 'lower_and_strip_punctuation',\n",
              " 'trainable': True,\n",
              " 'vocabulary': None}"
            ]
          },
          "metadata": {},
          "execution_count": 14
        }
      ]
    },
    {
      "cell_type": "markdown",
      "source": [
        "### Embedding"
      ],
      "metadata": {
        "id": "LMETdiVcEKu1"
      }
    },
    {
      "cell_type": "code",
      "source": [
        "tf.random.set_seed(42)\n",
        "\n",
        "embedding = layers.Embedding(input_dim=max_vocab_length, # set input shape\n",
        "                             output_dim=128, # set size of embedding vector\n",
        "                             embeddings_initializer=\"uniform\", # default, intialize randomly\n",
        "                             input_length=max_length, # how long is each input\n",
        "                             name=\"embedding_1\") \n",
        "\n",
        "embedding"
      ],
      "metadata": {
        "colab": {
          "base_uri": "https://localhost:8080/"
        },
        "id": "9Dv3Rdl6EKF8",
        "outputId": "9cd1207c-0f01-4542-caee-5cd1574265cc"
      },
      "execution_count": 15,
      "outputs": [
        {
          "output_type": "execute_result",
          "data": {
            "text/plain": [
              "<keras.layers.embeddings.Embedding at 0x7fd286e5aad0>"
            ]
          },
          "metadata": {},
          "execution_count": 15
        }
      ]
    },
    {
      "cell_type": "code",
      "source": [
        "# One hot encode labels\n",
        "one_hot_encoder = OneHotEncoder(sparse=False)\n",
        "train_labels_one_hot = one_hot_encoder.fit_transform(train_labels.reshape(-1, 1))\n",
        "val_labels_one_hot = one_hot_encoder.transform(val_labels.reshape(-1, 1))\n",
        "\n",
        "# Check what training labels look like\n",
        "train_labels_one_hot"
      ],
      "metadata": {
        "colab": {
          "base_uri": "https://localhost:8080/"
        },
        "id": "97cp_PRd-tIs",
        "outputId": "3f0af063-3638-49e2-a46b-3b1807c657f0"
      },
      "execution_count": 16,
      "outputs": [
        {
          "output_type": "execute_result",
          "data": {
            "text/plain": [
              "array([[0., 0., 0., ..., 1., 0., 0.],\n",
              "       [0., 0., 0., ..., 0., 0., 1.],\n",
              "       [0., 0., 0., ..., 1., 0., 0.],\n",
              "       ...,\n",
              "       [0., 0., 0., ..., 0., 0., 0.],\n",
              "       [0., 0., 0., ..., 0., 0., 0.],\n",
              "       [0., 0., 0., ..., 1., 0., 0.]])"
            ]
          },
          "metadata": {},
          "execution_count": 16
        }
      ]
    },
    {
      "cell_type": "code",
      "source": [
        "# Turn data into TensorFlow Datasets\n",
        "train_dataset = tf.data.Dataset.from_tensor_slices((train_sentences, train_labels_one_hot))\n",
        "valid_dataset = tf.data.Dataset.from_tensor_slices((val_sentences, val_labels_one_hot))\n",
        "\n",
        "train_dataset"
      ],
      "metadata": {
        "colab": {
          "base_uri": "https://localhost:8080/"
        },
        "id": "1gSueEy4-GUM",
        "outputId": "4bffad32-ca42-4b1d-dc8c-3879a56782e2"
      },
      "execution_count": 17,
      "outputs": [
        {
          "output_type": "execute_result",
          "data": {
            "text/plain": [
              "<TensorSliceDataset element_spec=(TensorSpec(shape=(), dtype=tf.string, name=None), TensorSpec(shape=(8,), dtype=tf.float64, name=None))>"
            ]
          },
          "metadata": {},
          "execution_count": 17
        }
      ]
    },
    {
      "cell_type": "code",
      "source": [
        "# Take the TensorSliceDataset's and turn them into prefetched batches\n",
        "train_dataset = train_dataset.batch(32).prefetch(tf.data.AUTOTUNE)\n",
        "valid_dataset = valid_dataset.batch(32).prefetch(tf.data.AUTOTUNE)\n",
        "\n",
        "train_dataset"
      ],
      "metadata": {
        "colab": {
          "base_uri": "https://localhost:8080/"
        },
        "id": "rmZKJEij-PRM",
        "outputId": "a00ac112-bad1-4fac-eaa5-dbdd290d510b"
      },
      "execution_count": 18,
      "outputs": [
        {
          "output_type": "execute_result",
          "data": {
            "text/plain": [
              "<PrefetchDataset element_spec=(TensorSpec(shape=(None,), dtype=tf.string, name=None), TensorSpec(shape=(None, 8), dtype=tf.float64, name=None))>"
            ]
          },
          "metadata": {},
          "execution_count": 18
        }
      ]
    },
    {
      "cell_type": "markdown",
      "source": [
        "### Create Models"
      ],
      "metadata": {
        "id": "JjHYjPuzEple"
      }
    },
    {
      "cell_type": "code",
      "source": [
        "# Function to evaluate: accuracy, precision, recall, f1-score\n",
        "\n",
        "def calculate_results(y_true, y_pred):\n",
        "  \"\"\"\n",
        "  Calculates model accuracy, precision, recall and f1 score of a binary classification model.\n",
        "\n",
        "  Args:\n",
        "  -----\n",
        "  y_true = true labels in the form of a 1D array\n",
        "  y_pred = predicted labels in the form of a 1D array\n",
        "\n",
        "  Returns a dictionary of accuracy, precision, recall, f1-score.\n",
        "  \"\"\"\n",
        "  # Calculate model accuracy\n",
        "  model_accuracy = accuracy_score(y_true, y_pred) * 100\n",
        "  # Calculate model precision, recall and f1 score using \"weighted\" average\n",
        "  model_precision, model_recall, model_f1, _ = precision_recall_fscore_support(y_true, y_pred, average=\"weighted\")\n",
        "  model_results = {\"accuracy\": model_accuracy,\n",
        "                  \"precision\": model_precision,\n",
        "                  \"recall\": model_recall,\n",
        "                  \"f1\": model_f1}\n",
        "  return model_results"
      ],
      "metadata": {
        "id": "Gl9CUWB6FNjJ"
      },
      "execution_count": 19,
      "outputs": []
    },
    {
      "cell_type": "markdown",
      "source": [
        "#### Model 1 - A simple dense model"
      ],
      "metadata": {
        "id": "SyIJv8NCFA2W"
      }
    },
    {
      "cell_type": "code",
      "source": [
        "# Create 1D convolutional model to process sequences\n",
        "inputs = layers.Input(shape=(1,), dtype=tf.string)\n",
        "text_vectors = text_vectorizer(inputs) # vectorize text inputs\n",
        "token_embeddings = embedding(text_vectors) # create embedding\n",
        "x = layers.Conv1D(64, kernel_size=5, padding=\"same\", activation=\"relu\")(token_embeddings)\n",
        "x = layers.GlobalAveragePooling1D()(x) # condense the output of our feature vector\n",
        "outputs = layers.Dense(8, activation=\"softmax\")(x)\n",
        "model_1 = tf.keras.Model(inputs, outputs)\n",
        "\n",
        "# Compile\n",
        "model_1.compile(loss=\"categorical_crossentropy\",\n",
        "                optimizer=tf.keras.optimizers.Adam(),\n",
        "                metrics=[\"accuracy\"])"
      ],
      "metadata": {
        "id": "z1r3C44DT_Mv"
      },
      "execution_count": 21,
      "outputs": []
    },
    {
      "cell_type": "code",
      "source": [
        "# Compile model\n",
        "model_1.compile(loss=\"categorical_crossentropy\",\n",
        "                optimizer=tf.keras.optimizers.Adam(),\n",
        "                metrics=[\"accuracy\"])"
      ],
      "metadata": {
        "id": "OmP8FaoYFtP5"
      },
      "execution_count": 22,
      "outputs": []
    },
    {
      "cell_type": "code",
      "source": [
        "# Get a summary of the model\n",
        "model_1.summary()"
      ],
      "metadata": {
        "colab": {
          "base_uri": "https://localhost:8080/"
        },
        "id": "fL1tNgNHFvpA",
        "outputId": "e5b2b49a-835c-4c57-a1cc-e1b4676d85b4"
      },
      "execution_count": 23,
      "outputs": [
        {
          "output_type": "stream",
          "name": "stdout",
          "text": [
            "Model: \"model_1\"\n",
            "_________________________________________________________________\n",
            " Layer (type)                Output Shape              Param #   \n",
            "=================================================================\n",
            " input_2 (InputLayer)        [(None, 1)]               0         \n",
            "                                                                 \n",
            " text_vectorization_1 (TextV  (None, 9)                0         \n",
            " ectorization)                                                   \n",
            "                                                                 \n",
            " embedding_1 (Embedding)     (None, 9, 128)            1280000   \n",
            "                                                                 \n",
            " conv1d_1 (Conv1D)           (None, 9, 64)             41024     \n",
            "                                                                 \n",
            " global_average_pooling1d_1   (None, 64)               0         \n",
            " (GlobalAveragePooling1D)                                        \n",
            "                                                                 \n",
            " dense_1 (Dense)             (None, 8)                 520       \n",
            "                                                                 \n",
            "=================================================================\n",
            "Total params: 1,321,544\n",
            "Trainable params: 1,321,544\n",
            "Non-trainable params: 0\n",
            "_________________________________________________________________\n"
          ]
        }
      ]
    },
    {
      "cell_type": "code",
      "source": [
        "# Fit the model\n",
        "model_1_history = model_1.fit(train_dataset,\n",
        "                              steps_per_epoch=int(len(train_dataset)),\n",
        "                              epochs=3,\n",
        "                              validation_data=valid_dataset,\n",
        "                              validation_steps=int(len(valid_dataset))) "
      ],
      "metadata": {
        "colab": {
          "base_uri": "https://localhost:8080/"
        },
        "id": "a4b71MD6RaJW",
        "outputId": "8fa7b537-6132-4348-fe5a-22222b06ef86"
      },
      "execution_count": 24,
      "outputs": [
        {
          "output_type": "stream",
          "name": "stdout",
          "text": [
            "Epoch 1/3\n",
            "438/438 [==============================] - 9s 19ms/step - loss: 1.9132 - accuracy: 0.2691 - val_loss: 1.7537 - val_accuracy: 0.3450\n",
            "Epoch 2/3\n",
            "438/438 [==============================] - 11s 26ms/step - loss: 1.5532 - accuracy: 0.4447 - val_loss: 1.7303 - val_accuracy: 0.3680\n",
            "Epoch 3/3\n",
            "438/438 [==============================] - 8s 18ms/step - loss: 1.2585 - accuracy: 0.5712 - val_loss: 1.8489 - val_accuracy: 0.3580\n"
          ]
        }
      ]
    },
    {
      "cell_type": "code",
      "source": [
        "# Make predictions\n",
        "model_1_pred_probs = model_1.predict(valid_dataset)\n",
        "model_1_pred_probs"
      ],
      "metadata": {
        "colab": {
          "base_uri": "https://localhost:8080/"
        },
        "id": "yBujIzLMAQ6U",
        "outputId": "062cc602-f540-4c74-a56d-ba3e782c6289"
      },
      "execution_count": 26,
      "outputs": [
        {
          "output_type": "execute_result",
          "data": {
            "text/plain": [
              "array([[0.00626481, 0.4646798 , 0.00105936, ..., 0.00600373, 0.00110734,\n",
              "        0.3029902 ],\n",
              "       [0.12706798, 0.01540407, 0.01945466, ..., 0.22267945, 0.01150236,\n",
              "        0.04801081],\n",
              "       [0.0071745 , 0.01869232, 0.00627803, ..., 0.02078598, 0.04715654,\n",
              "        0.06799088],\n",
              "       ...,\n",
              "       [0.5657352 , 0.16235632, 0.04181686, ..., 0.00593888, 0.06582469,\n",
              "        0.06314001],\n",
              "       [0.07235826, 0.09307036, 0.19771759, ..., 0.10811728, 0.1338463 ,\n",
              "        0.08541854],\n",
              "       [0.12805837, 0.21253675, 0.02291073, ..., 0.04287555, 0.04044146,\n",
              "        0.27434576]], dtype=float32)"
            ]
          },
          "metadata": {},
          "execution_count": 26
        }
      ]
    },
    {
      "cell_type": "code",
      "source": [
        "# Convert pred probs to classes\n",
        "model_1_preds = tf.argmax(model_1_pred_probs, axis=1) + 1\n",
        "model_1_preds"
      ],
      "metadata": {
        "colab": {
          "base_uri": "https://localhost:8080/"
        },
        "id": "vgJ5Gj4XAUEI",
        "outputId": "391bc10c-3aa0-4afe-94c9-817a2de96394"
      },
      "execution_count": 27,
      "outputs": [
        {
          "output_type": "execute_result",
          "data": {
            "text/plain": [
              "<tf.Tensor: shape=(1000,), dtype=int64, numpy=\n",
              "array([2, 4, 5, 2, 1, 1, 2, 3, 1, 5, 5, 6, 1, 8, 2, 1, 2, 1, 1, 3, 5, 5,\n",
              "       3, 1, 1, 8, 5, 4, 2, 2, 2, 5, 5, 2, 6, 4, 1, 8, 8, 2, 2, 4, 1, 1,\n",
              "       1, 2, 1, 1, 5, 8, 2, 2, 5, 5, 6, 8, 1, 3, 1, 3, 1, 7, 1, 8, 6, 8,\n",
              "       2, 8, 8, 2, 1, 6, 6, 8, 5, 2, 8, 1, 4, 7, 2, 1, 5, 8, 8, 4, 1, 8,\n",
              "       5, 2, 2, 1, 3, 2, 8, 1, 4, 1, 1, 5, 4, 8, 2, 1, 6, 7, 8, 7, 5, 7,\n",
              "       1, 8, 1, 1, 6, 8, 5, 5, 5, 7, 5, 8, 2, 2, 7, 2, 3, 2, 2, 8, 2, 3,\n",
              "       1, 3, 4, 1, 1, 2, 1, 2, 2, 5, 5, 7, 8, 8, 5, 6, 1, 4, 8, 8, 7, 1,\n",
              "       1, 2, 3, 5, 4, 1, 6, 2, 4, 3, 8, 2, 2, 5, 3, 3, 2, 2, 2, 1, 1, 6,\n",
              "       8, 7, 1, 6, 5, 5, 7, 8, 2, 8, 8, 8, 8, 7, 6, 6, 6, 4, 2, 2, 2, 8,\n",
              "       1, 8, 1, 8, 1, 3, 1, 5, 8, 2, 1, 3, 5, 3, 5, 8, 6, 1, 2, 2, 1, 3,\n",
              "       2, 4, 7, 7, 5, 3, 8, 8, 8, 8, 2, 4, 2, 1, 2, 5, 6, 7, 2, 8, 4, 1,\n",
              "       8, 2, 2, 6, 4, 5, 8, 8, 2, 6, 7, 7, 1, 4, 4, 2, 7, 1, 3, 1, 1, 4,\n",
              "       5, 8, 4, 2, 2, 8, 1, 6, 2, 1, 1, 2, 1, 3, 8, 1, 1, 1, 1, 8, 8, 8,\n",
              "       2, 5, 7, 3, 1, 7, 1, 6, 6, 7, 5, 3, 5, 8, 7, 2, 5, 1, 6, 5, 5, 2,\n",
              "       2, 1, 2, 3, 1, 1, 4, 5, 8, 8, 1, 7, 2, 2, 8, 2, 2, 3, 5, 6, 4, 2,\n",
              "       8, 3, 8, 5, 1, 2, 3, 1, 2, 3, 5, 2, 5, 4, 7, 8, 1, 2, 7, 1, 7, 8,\n",
              "       5, 8, 8, 1, 8, 8, 6, 1, 3, 8, 2, 8, 1, 4, 8, 1, 8, 3, 7, 5, 1, 4,\n",
              "       4, 6, 6, 5, 1, 2, 1, 1, 2, 2, 7, 1, 1, 1, 1, 4, 4, 7, 2, 2, 4, 1,\n",
              "       2, 1, 8, 8, 8, 1, 2, 2, 5, 6, 8, 1, 1, 4, 8, 4, 5, 1, 1, 3, 4, 1,\n",
              "       2, 6, 1, 1, 6, 2, 5, 2, 5, 1, 6, 8, 4, 5, 1, 2, 8, 4, 3, 5, 5, 2,\n",
              "       1, 7, 1, 5, 4, 2, 3, 6, 8, 6, 8, 1, 1, 8, 1, 5, 5, 8, 1, 8, 3, 6,\n",
              "       1, 5, 8, 2, 8, 1, 1, 6, 6, 6, 1, 1, 8, 8, 5, 1, 1, 2, 2, 2, 1, 6,\n",
              "       4, 1, 4, 3, 5, 1, 8, 3, 1, 8, 2, 1, 3, 5, 2, 5, 1, 8, 1, 4, 8, 8,\n",
              "       6, 1, 1, 4, 2, 2, 3, 1, 5, 8, 2, 2, 8, 1, 6, 2, 4, 8, 7, 5, 1, 8,\n",
              "       5, 7, 8, 3, 1, 1, 4, 8, 8, 8, 1, 3, 1, 2, 8, 1, 3, 7, 4, 1, 1, 2,\n",
              "       1, 2, 1, 4, 5, 1, 2, 5, 4, 3, 2, 2, 8, 3, 1, 3, 1, 5, 5, 2, 1, 7,\n",
              "       5, 2, 6, 4, 1, 2, 6, 5, 1, 3, 2, 1, 5, 2, 1, 6, 4, 5, 1, 1, 5, 3,\n",
              "       2, 2, 5, 4, 2, 8, 5, 1, 7, 2, 7, 5, 8, 4, 1, 6, 5, 2, 8, 2, 5, 2,\n",
              "       4, 1, 5, 1, 4, 1, 8, 1, 8, 2, 2, 6, 1, 5, 6, 8, 3, 8, 1, 1, 1, 2,\n",
              "       1, 4, 1, 8, 1, 8, 2, 2, 4, 8, 1, 5, 3, 5, 8, 8, 6, 3, 6, 8, 7, 6,\n",
              "       1, 1, 8, 1, 3, 6, 1, 7, 8, 6, 3, 2, 5, 5, 2, 5, 1, 2, 5, 5, 4, 1,\n",
              "       5, 2, 8, 1, 7, 3, 8, 8, 7, 5, 8, 4, 1, 1, 1, 1, 4, 5, 2, 2, 8, 2,\n",
              "       2, 5, 1, 5, 1, 8, 1, 1, 7, 1, 1, 6, 1, 3, 6, 2, 1, 4, 1, 1, 6, 8,\n",
              "       6, 7, 2, 1, 2, 1, 8, 4, 5, 1, 6, 4, 6, 1, 2, 4, 1, 2, 2, 2, 1, 8,\n",
              "       5, 1, 2, 8, 2, 3, 1, 1, 3, 2, 7, 8, 6, 6, 8, 1, 1, 2, 8, 7, 2, 2,\n",
              "       4, 8, 6, 2, 2, 8, 5, 8, 7, 1, 1, 1, 1, 4, 6, 2, 4, 2, 6, 5, 5, 4,\n",
              "       3, 4, 3, 3, 6, 1, 6, 2, 7, 4, 5, 1, 6, 4, 8, 7, 7, 1, 2, 1, 3, 6,\n",
              "       1, 1, 5, 2, 8, 3, 1, 4, 4, 1, 1, 1, 2, 5, 8, 6, 2, 3, 7, 1, 8, 8,\n",
              "       1, 4, 8, 8, 1, 8, 3, 4, 8, 2, 5, 2, 8, 2, 2, 2, 6, 1, 5, 6, 7, 2,\n",
              "       7, 8, 2, 8, 1, 2, 2, 2, 1, 8, 8, 3, 1, 4, 2, 1, 4, 1, 7, 3, 4, 8,\n",
              "       6, 3, 1, 2, 3, 6, 7, 7, 5, 2, 1, 3, 1, 2, 6, 1, 1, 3, 3, 1, 7, 6,\n",
              "       6, 4, 1, 7, 3, 2, 1, 4, 1, 4, 5, 4, 8, 1, 2, 5, 8, 1, 1, 1, 5, 2,\n",
              "       1, 1, 1, 5, 1, 2, 6, 4, 4, 8, 4, 6, 7, 2, 2, 1, 1, 6, 1, 1, 8, 1,\n",
              "       4, 7, 1, 2, 5, 4, 1, 2, 2, 8, 1, 1, 2, 1, 1, 4, 2, 1, 3, 1, 2, 4,\n",
              "       1, 2, 4, 5, 2, 1, 5, 2, 8, 3, 2, 2, 8, 1, 8, 6, 8, 8, 3, 1, 3, 1,\n",
              "       1, 5, 4, 6, 7, 4, 8, 1, 5, 8])>"
            ]
          },
          "metadata": {},
          "execution_count": 27
        }
      ]
    },
    {
      "cell_type": "code",
      "source": [
        "# Calculate model_1 results\n",
        "model_1_results = calculate_results(y_true=val_labels,\n",
        "                                    y_pred=model_1_preds)\n",
        "model_1_results"
      ],
      "metadata": {
        "colab": {
          "base_uri": "https://localhost:8080/"
        },
        "id": "C9thZtMpAY7b",
        "outputId": "49acc173-a5b7-43e3-b7c0-59edd6ca15f2"
      },
      "execution_count": 28,
      "outputs": [
        {
          "output_type": "execute_result",
          "data": {
            "text/plain": [
              "{'accuracy': 35.8,\n",
              " 'f1': 0.3542043814510458,\n",
              " 'precision': 0.3559899578204556,\n",
              " 'recall': 0.358}"
            ]
          },
          "metadata": {},
          "execution_count": 28
        }
      ]
    },
    {
      "cell_type": "markdown",
      "source": [
        "#### Model 2 - Feature extraction with pretrained token embeddings - Universal Sentence Encoder"
      ],
      "metadata": {
        "id": "6V327siDAjxq"
      }
    },
    {
      "cell_type": "code",
      "source": [
        "# Download pretrained TensorFlow Hub universal sentence encoder\n",
        "\n",
        "tf_hub_embedding_layer = hub.KerasLayer(\"https://tfhub.dev/google/universal-sentence-encoder/4\",\n",
        "                                        trainable=False,\n",
        "                                        name=\"universal_sentence_encoder\")"
      ],
      "metadata": {
        "id": "UfHv1xuNBgOH"
      },
      "execution_count": 29,
      "outputs": []
    },
    {
      "cell_type": "code",
      "source": [
        "# Define feature extractor model using TF Hub layer\n",
        "inputs = layers.Input(shape=[], dtype=tf.string)\n",
        "pretrained_embedding = tf_hub_embedding_layer(inputs) # tokenize text and create embedding\n",
        "x = layers.Dense(128, activation=\"relu\")(pretrained_embedding) # add a fully connected layer on top of the embedding\n",
        "x = layers.Dense(128, activation=\"relu\")(x) # add a fully connected layer on top of the embedding\n",
        "outputs = layers.Dense(8, activation=\"softmax\")(x) # create the output layer\n",
        "model_2 = tf.keras.Model(inputs=inputs,\n",
        "                        outputs=outputs)\n",
        "\n",
        "# Compile the model\n",
        "model_2.compile(loss=\"categorical_crossentropy\",\n",
        "                optimizer=tf.keras.optimizers.Adam(),\n",
        "                metrics=[\"accuracy\"])\n",
        "\n",
        "# Get a summary of the model\n",
        "model_2.summary()"
      ],
      "metadata": {
        "id": "FpVyTT5uCEke",
        "colab": {
          "base_uri": "https://localhost:8080/"
        },
        "outputId": "692489f4-31b6-43d2-b4c0-6005c13100a0"
      },
      "execution_count": 31,
      "outputs": [
        {
          "output_type": "stream",
          "name": "stdout",
          "text": [
            "Model: \"model_2\"\n",
            "_________________________________________________________________\n",
            " Layer (type)                Output Shape              Param #   \n",
            "=================================================================\n",
            " input_3 (InputLayer)        [(None,)]                 0         \n",
            "                                                                 \n",
            " universal_sentence_encoder   (None, 512)              256797824 \n",
            " (KerasLayer)                                                    \n",
            "                                                                 \n",
            " dense_2 (Dense)             (None, 128)               65664     \n",
            "                                                                 \n",
            " dense_3 (Dense)             (None, 128)               16512     \n",
            "                                                                 \n",
            " dense_4 (Dense)             (None, 8)                 1032      \n",
            "                                                                 \n",
            "=================================================================\n",
            "Total params: 256,881,032\n",
            "Trainable params: 83,208\n",
            "Non-trainable params: 256,797,824\n",
            "_________________________________________________________________\n"
          ]
        }
      ]
    },
    {
      "cell_type": "code",
      "source": [
        "# Fit feature extractor model for 3 epochs\n",
        "model_2.fit(train_dataset,\n",
        "            steps_per_epoch=int(len(train_dataset)),\n",
        "            epochs=3,\n",
        "            validation_data=valid_dataset,\n",
        "            validation_steps=int(len(valid_dataset)))"
      ],
      "metadata": {
        "colab": {
          "base_uri": "https://localhost:8080/"
        },
        "id": "9iGYxIQgCRiV",
        "outputId": "b1bebcfd-2c6c-4bfd-f1f7-436270e01c23"
      },
      "execution_count": 32,
      "outputs": [
        {
          "output_type": "stream",
          "name": "stdout",
          "text": [
            "Epoch 1/3\n",
            "438/438 [==============================] - 8s 11ms/step - loss: 1.6562 - accuracy: 0.3877 - val_loss: 1.5460 - val_accuracy: 0.4310\n",
            "Epoch 2/3\n",
            "438/438 [==============================] - 4s 10ms/step - loss: 1.4819 - accuracy: 0.4616 - val_loss: 1.5360 - val_accuracy: 0.4420\n",
            "Epoch 3/3\n",
            "438/438 [==============================] - 6s 13ms/step - loss: 1.4352 - accuracy: 0.4814 - val_loss: 1.5347 - val_accuracy: 0.4510\n"
          ]
        },
        {
          "output_type": "execute_result",
          "data": {
            "text/plain": [
              "<keras.callbacks.History at 0x7fd28356fdd0>"
            ]
          },
          "metadata": {},
          "execution_count": 32
        }
      ]
    },
    {
      "cell_type": "code",
      "source": [
        "# Make predictions with feature extraction model\n",
        "model_2_pred_probs = model_2.predict(valid_dataset)\n",
        "model_2_pred_probs"
      ],
      "metadata": {
        "colab": {
          "base_uri": "https://localhost:8080/"
        },
        "id": "k1jIbCpXCdKe",
        "outputId": "0ca2b04e-cb33-4048-9f3f-a079fb21f611"
      },
      "execution_count": 34,
      "outputs": [
        {
          "output_type": "execute_result",
          "data": {
            "text/plain": [
              "array([[0.03760057, 0.22206317, 0.01659917, ..., 0.02821268, 0.01342272,\n",
              "        0.09768453],\n",
              "       [0.06799753, 0.08150388, 0.08451717, ..., 0.30833232, 0.07957009,\n",
              "        0.15709408],\n",
              "       [0.03453704, 0.03538954, 0.02125585, ..., 0.10010757, 0.4776975 ,\n",
              "        0.07206474],\n",
              "       ...,\n",
              "       [0.7458584 , 0.07302288, 0.01073778, ..., 0.00408832, 0.00973787,\n",
              "        0.08324195],\n",
              "       [0.06472748, 0.54124004, 0.0148844 , ..., 0.01928284, 0.19280753,\n",
              "        0.09082155],\n",
              "       [0.0754981 , 0.33410728, 0.02126292, ..., 0.01087739, 0.06760689,\n",
              "        0.10978047]], dtype=float32)"
            ]
          },
          "metadata": {},
          "execution_count": 34
        }
      ]
    },
    {
      "cell_type": "code",
      "source": [
        "# Convert the predictions with feature extraction model to classes\n",
        "model_2_preds = tf.argmax(model_2_pred_probs, axis=1) + 1\n",
        "model_2_preds"
      ],
      "metadata": {
        "colab": {
          "base_uri": "https://localhost:8080/"
        },
        "id": "Y1J2oFhPChMd",
        "outputId": "e89dfd15-5d6d-4f57-b1d2-dc64676a67ef"
      },
      "execution_count": 35,
      "outputs": [
        {
          "output_type": "execute_result",
          "data": {
            "text/plain": [
              "<tf.Tensor: shape=(1000,), dtype=int64, numpy=\n",
              "array([4, 6, 7, 1, 1, 3, 1, 1, 6, 5, 8, 5, 1, 8, 2, 8, 8, 1, 1, 1, 5, 5,\n",
              "       8, 1, 1, 8, 5, 5, 2, 2, 2, 7, 8, 2, 4, 6, 4, 5, 8, 2, 6, 5, 6, 1,\n",
              "       2, 8, 2, 7, 5, 1, 1, 2, 5, 5, 6, 6, 2, 6, 2, 6, 1, 2, 3, 8, 3, 1,\n",
              "       8, 8, 4, 8, 7, 8, 6, 4, 7, 2, 4, 2, 2, 2, 2, 1, 5, 6, 4, 6, 1, 1,\n",
              "       2, 8, 2, 8, 4, 2, 8, 1, 4, 4, 1, 8, 1, 1, 3, 1, 6, 1, 1, 7, 7, 7,\n",
              "       8, 8, 1, 2, 1, 5, 5, 5, 4, 1, 2, 3, 2, 4, 7, 2, 1, 5, 7, 1, 5, 6,\n",
              "       1, 2, 8, 1, 1, 1, 1, 2, 5, 2, 1, 1, 8, 8, 8, 6, 1, 6, 8, 8, 5, 1,\n",
              "       1, 2, 7, 1, 5, 1, 6, 2, 1, 6, 4, 1, 2, 5, 3, 7, 2, 2, 7, 1, 1, 1,\n",
              "       2, 6, 3, 6, 2, 5, 7, 3, 4, 8, 5, 5, 8, 5, 4, 2, 6, 4, 5, 8, 1, 7,\n",
              "       1, 8, 1, 2, 1, 1, 1, 1, 8, 1, 2, 6, 5, 1, 2, 8, 5, 1, 2, 7, 1, 3,\n",
              "       2, 2, 5, 1, 2, 2, 8, 1, 8, 2, 2, 4, 2, 1, 2, 5, 6, 7, 1, 3, 4, 1,\n",
              "       3, 1, 2, 1, 3, 5, 8, 1, 2, 6, 7, 6, 1, 4, 6, 5, 2, 1, 3, 2, 1, 4,\n",
              "       3, 6, 4, 8, 2, 8, 1, 6, 2, 2, 2, 2, 1, 2, 8, 8, 1, 1, 1, 1, 2, 8,\n",
              "       1, 8, 1, 1, 1, 3, 1, 4, 6, 1, 5, 8, 3, 4, 2, 2, 2, 3, 8, 5, 3, 2,\n",
              "       2, 3, 7, 1, 1, 6, 1, 5, 8, 2, 3, 4, 2, 2, 8, 2, 7, 7, 8, 6, 1, 2,\n",
              "       8, 1, 8, 2, 1, 2, 3, 8, 6, 2, 8, 2, 8, 1, 7, 8, 2, 2, 7, 2, 1, 1,\n",
              "       5, 8, 5, 1, 8, 4, 6, 4, 3, 8, 2, 8, 3, 4, 7, 2, 2, 3, 1, 5, 2, 2,\n",
              "       1, 2, 6, 5, 1, 2, 2, 1, 2, 2, 7, 4, 1, 1, 1, 2, 4, 1, 5, 1, 2, 1,\n",
              "       2, 1, 1, 8, 6, 1, 1, 1, 1, 1, 6, 2, 6, 4, 8, 4, 5, 1, 1, 3, 4, 1,\n",
              "       7, 6, 1, 1, 6, 1, 8, 2, 5, 1, 6, 2, 4, 5, 1, 5, 2, 4, 1, 5, 8, 2,\n",
              "       8, 7, 1, 2, 4, 2, 1, 1, 8, 5, 6, 3, 6, 1, 1, 2, 8, 6, 6, 8, 1, 1,\n",
              "       3, 5, 8, 6, 2, 8, 1, 1, 4, 6, 1, 1, 8, 5, 2, 4, 7, 2, 8, 2, 1, 5,\n",
              "       1, 4, 1, 1, 5, 1, 2, 1, 1, 1, 4, 8, 1, 5, 2, 5, 1, 8, 1, 1, 8, 2,\n",
              "       7, 1, 1, 4, 2, 8, 2, 4, 5, 8, 2, 2, 8, 4, 4, 2, 4, 6, 7, 5, 1, 1,\n",
              "       8, 7, 5, 1, 1, 1, 7, 8, 6, 2, 1, 3, 4, 2, 2, 1, 2, 4, 4, 6, 1, 3,\n",
              "       2, 2, 8, 1, 5, 3, 2, 2, 1, 1, 2, 1, 8, 3, 1, 3, 1, 1, 8, 1, 3, 1,\n",
              "       5, 8, 1, 3, 6, 1, 6, 5, 1, 1, 1, 1, 3, 1, 2, 1, 1, 6, 1, 1, 8, 3,\n",
              "       1, 2, 5, 7, 2, 7, 2, 2, 7, 1, 2, 3, 8, 1, 1, 6, 5, 4, 1, 2, 5, 2,\n",
              "       1, 1, 5, 1, 1, 1, 5, 8, 1, 2, 8, 3, 2, 2, 6, 1, 2, 6, 1, 1, 1, 2,\n",
              "       7, 6, 1, 7, 1, 5, 5, 8, 4, 8, 7, 6, 8, 5, 8, 8, 8, 5, 1, 6, 7, 1,\n",
              "       1, 3, 5, 1, 1, 6, 1, 7, 8, 1, 4, 2, 8, 1, 2, 6, 1, 2, 2, 8, 4, 1,\n",
              "       5, 2, 2, 4, 6, 1, 2, 8, 1, 4, 2, 2, 1, 8, 2, 1, 1, 8, 2, 1, 3, 2,\n",
              "       2, 8, 1, 5, 2, 1, 1, 1, 3, 4, 6, 1, 8, 1, 1, 2, 6, 7, 1, 1, 4, 2,\n",
              "       1, 5, 1, 1, 4, 2, 8, 1, 7, 1, 6, 4, 2, 7, 4, 1, 1, 2, 2, 2, 1, 5,\n",
              "       5, 2, 2, 2, 8, 7, 1, 8, 3, 2, 1, 2, 6, 4, 8, 1, 1, 2, 5, 6, 4, 2,\n",
              "       4, 4, 6, 2, 2, 8, 5, 8, 7, 1, 1, 1, 3, 3, 1, 2, 1, 2, 3, 2, 5, 6,\n",
              "       3, 1, 4, 1, 2, 6, 2, 7, 6, 4, 5, 1, 8, 4, 7, 2, 8, 7, 4, 1, 1, 4,\n",
              "       1, 8, 5, 8, 3, 2, 8, 6, 1, 1, 1, 4, 3, 4, 8, 3, 4, 7, 2, 1, 8, 5,\n",
              "       1, 6, 8, 8, 1, 5, 2, 2, 8, 7, 5, 2, 1, 7, 2, 2, 6, 6, 5, 6, 2, 2,\n",
              "       7, 8, 2, 8, 4, 2, 2, 2, 1, 1, 8, 5, 1, 4, 1, 1, 6, 2, 1, 7, 7, 8,\n",
              "       4, 8, 1, 6, 4, 6, 2, 1, 5, 8, 1, 1, 2, 4, 6, 1, 1, 3, 8, 1, 1, 6,\n",
              "       6, 4, 1, 1, 7, 6, 1, 6, 1, 1, 5, 5, 4, 1, 2, 5, 1, 7, 1, 5, 5, 2,\n",
              "       1, 1, 4, 5, 1, 2, 6, 2, 3, 3, 2, 8, 2, 1, 3, 1, 4, 1, 1, 3, 1, 1,\n",
              "       7, 2, 4, 2, 5, 1, 7, 1, 2, 7, 1, 3, 4, 1, 1, 4, 4, 1, 1, 1, 1, 8,\n",
              "       1, 2, 1, 5, 8, 4, 5, 2, 6, 3, 2, 6, 8, 1, 2, 5, 3, 8, 8, 1, 3, 1,\n",
              "       8, 5, 1, 3, 1, 8, 3, 1, 2, 4])>"
            ]
          },
          "metadata": {},
          "execution_count": 35
        }
      ]
    },
    {
      "cell_type": "code",
      "source": [
        "# Calculate results from TF Hub pretrained embeddings results on validation set\n",
        "model_2_results = calculate_results(y_true=val_labels,\n",
        "                                    y_pred=model_2_preds)\n",
        "model_2_results"
      ],
      "metadata": {
        "colab": {
          "base_uri": "https://localhost:8080/"
        },
        "id": "BZlj4jYgClhF",
        "outputId": "e58233df-13fc-44e0-85f4-f63d32e7728e"
      },
      "execution_count": 36,
      "outputs": [
        {
          "output_type": "execute_result",
          "data": {
            "text/plain": [
              "{'accuracy': 45.1,\n",
              " 'f1': 0.4433250914779949,\n",
              " 'precision': 0.449038891717879,\n",
              " 'recall': 0.451}"
            ]
          },
          "metadata": {},
          "execution_count": 36
        }
      ]
    },
    {
      "cell_type": "markdown",
      "source": [
        "#### Model 3 - Conv1D with character embeddings"
      ],
      "metadata": {
        "id": "01Wqr5MdCljD"
      }
    },
    {
      "cell_type": "code",
      "source": [
        "# Make function to split sentences into characters\n",
        "def split_chars(text):\n",
        "  return \" \".join(list(text))\n",
        "\n",
        "# Split sequence-level data splits into character-level data splits\n",
        "train_chars = [split_chars(sentence) for sentence in train_sentences]\n",
        "val_chars = [split_chars(sentence) for sentence in val_sentences]\n",
        "\n",
        "print(train_chars[0])"
      ],
      "metadata": {
        "colab": {
          "base_uri": "https://localhost:8080/"
        },
        "id": "s9_o4HWMcXVm",
        "outputId": "59d5491d-8a24-4e9f-ffe9-05718e53c9c6"
      },
      "execution_count": 37,
      "outputs": [
        {
          "output_type": "stream",
          "name": "stdout",
          "text": [
            "I ' m   t o o   o l d   t o   b e   t r a d e d   i n   .\n"
          ]
        }
      ]
    },
    {
      "cell_type": "code",
      "source": [
        "# Average character length\n",
        "char_lens = [len(sentence) for sentence in train_sentences]\n",
        "mean_char_len = np.mean(char_lens)\n",
        "mean_char_len"
      ],
      "metadata": {
        "colab": {
          "base_uri": "https://localhost:8080/"
        },
        "id": "l2O0_Ipgchu3",
        "outputId": "be91de58-0421-4461-a098-9c3da420e942"
      },
      "execution_count": 38,
      "outputs": [
        {
          "output_type": "execute_result",
          "data": {
            "text/plain": [
              "39.99371428571428"
            ]
          },
          "metadata": {},
          "execution_count": 38
        }
      ]
    },
    {
      "cell_type": "code",
      "source": [
        "# Find what character length covers 95% of sequences\n",
        "output_seq_char_len = int(np.percentile(char_lens, 95))\n",
        "output_seq_char_len"
      ],
      "metadata": {
        "colab": {
          "base_uri": "https://localhost:8080/"
        },
        "id": "2-dLPYEgcrZK",
        "outputId": "16289a1c-2e4c-437f-e41a-0c8e81f77ad7"
      },
      "execution_count": 39,
      "outputs": [
        {
          "output_type": "execute_result",
          "data": {
            "text/plain": [
              "86"
            ]
          },
          "metadata": {},
          "execution_count": 39
        }
      ]
    },
    {
      "cell_type": "code",
      "source": [
        "# Get all keyboard characters for char-level embedding\n",
        "import string\n",
        "alphabet = string.ascii_lowercase + string.digits + string.punctuation\n",
        "alphabet"
      ],
      "metadata": {
        "colab": {
          "base_uri": "https://localhost:8080/",
          "height": 36
        },
        "id": "SQMkxEqcct74",
        "outputId": "085403ba-2171-45c4-f141-a0debd78c9e8"
      },
      "execution_count": 40,
      "outputs": [
        {
          "output_type": "execute_result",
          "data": {
            "text/plain": [
              "'abcdefghijklmnopqrstuvwxyz0123456789!\"#$%&\\'()*+,-./:;<=>?@[\\\\]^_`{|}~'"
            ],
            "application/vnd.google.colaboratory.intrinsic+json": {
              "type": "string"
            }
          },
          "metadata": {},
          "execution_count": 40
        }
      ]
    },
    {
      "cell_type": "code",
      "source": [
        "# Create char-level token vectorizer instance\n",
        "NUM_CHAR_TOKENS = len(alphabet) + 2 # num characters in alphabet + space + OOV token\n",
        "char_vectorizer = TextVectorization(max_tokens=NUM_CHAR_TOKENS,  \n",
        "                                    output_sequence_length=output_seq_char_len,\n",
        "                                    standardize=\"lower_and_strip_punctuation\",\n",
        "                                    name=\"char_vectorizer\")\n",
        "\n",
        "# Adapt character vectorizer to training characters\n",
        "char_vectorizer.adapt(train_chars)"
      ],
      "metadata": {
        "id": "suaUoMGPc_AZ"
      },
      "execution_count": 41,
      "outputs": []
    },
    {
      "cell_type": "code",
      "source": [
        "# Check character vocabulary characteristics\n",
        "char_vocab = char_vectorizer.get_vocabulary()\n",
        "print(f\"Number of different characters in character vocab: {len(char_vocab)}\")"
      ],
      "metadata": {
        "colab": {
          "base_uri": "https://localhost:8080/"
        },
        "id": "hyIz22f8dDaK",
        "outputId": "65170031-6ae0-4a39-daf5-3cc708f8a88d"
      },
      "execution_count": 42,
      "outputs": [
        {
          "output_type": "stream",
          "name": "stdout",
          "text": [
            "Number of different characters in character vocab: 45\n"
          ]
        }
      ]
    },
    {
      "cell_type": "code",
      "source": [
        "# Create char embedding layer\n",
        "char_embed = layers.Embedding(input_dim=NUM_CHAR_TOKENS, # number of different characters\n",
        "                              output_dim=25, # embedding dimension of each character (same as Figure 1 in https://arxiv.org/pdf/1612.05251.pdf)\n",
        "                              mask_zero=False, \n",
        "                              name=\"char_embed\")"
      ],
      "metadata": {
        "id": "ZdXAVdvwdMk7"
      },
      "execution_count": 43,
      "outputs": []
    },
    {
      "cell_type": "code",
      "source": [
        "# Make Conv1D on chars only\n",
        "inputs = layers.Input(shape=(1,), dtype=\"string\")\n",
        "char_vectors = char_vectorizer(inputs)\n",
        "char_embeddings = char_embed(char_vectors)\n",
        "x = layers.Conv1D(64, kernel_size=5, padding=\"same\", activation=\"relu\")(char_embeddings)\n",
        "x = layers.GlobalMaxPool1D()(x)\n",
        "outputs = layers.Dense(8, activation=\"softmax\")(x)\n",
        "model_3 = tf.keras.Model(inputs=inputs,\n",
        "                         outputs=outputs,\n",
        "                         name=\"model_3_conv1D_char_embedding\")\n",
        "\n",
        "# Compile model\n",
        "model_3.compile(loss=\"categorical_crossentropy\",\n",
        "                optimizer=tf.keras.optimizers.Adam(),\n",
        "                metrics=[\"accuracy\"])\n",
        "\n",
        "# Check the summary of conv1d_char_model\n",
        "model_3.summary()"
      ],
      "metadata": {
        "colab": {
          "base_uri": "https://localhost:8080/"
        },
        "id": "n7U4nsDzdP_R",
        "outputId": "45c076e1-6b90-4dbf-c0f6-ee26a61d63dd"
      },
      "execution_count": 44,
      "outputs": [
        {
          "output_type": "stream",
          "name": "stdout",
          "text": [
            "Model: \"model_3_conv1D_char_embedding\"\n",
            "_________________________________________________________________\n",
            " Layer (type)                Output Shape              Param #   \n",
            "=================================================================\n",
            " input_4 (InputLayer)        [(None, 1)]               0         \n",
            "                                                                 \n",
            " char_vectorizer (TextVector  (None, 86)               0         \n",
            " ization)                                                        \n",
            "                                                                 \n",
            " char_embed (Embedding)      (None, 86, 25)            1750      \n",
            "                                                                 \n",
            " conv1d_2 (Conv1D)           (None, 86, 64)            8064      \n",
            "                                                                 \n",
            " global_max_pooling1d (Globa  (None, 64)               0         \n",
            " lMaxPooling1D)                                                  \n",
            "                                                                 \n",
            " dense_5 (Dense)             (None, 8)                 520       \n",
            "                                                                 \n",
            "=================================================================\n",
            "Total params: 10,334\n",
            "Trainable params: 10,334\n",
            "Non-trainable params: 0\n",
            "_________________________________________________________________\n"
          ]
        }
      ]
    },
    {
      "cell_type": "code",
      "source": [
        "# Create char datasets\n",
        "train_char_dataset = tf.data.Dataset.from_tensor_slices((train_chars, train_labels_one_hot)).batch(32).prefetch(tf.data.AUTOTUNE)\n",
        "val_char_dataset = tf.data.Dataset.from_tensor_slices((val_chars, val_labels_one_hot)).batch(32).prefetch(tf.data.AUTOTUNE)\n",
        "\n",
        "train_char_dataset"
      ],
      "metadata": {
        "colab": {
          "base_uri": "https://localhost:8080/"
        },
        "id": "0A5c4H1FdVhD",
        "outputId": "aa1440cc-789b-4e40-835c-a648b8e730db"
      },
      "execution_count": 45,
      "outputs": [
        {
          "output_type": "execute_result",
          "data": {
            "text/plain": [
              "<PrefetchDataset element_spec=(TensorSpec(shape=(None,), dtype=tf.string, name=None), TensorSpec(shape=(None, 8), dtype=tf.float64, name=None))>"
            ]
          },
          "metadata": {},
          "execution_count": 45
        }
      ]
    },
    {
      "cell_type": "code",
      "source": [
        "# Fit the model on chars only\n",
        "model_3_history = model_3.fit(train_char_dataset,\n",
        "                              steps_per_epoch=int(len(train_char_dataset)),\n",
        "                              epochs=3,\n",
        "                              validation_data=val_char_dataset,\n",
        "                              validation_steps=int(len(val_char_dataset)))"
      ],
      "metadata": {
        "colab": {
          "base_uri": "https://localhost:8080/"
        },
        "id": "fb0Vg6tmdd2x",
        "outputId": "7ae6316c-9cdf-474b-df2c-7bf165223e3d"
      },
      "execution_count": 46,
      "outputs": [
        {
          "output_type": "stream",
          "name": "stdout",
          "text": [
            "Epoch 1/3\n",
            "438/438 [==============================] - 6s 13ms/step - loss: 2.0164 - accuracy: 0.2138 - val_loss: 1.9776 - val_accuracy: 0.2280\n",
            "Epoch 2/3\n",
            "438/438 [==============================] - 5s 12ms/step - loss: 1.9485 - accuracy: 0.2577 - val_loss: 1.9184 - val_accuracy: 0.2830\n",
            "Epoch 3/3\n",
            "438/438 [==============================] - 7s 16ms/step - loss: 1.8842 - accuracy: 0.2879 - val_loss: 1.8865 - val_accuracy: 0.2970\n"
          ]
        }
      ]
    },
    {
      "cell_type": "code",
      "source": [
        "# Make predictions with character model only\n",
        "model_3_pred_probs = model_3.predict(val_char_dataset)\n",
        "model_3_pred_probs"
      ],
      "metadata": {
        "colab": {
          "base_uri": "https://localhost:8080/"
        },
        "id": "b38nBLevdr-2",
        "outputId": "666b1cd3-bc1b-4ce5-c00f-33adc708d38f"
      },
      "execution_count": 47,
      "outputs": [
        {
          "output_type": "execute_result",
          "data": {
            "text/plain": [
              "array([[0.35073954, 0.0986315 , 0.08597985, ..., 0.0648509 , 0.14721933,\n",
              "        0.11126801],\n",
              "       [0.15100335, 0.16424647, 0.06667068, ..., 0.1084465 , 0.04983475,\n",
              "        0.23274341],\n",
              "       [0.47457594, 0.0818024 , 0.07963651, ..., 0.08848419, 0.04666643,\n",
              "        0.11319438],\n",
              "       ...,\n",
              "       [0.40311426, 0.11341616, 0.05478558, ..., 0.09824326, 0.03229632,\n",
              "        0.11366661],\n",
              "       [0.27792835, 0.13499366, 0.13536383, ..., 0.08448666, 0.05023273,\n",
              "        0.18196014],\n",
              "       [0.26490605, 0.24892677, 0.0858975 , ..., 0.06207285, 0.0385281 ,\n",
              "        0.16378126]], dtype=float32)"
            ]
          },
          "metadata": {},
          "execution_count": 47
        }
      ]
    },
    {
      "cell_type": "code",
      "source": [
        "# Convert predictions to classes\n",
        "model_3_preds = tf.argmax(model_3_pred_probs, axis=1) + 1\n",
        "model_3_preds"
      ],
      "metadata": {
        "colab": {
          "base_uri": "https://localhost:8080/"
        },
        "id": "g9n-V5qtdtrN",
        "outputId": "c60edf09-ad12-40ef-e111-48d4e04ec1a9"
      },
      "execution_count": 48,
      "outputs": [
        {
          "output_type": "execute_result",
          "data": {
            "text/plain": [
              "<tf.Tensor: shape=(1000,), dtype=int64, numpy=\n",
              "array([1, 8, 1, 1, 1, 8, 8, 1, 1, 1, 8, 2, 1, 8, 2, 1, 1, 1, 1, 8, 5, 5,\n",
              "       1, 1, 1, 2, 1, 2, 2, 2, 1, 1, 1, 1, 1, 2, 2, 2, 8, 2, 2, 8, 1, 1,\n",
              "       2, 8, 2, 1, 1, 1, 5, 1, 5, 5, 8, 5, 5, 2, 8, 1, 1, 1, 2, 8, 2, 2,\n",
              "       1, 2, 1, 1, 1, 8, 5, 4, 2, 1, 2, 2, 1, 1, 1, 1, 5, 1, 1, 1, 1, 1,\n",
              "       2, 2, 5, 1, 1, 1, 8, 1, 1, 1, 1, 6, 2, 1, 1, 1, 1, 1, 2, 1, 5, 8,\n",
              "       8, 8, 1, 1, 1, 1, 2, 5, 5, 1, 1, 5, 2, 5, 1, 2, 1, 2, 2, 1, 2, 2,\n",
              "       1, 1, 8, 1, 1, 5, 1, 4, 5, 6, 2, 1, 8, 8, 5, 1, 1, 1, 8, 8, 5, 1,\n",
              "       1, 8, 1, 2, 2, 1, 1, 2, 2, 8, 1, 1, 4, 5, 1, 1, 2, 2, 2, 8, 1, 1,\n",
              "       1, 1, 1, 5, 2, 8, 8, 1, 1, 8, 8, 5, 1, 2, 5, 1, 1, 2, 5, 2, 1, 2,\n",
              "       1, 8, 1, 2, 2, 1, 1, 5, 1, 2, 8, 5, 8, 1, 5, 1, 5, 1, 1, 2, 1, 1,\n",
              "       2, 1, 1, 1, 2, 1, 8, 2, 1, 2, 2, 2, 1, 1, 1, 5, 5, 7, 1, 1, 4, 1,\n",
              "       2, 2, 2, 1, 1, 5, 8, 8, 1, 8, 1, 1, 1, 5, 4, 8, 2, 1, 2, 1, 2, 2,\n",
              "       5, 1, 2, 8, 2, 1, 1, 1, 2, 1, 2, 6, 1, 8, 2, 2, 2, 1, 1, 8, 1, 1,\n",
              "       8, 8, 1, 8, 1, 1, 2, 2, 1, 1, 5, 2, 1, 8, 2, 2, 2, 1, 1, 8, 8, 2,\n",
              "       1, 8, 2, 6, 1, 6, 1, 5, 5, 1, 1, 1, 1, 1, 1, 8, 1, 2, 5, 2, 1, 2,\n",
              "       8, 8, 5, 2, 8, 2, 1, 1, 1, 2, 8, 2, 8, 1, 2, 2, 1, 8, 8, 1, 6, 5,\n",
              "       8, 5, 2, 1, 8, 2, 1, 2, 2, 8, 1, 1, 2, 8, 8, 1, 1, 1, 1, 2, 1, 2,\n",
              "       2, 2, 8, 1, 1, 1, 1, 1, 2, 1, 1, 8, 1, 1, 1, 1, 8, 1, 2, 2, 2, 2,\n",
              "       2, 1, 1, 2, 8, 1, 1, 1, 5, 8, 1, 2, 1, 5, 2, 8, 6, 1, 7, 6, 1, 1,\n",
              "       8, 2, 1, 1, 1, 1, 5, 2, 8, 1, 5, 1, 2, 5, 1, 1, 2, 1, 6, 8, 8, 2,\n",
              "       8, 6, 1, 1, 1, 1, 3, 6, 1, 8, 2, 1, 1, 1, 1, 8, 8, 2, 5, 2, 1, 1,\n",
              "       8, 2, 8, 7, 8, 6, 1, 1, 3, 1, 1, 2, 8, 5, 2, 8, 8, 1, 1, 2, 1, 8,\n",
              "       1, 1, 2, 2, 2, 1, 2, 1, 1, 2, 2, 8, 8, 8, 2, 8, 1, 2, 2, 7, 2, 7,\n",
              "       2, 1, 1, 2, 1, 1, 6, 2, 2, 1, 8, 2, 2, 1, 1, 1, 1, 1, 1, 5, 1, 2,\n",
              "       1, 1, 2, 2, 1, 1, 3, 1, 2, 2, 1, 8, 1, 8, 2, 1, 8, 8, 1, 5, 6, 1,\n",
              "       1, 2, 1, 2, 5, 8, 2, 6, 1, 2, 2, 1, 8, 1, 1, 5, 2, 2, 5, 1, 5, 1,\n",
              "       2, 1, 1, 2, 1, 1, 1, 5, 1, 1, 1, 8, 2, 2, 1, 1, 1, 5, 1, 1, 8, 5,\n",
              "       1, 2, 5, 1, 8, 1, 5, 1, 2, 7, 1, 5, 8, 1, 1, 8, 8, 1, 1, 2, 5, 8,\n",
              "       1, 1, 1, 1, 1, 1, 8, 1, 1, 2, 8, 1, 2, 5, 1, 1, 2, 2, 1, 1, 2, 8,\n",
              "       1, 8, 1, 1, 8, 1, 2, 2, 1, 1, 1, 1, 1, 8, 8, 1, 5, 5, 6, 2, 1, 1,\n",
              "       1, 1, 2, 1, 1, 1, 1, 1, 2, 1, 1, 2, 1, 1, 2, 5, 8, 2, 2, 5, 2, 1,\n",
              "       5, 1, 8, 5, 1, 2, 1, 2, 8, 4, 1, 1, 1, 1, 1, 1, 1, 5, 2, 1, 2, 1,\n",
              "       1, 1, 1, 8, 5, 2, 1, 1, 2, 1, 1, 1, 1, 2, 8, 1, 2, 1, 8, 1, 1, 1,\n",
              "       1, 1, 1, 1, 1, 2, 2, 8, 4, 1, 5, 8, 5, 1, 2, 4, 1, 1, 4, 8, 1, 1,\n",
              "       5, 1, 1, 1, 1, 1, 1, 1, 3, 1, 1, 8, 2, 1, 1, 1, 1, 2, 8, 2, 2, 2,\n",
              "       2, 1, 1, 4, 2, 8, 8, 1, 1, 2, 1, 1, 1, 6, 2, 2, 1, 2, 8, 1, 1, 1,\n",
              "       1, 1, 1, 1, 1, 1, 2, 2, 1, 1, 5, 1, 2, 4, 7, 1, 7, 1, 4, 1, 1, 1,\n",
              "       1, 1, 2, 2, 1, 1, 4, 1, 1, 1, 1, 1, 2, 1, 1, 2, 1, 1, 8, 1, 8, 2,\n",
              "       1, 2, 1, 8, 5, 5, 2, 2, 1, 1, 1, 2, 1, 2, 2, 2, 1, 1, 8, 2, 1, 8,\n",
              "       1, 2, 2, 8, 2, 2, 8, 5, 1, 1, 8, 5, 1, 1, 2, 1, 1, 1, 7, 1, 8, 8,\n",
              "       5, 1, 1, 5, 3, 1, 1, 1, 5, 8, 6, 8, 1, 1, 1, 1, 2, 1, 1, 1, 2, 2,\n",
              "       1, 8, 1, 1, 8, 6, 1, 8, 1, 1, 8, 2, 2, 1, 2, 5, 8, 1, 2, 2, 5, 2,\n",
              "       1, 1, 2, 5, 1, 2, 1, 1, 8, 2, 1, 5, 5, 1, 8, 8, 2, 1, 1, 5, 2, 2,\n",
              "       2, 5, 5, 1, 1, 1, 1, 1, 2, 2, 2, 6, 2, 1, 1, 1, 2, 1, 1, 1, 1, 2,\n",
              "       1, 1, 1, 5, 2, 8, 5, 2, 8, 1, 2, 2, 5, 1, 2, 5, 2, 8, 1, 1, 8, 1,\n",
              "       1, 5, 6, 5, 1, 8, 1, 1, 1, 1])>"
            ]
          },
          "metadata": {},
          "execution_count": 48
        }
      ]
    },
    {
      "cell_type": "code",
      "source": [
        "# Calculate Conv1D char only model results\n",
        "model_3_results = calculate_results(y_true=val_labels,\n",
        "                                        y_pred=model_3_preds)\n",
        "model_3_results"
      ],
      "metadata": {
        "colab": {
          "base_uri": "https://localhost:8080/"
        },
        "id": "owE_vEjCdyWT",
        "outputId": "42005389-0b8a-4376-f72e-84d468d5286e"
      },
      "execution_count": 49,
      "outputs": [
        {
          "output_type": "execute_result",
          "data": {
            "text/plain": [
              "{'accuracy': 29.7,\n",
              " 'f1': 0.2410047253301986,\n",
              " 'precision': 0.2898916494096577,\n",
              " 'recall': 0.297}"
            ]
          },
          "metadata": {},
          "execution_count": 49
        }
      ]
    },
    {
      "cell_type": "markdown",
      "source": [
        "#### Model 4: Combining pretrained token embeddings + character embeddings \n",
        "(hybrid embedding layer)"
      ],
      "metadata": {
        "id": "KEVF8ymld4ba"
      }
    },
    {
      "cell_type": "code",
      "source": [
        "# 1. Setup token inputs/model\n",
        "token_inputs = layers.Input(shape=[], dtype=tf.string, name=\"token_input\")\n",
        "token_embeddings = tf_hub_embedding_layer(token_inputs)\n",
        "token_output = layers.Dense(128, activation=\"relu\")(token_embeddings)\n",
        "token_model = tf.keras.Model(inputs=token_inputs,\n",
        "                             outputs=token_output)\n",
        "\n",
        "# 2. Setup char inputs/model\n",
        "char_inputs = layers.Input(shape=(1,), dtype=tf.string, name=\"char_input\")\n",
        "char_vectors = char_vectorizer(char_inputs)\n",
        "char_embeddings = char_embed(char_vectors)\n",
        "char_bi_lstm = layers.Bidirectional(layers.LSTM(25))(char_embeddings) # bi-LSTM shown in Figure 1 of https://arxiv.org/pdf/1612.05251.pdf\n",
        "char_model = tf.keras.Model(inputs=char_inputs,\n",
        "                            outputs=char_bi_lstm)\n",
        "\n",
        "# 3. Concatenate token and char inputs (create hybrid token embedding)\n",
        "token_char_concat = layers.Concatenate(name=\"token_char_hybrid\")([token_model.output, \n",
        "                                                                  char_model.output])\n",
        "\n",
        "# 4. Create output layers - addition of dropout discussed in 4.2 of https://arxiv.org/pdf/1612.05251.pdf\n",
        "combined_dropout = layers.Dropout(0.5)(token_char_concat)\n",
        "combined_dense = layers.Dense(200, activation=\"relu\")(combined_dropout)\n",
        "final_dropout = layers.Dropout(0.5)(combined_dense)\n",
        "output_layer = layers.Dense(8, activation=\"softmax\")(final_dropout)\n",
        "\n",
        "# 5. Construct model with char and token inputs\n",
        "model_4 = tf.keras.Model(inputs=[token_model.input, char_model.input],\n",
        "                         outputs=output_layer,\n",
        "                         name=\"model_4_token_and_char_embeddings\")\n",
        "\n",
        "# Get summary of token and character model\n",
        "model_4.summary()"
      ],
      "metadata": {
        "colab": {
          "base_uri": "https://localhost:8080/"
        },
        "id": "A3BvQqBxd3TD",
        "outputId": "4bba31dc-16b0-413b-f11d-33d55d6b8022"
      },
      "execution_count": 50,
      "outputs": [
        {
          "output_type": "stream",
          "name": "stdout",
          "text": [
            "Model: \"model_4_token_and_char_embeddings\"\n",
            "__________________________________________________________________________________________________\n",
            " Layer (type)                   Output Shape         Param #     Connected to                     \n",
            "==================================================================================================\n",
            " char_input (InputLayer)        [(None, 1)]          0           []                               \n",
            "                                                                                                  \n",
            " token_input (InputLayer)       [(None,)]            0           []                               \n",
            "                                                                                                  \n",
            " char_vectorizer (TextVectoriza  (None, 86)          0           ['char_input[0][0]']             \n",
            " tion)                                                                                            \n",
            "                                                                                                  \n",
            " universal_sentence_encoder (Ke  (None, 512)         256797824   ['token_input[0][0]']            \n",
            " rasLayer)                                                                                        \n",
            "                                                                                                  \n",
            " char_embed (Embedding)         (None, 86, 25)       1750        ['char_vectorizer[1][0]']        \n",
            "                                                                                                  \n",
            " dense_6 (Dense)                (None, 128)          65664       ['universal_sentence_encoder[1][0\n",
            "                                                                 ]']                              \n",
            "                                                                                                  \n",
            " bidirectional (Bidirectional)  (None, 50)           10200       ['char_embed[1][0]']             \n",
            "                                                                                                  \n",
            " token_char_hybrid (Concatenate  (None, 178)         0           ['dense_6[0][0]',                \n",
            " )                                                                'bidirectional[0][0]']          \n",
            "                                                                                                  \n",
            " dropout (Dropout)              (None, 178)          0           ['token_char_hybrid[0][0]']      \n",
            "                                                                                                  \n",
            " dense_7 (Dense)                (None, 200)          35800       ['dropout[0][0]']                \n",
            "                                                                                                  \n",
            " dropout_1 (Dropout)            (None, 200)          0           ['dense_7[0][0]']                \n",
            "                                                                                                  \n",
            " dense_8 (Dense)                (None, 8)            1608        ['dropout_1[0][0]']              \n",
            "                                                                                                  \n",
            "==================================================================================================\n",
            "Total params: 256,912,846\n",
            "Trainable params: 115,022\n",
            "Non-trainable params: 256,797,824\n",
            "__________________________________________________________________________________________________\n"
          ]
        }
      ]
    },
    {
      "cell_type": "code",
      "source": [
        "# Plot hybrid token and character model\n",
        "from tensorflow.keras.utils import plot_model\n",
        "plot_model(model_4)"
      ],
      "metadata": {
        "colab": {
          "base_uri": "https://localhost:8080/",
          "height": 856
        },
        "id": "I5EHgglTeLax",
        "outputId": "89935e4f-7f7c-4b45-c22d-e26e846e674b"
      },
      "execution_count": 51,
      "outputs": [
        {
          "output_type": "execute_result",
          "data": {
            "text/plain": [
              "<IPython.core.display.Image object>"
            ],
            "image/png": "[encoded data removed]"
          },
          "metadata": {},
          "execution_count": 51
        }
      ]
    },
    {
      "cell_type": "code",
      "source": [
        "# Compile token char model\n",
        "model_4.compile(loss=\"categorical_crossentropy\",\n",
        "                optimizer=tf.keras.optimizers.Adam(),\n",
        "                metrics=[\"accuracy\"])"
      ],
      "metadata": {
        "id": "E_RL-EI0eU0w"
      },
      "execution_count": 52,
      "outputs": []
    },
    {
      "cell_type": "code",
      "source": [
        "# Combine chars and tokens into a dataset\n",
        "train_char_token_data = tf.data.Dataset.from_tensor_slices((train_sentences, train_chars)) # make data\n",
        "train_char_token_labels = tf.data.Dataset.from_tensor_slices(train_labels_one_hot) # make labels\n",
        "train_char_token_dataset = tf.data.Dataset.zip((train_char_token_data, train_char_token_labels)) # combine data and labels\n",
        "\n",
        "# Prefetch and batch train data\n",
        "train_char_token_dataset = train_char_token_dataset.batch(32).prefetch(tf.data.AUTOTUNE) \n",
        "\n",
        "# Repeat same steps validation data\n",
        "val_char_token_data = tf.data.Dataset.from_tensor_slices((val_sentences, val_chars))\n",
        "val_char_token_labels = tf.data.Dataset.from_tensor_slices(val_labels_one_hot)\n",
        "val_char_token_dataset = tf.data.Dataset.zip((val_char_token_data, val_char_token_labels))\n",
        "val_char_token_dataset = val_char_token_dataset.batch(32).prefetch(tf.data.AUTOTUNE)\n",
        "\n",
        "# Check out training char and token embedding dataset\n",
        "train_char_token_dataset, val_char_token_dataset"
      ],
      "metadata": {
        "colab": {
          "base_uri": "https://localhost:8080/"
        },
        "id": "aJq5j2w3eY3P",
        "outputId": "0dbfe9bb-9ac8-4609-eb54-3b0e54fd5ded"
      },
      "execution_count": 53,
      "outputs": [
        {
          "output_type": "execute_result",
          "data": {
            "text/plain": [
              "(<PrefetchDataset element_spec=((TensorSpec(shape=(None,), dtype=tf.string, name=None), TensorSpec(shape=(None,), dtype=tf.string, name=None)), TensorSpec(shape=(None, 8), dtype=tf.float64, name=None))>,\n",
              " <PrefetchDataset element_spec=((TensorSpec(shape=(None,), dtype=tf.string, name=None), TensorSpec(shape=(None,), dtype=tf.string, name=None)), TensorSpec(shape=(None, 8), dtype=tf.float64, name=None))>)"
            ]
          },
          "metadata": {},
          "execution_count": 53
        }
      ]
    },
    {
      "cell_type": "code",
      "source": [
        "# Fit the model on tokens and chars\n",
        "model_4_history = model_4.fit(train_char_token_dataset, # train on dataset of token and characters\n",
        "                              steps_per_epoch=int(len(train_char_token_dataset)),\n",
        "                              epochs=3,\n",
        "                              validation_data=val_char_token_dataset,\n",
        "                              validation_steps=int(len(val_char_token_dataset)))"
      ],
      "metadata": {
        "colab": {
          "base_uri": "https://localhost:8080/"
        },
        "id": "FCiLhRiKecLu",
        "outputId": "a59931e7-7b9f-408f-fa45-a3e84b5094b3"
      },
      "execution_count": 54,
      "outputs": [
        {
          "output_type": "stream",
          "name": "stdout",
          "text": [
            "Epoch 1/3\n",
            "438/438 [==============================] - 48s 96ms/step - loss: 1.7865 - accuracy: 0.3263 - val_loss: 1.5960 - val_accuracy: 0.4210\n",
            "Epoch 2/3\n",
            "438/438 [==============================] - 33s 74ms/step - loss: 1.5960 - accuracy: 0.4216 - val_loss: 1.5582 - val_accuracy: 0.4470\n",
            "Epoch 3/3\n",
            "438/438 [==============================] - 36s 82ms/step - loss: 1.5487 - accuracy: 0.4387 - val_loss: 1.5414 - val_accuracy: 0.4520\n"
          ]
        }
      ]
    },
    {
      "cell_type": "code",
      "source": [
        "# Make predictions using the token-character model hybrid\n",
        "model_4_pred_probs = model_4.predict(val_char_token_dataset)\n",
        "model_4_pred_probs"
      ],
      "metadata": {
        "colab": {
          "base_uri": "https://localhost:8080/"
        },
        "id": "1vSD2FyIeybW",
        "outputId": "fdf9efed-fb92-43ce-cf43-5f749961ffc5"
      },
      "execution_count": 55,
      "outputs": [
        {
          "output_type": "execute_result",
          "data": {
            "text/plain": [
              "array([[0.06192776, 0.21872328, 0.02195026, ..., 0.02976397, 0.02518722,\n",
              "        0.15197934],\n",
              "       [0.11973734, 0.07620643, 0.1156015 , ..., 0.30032784, 0.06220797,\n",
              "        0.11796628],\n",
              "       [0.08130691, 0.11451942, 0.0532896 , ..., 0.11559943, 0.21473649,\n",
              "        0.15398057],\n",
              "       ...,\n",
              "       [0.69092435, 0.08636861, 0.03383541, ..., 0.01482878, 0.01731243,\n",
              "        0.08579562],\n",
              "       [0.09976361, 0.45971906, 0.03364262, ..., 0.02789393, 0.15808609,\n",
              "        0.11230802],\n",
              "       [0.0868485 , 0.44185856, 0.02837387, ..., 0.01219789, 0.06889872,\n",
              "        0.11134855]], dtype=float32)"
            ]
          },
          "metadata": {},
          "execution_count": 55
        }
      ]
    },
    {
      "cell_type": "code",
      "source": [
        "# Turn prediction probabilities into prediction classes\n",
        "model_4_preds = tf.argmax(model_4_pred_probs, axis=1) + 1\n",
        "model_4_preds"
      ],
      "metadata": {
        "colab": {
          "base_uri": "https://localhost:8080/"
        },
        "id": "O_kmMKVte0xx",
        "outputId": "278e6f21-062d-4bbb-f4f4-7c51b56af957"
      },
      "execution_count": 56,
      "outputs": [
        {
          "output_type": "execute_result",
          "data": {
            "text/plain": [
              "<tf.Tensor: shape=(1000,), dtype=int64, numpy=\n",
              "array([4, 6, 7, 1, 7, 3, 7, 1, 6, 5, 8, 8, 1, 8, 2, 8, 8, 1, 1, 1, 5, 5,\n",
              "       8, 1, 1, 8, 5, 4, 2, 2, 2, 7, 8, 2, 4, 6, 4, 5, 8, 2, 6, 8, 1, 1,\n",
              "       2, 8, 2, 7, 5, 1, 1, 2, 5, 5, 1, 1, 4, 6, 2, 1, 1, 2, 3, 8, 3, 1,\n",
              "       8, 8, 4, 8, 7, 8, 6, 4, 2, 2, 4, 6, 2, 2, 2, 1, 5, 8, 4, 6, 1, 1,\n",
              "       2, 4, 2, 8, 4, 2, 8, 1, 4, 1, 1, 5, 1, 1, 3, 1, 6, 1, 1, 7, 7, 7,\n",
              "       8, 8, 1, 2, 1, 5, 5, 5, 4, 1, 2, 3, 2, 4, 7, 2, 1, 5, 7, 1, 5, 6,\n",
              "       8, 2, 8, 1, 1, 1, 1, 2, 5, 2, 1, 1, 8, 8, 8, 6, 1, 1, 8, 7, 5, 1,\n",
              "       1, 2, 6, 7, 5, 1, 6, 2, 2, 3, 4, 8, 2, 5, 3, 7, 2, 2, 7, 1, 1, 1,\n",
              "       2, 6, 3, 6, 2, 5, 7, 3, 4, 8, 5, 5, 8, 5, 8, 1, 4, 4, 5, 8, 1, 7,\n",
              "       1, 8, 1, 2, 1, 7, 1, 1, 8, 1, 2, 2, 7, 1, 2, 8, 5, 1, 2, 2, 1, 3,\n",
              "       2, 2, 5, 1, 2, 2, 8, 1, 8, 2, 2, 4, 2, 1, 2, 5, 6, 7, 1, 3, 4, 1,\n",
              "       3, 1, 2, 1, 3, 5, 8, 1, 2, 6, 7, 3, 1, 8, 6, 5, 5, 1, 2, 2, 1, 4,\n",
              "       3, 6, 4, 8, 2, 8, 1, 6, 2, 8, 2, 2, 1, 2, 8, 8, 1, 1, 1, 8, 8, 8,\n",
              "       1, 8, 1, 1, 1, 1, 1, 4, 6, 1, 5, 8, 3, 4, 2, 2, 2, 3, 8, 8, 3, 2,\n",
              "       2, 1, 7, 1, 1, 6, 1, 5, 8, 2, 3, 1, 2, 2, 8, 2, 7, 7, 8, 6, 1, 2,\n",
              "       7, 1, 8, 2, 1, 2, 3, 8, 6, 3, 8, 2, 8, 1, 7, 8, 4, 2, 7, 2, 1, 1,\n",
              "       5, 8, 5, 1, 8, 4, 6, 4, 1, 8, 2, 8, 3, 4, 7, 2, 2, 3, 1, 5, 2, 2,\n",
              "       1, 2, 6, 5, 1, 2, 2, 1, 2, 1, 7, 4, 1, 1, 1, 2, 4, 1, 5, 1, 2, 1,\n",
              "       1, 1, 1, 8, 6, 1, 1, 1, 1, 1, 8, 2, 6, 4, 8, 4, 5, 1, 1, 3, 4, 1,\n",
              "       7, 6, 1, 1, 6, 2, 5, 2, 5, 1, 6, 3, 4, 5, 1, 5, 4, 6, 1, 5, 8, 2,\n",
              "       2, 5, 1, 2, 4, 2, 1, 4, 4, 5, 6, 3, 6, 1, 1, 8, 8, 8, 6, 8, 1, 1,\n",
              "       3, 5, 8, 6, 2, 8, 1, 3, 1, 6, 1, 1, 8, 5, 2, 2, 7, 2, 8, 2, 1, 5,\n",
              "       1, 4, 6, 3, 5, 7, 2, 1, 1, 1, 4, 8, 1, 5, 2, 5, 1, 8, 1, 1, 5, 2,\n",
              "       7, 1, 1, 4, 2, 8, 2, 4, 5, 8, 2, 8, 8, 4, 6, 2, 4, 6, 7, 5, 1, 2,\n",
              "       8, 7, 5, 1, 1, 1, 7, 8, 6, 2, 1, 3, 1, 2, 1, 1, 2, 3, 4, 6, 1, 3,\n",
              "       2, 2, 8, 1, 5, 3, 2, 2, 1, 1, 2, 1, 8, 3, 1, 3, 1, 1, 5, 2, 3, 1,\n",
              "       5, 8, 1, 3, 6, 1, 6, 5, 3, 1, 1, 1, 3, 1, 2, 1, 1, 6, 1, 1, 8, 3,\n",
              "       1, 2, 5, 7, 2, 7, 2, 2, 7, 1, 2, 3, 8, 1, 1, 6, 5, 4, 1, 2, 5, 2,\n",
              "       1, 3, 5, 1, 8, 1, 5, 8, 1, 2, 8, 3, 2, 2, 6, 1, 5, 6, 1, 1, 1, 8,\n",
              "       7, 3, 1, 3, 7, 5, 5, 8, 4, 8, 2, 6, 8, 5, 8, 8, 8, 5, 1, 6, 7, 1,\n",
              "       1, 3, 5, 1, 1, 6, 1, 7, 8, 1, 6, 2, 8, 3, 2, 6, 1, 2, 2, 8, 4, 1,\n",
              "       5, 2, 2, 2, 6, 1, 2, 8, 1, 4, 8, 2, 1, 8, 2, 1, 1, 8, 2, 2, 3, 2,\n",
              "       2, 8, 1, 5, 2, 1, 1, 1, 4, 4, 6, 1, 8, 1, 1, 2, 6, 7, 1, 1, 4, 2,\n",
              "       1, 8, 1, 1, 8, 2, 8, 1, 2, 1, 6, 4, 2, 7, 1, 1, 1, 2, 2, 2, 1, 5,\n",
              "       5, 2, 2, 2, 8, 7, 1, 8, 3, 2, 1, 2, 6, 4, 8, 1, 1, 2, 5, 6, 8, 2,\n",
              "       4, 4, 6, 2, 2, 8, 5, 8, 7, 3, 1, 1, 3, 3, 1, 2, 1, 2, 3, 2, 5, 6,\n",
              "       3, 1, 4, 3, 2, 6, 2, 7, 3, 4, 5, 1, 8, 4, 7, 2, 8, 7, 4, 1, 1, 4,\n",
              "       7, 8, 5, 8, 3, 2, 8, 1, 4, 1, 1, 4, 3, 4, 1, 3, 4, 7, 2, 8, 8, 5,\n",
              "       8, 6, 8, 8, 1, 5, 2, 2, 8, 7, 5, 2, 1, 2, 2, 2, 4, 6, 5, 6, 3, 2,\n",
              "       7, 8, 2, 8, 4, 2, 2, 2, 1, 1, 8, 5, 1, 4, 1, 1, 6, 2, 1, 7, 7, 8,\n",
              "       4, 8, 1, 4, 6, 4, 7, 7, 5, 8, 1, 1, 2, 4, 6, 1, 1, 3, 5, 1, 1, 6,\n",
              "       6, 1, 1, 1, 2, 6, 1, 6, 1, 2, 5, 5, 4, 1, 2, 2, 2, 7, 1, 5, 5, 2,\n",
              "       1, 1, 4, 2, 1, 2, 6, 2, 3, 3, 2, 8, 2, 2, 3, 1, 4, 1, 1, 3, 1, 1,\n",
              "       7, 2, 4, 2, 5, 1, 2, 1, 2, 7, 4, 3, 4, 7, 1, 4, 1, 1, 3, 1, 1, 8,\n",
              "       1, 2, 1, 5, 4, 4, 5, 2, 6, 3, 2, 6, 8, 1, 2, 5, 2, 8, 8, 7, 8, 1,\n",
              "       8, 5, 1, 3, 7, 8, 3, 1, 2, 2])>"
            ]
          },
          "metadata": {},
          "execution_count": 56
        }
      ]
    },
    {
      "cell_type": "code",
      "source": [
        "# Get results of token-char-hybrid model\n",
        "model_4_results = calculate_results(y_true=val_labels,\n",
        "                                    y_pred=model_4_preds)\n",
        "model_4_results"
      ],
      "metadata": {
        "colab": {
          "base_uri": "https://localhost:8080/"
        },
        "id": "IQiHvT_Ue42h",
        "outputId": "9b8bb8aa-817e-492c-b9de-fc8404e5f6e5"
      },
      "execution_count": 57,
      "outputs": [
        {
          "output_type": "execute_result",
          "data": {
            "text/plain": [
              "{'accuracy': 45.2,\n",
              " 'f1': 0.4446184585960079,\n",
              " 'precision': 0.4470333117936599,\n",
              " 'recall': 0.452}"
            ]
          },
          "metadata": {},
          "execution_count": 57
        }
      ]
    },
    {
      "cell_type": "markdown",
      "source": [
        "## Compare model results"
      ],
      "metadata": {
        "id": "pcitCiORgyd4"
      }
    },
    {
      "cell_type": "code",
      "source": [
        "# Combine model results into a DataFrame\n",
        "all_model_results = pd.DataFrame({\"custom_token_embed_conv1d\": model_1_results,\n",
        "                                  \"pretrained_token_embed\": model_2_results,\n",
        "                                  \"custom_char_embed_conv1d\": model_3_results,\n",
        "                                  \"hybrid_char_token_embed\": model_4_results})\n",
        "all_model_results = all_model_results.transpose()\n",
        "all_model_results"
      ],
      "metadata": {
        "colab": {
          "base_uri": "https://localhost:8080/",
          "height": 175
        },
        "id": "Yr3LEUnSg0yb",
        "outputId": "d93da318-488e-426e-9757-c5495b220a7a"
      },
      "execution_count": 58,
      "outputs": [
        {
          "output_type": "execute_result",
          "data": {
            "text/plain": [
              "                           accuracy  precision  recall        f1\n",
              "custom_token_embed_conv1d      35.8   0.355990   0.358  0.354204\n",
              "pretrained_token_embed         45.1   0.449039   0.451  0.443325\n",
              "custom_char_embed_conv1d       29.7   0.289892   0.297  0.241005\n",
              "hybrid_char_token_embed        45.2   0.447033   0.452  0.444618"
            ],
            "text/html": [
              "\n",
              "  <div id=\"df-b5aa0928-03ff-4311-90ff-722139f89a39\">\n",
              "    <div class=\"colab-df-container\">\n",
              "      <div>\n",
              "<style scoped>\n",
              "    .dataframe tbody tr th:only-of-type {\n",
              "        vertical-align: middle;\n",
              "    }\n",
              "\n",
              "    .dataframe tbody tr th {\n",
              "        vertical-align: top;\n",
              "    }\n",
              "\n",
              "    .dataframe thead th {\n",
              "        text-align: right;\n",
              "    }\n",
              "</style>\n",
              "<table border=\"1\" class=\"dataframe\">\n",
              "  <thead>\n",
              "    <tr style=\"text-align: right;\">\n",
              "      <th></th>\n",
              "      <th>accuracy</th>\n",
              "      <th>precision</th>\n",
              "      <th>recall</th>\n",
              "      <th>f1</th>\n",
              "    </tr>\n",
              "  </thead>\n",
              "  <tbody>\n",
              "    <tr>\n",
              "      <th>custom_token_embed_conv1d</th>\n",
              "      <td>35.8</td>\n",
              "      <td>0.355990</td>\n",
              "      <td>0.358</td>\n",
              "      <td>0.354204</td>\n",
              "    </tr>\n",
              "    <tr>\n",
              "      <th>pretrained_token_embed</th>\n",
              "      <td>45.1</td>\n",
              "      <td>0.449039</td>\n",
              "      <td>0.451</td>\n",
              "      <td>0.443325</td>\n",
              "    </tr>\n",
              "    <tr>\n",
              "      <th>custom_char_embed_conv1d</th>\n",
              "      <td>29.7</td>\n",
              "      <td>0.289892</td>\n",
              "      <td>0.297</td>\n",
              "      <td>0.241005</td>\n",
              "    </tr>\n",
              "    <tr>\n",
              "      <th>hybrid_char_token_embed</th>\n",
              "      <td>45.2</td>\n",
              "      <td>0.447033</td>\n",
              "      <td>0.452</td>\n",
              "      <td>0.444618</td>\n",
              "    </tr>\n",
              "  </tbody>\n",
              "</table>\n",
              "</div>\n",
              "      <button class=\"colab-df-convert\" onclick=\"convertToInteractive('df-b5aa0928-03ff-4311-90ff-722139f89a39')\"\n",
              "              title=\"Convert this dataframe to an interactive table.\"\n",
              "              style=\"display:none;\">\n",
              "        \n",
              "  <svg xmlns=\"http://www.w3.org/2000/svg\" height=\"24px\"viewBox=\"0 0 24 24\"\n",
              "       width=\"24px\">\n",
              "    <path d=\"M0 0h24v24H0V0z\" fill=\"none\"/>\n",
              "    <path d=\"M18.56 5.44l.94 2.06.94-2.06 2.06-.94-2.06-.94-.94-2.06-.94 2.06-2.06.94zm-11 1L8.5 8.5l.94-2.06 2.06-.94-2.06-.94L8.5 2.5l-.94 2.06-2.06.94zm10 10l.94 2.06.94-2.06 2.06-.94-2.06-.94-.94-2.06-.94 2.06-2.06.94z\"/><path d=\"M17.41 7.96l-1.37-1.37c-.4-.4-.92-.59-1.43-.59-.52 0-1.04.2-1.43.59L10.3 9.45l-7.72 7.72c-.78.78-.78 2.05 0 2.83L4 21.41c.39.39.9.59 1.41.59.51 0 1.02-.2 1.41-.59l7.78-7.78 2.81-2.81c.8-.78.8-2.07 0-2.86zM5.41 20L4 18.59l7.72-7.72 1.47 1.35L5.41 20z\"/>\n",
              "  </svg>\n",
              "      </button>\n",
              "      \n",
              "  <style>\n",
              "    .colab-df-container {\n",
              "      display:flex;\n",
              "      flex-wrap:wrap;\n",
              "      gap: 12px;\n",
              "    }\n",
              "\n",
              "    .colab-df-convert {\n",
              "      background-color: #E8F0FE;\n",
              "      border: none;\n",
              "      border-radius: 50%;\n",
              "      cursor: pointer;\n",
              "      display: none;\n",
              "      fill: #1967D2;\n",
              "      height: 32px;\n",
              "      padding: 0 0 0 0;\n",
              "      width: 32px;\n",
              "    }\n",
              "\n",
              "    .colab-df-convert:hover {\n",
              "      background-color: #E2EBFA;\n",
              "      box-shadow: 0px 1px 2px rgba(60, 64, 67, 0.3), 0px 1px 3px 1px rgba(60, 64, 67, 0.15);\n",
              "      fill: #174EA6;\n",
              "    }\n",
              "\n",
              "    [theme=dark] .colab-df-convert {\n",
              "      background-color: #3B4455;\n",
              "      fill: #D2E3FC;\n",
              "    }\n",
              "\n",
              "    [theme=dark] .colab-df-convert:hover {\n",
              "      background-color: #434B5C;\n",
              "      box-shadow: 0px 1px 3px 1px rgba(0, 0, 0, 0.15);\n",
              "      filter: drop-shadow(0px 1px 2px rgba(0, 0, 0, 0.3));\n",
              "      fill: #FFFFFF;\n",
              "    }\n",
              "  </style>\n",
              "\n",
              "      <script>\n",
              "        const buttonEl =\n",
              "          document.querySelector('#df-b5aa0928-03ff-4311-90ff-722139f89a39 button.colab-df-convert');\n",
              "        buttonEl.style.display =\n",
              "          google.colab.kernel.accessAllowed ? 'block' : 'none';\n",
              "\n",
              "        async function convertToInteractive(key) {\n",
              "          const element = document.querySelector('#df-b5aa0928-03ff-4311-90ff-722139f89a39');\n",
              "          const dataTable =\n",
              "            await google.colab.kernel.invokeFunction('convertToInteractive',\n",
              "                                                     [key], {});\n",
              "          if (!dataTable) return;\n",
              "\n",
              "          const docLinkHtml = 'Like what you see? Visit the ' +\n",
              "            '<a target=\"_blank\" href=https://colab.research.google.com/notebooks/data_table.ipynb>data table notebook</a>'\n",
              "            + ' to learn more about interactive tables.';\n",
              "          element.innerHTML = '';\n",
              "          dataTable['output_type'] = 'display_data';\n",
              "          await google.colab.output.renderOutput(dataTable, element);\n",
              "          const docLink = document.createElement('div');\n",
              "          docLink.innerHTML = docLinkHtml;\n",
              "          element.appendChild(docLink);\n",
              "        }\n",
              "      </script>\n",
              "    </div>\n",
              "  </div>\n",
              "  "
            ]
          },
          "metadata": {},
          "execution_count": 58
        }
      ]
    },
    {
      "cell_type": "markdown",
      "source": [
        "## Prediction - Model 2"
      ],
      "metadata": {
        "id": "S2ZrsrMqQyQ-"
      }
    },
    {
      "cell_type": "code",
      "source": [
        "# Save best performing model to SavedModel format\n",
        "model_2.save(\"tf_universal_sentence_model\")"
      ],
      "metadata": {
        "colab": {
          "base_uri": "https://localhost:8080/"
        },
        "id": "WuwAkU3wQxGb",
        "outputId": "f071af83-0251-48b1-daf5-fd7953a22d05"
      },
      "execution_count": 59,
      "outputs": [
        {
          "output_type": "stream",
          "name": "stdout",
          "text": [
            "INFO:tensorflow:Assets written to: tf_universal_sentence_model/assets\n"
          ]
        },
        {
          "output_type": "stream",
          "name": "stderr",
          "text": [
            "INFO:tensorflow:Assets written to: tf_universal_sentence_model/assets\n"
          ]
        }
      ]
    },
    {
      "cell_type": "code",
      "source": [
        "model_path = \"/content/tf_universal_sentence_model\"\n",
        "\n",
        "# Load downloaded model from Google Storage\n",
        "loaded_model = tf.keras.models.load_model(model_path)"
      ],
      "metadata": {
        "id": "R_4Yh-xYRDTM"
      },
      "execution_count": 60,
      "outputs": []
    },
    {
      "cell_type": "code",
      "source": [
        "# Converting test_set sentences\n",
        "test_dataset = tf.data.Dataset.from_tensor_slices((test_sentences))\n",
        "test_dataset = test_dataset.batch(32).prefetch(tf.data.AUTOTUNE)"
      ],
      "metadata": {
        "id": "SLE1RNQBRIiX"
      },
      "execution_count": 61,
      "outputs": []
    },
    {
      "cell_type": "code",
      "source": [
        "# Make predictions on the test dataset\n",
        "test_pred_probs = loaded_model.predict(test_dataset,\n",
        "                                       verbose=1)\n",
        "test_preds = tf.argmax(test_pred_probs, axis=1) +1\n",
        "\n",
        "# Inserting the emotion column in test_set dataframe\n",
        "test_df['emotion'] = test_preds\n",
        "\n",
        "# Save to csv\n",
        "test_df.to_csv(r'/content/test_set_predicted.txt', index=False, sep='\\t')\n",
        "\n",
        "test_df"
      ],
      "metadata": {
        "colab": {
          "base_uri": "https://localhost:8080/",
          "height": 441
        },
        "id": "ctppnlWmRSGz",
        "outputId": "003b0491-24eb-42da-ea49-b41b9cca80bb"
      },
      "execution_count": 62,
      "outputs": [
        {
          "output_type": "stream",
          "name": "stdout",
          "text": [
            "63/63 [==============================] - 1s 9ms/step\n"
          ]
        },
        {
          "output_type": "execute_result",
          "data": {
            "text/plain": [
              "                                               sentence  emotion\n",
              "0                 Come , let's go get that automobile .        2\n",
              "1                       Well , some other time , then ?        2\n",
              "2                               He's in trouble . Boy ?        3\n",
              "3                  Criminal gang unit to take control .        4\n",
              "4                By Molto . No discussion . Interview .        1\n",
              "...                                                 ...      ...\n",
              "1995                               Let's do some good .        2\n",
              "1996                        Hey , you're looking good .        5\n",
              "1997  Have they moved the embassy , or are you hijac...        7\n",
              "1998                                        What that !        1\n",
              "1999  Imagine interplanetary trade , how exciting th...        2\n",
              "\n",
              "[2000 rows x 2 columns]"
            ],
            "text/html": [
              "\n",
              "  <div id=\"df-17bfc7cf-5fdc-4560-b291-e76f87f12f38\">\n",
              "    <div class=\"colab-df-container\">\n",
              "      <div>\n",
              "<style scoped>\n",
              "    .dataframe tbody tr th:only-of-type {\n",
              "        vertical-align: middle;\n",
              "    }\n",
              "\n",
              "    .dataframe tbody tr th {\n",
              "        vertical-align: top;\n",
              "    }\n",
              "\n",
              "    .dataframe thead th {\n",
              "        text-align: right;\n",
              "    }\n",
              "</style>\n",
              "<table border=\"1\" class=\"dataframe\">\n",
              "  <thead>\n",
              "    <tr style=\"text-align: right;\">\n",
              "      <th></th>\n",
              "      <th>sentence</th>\n",
              "      <th>emotion</th>\n",
              "    </tr>\n",
              "  </thead>\n",
              "  <tbody>\n",
              "    <tr>\n",
              "      <th>0</th>\n",
              "      <td>Come , let's go get that automobile .</td>\n",
              "      <td>2</td>\n",
              "    </tr>\n",
              "    <tr>\n",
              "      <th>1</th>\n",
              "      <td>Well , some other time , then ?</td>\n",
              "      <td>2</td>\n",
              "    </tr>\n",
              "    <tr>\n",
              "      <th>2</th>\n",
              "      <td>He's in trouble . Boy ?</td>\n",
              "      <td>3</td>\n",
              "    </tr>\n",
              "    <tr>\n",
              "      <th>3</th>\n",
              "      <td>Criminal gang unit to take control .</td>\n",
              "      <td>4</td>\n",
              "    </tr>\n",
              "    <tr>\n",
              "      <th>4</th>\n",
              "      <td>By Molto . No discussion . Interview .</td>\n",
              "      <td>1</td>\n",
              "    </tr>\n",
              "    <tr>\n",
              "      <th>...</th>\n",
              "      <td>...</td>\n",
              "      <td>...</td>\n",
              "    </tr>\n",
              "    <tr>\n",
              "      <th>1995</th>\n",
              "      <td>Let's do some good .</td>\n",
              "      <td>2</td>\n",
              "    </tr>\n",
              "    <tr>\n",
              "      <th>1996</th>\n",
              "      <td>Hey , you're looking good .</td>\n",
              "      <td>5</td>\n",
              "    </tr>\n",
              "    <tr>\n",
              "      <th>1997</th>\n",
              "      <td>Have they moved the embassy , or are you hijac...</td>\n",
              "      <td>7</td>\n",
              "    </tr>\n",
              "    <tr>\n",
              "      <th>1998</th>\n",
              "      <td>What that !</td>\n",
              "      <td>1</td>\n",
              "    </tr>\n",
              "    <tr>\n",
              "      <th>1999</th>\n",
              "      <td>Imagine interplanetary trade , how exciting th...</td>\n",
              "      <td>2</td>\n",
              "    </tr>\n",
              "  </tbody>\n",
              "</table>\n",
              "<p>2000 rows × 2 columns</p>\n",
              "</div>\n",
              "      <button class=\"colab-df-convert\" onclick=\"convertToInteractive('df-17bfc7cf-5fdc-4560-b291-e76f87f12f38')\"\n",
              "              title=\"Convert this dataframe to an interactive table.\"\n",
              "              style=\"display:none;\">\n",
              "        \n",
              "  <svg xmlns=\"http://www.w3.org/2000/svg\" height=\"24px\"viewBox=\"0 0 24 24\"\n",
              "       width=\"24px\">\n",
              "    <path d=\"M0 0h24v24H0V0z\" fill=\"none\"/>\n",
              "    <path d=\"M18.56 5.44l.94 2.06.94-2.06 2.06-.94-2.06-.94-.94-2.06-.94 2.06-2.06.94zm-11 1L8.5 8.5l.94-2.06 2.06-.94-2.06-.94L8.5 2.5l-.94 2.06-2.06.94zm10 10l.94 2.06.94-2.06 2.06-.94-2.06-.94-.94-2.06-.94 2.06-2.06.94z\"/><path d=\"M17.41 7.96l-1.37-1.37c-.4-.4-.92-.59-1.43-.59-.52 0-1.04.2-1.43.59L10.3 9.45l-7.72 7.72c-.78.78-.78 2.05 0 2.83L4 21.41c.39.39.9.59 1.41.59.51 0 1.02-.2 1.41-.59l7.78-7.78 2.81-2.81c.8-.78.8-2.07 0-2.86zM5.41 20L4 18.59l7.72-7.72 1.47 1.35L5.41 20z\"/>\n",
              "  </svg>\n",
              "      </button>\n",
              "      \n",
              "  <style>\n",
              "    .colab-df-container {\n",
              "      display:flex;\n",
              "      flex-wrap:wrap;\n",
              "      gap: 12px;\n",
              "    }\n",
              "\n",
              "    .colab-df-convert {\n",
              "      background-color: #E8F0FE;\n",
              "      border: none;\n",
              "      border-radius: 50%;\n",
              "      cursor: pointer;\n",
              "      display: none;\n",
              "      fill: #1967D2;\n",
              "      height: 32px;\n",
              "      padding: 0 0 0 0;\n",
              "      width: 32px;\n",
              "    }\n",
              "\n",
              "    .colab-df-convert:hover {\n",
              "      background-color: #E2EBFA;\n",
              "      box-shadow: 0px 1px 2px rgba(60, 64, 67, 0.3), 0px 1px 3px 1px rgba(60, 64, 67, 0.15);\n",
              "      fill: #174EA6;\n",
              "    }\n",
              "\n",
              "    [theme=dark] .colab-df-convert {\n",
              "      background-color: #3B4455;\n",
              "      fill: #D2E3FC;\n",
              "    }\n",
              "\n",
              "    [theme=dark] .colab-df-convert:hover {\n",
              "      background-color: #434B5C;\n",
              "      box-shadow: 0px 1px 3px 1px rgba(0, 0, 0, 0.15);\n",
              "      filter: drop-shadow(0px 1px 2px rgba(0, 0, 0, 0.3));\n",
              "      fill: #FFFFFF;\n",
              "    }\n",
              "  </style>\n",
              "\n",
              "      <script>\n",
              "        const buttonEl =\n",
              "          document.querySelector('#df-17bfc7cf-5fdc-4560-b291-e76f87f12f38 button.colab-df-convert');\n",
              "        buttonEl.style.display =\n",
              "          google.colab.kernel.accessAllowed ? 'block' : 'none';\n",
              "\n",
              "        async function convertToInteractive(key) {\n",
              "          const element = document.querySelector('#df-17bfc7cf-5fdc-4560-b291-e76f87f12f38');\n",
              "          const dataTable =\n",
              "            await google.colab.kernel.invokeFunction('convertToInteractive',\n",
              "                                                     [key], {});\n",
              "          if (!dataTable) return;\n",
              "\n",
              "          const docLinkHtml = 'Like what you see? Visit the ' +\n",
              "            '<a target=\"_blank\" href=https://colab.research.google.com/notebooks/data_table.ipynb>data table notebook</a>'\n",
              "            + ' to learn more about interactive tables.';\n",
              "          element.innerHTML = '';\n",
              "          dataTable['output_type'] = 'display_data';\n",
              "          await google.colab.output.renderOutput(dataTable, element);\n",
              "          const docLink = document.createElement('div');\n",
              "          docLink.innerHTML = docLinkHtml;\n",
              "          element.appendChild(docLink);\n",
              "        }\n",
              "      </script>\n",
              "    </div>\n",
              "  </div>\n",
              "  "
            ]
          },
          "metadata": {},
          "execution_count": 62
        }
      ]
    },
    {
      "cell_type": "code",
      "source": [
        "# check the emotions defined:\n",
        "print(np.sort(test_df['emotion'].unique()))\n",
        "\n",
        "# check the distribution of sentences in each emotion class:\n",
        "dft = test_df.groupby('emotion').count().reset_index()\n",
        "sum_total = dft['sentence'].sum()\n",
        "dft['perc_total'] = round(dft['sentence']/sum_total,2)\n",
        "dft['dataset'] = 'Test'\n",
        "df = df.append(dft)\n",
        "\n",
        "df_plt = df.pivot(index='emotion', columns='dataset', values='perc_total')\n",
        "\n",
        "# Plot and compare class distribution of the datasets\n",
        "df_plt.plot(kind=\"bar\", figsize=(10, 7)).legend(bbox_to_anchor=(1.0, 1.0))\n",
        "\n",
        "plt.show()"
      ],
      "metadata": {
        "colab": {
          "base_uri": "https://localhost:8080/",
          "height": 456
        },
        "id": "51GIU6FeSIxC",
        "outputId": "283be24f-5255-4cdf-c9ad-0c4137121055"
      },
      "execution_count": 84,
      "outputs": [
        {
          "output_type": "stream",
          "name": "stdout",
          "text": [
            "[1 2 3 4 5 6 7 8]\n"
          ]
        },
        {
          "output_type": "display_data",
          "data": {
            "text/plain": [
              "<Figure size 720x504 with 1 Axes>"
            ],
            "image/png": "[encoded data removed]"
          },
          "metadata": {
            "needs_background": "light"
          }
        }
      ]
    }
  ]
}