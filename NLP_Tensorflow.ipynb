{
  "nbformat": 4,
  "nbformat_minor": 0,
  "metadata": {
    "colab": {
      "name": "NLP Tensorflow Final.ipynb",
      "provenance": [],
      "include_colab_link": true
    },
    "kernelspec": {
      "name": "python3",
      "display_name": "Python 3"
    },
    "language_info": {
      "name": "python"
    },
    "accelerator": "GPU"
  },
  "cells": [
    {
      "cell_type": "markdown",
      "metadata": {
        "id": "view-in-github",
        "colab_type": "text"
      },
      "source": [
        "<a href=\"https://colab.research.google.com/github/Carlosrnes/Nova_NLP/blob/main/NLP_Tensorflow.ipynb\" target=\"_parent\"><img src=\"https://colab.research.google.com/assets/colab-badge.svg\" alt=\"Open In Colab\"/></a>"
      ]
    },
    {
      "cell_type": "markdown",
      "source": [
        "### GPU"
      ],
      "metadata": {
        "id": "XiPHxiPNloga"
      }
    },
    {
      "cell_type": "code",
      "execution_count": 1,
      "metadata": {
        "colab": {
          "base_uri": "https://localhost:8080/"
        },
        "id": "On8-qL8J7nhX",
        "outputId": "f8fd6f5e-8545-4a42-ba41-3bed092457b0"
      },
      "outputs": [
        {
          "output_type": "stream",
          "name": "stdout",
          "text": [
            "GPU 0: Tesla T4 (UUID: GPU-05fdf5dd-9262-75a2-2842-acd8e986ec81)\n"
          ]
        }
      ],
      "source": [
        "# Check GPU\n",
        "!nvidia-smi -L"
      ]
    },
    {
      "cell_type": "code",
      "source": [
        "# A dependency of the preprocessing for BERT inputs\n",
        "!pip install -q -U \"tensorflow-text==2.8.*\""
      ],
      "metadata": {
        "id": "tGf4KNpjz9l-",
        "colab": {
          "base_uri": "https://localhost:8080/"
        },
        "outputId": "f45168e8-98c8-4fae-d0da-38498c04dc79"
      },
      "execution_count": 2,
      "outputs": [
        {
          "output_type": "stream",
          "name": "stdout",
          "text": [
            "\u001b[K     |████████████████████████████████| 4.9 MB 4.9 MB/s \n",
            "\u001b[?25h"
          ]
        }
      ]
    },
    {
      "cell_type": "markdown",
      "source": [
        "### Libraries"
      ],
      "metadata": {
        "id": "-lU6h8yE_Y73"
      }
    },
    {
      "cell_type": "code",
      "source": [
        "import pandas as pd\n",
        "import numpy as np\n",
        "import random\n",
        "import matplotlib.pyplot as plt\n",
        "\n",
        "from sklearn.preprocessing import OneHotEncoder\n",
        "\n",
        "from sklearn.feature_extraction.text import TfidfVectorizer\n",
        "from sklearn.naive_bayes import MultinomialNB\n",
        "from sklearn.pipeline import Pipeline\n",
        "from sklearn.metrics import accuracy_score, precision_recall_fscore_support\n",
        "\n",
        "from nltk.corpus import stopwords\n",
        "from nltk.stem.wordnet import WordNetLemmatizer\n",
        "from bs4 import BeautifulSoup\n",
        "\n",
        "\n",
        "import tensorflow_hub as hub\n",
        "import tensorflow as tf\n",
        "import tensorflow_text as text\n",
        "from tensorflow.keras.layers.experimental.preprocessing import TextVectorization\n",
        "from tensorflow.keras import layers"
      ],
      "metadata": {
        "id": "xny5XgcK_cdk"
      },
      "execution_count": 3,
      "outputs": []
    },
    {
      "cell_type": "markdown",
      "source": [
        "### Get the data"
      ],
      "metadata": {
        "id": "Up7bWxY6-5ae"
      }
    },
    {
      "cell_type": "code",
      "source": [
        "train_df = pd.read_csv(\"https://raw.githubusercontent.com/Carlosrnes/Nova_NLP/main/data/training_set.txt\", sep=\"\\t\")\n",
        "valid_df = pd.read_csv(\"https://raw.githubusercontent.com/Carlosrnes/Nova_NLP/main/data/dev_set.txt\", sep=\"\\t\")\n",
        "test_df = pd.read_csv(\"https://raw.githubusercontent.com/Carlosrnes/Nova_NLP/main/data/test_set.txt\", sep=\"\\t\")\n",
        "train_df.head(1)"
      ],
      "metadata": {
        "colab": {
          "base_uri": "https://localhost:8080/",
          "height": 81
        },
        "id": "HygAy9-F-4v6",
        "outputId": "2d66c602-1993-4d93-e0f1-f4cc79d926e6"
      },
      "execution_count": 67,
      "outputs": [
        {
          "output_type": "execute_result",
          "data": {
            "text/plain": [
              "                        sentence  emotion\n",
              "0  I'm too old to be traded in .        6"
            ],
            "text/html": [
              "\n",
              "  <div id=\"df-301fe4f1-b4d3-4cdd-8367-69fd7366b329\">\n",
              "    <div class=\"colab-df-container\">\n",
              "      <div>\n",
              "<style scoped>\n",
              "    .dataframe tbody tr th:only-of-type {\n",
              "        vertical-align: middle;\n",
              "    }\n",
              "\n",
              "    .dataframe tbody tr th {\n",
              "        vertical-align: top;\n",
              "    }\n",
              "\n",
              "    .dataframe thead th {\n",
              "        text-align: right;\n",
              "    }\n",
              "</style>\n",
              "<table border=\"1\" class=\"dataframe\">\n",
              "  <thead>\n",
              "    <tr style=\"text-align: right;\">\n",
              "      <th></th>\n",
              "      <th>sentence</th>\n",
              "      <th>emotion</th>\n",
              "    </tr>\n",
              "  </thead>\n",
              "  <tbody>\n",
              "    <tr>\n",
              "      <th>0</th>\n",
              "      <td>I'm too old to be traded in .</td>\n",
              "      <td>6</td>\n",
              "    </tr>\n",
              "  </tbody>\n",
              "</table>\n",
              "</div>\n",
              "      <button class=\"colab-df-convert\" onclick=\"convertToInteractive('df-301fe4f1-b4d3-4cdd-8367-69fd7366b329')\"\n",
              "              title=\"Convert this dataframe to an interactive table.\"\n",
              "              style=\"display:none;\">\n",
              "        \n",
              "  <svg xmlns=\"http://www.w3.org/2000/svg\" height=\"24px\"viewBox=\"0 0 24 24\"\n",
              "       width=\"24px\">\n",
              "    <path d=\"M0 0h24v24H0V0z\" fill=\"none\"/>\n",
              "    <path d=\"M18.56 5.44l.94 2.06.94-2.06 2.06-.94-2.06-.94-.94-2.06-.94 2.06-2.06.94zm-11 1L8.5 8.5l.94-2.06 2.06-.94-2.06-.94L8.5 2.5l-.94 2.06-2.06.94zm10 10l.94 2.06.94-2.06 2.06-.94-2.06-.94-.94-2.06-.94 2.06-2.06.94z\"/><path d=\"M17.41 7.96l-1.37-1.37c-.4-.4-.92-.59-1.43-.59-.52 0-1.04.2-1.43.59L10.3 9.45l-7.72 7.72c-.78.78-.78 2.05 0 2.83L4 21.41c.39.39.9.59 1.41.59.51 0 1.02-.2 1.41-.59l7.78-7.78 2.81-2.81c.8-.78.8-2.07 0-2.86zM5.41 20L4 18.59l7.72-7.72 1.47 1.35L5.41 20z\"/>\n",
              "  </svg>\n",
              "      </button>\n",
              "      \n",
              "  <style>\n",
              "    .colab-df-container {\n",
              "      display:flex;\n",
              "      flex-wrap:wrap;\n",
              "      gap: 12px;\n",
              "    }\n",
              "\n",
              "    .colab-df-convert {\n",
              "      background-color: #E8F0FE;\n",
              "      border: none;\n",
              "      border-radius: 50%;\n",
              "      cursor: pointer;\n",
              "      display: none;\n",
              "      fill: #1967D2;\n",
              "      height: 32px;\n",
              "      padding: 0 0 0 0;\n",
              "      width: 32px;\n",
              "    }\n",
              "\n",
              "    .colab-df-convert:hover {\n",
              "      background-color: #E2EBFA;\n",
              "      box-shadow: 0px 1px 2px rgba(60, 64, 67, 0.3), 0px 1px 3px 1px rgba(60, 64, 67, 0.15);\n",
              "      fill: #174EA6;\n",
              "    }\n",
              "\n",
              "    [theme=dark] .colab-df-convert {\n",
              "      background-color: #3B4455;\n",
              "      fill: #D2E3FC;\n",
              "    }\n",
              "\n",
              "    [theme=dark] .colab-df-convert:hover {\n",
              "      background-color: #434B5C;\n",
              "      box-shadow: 0px 1px 3px 1px rgba(0, 0, 0, 0.15);\n",
              "      filter: drop-shadow(0px 1px 2px rgba(0, 0, 0, 0.3));\n",
              "      fill: #FFFFFF;\n",
              "    }\n",
              "  </style>\n",
              "\n",
              "      <script>\n",
              "        const buttonEl =\n",
              "          document.querySelector('#df-301fe4f1-b4d3-4cdd-8367-69fd7366b329 button.colab-df-convert');\n",
              "        buttonEl.style.display =\n",
              "          google.colab.kernel.accessAllowed ? 'block' : 'none';\n",
              "\n",
              "        async function convertToInteractive(key) {\n",
              "          const element = document.querySelector('#df-301fe4f1-b4d3-4cdd-8367-69fd7366b329');\n",
              "          const dataTable =\n",
              "            await google.colab.kernel.invokeFunction('convertToInteractive',\n",
              "                                                     [key], {});\n",
              "          if (!dataTable) return;\n",
              "\n",
              "          const docLinkHtml = 'Like what you see? Visit the ' +\n",
              "            '<a target=\"_blank\" href=https://colab.research.google.com/notebooks/data_table.ipynb>data table notebook</a>'\n",
              "            + ' to learn more about interactive tables.';\n",
              "          element.innerHTML = '';\n",
              "          dataTable['output_type'] = 'display_data';\n",
              "          await google.colab.output.renderOutput(dataTable, element);\n",
              "          const docLink = document.createElement('div');\n",
              "          docLink.innerHTML = docLinkHtml;\n",
              "          element.appendChild(docLink);\n",
              "        }\n",
              "      </script>\n",
              "    </div>\n",
              "  </div>\n",
              "  "
            ]
          },
          "metadata": {},
          "execution_count": 67
        }
      ]
    },
    {
      "cell_type": "markdown",
      "source": [
        "### Explore Dataset"
      ],
      "metadata": {
        "id": "s2AsdHHIArbB"
      }
    },
    {
      "cell_type": "code",
      "source": [
        "# check if the emotions are correctly defined:\n",
        "print(np.sort(train_df['emotion'].unique()))\n",
        "\n",
        "# check the distribution of sentences in each emotion class:\n",
        "df = train_df.groupby('emotion').count().reset_index()\n",
        "sum_total = df['sentence'].sum()\n",
        "df['perc_total'] = round(df['sentence']/sum_total,2)\n",
        "df['dataset'] = 'Train'\n",
        "df"
      ],
      "metadata": {
        "colab": {
          "base_uri": "https://localhost:8080/",
          "height": 318
        },
        "id": "4h7S4dZV_5wu",
        "outputId": "4ac3d2b8-4d55-4886-ff4e-5ab185bbd912"
      },
      "execution_count": 64,
      "outputs": [
        {
          "output_type": "stream",
          "name": "stdout",
          "text": [
            "[1 2 3 4 5 6 7 8]\n"
          ]
        },
        {
          "output_type": "execute_result",
          "data": {
            "text/plain": [
              "   emotion  sentence  perc_total dataset\n",
              "0        1      2999        0.21   Train\n",
              "1        2      2129        0.15   Train\n",
              "2        3      1343        0.10   Train\n",
              "3        4      1442        0.10   Train\n",
              "4        5      1470        0.10   Train\n",
              "5        6      1384        0.10   Train\n",
              "6        7      1138        0.08   Train\n",
              "7        8      2095        0.15   Train"
            ],
            "text/html": [
              "\n",
              "  <div id=\"df-4d23588d-bb23-40b6-8167-d3c6b2a0a8e5\">\n",
              "    <div class=\"colab-df-container\">\n",
              "      <div>\n",
              "<style scoped>\n",
              "    .dataframe tbody tr th:only-of-type {\n",
              "        vertical-align: middle;\n",
              "    }\n",
              "\n",
              "    .dataframe tbody tr th {\n",
              "        vertical-align: top;\n",
              "    }\n",
              "\n",
              "    .dataframe thead th {\n",
              "        text-align: right;\n",
              "    }\n",
              "</style>\n",
              "<table border=\"1\" class=\"dataframe\">\n",
              "  <thead>\n",
              "    <tr style=\"text-align: right;\">\n",
              "      <th></th>\n",
              "      <th>emotion</th>\n",
              "      <th>sentence</th>\n",
              "      <th>perc_total</th>\n",
              "      <th>dataset</th>\n",
              "    </tr>\n",
              "  </thead>\n",
              "  <tbody>\n",
              "    <tr>\n",
              "      <th>0</th>\n",
              "      <td>1</td>\n",
              "      <td>2999</td>\n",
              "      <td>0.21</td>\n",
              "      <td>Train</td>\n",
              "    </tr>\n",
              "    <tr>\n",
              "      <th>1</th>\n",
              "      <td>2</td>\n",
              "      <td>2129</td>\n",
              "      <td>0.15</td>\n",
              "      <td>Train</td>\n",
              "    </tr>\n",
              "    <tr>\n",
              "      <th>2</th>\n",
              "      <td>3</td>\n",
              "      <td>1343</td>\n",
              "      <td>0.10</td>\n",
              "      <td>Train</td>\n",
              "    </tr>\n",
              "    <tr>\n",
              "      <th>3</th>\n",
              "      <td>4</td>\n",
              "      <td>1442</td>\n",
              "      <td>0.10</td>\n",
              "      <td>Train</td>\n",
              "    </tr>\n",
              "    <tr>\n",
              "      <th>4</th>\n",
              "      <td>5</td>\n",
              "      <td>1470</td>\n",
              "      <td>0.10</td>\n",
              "      <td>Train</td>\n",
              "    </tr>\n",
              "    <tr>\n",
              "      <th>5</th>\n",
              "      <td>6</td>\n",
              "      <td>1384</td>\n",
              "      <td>0.10</td>\n",
              "      <td>Train</td>\n",
              "    </tr>\n",
              "    <tr>\n",
              "      <th>6</th>\n",
              "      <td>7</td>\n",
              "      <td>1138</td>\n",
              "      <td>0.08</td>\n",
              "      <td>Train</td>\n",
              "    </tr>\n",
              "    <tr>\n",
              "      <th>7</th>\n",
              "      <td>8</td>\n",
              "      <td>2095</td>\n",
              "      <td>0.15</td>\n",
              "      <td>Train</td>\n",
              "    </tr>\n",
              "  </tbody>\n",
              "</table>\n",
              "</div>\n",
              "      <button class=\"colab-df-convert\" onclick=\"convertToInteractive('df-4d23588d-bb23-40b6-8167-d3c6b2a0a8e5')\"\n",
              "              title=\"Convert this dataframe to an interactive table.\"\n",
              "              style=\"display:none;\">\n",
              "        \n",
              "  <svg xmlns=\"http://www.w3.org/2000/svg\" height=\"24px\"viewBox=\"0 0 24 24\"\n",
              "       width=\"24px\">\n",
              "    <path d=\"M0 0h24v24H0V0z\" fill=\"none\"/>\n",
              "    <path d=\"M18.56 5.44l.94 2.06.94-2.06 2.06-.94-2.06-.94-.94-2.06-.94 2.06-2.06.94zm-11 1L8.5 8.5l.94-2.06 2.06-.94-2.06-.94L8.5 2.5l-.94 2.06-2.06.94zm10 10l.94 2.06.94-2.06 2.06-.94-2.06-.94-.94-2.06-.94 2.06-2.06.94z\"/><path d=\"M17.41 7.96l-1.37-1.37c-.4-.4-.92-.59-1.43-.59-.52 0-1.04.2-1.43.59L10.3 9.45l-7.72 7.72c-.78.78-.78 2.05 0 2.83L4 21.41c.39.39.9.59 1.41.59.51 0 1.02-.2 1.41-.59l7.78-7.78 2.81-2.81c.8-.78.8-2.07 0-2.86zM5.41 20L4 18.59l7.72-7.72 1.47 1.35L5.41 20z\"/>\n",
              "  </svg>\n",
              "      </button>\n",
              "      \n",
              "  <style>\n",
              "    .colab-df-container {\n",
              "      display:flex;\n",
              "      flex-wrap:wrap;\n",
              "      gap: 12px;\n",
              "    }\n",
              "\n",
              "    .colab-df-convert {\n",
              "      background-color: #E8F0FE;\n",
              "      border: none;\n",
              "      border-radius: 50%;\n",
              "      cursor: pointer;\n",
              "      display: none;\n",
              "      fill: #1967D2;\n",
              "      height: 32px;\n",
              "      padding: 0 0 0 0;\n",
              "      width: 32px;\n",
              "    }\n",
              "\n",
              "    .colab-df-convert:hover {\n",
              "      background-color: #E2EBFA;\n",
              "      box-shadow: 0px 1px 2px rgba(60, 64, 67, 0.3), 0px 1px 3px 1px rgba(60, 64, 67, 0.15);\n",
              "      fill: #174EA6;\n",
              "    }\n",
              "\n",
              "    [theme=dark] .colab-df-convert {\n",
              "      background-color: #3B4455;\n",
              "      fill: #D2E3FC;\n",
              "    }\n",
              "\n",
              "    [theme=dark] .colab-df-convert:hover {\n",
              "      background-color: #434B5C;\n",
              "      box-shadow: 0px 1px 3px 1px rgba(0, 0, 0, 0.15);\n",
              "      filter: drop-shadow(0px 1px 2px rgba(0, 0, 0, 0.3));\n",
              "      fill: #FFFFFF;\n",
              "    }\n",
              "  </style>\n",
              "\n",
              "      <script>\n",
              "        const buttonEl =\n",
              "          document.querySelector('#df-4d23588d-bb23-40b6-8167-d3c6b2a0a8e5 button.colab-df-convert');\n",
              "        buttonEl.style.display =\n",
              "          google.colab.kernel.accessAllowed ? 'block' : 'none';\n",
              "\n",
              "        async function convertToInteractive(key) {\n",
              "          const element = document.querySelector('#df-4d23588d-bb23-40b6-8167-d3c6b2a0a8e5');\n",
              "          const dataTable =\n",
              "            await google.colab.kernel.invokeFunction('convertToInteractive',\n",
              "                                                     [key], {});\n",
              "          if (!dataTable) return;\n",
              "\n",
              "          const docLinkHtml = 'Like what you see? Visit the ' +\n",
              "            '<a target=\"_blank\" href=https://colab.research.google.com/notebooks/data_table.ipynb>data table notebook</a>'\n",
              "            + ' to learn more about interactive tables.';\n",
              "          element.innerHTML = '';\n",
              "          dataTable['output_type'] = 'display_data';\n",
              "          await google.colab.output.renderOutput(dataTable, element);\n",
              "          const docLink = document.createElement('div');\n",
              "          docLink.innerHTML = docLinkHtml;\n",
              "          element.appendChild(docLink);\n",
              "        }\n",
              "      </script>\n",
              "    </div>\n",
              "  </div>\n",
              "  "
            ]
          },
          "metadata": {},
          "execution_count": 64
        }
      ]
    },
    {
      "cell_type": "code",
      "source": [
        "# Samples\n",
        "print(f\"Total training samples: {len(train_df)}\")\n",
        "print(f\"Total valid samples: {len(valid_df)}\")\n",
        "print(f\"Total samples: {len(train_df) + len(valid_df)}\")"
      ],
      "metadata": {
        "colab": {
          "base_uri": "https://localhost:8080/"
        },
        "id": "e-M8XuVkAc8v",
        "outputId": "0e37ddab-31e7-43b6-9d91-deea9c3f4938"
      },
      "execution_count": 6,
      "outputs": [
        {
          "output_type": "stream",
          "name": "stdout",
          "text": [
            "Total training samples: 14000\n",
            "Total valid samples: 1000\n",
            "Total samples: 15000\n"
          ]
        }
      ]
    },
    {
      "cell_type": "markdown",
      "source": [
        "### Transform training, validation and test sets to Numpy"
      ],
      "metadata": {
        "id": "YZ4hnCvOAvGG"
      }
    },
    {
      "cell_type": "code",
      "source": [
        "# Transform to numpy\n",
        "train_sentences = train_df[\"sentence\"].to_numpy()\n",
        "val_sentences = valid_df[\"sentence\"].to_numpy()\n",
        "test_sentences = test_df[\"sentence\"].to_numpy()\n",
        "train_labels = train_df[\"emotion\"].to_numpy()\n",
        "val_labels = valid_df[\"emotion\"].to_numpy()\n",
        "\n",
        "\n",
        "# Check the lengths\n",
        "len(train_sentences), len(train_labels), len(val_sentences), len(val_labels), len(test_sentences)"
      ],
      "metadata": {
        "colab": {
          "base_uri": "https://localhost:8080/"
        },
        "id": "jikX_tHJAlak",
        "outputId": "3d2d497c-4333-4acb-f996-876216e43299"
      },
      "execution_count": 7,
      "outputs": [
        {
          "output_type": "execute_result",
          "data": {
            "text/plain": [
              "(14000, 14000, 1000, 1000, 2000)"
            ]
          },
          "metadata": {},
          "execution_count": 7
        }
      ]
    },
    {
      "cell_type": "markdown",
      "source": [
        "### Tokenization"
      ],
      "metadata": {
        "id": "ulXhItj3CmM7"
      }
    },
    {
      "cell_type": "code",
      "source": [
        "# The default TextVectorization variables\n",
        "text_vectorizer = TextVectorization(max_tokens=None,\n",
        "                                    standardize=\"lower_and_strip_punctuation\", \n",
        "                                    split=\"whitespace\", \n",
        "                                    ngrams=None, \n",
        "                                    output_mode=\"int\", \n",
        "                                    output_sequence_length=None) "
      ],
      "metadata": {
        "id": "CC2bxpPNCoed"
      },
      "execution_count": 8,
      "outputs": []
    },
    {
      "cell_type": "code",
      "source": [
        "# Average number of tokens (words) in training set\n",
        "round(sum([len(i.split()) for i in train_sentences])/len(train_sentences))"
      ],
      "metadata": {
        "colab": {
          "base_uri": "https://localhost:8080/"
        },
        "id": "tD8b6xUCC3yz",
        "outputId": "0a7ade6c-3858-445e-a63e-a40aaa96185f"
      },
      "execution_count": 9,
      "outputs": [
        {
          "output_type": "execute_result",
          "data": {
            "text/plain": [
              "9"
            ]
          },
          "metadata": {},
          "execution_count": 9
        }
      ]
    },
    {
      "cell_type": "code",
      "source": [
        "# Setup text vectorization with custom variables\n",
        "max_vocab_length = 10000\n",
        "max_length = 9\n",
        "\n",
        "text_vectorizer = TextVectorization(max_tokens=max_vocab_length,\n",
        "                                    output_mode=\"int\",\n",
        "                                    output_sequence_length=max_length)"
      ],
      "metadata": {
        "id": "WW0c4tpZDGV7"
      },
      "execution_count": 10,
      "outputs": []
    },
    {
      "cell_type": "code",
      "source": [
        "# Fit the text vectorizer to the training text\n",
        "text_vectorizer.adapt(train_sentences)"
      ],
      "metadata": {
        "id": "r6oubcScDcPQ"
      },
      "execution_count": 11,
      "outputs": []
    },
    {
      "cell_type": "code",
      "source": [
        "# Get the unique words in the vocabulary\n",
        "words_in_vocab = text_vectorizer.get_vocabulary()\n",
        "print(f\"Number of words in vocab: {len(words_in_vocab)}\")"
      ],
      "metadata": {
        "colab": {
          "base_uri": "https://localhost:8080/"
        },
        "id": "3PY256fFDeej",
        "outputId": "6cb9132e-a67a-4271-88be-dc2f15c0ebb3"
      },
      "execution_count": 12,
      "outputs": [
        {
          "output_type": "stream",
          "name": "stdout",
          "text": [
            "Number of words in vocab: 7656\n"
          ]
        }
      ]
    },
    {
      "cell_type": "code",
      "source": [
        "# Get the config of our text vectorizer\n",
        "text_vectorizer.get_config()"
      ],
      "metadata": {
        "colab": {
          "base_uri": "https://localhost:8080/"
        },
        "id": "lf1CAnfx1TEW",
        "outputId": "fa827138-4589-4ad3-e289-f24b682377a5"
      },
      "execution_count": 13,
      "outputs": [
        {
          "output_type": "execute_result",
          "data": {
            "text/plain": [
              "{'batch_input_shape': (None,),\n",
              " 'dtype': 'string',\n",
              " 'idf_weights': None,\n",
              " 'max_tokens': 10000,\n",
              " 'name': 'text_vectorization_1',\n",
              " 'ngrams': None,\n",
              " 'output_mode': 'int',\n",
              " 'output_sequence_length': 9,\n",
              " 'pad_to_max_tokens': False,\n",
              " 'ragged': False,\n",
              " 'sparse': False,\n",
              " 'split': 'whitespace',\n",
              " 'standardize': 'lower_and_strip_punctuation',\n",
              " 'trainable': True,\n",
              " 'vocabulary': None}"
            ]
          },
          "metadata": {},
          "execution_count": 13
        }
      ]
    },
    {
      "cell_type": "markdown",
      "source": [
        "### Embedding"
      ],
      "metadata": {
        "id": "LMETdiVcEKu1"
      }
    },
    {
      "cell_type": "code",
      "source": [
        "tf.random.set_seed(42)\n",
        "\n",
        "embedding = layers.Embedding(input_dim=max_vocab_length, # set input shape\n",
        "                             output_dim=128, # set size of embedding vector\n",
        "                             embeddings_initializer=\"uniform\", # default, intialize randomly\n",
        "                             input_length=max_length, # how long is each input\n",
        "                             name=\"embedding_1\") \n",
        "\n",
        "embedding"
      ],
      "metadata": {
        "colab": {
          "base_uri": "https://localhost:8080/"
        },
        "id": "9Dv3Rdl6EKF8",
        "outputId": "196164ca-35db-402b-97ba-ab650381db74"
      },
      "execution_count": 14,
      "outputs": [
        {
          "output_type": "execute_result",
          "data": {
            "text/plain": [
              "<keras.layers.embeddings.Embedding at 0x7f2f201a0450>"
            ]
          },
          "metadata": {},
          "execution_count": 14
        }
      ]
    },
    {
      "cell_type": "code",
      "source": [
        "# One hot encode labels\n",
        "one_hot_encoder = OneHotEncoder(sparse=False)\n",
        "train_labels_one_hot = one_hot_encoder.fit_transform(train_labels.reshape(-1, 1))\n",
        "val_labels_one_hot = one_hot_encoder.transform(val_labels.reshape(-1, 1))\n",
        "\n",
        "# Check what training labels look like\n",
        "train_labels_one_hot"
      ],
      "metadata": {
        "colab": {
          "base_uri": "https://localhost:8080/"
        },
        "id": "97cp_PRd-tIs",
        "outputId": "c2657b0c-9af6-434e-a87e-49e2fcb58f59"
      },
      "execution_count": 15,
      "outputs": [
        {
          "output_type": "execute_result",
          "data": {
            "text/plain": [
              "array([[0., 0., 0., ..., 1., 0., 0.],\n",
              "       [0., 0., 0., ..., 0., 0., 1.],\n",
              "       [0., 0., 0., ..., 1., 0., 0.],\n",
              "       ...,\n",
              "       [0., 0., 0., ..., 0., 0., 0.],\n",
              "       [0., 0., 0., ..., 0., 0., 0.],\n",
              "       [0., 0., 0., ..., 1., 0., 0.]])"
            ]
          },
          "metadata": {},
          "execution_count": 15
        }
      ]
    },
    {
      "cell_type": "code",
      "source": [
        "# Turn data into TensorFlow Datasets\n",
        "train_dataset = tf.data.Dataset.from_tensor_slices((train_sentences, train_labels_one_hot))\n",
        "valid_dataset = tf.data.Dataset.from_tensor_slices((val_sentences, val_labels_one_hot))\n",
        "\n",
        "train_dataset"
      ],
      "metadata": {
        "colab": {
          "base_uri": "https://localhost:8080/"
        },
        "id": "1gSueEy4-GUM",
        "outputId": "f06df553-9b67-42f4-f933-57633ed1f250"
      },
      "execution_count": 16,
      "outputs": [
        {
          "output_type": "execute_result",
          "data": {
            "text/plain": [
              "<TensorSliceDataset element_spec=(TensorSpec(shape=(), dtype=tf.string, name=None), TensorSpec(shape=(8,), dtype=tf.float64, name=None))>"
            ]
          },
          "metadata": {},
          "execution_count": 16
        }
      ]
    },
    {
      "cell_type": "code",
      "source": [
        "# Take the TensorSliceDataset's and turn them into prefetched batches\n",
        "train_dataset = train_dataset.batch(32).prefetch(tf.data.AUTOTUNE)\n",
        "valid_dataset = valid_dataset.batch(32).prefetch(tf.data.AUTOTUNE)\n",
        "\n",
        "train_dataset"
      ],
      "metadata": {
        "colab": {
          "base_uri": "https://localhost:8080/"
        },
        "id": "rmZKJEij-PRM",
        "outputId": "a8b5e5ed-061e-4943-a5e4-4174f4f6a48e"
      },
      "execution_count": 17,
      "outputs": [
        {
          "output_type": "execute_result",
          "data": {
            "text/plain": [
              "<PrefetchDataset element_spec=(TensorSpec(shape=(None,), dtype=tf.string, name=None), TensorSpec(shape=(None, 8), dtype=tf.float64, name=None))>"
            ]
          },
          "metadata": {},
          "execution_count": 17
        }
      ]
    },
    {
      "cell_type": "markdown",
      "source": [
        "### Create Models"
      ],
      "metadata": {
        "id": "JjHYjPuzEple"
      }
    },
    {
      "cell_type": "code",
      "source": [
        "# Function to evaluate: accuracy, precision, recall, f1-score\n",
        "\n",
        "def calculate_results(y_true, y_pred):\n",
        "  \"\"\"\n",
        "  Calculates model accuracy, precision, recall and f1 score of a binary classification model.\n",
        "\n",
        "  Args:\n",
        "  -----\n",
        "  y_true = true labels in the form of a 1D array\n",
        "  y_pred = predicted labels in the form of a 1D array\n",
        "\n",
        "  Returns a dictionary of accuracy, precision, recall, f1-score.\n",
        "  \"\"\"\n",
        "  # Calculate model accuracy\n",
        "  model_accuracy = accuracy_score(y_true, y_pred) * 100\n",
        "  # Calculate model precision, recall and f1 score using \"weighted\" average\n",
        "  model_precision, model_recall, model_f1, _ = precision_recall_fscore_support(y_true, y_pred, average=\"weighted\")\n",
        "  model_results = {\"accuracy\": model_accuracy,\n",
        "                  \"precision\": model_precision,\n",
        "                  \"recall\": model_recall,\n",
        "                  \"f1\": model_f1}\n",
        "  return model_results"
      ],
      "metadata": {
        "id": "Gl9CUWB6FNjJ"
      },
      "execution_count": 18,
      "outputs": []
    },
    {
      "cell_type": "markdown",
      "source": [
        "#### Model 1 - A simple dense model"
      ],
      "metadata": {
        "id": "SyIJv8NCFA2W"
      }
    },
    {
      "cell_type": "code",
      "source": [
        "# Create 1D convolutional model to process sequences\n",
        "inputs = layers.Input(shape=(1,), dtype=tf.string)\n",
        "text_vectors = text_vectorizer(inputs) # vectorize text inputs\n",
        "token_embeddings = embedding(text_vectors) # create embedding\n",
        "x = layers.Conv1D(64, kernel_size=5, padding=\"same\", activation=\"relu\")(token_embeddings)\n",
        "x = layers.GlobalAveragePooling1D()(x) # condense the output of our feature vector\n",
        "outputs = layers.Dense(8, activation=\"softmax\")(x)\n",
        "model_1 = tf.keras.Model(inputs, outputs)\n",
        "\n",
        "# Compile\n",
        "model_1.compile(loss=\"categorical_crossentropy\",\n",
        "                optimizer=tf.keras.optimizers.Adam(),\n",
        "                metrics=[\"accuracy\"])"
      ],
      "metadata": {
        "id": "z1r3C44DT_Mv"
      },
      "execution_count": 19,
      "outputs": []
    },
    {
      "cell_type": "code",
      "source": [
        "# Compile model\n",
        "model_1.compile(loss=\"categorical_crossentropy\",\n",
        "                optimizer=tf.keras.optimizers.Adam(),\n",
        "                metrics=[\"accuracy\"])"
      ],
      "metadata": {
        "id": "OmP8FaoYFtP5"
      },
      "execution_count": 20,
      "outputs": []
    },
    {
      "cell_type": "code",
      "source": [
        "# Get a summary of the model\n",
        "model_1.summary()"
      ],
      "metadata": {
        "colab": {
          "base_uri": "https://localhost:8080/"
        },
        "id": "fL1tNgNHFvpA",
        "outputId": "036ed35d-98a4-40ca-e944-fc68e455b7b0"
      },
      "execution_count": 21,
      "outputs": [
        {
          "output_type": "stream",
          "name": "stdout",
          "text": [
            "Model: \"model\"\n",
            "_________________________________________________________________\n",
            " Layer (type)                Output Shape              Param #   \n",
            "=================================================================\n",
            " input_1 (InputLayer)        [(None, 1)]               0         \n",
            "                                                                 \n",
            " text_vectorization_1 (TextV  (None, 9)                0         \n",
            " ectorization)                                                   \n",
            "                                                                 \n",
            " embedding_1 (Embedding)     (None, 9, 128)            1280000   \n",
            "                                                                 \n",
            " conv1d (Conv1D)             (None, 9, 64)             41024     \n",
            "                                                                 \n",
            " global_average_pooling1d (G  (None, 64)               0         \n",
            " lobalAveragePooling1D)                                          \n",
            "                                                                 \n",
            " dense (Dense)               (None, 8)                 520       \n",
            "                                                                 \n",
            "=================================================================\n",
            "Total params: 1,321,544\n",
            "Trainable params: 1,321,544\n",
            "Non-trainable params: 0\n",
            "_________________________________________________________________\n"
          ]
        }
      ]
    },
    {
      "cell_type": "code",
      "source": [
        "# Fit the model\n",
        "model_1_history = model_1.fit(train_dataset,\n",
        "                              steps_per_epoch=int(len(train_dataset)),\n",
        "                              epochs=3,\n",
        "                              validation_data=valid_dataset,\n",
        "                              validation_steps=int(len(valid_dataset))) "
      ],
      "metadata": {
        "colab": {
          "base_uri": "https://localhost:8080/"
        },
        "id": "a4b71MD6RaJW",
        "outputId": "73c374b9-2c0f-4ebf-9618-43d02505f3ef"
      },
      "execution_count": 22,
      "outputs": [
        {
          "output_type": "stream",
          "name": "stdout",
          "text": [
            "Epoch 1/3\n",
            "438/438 [==============================] - 19s 9ms/step - loss: 1.9133 - accuracy: 0.2699 - val_loss: 1.7532 - val_accuracy: 0.3510\n",
            "Epoch 2/3\n",
            "438/438 [==============================] - 3s 6ms/step - loss: 1.5514 - accuracy: 0.4454 - val_loss: 1.7390 - val_accuracy: 0.3620\n",
            "Epoch 3/3\n",
            "438/438 [==============================] - 4s 8ms/step - loss: 1.2572 - accuracy: 0.5724 - val_loss: 1.8591 - val_accuracy: 0.3550\n"
          ]
        }
      ]
    },
    {
      "cell_type": "code",
      "source": [
        "# Make predictions\n",
        "model_1_pred_probs = model_1.predict(valid_dataset)\n",
        "model_1_pred_probs"
      ],
      "metadata": {
        "colab": {
          "base_uri": "https://localhost:8080/"
        },
        "id": "yBujIzLMAQ6U",
        "outputId": "24395240-7504-4506-925a-f3bb4d18c6be"
      },
      "execution_count": 23,
      "outputs": [
        {
          "output_type": "execute_result",
          "data": {
            "text/plain": [
              "array([[0.01925442, 0.40411887, 0.00680164, ..., 0.01223091, 0.00496434,\n",
              "        0.22463526],\n",
              "       [0.12202242, 0.01194044, 0.04783471, ..., 0.28316745, 0.01008671,\n",
              "        0.06522798],\n",
              "       [0.00946379, 0.02571615, 0.00844525, ..., 0.01820526, 0.05136825,\n",
              "        0.08076279],\n",
              "       ...,\n",
              "       [0.5266714 , 0.19861057, 0.03513527, ..., 0.00694043, 0.05070744,\n",
              "        0.07130747],\n",
              "       [0.05422463, 0.08013153, 0.15507077, ..., 0.13004048, 0.13392441,\n",
              "        0.09900999],\n",
              "       [0.16303611, 0.22051178, 0.03180406, ..., 0.05660051, 0.04634143,\n",
              "        0.25960347]], dtype=float32)"
            ]
          },
          "metadata": {},
          "execution_count": 23
        }
      ]
    },
    {
      "cell_type": "code",
      "source": [
        "# Convert pred probs to classes\n",
        "model_1_preds = tf.argmax(model_1_pred_probs, axis=1) + 1\n",
        "model_1_preds"
      ],
      "metadata": {
        "colab": {
          "base_uri": "https://localhost:8080/"
        },
        "id": "vgJ5Gj4XAUEI",
        "outputId": "8474199e-26d9-4e59-b6be-c5e4e54dbf56"
      },
      "execution_count": 24,
      "outputs": [
        {
          "output_type": "execute_result",
          "data": {
            "text/plain": [
              "<tf.Tensor: shape=(1000,), dtype=int64, numpy=\n",
              "array([2, 4, 5, 2, 1, 1, 7, 3, 1, 5, 5, 6, 1, 5, 2, 1, 2, 1, 1, 2, 5, 5,\n",
              "       3, 1, 1, 8, 5, 4, 2, 2, 2, 7, 5, 2, 6, 4, 1, 8, 8, 2, 2, 4, 1, 1,\n",
              "       1, 2, 1, 1, 8, 8, 2, 2, 5, 5, 6, 8, 1, 3, 2, 3, 1, 7, 1, 8, 6, 8,\n",
              "       2, 8, 2, 2, 1, 6, 6, 8, 2, 2, 8, 1, 2, 7, 2, 1, 5, 8, 8, 4, 1, 8,\n",
              "       8, 4, 2, 1, 3, 2, 8, 1, 4, 1, 1, 5, 4, 8, 2, 1, 6, 2, 8, 7, 2, 7,\n",
              "       2, 8, 1, 1, 6, 8, 5, 5, 5, 7, 5, 8, 2, 8, 7, 7, 3, 2, 2, 8, 2, 4,\n",
              "       1, 3, 4, 1, 1, 2, 1, 3, 5, 5, 2, 3, 8, 8, 5, 6, 1, 4, 8, 8, 7, 1,\n",
              "       1, 2, 7, 5, 7, 5, 6, 2, 4, 3, 8, 2, 2, 5, 3, 3, 2, 2, 2, 1, 1, 6,\n",
              "       8, 7, 8, 6, 5, 5, 7, 8, 2, 8, 2, 8, 8, 7, 6, 6, 6, 4, 2, 2, 2, 8,\n",
              "       1, 8, 1, 8, 1, 3, 1, 5, 8, 2, 2, 3, 5, 3, 5, 8, 6, 1, 2, 2, 1, 3,\n",
              "       5, 4, 7, 7, 5, 3, 8, 8, 8, 8, 2, 4, 2, 1, 2, 5, 6, 7, 2, 8, 4, 1,\n",
              "       2, 2, 2, 6, 3, 5, 8, 8, 2, 6, 7, 7, 1, 4, 4, 2, 7, 1, 3, 1, 3, 4,\n",
              "       5, 1, 4, 8, 2, 8, 1, 6, 2, 1, 1, 2, 1, 3, 8, 1, 1, 1, 1, 8, 8, 8,\n",
              "       2, 5, 7, 1, 1, 7, 1, 6, 6, 7, 5, 3, 5, 8, 7, 2, 5, 1, 6, 5, 5, 2,\n",
              "       2, 1, 2, 1, 1, 1, 4, 5, 2, 8, 1, 7, 2, 2, 8, 2, 2, 8, 5, 6, 4, 2,\n",
              "       8, 3, 8, 5, 1, 2, 1, 1, 2, 3, 5, 2, 5, 4, 7, 8, 2, 2, 7, 1, 7, 8,\n",
              "       2, 8, 8, 1, 8, 8, 6, 2, 3, 8, 2, 8, 1, 4, 8, 1, 8, 3, 1, 5, 1, 4,\n",
              "       4, 6, 6, 5, 3, 2, 1, 1, 2, 2, 7, 1, 1, 1, 1, 4, 3, 7, 2, 2, 4, 1,\n",
              "       2, 1, 8, 8, 8, 1, 2, 2, 5, 6, 8, 1, 1, 4, 8, 4, 5, 1, 1, 3, 4, 1,\n",
              "       2, 6, 1, 1, 2, 2, 5, 2, 5, 1, 8, 8, 4, 5, 1, 2, 8, 4, 3, 5, 5, 2,\n",
              "       1, 7, 1, 5, 4, 2, 7, 6, 8, 6, 8, 1, 1, 8, 1, 2, 8, 2, 1, 8, 3, 6,\n",
              "       1, 5, 8, 2, 8, 2, 1, 6, 6, 6, 1, 1, 8, 8, 5, 1, 1, 2, 2, 2, 1, 2,\n",
              "       4, 4, 4, 3, 2, 1, 8, 3, 1, 8, 2, 1, 3, 5, 2, 5, 1, 8, 1, 4, 8, 2,\n",
              "       6, 1, 1, 4, 2, 2, 3, 1, 5, 8, 1, 2, 8, 1, 6, 2, 4, 8, 7, 5, 1, 8,\n",
              "       5, 2, 8, 3, 1, 1, 4, 8, 2, 8, 1, 3, 4, 2, 8, 1, 3, 7, 4, 1, 1, 2,\n",
              "       1, 5, 1, 1, 5, 1, 2, 5, 4, 3, 2, 8, 8, 3, 1, 3, 1, 5, 5, 2, 1, 1,\n",
              "       5, 2, 8, 4, 1, 2, 1, 5, 6, 3, 2, 1, 5, 2, 1, 6, 4, 5, 1, 1, 5, 3,\n",
              "       2, 2, 5, 4, 2, 8, 5, 1, 7, 2, 7, 5, 8, 4, 1, 6, 5, 2, 8, 2, 5, 2,\n",
              "       4, 1, 5, 1, 4, 1, 8, 3, 8, 2, 2, 6, 1, 5, 6, 8, 3, 8, 1, 1, 1, 2,\n",
              "       1, 4, 1, 8, 1, 8, 2, 2, 6, 8, 7, 5, 3, 5, 8, 8, 6, 5, 8, 8, 7, 6,\n",
              "       1, 1, 8, 1, 3, 6, 1, 7, 8, 6, 3, 2, 5, 5, 2, 6, 1, 2, 5, 5, 4, 1,\n",
              "       5, 2, 8, 1, 7, 3, 8, 8, 1, 5, 8, 4, 1, 1, 1, 6, 4, 5, 2, 1, 8, 2,\n",
              "       3, 5, 1, 5, 1, 8, 5, 1, 7, 1, 1, 1, 2, 3, 6, 2, 1, 4, 1, 1, 6, 8,\n",
              "       6, 6, 2, 1, 2, 1, 8, 4, 7, 1, 6, 4, 6, 1, 2, 4, 1, 2, 2, 2, 1, 8,\n",
              "       5, 7, 2, 8, 2, 3, 1, 1, 3, 2, 7, 8, 6, 6, 8, 1, 1, 2, 8, 2, 2, 2,\n",
              "       4, 5, 6, 2, 2, 8, 5, 8, 7, 1, 1, 1, 1, 4, 6, 2, 4, 2, 6, 5, 5, 4,\n",
              "       3, 4, 3, 6, 6, 1, 6, 2, 7, 4, 5, 1, 6, 4, 8, 7, 7, 2, 2, 1, 1, 6,\n",
              "       2, 1, 5, 2, 8, 3, 2, 4, 4, 1, 1, 1, 2, 5, 8, 4, 2, 3, 7, 1, 8, 8,\n",
              "       1, 4, 5, 8, 1, 8, 3, 4, 4, 2, 5, 2, 8, 2, 2, 2, 6, 1, 5, 6, 7, 2,\n",
              "       7, 8, 2, 8, 1, 2, 2, 2, 1, 8, 8, 3, 1, 4, 2, 1, 4, 1, 7, 3, 1, 8,\n",
              "       6, 3, 1, 2, 1, 6, 7, 8, 5, 2, 3, 7, 2, 2, 6, 1, 6, 3, 1, 1, 7, 4,\n",
              "       6, 4, 1, 7, 3, 2, 1, 7, 1, 4, 5, 4, 8, 1, 2, 5, 8, 1, 1, 8, 5, 2,\n",
              "       1, 1, 2, 8, 1, 2, 6, 2, 4, 2, 4, 6, 5, 2, 2, 3, 3, 6, 1, 1, 8, 1,\n",
              "       7, 7, 1, 2, 5, 4, 1, 2, 2, 8, 1, 1, 2, 2, 1, 4, 2, 1, 1, 1, 2, 4,\n",
              "       1, 2, 4, 5, 2, 1, 5, 2, 8, 3, 2, 2, 5, 1, 8, 6, 8, 8, 3, 1, 3, 1,\n",
              "       1, 5, 4, 6, 7, 4, 5, 1, 5, 8])>"
            ]
          },
          "metadata": {},
          "execution_count": 24
        }
      ]
    },
    {
      "cell_type": "code",
      "source": [
        "# Calculate model_1 results\n",
        "model_1_results = calculate_results(y_true=val_labels,\n",
        "                                    y_pred=model_1_preds)\n",
        "model_1_results"
      ],
      "metadata": {
        "colab": {
          "base_uri": "https://localhost:8080/"
        },
        "id": "C9thZtMpAY7b",
        "outputId": "b635abaa-384b-48cd-f16e-29055b447f57"
      },
      "execution_count": 25,
      "outputs": [
        {
          "output_type": "execute_result",
          "data": {
            "text/plain": [
              "{'accuracy': 35.5,\n",
              " 'f1': 0.3522124269586234,\n",
              " 'precision': 0.35562377208793644,\n",
              " 'recall': 0.355}"
            ]
          },
          "metadata": {},
          "execution_count": 25
        }
      ]
    },
    {
      "cell_type": "markdown",
      "source": [
        "#### Model 2 - Feature extraction with pretrained token embeddings - Universal Sentence Encoder"
      ],
      "metadata": {
        "id": "6V327siDAjxq"
      }
    },
    {
      "cell_type": "code",
      "source": [
        "# Download pretrained TensorFlow Hub universal sentence encoder\n",
        "\n",
        "tf_hub_embedding_layer = hub.KerasLayer(\"https://tfhub.dev/google/universal-sentence-encoder/4\",\n",
        "                                        trainable=False,\n",
        "                                        name=\"universal_sentence_encoder\")"
      ],
      "metadata": {
        "id": "UfHv1xuNBgOH"
      },
      "execution_count": 26,
      "outputs": []
    },
    {
      "cell_type": "code",
      "source": [
        "# Define feature extractor model using TF Hub layer\n",
        "inputs = layers.Input(shape=[], dtype=tf.string)\n",
        "pretrained_embedding = tf_hub_embedding_layer(inputs) # tokenize text and create embedding\n",
        "x = layers.Dense(128, activation=\"relu\")(pretrained_embedding) # add a fully connected layer on top of the embedding\n",
        "x = layers.Dense(128, activation=\"relu\")(x) # add a fully connected layer on top of the embedding\n",
        "outputs = layers.Dense(8, activation=\"softmax\")(x) # create the output layer\n",
        "model_2 = tf.keras.Model(inputs=inputs,\n",
        "                        outputs=outputs)\n",
        "\n",
        "# Compile the model\n",
        "model_2.compile(loss=\"categorical_crossentropy\",\n",
        "                optimizer=tf.keras.optimizers.Adam(),\n",
        "                metrics=[\"accuracy\"])\n",
        "\n",
        "# Get a summary of the model\n",
        "model_2.summary()"
      ],
      "metadata": {
        "id": "FpVyTT5uCEke",
        "colab": {
          "base_uri": "https://localhost:8080/"
        },
        "outputId": "b13c2a9d-4fa8-4aa4-b840-11a18d1df239"
      },
      "execution_count": 27,
      "outputs": [
        {
          "output_type": "stream",
          "name": "stdout",
          "text": [
            "Model: \"model_1\"\n",
            "_________________________________________________________________\n",
            " Layer (type)                Output Shape              Param #   \n",
            "=================================================================\n",
            " input_2 (InputLayer)        [(None,)]                 0         \n",
            "                                                                 \n",
            " universal_sentence_encoder   (None, 512)              256797824 \n",
            " (KerasLayer)                                                    \n",
            "                                                                 \n",
            " dense_1 (Dense)             (None, 128)               65664     \n",
            "                                                                 \n",
            " dense_2 (Dense)             (None, 128)               16512     \n",
            "                                                                 \n",
            " dense_3 (Dense)             (None, 8)                 1032      \n",
            "                                                                 \n",
            "=================================================================\n",
            "Total params: 256,881,032\n",
            "Trainable params: 83,208\n",
            "Non-trainable params: 256,797,824\n",
            "_________________________________________________________________\n"
          ]
        }
      ]
    },
    {
      "cell_type": "code",
      "source": [
        "# Fit feature extractor model for 3 epochs\n",
        "model_2.fit(train_dataset,\n",
        "            steps_per_epoch=int(len(train_dataset)),\n",
        "            epochs=3,\n",
        "            validation_data=valid_dataset,\n",
        "            validation_steps=int(len(valid_dataset)))"
      ],
      "metadata": {
        "colab": {
          "base_uri": "https://localhost:8080/"
        },
        "id": "9iGYxIQgCRiV",
        "outputId": "1730fa71-36ab-4b74-f0c7-4b9fbd9ae89e"
      },
      "execution_count": 28,
      "outputs": [
        {
          "output_type": "stream",
          "name": "stdout",
          "text": [
            "Epoch 1/3\n",
            "438/438 [==============================] - 12s 11ms/step - loss: 1.6562 - accuracy: 0.3866 - val_loss: 1.5468 - val_accuracy: 0.4350\n",
            "Epoch 2/3\n",
            "438/438 [==============================] - 5s 11ms/step - loss: 1.4813 - accuracy: 0.4616 - val_loss: 1.5364 - val_accuracy: 0.4440\n",
            "Epoch 3/3\n",
            "438/438 [==============================] - 5s 11ms/step - loss: 1.4347 - accuracy: 0.4775 - val_loss: 1.5376 - val_accuracy: 0.4580\n"
          ]
        },
        {
          "output_type": "execute_result",
          "data": {
            "text/plain": [
              "<keras.callbacks.History at 0x7f2e80612190>"
            ]
          },
          "metadata": {},
          "execution_count": 28
        }
      ]
    },
    {
      "cell_type": "code",
      "source": [
        "# Make predictions with feature extraction model\n",
        "model_2_pred_probs = model_2.predict(valid_dataset)\n",
        "model_2_pred_probs"
      ],
      "metadata": {
        "colab": {
          "base_uri": "https://localhost:8080/"
        },
        "id": "k1jIbCpXCdKe",
        "outputId": "00a02405-69d0-4cf1-eb0b-9d9380ab2487"
      },
      "execution_count": 29,
      "outputs": [
        {
          "output_type": "execute_result",
          "data": {
            "text/plain": [
              "array([[0.03853206, 0.19867864, 0.01085741, ..., 0.02084739, 0.0126064 ,\n",
              "        0.09305403],\n",
              "       [0.05414039, 0.08543688, 0.05898725, ..., 0.33492014, 0.11734294,\n",
              "        0.124318  ],\n",
              "       [0.05036435, 0.04177938, 0.01777322, ..., 0.1116325 , 0.38502666,\n",
              "        0.07196869],\n",
              "       ...,\n",
              "       [0.79743457, 0.05824201, 0.01270586, ..., 0.0044113 , 0.00856827,\n",
              "        0.06074514],\n",
              "       [0.0630599 , 0.45517784, 0.01713153, ..., 0.0193417 , 0.29449823,\n",
              "        0.0867078 ],\n",
              "       [0.05906989, 0.35715607, 0.01876134, ..., 0.01033775, 0.06410109,\n",
              "        0.1122647 ]], dtype=float32)"
            ]
          },
          "metadata": {},
          "execution_count": 29
        }
      ]
    },
    {
      "cell_type": "code",
      "source": [
        "# Convert the predictions with feature extraction model to classes\n",
        "model_2_preds = tf.argmax(model_2_pred_probs, axis=1) + 1\n",
        "model_2_preds"
      ],
      "metadata": {
        "colab": {
          "base_uri": "https://localhost:8080/"
        },
        "id": "Y1J2oFhPChMd",
        "outputId": "25010ba7-f19c-41c0-dd10-19284a8906d7"
      },
      "execution_count": 30,
      "outputs": [
        {
          "output_type": "execute_result",
          "data": {
            "text/plain": [
              "<tf.Tensor: shape=(1000,), dtype=int64, numpy=\n",
              "array([4, 6, 7, 1, 7, 3, 1, 1, 6, 5, 8, 5, 1, 8, 2, 8, 8, 1, 1, 1, 5, 5,\n",
              "       1, 1, 1, 7, 5, 4, 2, 2, 2, 7, 8, 2, 4, 6, 4, 5, 8, 2, 6, 5, 1, 1,\n",
              "       2, 8, 2, 7, 5, 1, 1, 2, 5, 5, 6, 1, 2, 6, 2, 6, 1, 2, 3, 8, 3, 1,\n",
              "       8, 8, 4, 8, 7, 8, 6, 4, 7, 2, 4, 6, 2, 2, 2, 1, 5, 6, 4, 1, 1, 1,\n",
              "       2, 8, 2, 8, 4, 2, 8, 1, 4, 1, 6, 8, 1, 1, 3, 1, 6, 1, 1, 7, 7, 7,\n",
              "       8, 8, 1, 2, 1, 5, 5, 5, 4, 1, 2, 3, 2, 4, 7, 2, 1, 5, 7, 1, 5, 6,\n",
              "       2, 2, 8, 1, 1, 1, 1, 2, 5, 2, 1, 1, 2, 8, 8, 6, 1, 6, 8, 8, 5, 1,\n",
              "       1, 2, 7, 1, 5, 6, 6, 2, 1, 1, 4, 8, 1, 5, 3, 7, 2, 2, 7, 1, 1, 1,\n",
              "       2, 6, 3, 6, 2, 5, 7, 3, 4, 8, 5, 5, 8, 5, 4, 2, 6, 4, 5, 8, 1, 7,\n",
              "       1, 8, 1, 1, 1, 7, 1, 1, 8, 1, 2, 6, 8, 1, 2, 8, 5, 1, 2, 2, 1, 1,\n",
              "       2, 2, 5, 1, 2, 2, 8, 1, 8, 2, 2, 4, 2, 1, 2, 5, 6, 7, 1, 3, 4, 1,\n",
              "       3, 1, 2, 1, 3, 5, 8, 1, 2, 6, 7, 6, 1, 4, 6, 5, 5, 1, 2, 8, 1, 4,\n",
              "       3, 6, 4, 8, 2, 8, 1, 6, 2, 2, 2, 7, 1, 2, 8, 8, 1, 1, 1, 1, 2, 8,\n",
              "       1, 8, 1, 1, 1, 3, 1, 4, 6, 7, 5, 8, 3, 4, 2, 2, 2, 3, 8, 5, 3, 2,\n",
              "       2, 1, 7, 1, 1, 6, 1, 5, 8, 2, 3, 4, 2, 7, 1, 2, 7, 7, 8, 6, 1, 2,\n",
              "       7, 1, 8, 2, 1, 2, 3, 1, 6, 7, 8, 2, 8, 1, 7, 8, 2, 2, 1, 2, 1, 1,\n",
              "       5, 8, 5, 1, 5, 4, 6, 4, 2, 8, 2, 8, 3, 1, 7, 2, 2, 3, 1, 5, 2, 2,\n",
              "       1, 2, 6, 5, 1, 2, 2, 1, 2, 2, 7, 4, 1, 6, 1, 2, 4, 1, 5, 1, 2, 1,\n",
              "       2, 1, 1, 8, 6, 1, 1, 1, 1, 1, 8, 2, 6, 4, 8, 4, 5, 1, 1, 3, 4, 1,\n",
              "       7, 6, 1, 1, 6, 1, 8, 2, 5, 1, 6, 2, 4, 5, 1, 5, 2, 4, 1, 5, 8, 2,\n",
              "       8, 7, 1, 1, 4, 2, 1, 1, 8, 5, 6, 3, 6, 1, 1, 7, 8, 5, 6, 8, 1, 1,\n",
              "       3, 5, 8, 6, 2, 8, 1, 1, 1, 6, 1, 1, 8, 5, 2, 4, 7, 2, 8, 2, 1, 5,\n",
              "       1, 4, 6, 1, 5, 7, 2, 1, 1, 1, 4, 8, 1, 5, 2, 5, 1, 8, 1, 1, 8, 2,\n",
              "       7, 1, 1, 4, 2, 8, 2, 4, 5, 8, 2, 2, 8, 4, 4, 2, 4, 6, 7, 5, 1, 1,\n",
              "       8, 7, 5, 1, 1, 1, 6, 8, 6, 2, 1, 3, 4, 2, 1, 1, 2, 3, 4, 6, 1, 3,\n",
              "       2, 2, 8, 1, 5, 3, 2, 2, 1, 1, 2, 1, 8, 3, 1, 6, 1, 1, 8, 2, 1, 1,\n",
              "       5, 8, 1, 3, 6, 1, 6, 8, 1, 1, 1, 1, 3, 1, 2, 6, 1, 6, 1, 1, 8, 3,\n",
              "       1, 2, 8, 7, 2, 7, 2, 2, 7, 1, 2, 3, 8, 1, 1, 6, 5, 4, 1, 2, 5, 2,\n",
              "       1, 1, 5, 1, 8, 1, 5, 8, 1, 2, 8, 3, 2, 2, 6, 1, 2, 6, 1, 1, 8, 2,\n",
              "       7, 1, 1, 7, 7, 8, 5, 8, 4, 8, 7, 6, 8, 2, 8, 8, 8, 5, 1, 6, 7, 1,\n",
              "       1, 3, 5, 1, 1, 6, 1, 7, 8, 1, 4, 2, 6, 4, 2, 6, 1, 2, 2, 8, 4, 1,\n",
              "       5, 2, 2, 2, 6, 1, 2, 8, 1, 4, 2, 2, 1, 8, 2, 1, 1, 8, 2, 1, 3, 2,\n",
              "       2, 8, 1, 5, 1, 1, 1, 1, 3, 4, 6, 1, 8, 1, 1, 2, 6, 7, 1, 1, 4, 2,\n",
              "       1, 5, 1, 1, 4, 1, 8, 1, 2, 1, 6, 4, 2, 7, 2, 1, 1, 2, 2, 2, 1, 5,\n",
              "       5, 2, 2, 2, 8, 7, 1, 8, 3, 2, 1, 2, 6, 4, 8, 1, 1, 2, 5, 6, 2, 2,\n",
              "       4, 4, 6, 2, 2, 8, 5, 8, 7, 3, 1, 1, 1, 3, 1, 2, 1, 2, 3, 2, 5, 6,\n",
              "       3, 1, 4, 1, 2, 6, 2, 7, 6, 4, 5, 1, 8, 4, 7, 2, 8, 7, 4, 1, 3, 4,\n",
              "       1, 8, 5, 2, 3, 2, 8, 6, 1, 1, 1, 4, 1, 4, 8, 3, 4, 7, 2, 1, 8, 5,\n",
              "       1, 6, 8, 8, 1, 5, 6, 2, 8, 7, 5, 2, 1, 7, 2, 2, 6, 1, 5, 6, 2, 2,\n",
              "       7, 8, 2, 8, 4, 2, 2, 2, 1, 1, 8, 5, 1, 4, 1, 1, 6, 2, 1, 7, 7, 8,\n",
              "       6, 2, 1, 6, 6, 6, 2, 1, 5, 8, 1, 1, 2, 2, 6, 1, 1, 3, 8, 1, 1, 6,\n",
              "       6, 1, 1, 1, 7, 6, 1, 8, 1, 1, 5, 5, 4, 1, 2, 2, 2, 7, 1, 5, 5, 2,\n",
              "       1, 1, 4, 5, 1, 2, 6, 2, 3, 3, 2, 8, 5, 1, 3, 1, 1, 1, 1, 3, 4, 1,\n",
              "       7, 2, 4, 2, 5, 1, 8, 1, 2, 1, 1, 3, 4, 1, 1, 4, 1, 1, 1, 1, 1, 8,\n",
              "       1, 2, 1, 5, 8, 4, 5, 2, 6, 3, 2, 6, 8, 1, 2, 5, 3, 8, 8, 7, 2, 1,\n",
              "       8, 5, 1, 3, 1, 8, 3, 1, 2, 4])>"
            ]
          },
          "metadata": {},
          "execution_count": 30
        }
      ]
    },
    {
      "cell_type": "code",
      "source": [
        "# Calculate results from TF Hub pretrained embeddings results on validation set\n",
        "model_2_results = calculate_results(y_true=val_labels,\n",
        "                                    y_pred=model_2_preds)\n",
        "model_2_results"
      ],
      "metadata": {
        "colab": {
          "base_uri": "https://localhost:8080/"
        },
        "id": "BZlj4jYgClhF",
        "outputId": "652512ec-2c08-46b6-f566-e8bcff68d95b"
      },
      "execution_count": 31,
      "outputs": [
        {
          "output_type": "execute_result",
          "data": {
            "text/plain": [
              "{'accuracy': 45.800000000000004,\n",
              " 'f1': 0.45042331151252785,\n",
              " 'precision': 0.45843485506930065,\n",
              " 'recall': 0.458}"
            ]
          },
          "metadata": {},
          "execution_count": 31
        }
      ]
    },
    {
      "cell_type": "markdown",
      "source": [
        "#### Model 3 - Conv1D with character embeddings"
      ],
      "metadata": {
        "id": "01Wqr5MdCljD"
      }
    },
    {
      "cell_type": "code",
      "source": [
        "# Make function to split sentences into characters\n",
        "def split_chars(text):\n",
        "  return \" \".join(list(text))\n",
        "\n",
        "# Split sequence-level data splits into character-level data splits\n",
        "train_chars = [split_chars(sentence) for sentence in train_sentences]\n",
        "val_chars = [split_chars(sentence) for sentence in val_sentences]\n",
        "\n",
        "print(train_chars[0])"
      ],
      "metadata": {
        "colab": {
          "base_uri": "https://localhost:8080/"
        },
        "id": "s9_o4HWMcXVm",
        "outputId": "3a65c7be-7183-47ed-c5aa-3300c743db41"
      },
      "execution_count": 32,
      "outputs": [
        {
          "output_type": "stream",
          "name": "stdout",
          "text": [
            "I ' m   t o o   o l d   t o   b e   t r a d e d   i n   .\n"
          ]
        }
      ]
    },
    {
      "cell_type": "code",
      "source": [
        "# Average character length\n",
        "char_lens = [len(sentence) for sentence in train_sentences]\n",
        "mean_char_len = np.mean(char_lens)\n",
        "mean_char_len"
      ],
      "metadata": {
        "colab": {
          "base_uri": "https://localhost:8080/"
        },
        "id": "l2O0_Ipgchu3",
        "outputId": "d587431f-c1b8-4aba-db08-d683b7501816"
      },
      "execution_count": 33,
      "outputs": [
        {
          "output_type": "execute_result",
          "data": {
            "text/plain": [
              "39.99371428571428"
            ]
          },
          "metadata": {},
          "execution_count": 33
        }
      ]
    },
    {
      "cell_type": "code",
      "source": [
        "# Find what character length covers 95% of sequences\n",
        "output_seq_char_len = int(np.percentile(char_lens, 95))\n",
        "output_seq_char_len"
      ],
      "metadata": {
        "colab": {
          "base_uri": "https://localhost:8080/"
        },
        "id": "2-dLPYEgcrZK",
        "outputId": "754fb278-458d-499b-b973-05260570ca36"
      },
      "execution_count": 34,
      "outputs": [
        {
          "output_type": "execute_result",
          "data": {
            "text/plain": [
              "86"
            ]
          },
          "metadata": {},
          "execution_count": 34
        }
      ]
    },
    {
      "cell_type": "code",
      "source": [
        "# Get all keyboard characters for char-level embedding\n",
        "import string\n",
        "alphabet = string.ascii_lowercase + string.digits + string.punctuation\n",
        "alphabet"
      ],
      "metadata": {
        "colab": {
          "base_uri": "https://localhost:8080/",
          "height": 0
        },
        "id": "SQMkxEqcct74",
        "outputId": "6b7713b2-6164-4ffb-f833-92cb61a52f40"
      },
      "execution_count": 35,
      "outputs": [
        {
          "output_type": "execute_result",
          "data": {
            "text/plain": [
              "'abcdefghijklmnopqrstuvwxyz0123456789!\"#$%&\\'()*+,-./:;<=>?@[\\\\]^_`{|}~'"
            ],
            "application/vnd.google.colaboratory.intrinsic+json": {
              "type": "string"
            }
          },
          "metadata": {},
          "execution_count": 35
        }
      ]
    },
    {
      "cell_type": "code",
      "source": [
        "# Create char-level token vectorizer instance\n",
        "NUM_CHAR_TOKENS = len(alphabet) + 2 # num characters in alphabet + space + OOV token\n",
        "char_vectorizer = TextVectorization(max_tokens=NUM_CHAR_TOKENS,  \n",
        "                                    output_sequence_length=output_seq_char_len,\n",
        "                                    standardize=\"lower_and_strip_punctuation\",\n",
        "                                    name=\"char_vectorizer\")\n",
        "\n",
        "# Adapt character vectorizer to training characters\n",
        "char_vectorizer.adapt(train_chars)"
      ],
      "metadata": {
        "id": "suaUoMGPc_AZ"
      },
      "execution_count": 36,
      "outputs": []
    },
    {
      "cell_type": "code",
      "source": [
        "# Check character vocabulary characteristics\n",
        "char_vocab = char_vectorizer.get_vocabulary()\n",
        "print(f\"Number of different characters in character vocab: {len(char_vocab)}\")"
      ],
      "metadata": {
        "colab": {
          "base_uri": "https://localhost:8080/"
        },
        "id": "hyIz22f8dDaK",
        "outputId": "5c342f15-1a3a-4ea4-f140-c6bf14071373"
      },
      "execution_count": 37,
      "outputs": [
        {
          "output_type": "stream",
          "name": "stdout",
          "text": [
            "Number of different characters in character vocab: 45\n"
          ]
        }
      ]
    },
    {
      "cell_type": "code",
      "source": [
        "# Create char embedding layer\n",
        "char_embed = layers.Embedding(input_dim=NUM_CHAR_TOKENS, # number of different characters\n",
        "                              output_dim=25, # embedding dimension of each character (same as Figure 1 in https://arxiv.org/pdf/1612.05251.pdf)\n",
        "                              mask_zero=False, \n",
        "                              name=\"char_embed\")"
      ],
      "metadata": {
        "id": "ZdXAVdvwdMk7"
      },
      "execution_count": 38,
      "outputs": []
    },
    {
      "cell_type": "code",
      "source": [
        "# Make Conv1D on chars only\n",
        "inputs = layers.Input(shape=(1,), dtype=\"string\")\n",
        "char_vectors = char_vectorizer(inputs)\n",
        "char_embeddings = char_embed(char_vectors)\n",
        "x = layers.Conv1D(64, kernel_size=5, padding=\"same\", activation=\"relu\")(char_embeddings)\n",
        "x = layers.GlobalMaxPool1D()(x)\n",
        "outputs = layers.Dense(8, activation=\"softmax\")(x)\n",
        "model_3 = tf.keras.Model(inputs=inputs,\n",
        "                         outputs=outputs,\n",
        "                         name=\"model_3_conv1D_char_embedding\")\n",
        "\n",
        "# Compile model\n",
        "model_3.compile(loss=\"categorical_crossentropy\",\n",
        "                optimizer=tf.keras.optimizers.Adam(),\n",
        "                metrics=[\"accuracy\"])\n",
        "\n",
        "# Check the summary of conv1d_char_model\n",
        "model_3.summary()"
      ],
      "metadata": {
        "colab": {
          "base_uri": "https://localhost:8080/"
        },
        "id": "n7U4nsDzdP_R",
        "outputId": "7e87cd78-cd58-42df-b594-f7fd26858364"
      },
      "execution_count": 39,
      "outputs": [
        {
          "output_type": "stream",
          "name": "stdout",
          "text": [
            "Model: \"model_3_conv1D_char_embedding\"\n",
            "_________________________________________________________________\n",
            " Layer (type)                Output Shape              Param #   \n",
            "=================================================================\n",
            " input_3 (InputLayer)        [(None, 1)]               0         \n",
            "                                                                 \n",
            " char_vectorizer (TextVector  (None, 86)               0         \n",
            " ization)                                                        \n",
            "                                                                 \n",
            " char_embed (Embedding)      (None, 86, 25)            1750      \n",
            "                                                                 \n",
            " conv1d_1 (Conv1D)           (None, 86, 64)            8064      \n",
            "                                                                 \n",
            " global_max_pooling1d (Globa  (None, 64)               0         \n",
            " lMaxPooling1D)                                                  \n",
            "                                                                 \n",
            " dense_4 (Dense)             (None, 8)                 520       \n",
            "                                                                 \n",
            "=================================================================\n",
            "Total params: 10,334\n",
            "Trainable params: 10,334\n",
            "Non-trainable params: 0\n",
            "_________________________________________________________________\n"
          ]
        }
      ]
    },
    {
      "cell_type": "code",
      "source": [
        "# Create char datasets\n",
        "train_char_dataset = tf.data.Dataset.from_tensor_slices((train_chars, train_labels_one_hot)).batch(32).prefetch(tf.data.AUTOTUNE)\n",
        "val_char_dataset = tf.data.Dataset.from_tensor_slices((val_chars, val_labels_one_hot)).batch(32).prefetch(tf.data.AUTOTUNE)\n",
        "\n",
        "train_char_dataset"
      ],
      "metadata": {
        "colab": {
          "base_uri": "https://localhost:8080/"
        },
        "id": "0A5c4H1FdVhD",
        "outputId": "d32befa5-bd38-4671-8940-16450f39eafb"
      },
      "execution_count": 40,
      "outputs": [
        {
          "output_type": "execute_result",
          "data": {
            "text/plain": [
              "<PrefetchDataset element_spec=(TensorSpec(shape=(None,), dtype=tf.string, name=None), TensorSpec(shape=(None, 8), dtype=tf.float64, name=None))>"
            ]
          },
          "metadata": {},
          "execution_count": 40
        }
      ]
    },
    {
      "cell_type": "code",
      "source": [
        "# Fit the model on chars only\n",
        "model_3_history = model_3.fit(train_char_dataset,\n",
        "                              steps_per_epoch=int(len(train_char_dataset)),\n",
        "                              epochs=3,\n",
        "                              validation_data=val_char_dataset,\n",
        "                              validation_steps=int(len(val_char_dataset)))"
      ],
      "metadata": {
        "colab": {
          "base_uri": "https://localhost:8080/"
        },
        "id": "fb0Vg6tmdd2x",
        "outputId": "de7fb9b6-dd25-4dea-c96c-fcc73150872b"
      },
      "execution_count": 41,
      "outputs": [
        {
          "output_type": "stream",
          "name": "stdout",
          "text": [
            "Epoch 1/3\n",
            "438/438 [==============================] - 3s 5ms/step - loss: 2.0176 - accuracy: 0.2154 - val_loss: 1.9921 - val_accuracy: 0.2240\n",
            "Epoch 2/3\n",
            "438/438 [==============================] - 2s 5ms/step - loss: 1.9677 - accuracy: 0.2426 - val_loss: 1.9395 - val_accuracy: 0.2670\n",
            "Epoch 3/3\n",
            "438/438 [==============================] - 2s 5ms/step - loss: 1.9031 - accuracy: 0.2780 - val_loss: 1.9017 - val_accuracy: 0.2800\n"
          ]
        }
      ]
    },
    {
      "cell_type": "code",
      "source": [
        "# Make predictions with character model only\n",
        "model_3_pred_probs = model_3.predict(val_char_dataset)\n",
        "model_3_pred_probs"
      ],
      "metadata": {
        "colab": {
          "base_uri": "https://localhost:8080/"
        },
        "id": "b38nBLevdr-2",
        "outputId": "691fbdcd-7909-4b04-e10a-73ee03ae5c6d"
      },
      "execution_count": 42,
      "outputs": [
        {
          "output_type": "execute_result",
          "data": {
            "text/plain": [
              "array([[0.34880123, 0.10423933, 0.11662428, ..., 0.08956998, 0.08964644,\n",
              "        0.09542986],\n",
              "       [0.12320825, 0.1378548 , 0.1125724 , ..., 0.15527251, 0.04789127,\n",
              "        0.11088578],\n",
              "       [0.2989727 , 0.05116589, 0.1620101 , ..., 0.11757448, 0.06966659,\n",
              "        0.11478056],\n",
              "       ...,\n",
              "       [0.44052467, 0.17031944, 0.05085824, ..., 0.05303805, 0.05474152,\n",
              "        0.09234633],\n",
              "       [0.20139845, 0.18251647, 0.09899014, ..., 0.07076918, 0.06078338,\n",
              "        0.18656822],\n",
              "       [0.20576257, 0.24129811, 0.0916743 , ..., 0.07533367, 0.04689684,\n",
              "        0.20915681]], dtype=float32)"
            ]
          },
          "metadata": {},
          "execution_count": 42
        }
      ]
    },
    {
      "cell_type": "code",
      "source": [
        "# Convert predictions to classes\n",
        "model_3_preds = tf.argmax(model_3_pred_probs, axis=1) + 1\n",
        "model_3_preds"
      ],
      "metadata": {
        "colab": {
          "base_uri": "https://localhost:8080/"
        },
        "id": "g9n-V5qtdtrN",
        "outputId": "989c710b-f386-44e5-82c3-23cfc29e459d"
      },
      "execution_count": 43,
      "outputs": [
        {
          "output_type": "execute_result",
          "data": {
            "text/plain": [
              "<tf.Tensor: shape=(1000,), dtype=int64, numpy=\n",
              "array([1, 5, 1, 1, 1, 1, 8, 1, 4, 1, 8, 1, 1, 5, 2, 2, 1, 1, 1, 1, 5, 5,\n",
              "       1, 1, 1, 2, 5, 1, 2, 2, 1, 1, 8, 2, 1, 6, 2, 2, 8, 2, 2, 1, 1, 1,\n",
              "       2, 8, 1, 1, 1, 1, 4, 1, 2, 8, 8, 2, 4, 8, 8, 1, 2, 6, 3, 8, 2, 2,\n",
              "       1, 2, 1, 1, 1, 2, 6, 2, 1, 1, 8, 2, 1, 1, 1, 1, 8, 1, 1, 1, 8, 1,\n",
              "       1, 2, 5, 1, 1, 1, 8, 1, 1, 1, 1, 6, 1, 8, 3, 1, 8, 2, 1, 8, 8, 8,\n",
              "       8, 8, 1, 1, 1, 2, 5, 5, 6, 1, 1, 6, 2, 5, 1, 2, 1, 2, 1, 1, 2, 2,\n",
              "       1, 1, 8, 1, 1, 2, 1, 2, 5, 2, 1, 1, 1, 8, 8, 1, 1, 3, 1, 8, 4, 1,\n",
              "       1, 1, 3, 8, 6, 1, 6, 2, 1, 1, 1, 1, 4, 8, 2, 1, 2, 2, 2, 8, 1, 1,\n",
              "       2, 1, 2, 5, 2, 8, 8, 1, 1, 8, 2, 5, 1, 4, 2, 6, 2, 2, 5, 8, 1, 2,\n",
              "       1, 8, 1, 1, 1, 1, 1, 2, 1, 2, 8, 4, 8, 1, 5, 1, 4, 1, 1, 4, 1, 1,\n",
              "       2, 1, 1, 1, 2, 2, 8, 2, 1, 1, 2, 2, 1, 1, 1, 2, 1, 2, 1, 1, 1, 1,\n",
              "       1, 2, 2, 2, 1, 5, 8, 8, 1, 5, 2, 1, 1, 5, 1, 2, 2, 1, 2, 1, 1, 2,\n",
              "       5, 1, 4, 1, 2, 1, 1, 1, 2, 1, 2, 6, 1, 2, 2, 2, 2, 1, 6, 1, 1, 8,\n",
              "       1, 8, 8, 8, 1, 1, 2, 2, 1, 1, 1, 2, 2, 5, 2, 2, 2, 1, 6, 8, 8, 2,\n",
              "       8, 8, 1, 1, 1, 6, 2, 5, 2, 1, 1, 1, 1, 1, 1, 8, 1, 2, 5, 2, 1, 8,\n",
              "       8, 8, 5, 1, 1, 2, 1, 2, 1, 1, 8, 2, 5, 1, 1, 8, 2, 1, 8, 2, 1, 5,\n",
              "       8, 1, 2, 1, 8, 2, 1, 2, 1, 8, 1, 1, 1, 8, 2, 1, 1, 1, 1, 5, 1, 1,\n",
              "       3, 2, 6, 1, 1, 1, 1, 1, 2, 1, 1, 8, 1, 1, 1, 1, 8, 1, 2, 2, 2, 2,\n",
              "       2, 1, 1, 1, 8, 1, 1, 1, 8, 5, 7, 2, 1, 3, 2, 8, 1, 2, 2, 2, 8, 1,\n",
              "       8, 5, 1, 1, 1, 1, 2, 1, 8, 1, 5, 1, 1, 5, 2, 6, 2, 8, 6, 8, 8, 2,\n",
              "       8, 5, 2, 2, 1, 1, 1, 1, 1, 8, 1, 1, 1, 1, 1, 2, 1, 2, 8, 2, 1, 1,\n",
              "       1, 2, 8, 8, 8, 5, 1, 1, 2, 1, 1, 1, 8, 6, 2, 8, 8, 1, 8, 3, 1, 2,\n",
              "       1, 2, 3, 2, 4, 1, 8, 1, 1, 8, 2, 2, 5, 8, 2, 1, 1, 2, 2, 1, 1, 1,\n",
              "       2, 1, 1, 6, 2, 1, 2, 2, 2, 1, 2, 8, 2, 1, 1, 2, 1, 2, 1, 1, 1, 1,\n",
              "       6, 1, 2, 2, 1, 1, 1, 8, 2, 2, 1, 1, 1, 8, 2, 1, 1, 4, 2, 2, 1, 1,\n",
              "       1, 1, 2, 2, 1, 8, 2, 6, 1, 2, 2, 1, 1, 1, 1, 8, 1, 2, 5, 1, 5, 1,\n",
              "       2, 1, 4, 1, 1, 1, 2, 5, 2, 1, 1, 8, 2, 1, 8, 1, 1, 5, 1, 1, 8, 5,\n",
              "       1, 2, 5, 1, 8, 1, 8, 1, 2, 2, 1, 1, 8, 1, 1, 8, 8, 1, 1, 2, 5, 1,\n",
              "       1, 1, 1, 6, 1, 1, 8, 1, 1, 2, 2, 1, 1, 5, 1, 8, 1, 2, 1, 1, 1, 2,\n",
              "       1, 8, 1, 1, 1, 1, 5, 1, 1, 1, 1, 6, 8, 1, 8, 1, 8, 5, 3, 2, 1, 8,\n",
              "       1, 3, 2, 1, 8, 1, 1, 1, 2, 1, 8, 2, 2, 1, 2, 6, 1, 2, 2, 5, 2, 8,\n",
              "       5, 1, 8, 5, 2, 2, 8, 8, 8, 1, 1, 1, 1, 2, 1, 1, 1, 2, 8, 1, 2, 1,\n",
              "       5, 8, 8, 8, 5, 2, 1, 1, 2, 1, 1, 1, 1, 1, 8, 1, 1, 1, 8, 1, 1, 1,\n",
              "       6, 1, 1, 1, 1, 2, 2, 2, 1, 8, 6, 1, 2, 2, 2, 1, 1, 1, 4, 8, 8, 5,\n",
              "       5, 1, 1, 1, 1, 1, 2, 8, 1, 1, 1, 1, 2, 1, 1, 1, 1, 2, 8, 2, 8, 2,\n",
              "       4, 1, 1, 5, 4, 8, 2, 1, 8, 2, 1, 1, 1, 1, 8, 1, 1, 2, 8, 1, 1, 1,\n",
              "       1, 1, 4, 1, 1, 1, 2, 2, 1, 4, 5, 1, 2, 1, 1, 1, 1, 8, 4, 1, 1, 1,\n",
              "       1, 1, 1, 1, 1, 2, 4, 1, 5, 1, 2, 2, 2, 1, 1, 8, 1, 1, 8, 2, 8, 5,\n",
              "       8, 2, 1, 8, 1, 3, 1, 2, 1, 1, 1, 2, 2, 1, 2, 2, 6, 1, 8, 2, 1, 8,\n",
              "       1, 5, 8, 2, 2, 1, 8, 5, 5, 1, 8, 5, 1, 1, 2, 1, 1, 1, 1, 1, 8, 2,\n",
              "       5, 8, 1, 3, 3, 2, 1, 1, 5, 8, 1, 4, 1, 1, 1, 1, 1, 1, 8, 1, 1, 1,\n",
              "       1, 8, 1, 1, 2, 2, 1, 2, 1, 1, 1, 1, 1, 1, 1, 5, 8, 1, 2, 2, 5, 2,\n",
              "       1, 1, 2, 6, 1, 2, 1, 1, 1, 1, 1, 6, 2, 1, 1, 8, 2, 2, 1, 1, 6, 2,\n",
              "       2, 2, 5, 1, 5, 1, 1, 8, 1, 1, 6, 1, 2, 1, 1, 1, 2, 1, 1, 1, 1, 2,\n",
              "       1, 1, 1, 5, 2, 5, 5, 2, 8, 2, 1, 1, 8, 1, 2, 5, 1, 8, 1, 1, 8, 1,\n",
              "       8, 5, 2, 1, 1, 1, 1, 1, 1, 2])>"
            ]
          },
          "metadata": {},
          "execution_count": 43
        }
      ]
    },
    {
      "cell_type": "code",
      "source": [
        "# Calculate Conv1D char only model results\n",
        "model_3_results = calculate_results(y_true=val_labels,\n",
        "                                        y_pred=model_3_preds)\n",
        "model_3_results"
      ],
      "metadata": {
        "colab": {
          "base_uri": "https://localhost:8080/"
        },
        "id": "owE_vEjCdyWT",
        "outputId": "3da83604-3cc1-4c29-ef25-f943427d4398"
      },
      "execution_count": 44,
      "outputs": [
        {
          "output_type": "execute_result",
          "data": {
            "text/plain": [
              "{'accuracy': 28.000000000000004,\n",
              " 'f1': 0.2366193186557883,\n",
              " 'precision': 0.2656139557732325,\n",
              " 'recall': 0.28}"
            ]
          },
          "metadata": {},
          "execution_count": 44
        }
      ]
    },
    {
      "cell_type": "markdown",
      "source": [
        "#### Model 4: Combining pretrained token embeddings + character embeddings \n",
        "(hybrid embedding layer)"
      ],
      "metadata": {
        "id": "KEVF8ymld4ba"
      }
    },
    {
      "cell_type": "code",
      "source": [
        "# 1. Setup token inputs/model\n",
        "token_inputs = layers.Input(shape=[], dtype=tf.string, name=\"token_input\")\n",
        "token_embeddings = tf_hub_embedding_layer(token_inputs)\n",
        "token_output = layers.Dense(128, activation=\"relu\")(token_embeddings)\n",
        "token_model = tf.keras.Model(inputs=token_inputs,\n",
        "                             outputs=token_output)\n",
        "\n",
        "# 2. Setup char inputs/model\n",
        "char_inputs = layers.Input(shape=(1,), dtype=tf.string, name=\"char_input\")\n",
        "char_vectors = char_vectorizer(char_inputs)\n",
        "char_embeddings = char_embed(char_vectors)\n",
        "char_bi_lstm = layers.Bidirectional(layers.LSTM(25))(char_embeddings) # bi-LSTM shown in Figure 1 of https://arxiv.org/pdf/1612.05251.pdf\n",
        "char_model = tf.keras.Model(inputs=char_inputs,\n",
        "                            outputs=char_bi_lstm)\n",
        "\n",
        "# 3. Concatenate token and char inputs (create hybrid token embedding)\n",
        "token_char_concat = layers.Concatenate(name=\"token_char_hybrid\")([token_model.output, \n",
        "                                                                  char_model.output])\n",
        "\n",
        "# 4. Create output layers - addition of dropout discussed in 4.2 of https://arxiv.org/pdf/1612.05251.pdf\n",
        "combined_dropout = layers.Dropout(0.5)(token_char_concat)\n",
        "combined_dense = layers.Dense(200, activation=\"relu\")(combined_dropout)\n",
        "final_dropout = layers.Dropout(0.5)(combined_dense)\n",
        "output_layer = layers.Dense(8, activation=\"softmax\")(final_dropout)\n",
        "\n",
        "# 5. Construct model with char and token inputs\n",
        "model_4 = tf.keras.Model(inputs=[token_model.input, char_model.input],\n",
        "                         outputs=output_layer,\n",
        "                         name=\"model_4_token_and_char_embeddings\")\n",
        "\n",
        "# Get summary of token and character model\n",
        "model_4.summary()"
      ],
      "metadata": {
        "colab": {
          "base_uri": "https://localhost:8080/"
        },
        "id": "A3BvQqBxd3TD",
        "outputId": "18f3aacd-1d28-4e77-8c34-64256a1ef42a"
      },
      "execution_count": 45,
      "outputs": [
        {
          "output_type": "stream",
          "name": "stdout",
          "text": [
            "Model: \"model_4_token_and_char_embeddings\"\n",
            "__________________________________________________________________________________________________\n",
            " Layer (type)                   Output Shape         Param #     Connected to                     \n",
            "==================================================================================================\n",
            " char_input (InputLayer)        [(None, 1)]          0           []                               \n",
            "                                                                                                  \n",
            " token_input (InputLayer)       [(None,)]            0           []                               \n",
            "                                                                                                  \n",
            " char_vectorizer (TextVectoriza  (None, 86)          0           ['char_input[0][0]']             \n",
            " tion)                                                                                            \n",
            "                                                                                                  \n",
            " universal_sentence_encoder (Ke  (None, 512)         256797824   ['token_input[0][0]']            \n",
            " rasLayer)                                                                                        \n",
            "                                                                                                  \n",
            " char_embed (Embedding)         (None, 86, 25)       1750        ['char_vectorizer[1][0]']        \n",
            "                                                                                                  \n",
            " dense_5 (Dense)                (None, 128)          65664       ['universal_sentence_encoder[1][0\n",
            "                                                                 ]']                              \n",
            "                                                                                                  \n",
            " bidirectional (Bidirectional)  (None, 50)           10200       ['char_embed[1][0]']             \n",
            "                                                                                                  \n",
            " token_char_hybrid (Concatenate  (None, 178)         0           ['dense_5[0][0]',                \n",
            " )                                                                'bidirectional[0][0]']          \n",
            "                                                                                                  \n",
            " dropout (Dropout)              (None, 178)          0           ['token_char_hybrid[0][0]']      \n",
            "                                                                                                  \n",
            " dense_6 (Dense)                (None, 200)          35800       ['dropout[0][0]']                \n",
            "                                                                                                  \n",
            " dropout_1 (Dropout)            (None, 200)          0           ['dense_6[0][0]']                \n",
            "                                                                                                  \n",
            " dense_7 (Dense)                (None, 8)            1608        ['dropout_1[0][0]']              \n",
            "                                                                                                  \n",
            "==================================================================================================\n",
            "Total params: 256,912,846\n",
            "Trainable params: 115,022\n",
            "Non-trainable params: 256,797,824\n",
            "__________________________________________________________________________________________________\n"
          ]
        }
      ]
    },
    {
      "cell_type": "code",
      "source": [
        "# Plot hybrid token and character model\n",
        "from tensorflow.keras.utils import plot_model\n",
        "plot_model(model_4)"
      ],
      "metadata": {
        "colab": {
          "base_uri": "https://localhost:8080/",
          "height": 0
        },
        "id": "I5EHgglTeLax",
        "outputId": "d94fe14d-76f6-4c8c-f16a-4d64f1738ea6"
      },
      "execution_count": 46,
      "outputs": [
        {
          "output_type": "execute_result",
          "data": {
            "text/plain": [
              "<IPython.core.display.Image object>"
            ],
            "image/png": "[encoded data removed]"
          },
          "metadata": {},
          "execution_count": 46
        }
      ]
    },
    {
      "cell_type": "code",
      "source": [
        "# Compile token char model\n",
        "model_4.compile(loss=\"categorical_crossentropy\",\n",
        "                optimizer=tf.keras.optimizers.Adam(),\n",
        "                metrics=[\"accuracy\"])"
      ],
      "metadata": {
        "id": "E_RL-EI0eU0w"
      },
      "execution_count": 47,
      "outputs": []
    },
    {
      "cell_type": "code",
      "source": [
        "# Combine chars and tokens into a dataset\n",
        "train_char_token_data = tf.data.Dataset.from_tensor_slices((train_sentences, train_chars)) # make data\n",
        "train_char_token_labels = tf.data.Dataset.from_tensor_slices(train_labels_one_hot) # make labels\n",
        "train_char_token_dataset = tf.data.Dataset.zip((train_char_token_data, train_char_token_labels)) # combine data and labels\n",
        "\n",
        "# Prefetch and batch train data\n",
        "train_char_token_dataset = train_char_token_dataset.batch(32).prefetch(tf.data.AUTOTUNE) \n",
        "\n",
        "# Repeat same steps validation data\n",
        "val_char_token_data = tf.data.Dataset.from_tensor_slices((val_sentences, val_chars))\n",
        "val_char_token_labels = tf.data.Dataset.from_tensor_slices(val_labels_one_hot)\n",
        "val_char_token_dataset = tf.data.Dataset.zip((val_char_token_data, val_char_token_labels))\n",
        "val_char_token_dataset = val_char_token_dataset.batch(32).prefetch(tf.data.AUTOTUNE)\n",
        "\n",
        "# Check out training char and token embedding dataset\n",
        "train_char_token_dataset, val_char_token_dataset"
      ],
      "metadata": {
        "colab": {
          "base_uri": "https://localhost:8080/"
        },
        "id": "aJq5j2w3eY3P",
        "outputId": "824f8d56-18cb-427f-eec2-3c23a635eb8d"
      },
      "execution_count": 48,
      "outputs": [
        {
          "output_type": "execute_result",
          "data": {
            "text/plain": [
              "(<PrefetchDataset element_spec=((TensorSpec(shape=(None,), dtype=tf.string, name=None), TensorSpec(shape=(None,), dtype=tf.string, name=None)), TensorSpec(shape=(None, 8), dtype=tf.float64, name=None))>,\n",
              " <PrefetchDataset element_spec=((TensorSpec(shape=(None,), dtype=tf.string, name=None), TensorSpec(shape=(None,), dtype=tf.string, name=None)), TensorSpec(shape=(None, 8), dtype=tf.float64, name=None))>)"
            ]
          },
          "metadata": {},
          "execution_count": 48
        }
      ]
    },
    {
      "cell_type": "code",
      "source": [
        "# Fit the model on tokens and chars\n",
        "model_4_history = model_4.fit(train_char_token_dataset, # train on dataset of token and characters\n",
        "                              steps_per_epoch=int(len(train_char_token_dataset)),\n",
        "                              epochs=3,\n",
        "                              validation_data=val_char_token_dataset,\n",
        "                              validation_steps=int(len(val_char_token_dataset)))"
      ],
      "metadata": {
        "colab": {
          "base_uri": "https://localhost:8080/"
        },
        "id": "FCiLhRiKecLu",
        "outputId": "31e49a35-b6de-4d5d-c0fe-da98089acd64"
      },
      "execution_count": 49,
      "outputs": [
        {
          "output_type": "stream",
          "name": "stdout",
          "text": [
            "Epoch 1/3\n",
            "438/438 [==============================] - 15s 23ms/step - loss: 1.7857 - accuracy: 0.3318 - val_loss: 1.5929 - val_accuracy: 0.4120\n",
            "Epoch 2/3\n",
            "438/438 [==============================] - 10s 22ms/step - loss: 1.5933 - accuracy: 0.4192 - val_loss: 1.5554 - val_accuracy: 0.4370\n",
            "Epoch 3/3\n",
            "438/438 [==============================] - 9s 20ms/step - loss: 1.5491 - accuracy: 0.4394 - val_loss: 1.5426 - val_accuracy: 0.4500\n"
          ]
        }
      ]
    },
    {
      "cell_type": "code",
      "source": [
        "# Make predictions using the token-character model hybrid\n",
        "model_4_pred_probs = model_4.predict(val_char_token_dataset)\n",
        "model_4_pred_probs"
      ],
      "metadata": {
        "colab": {
          "base_uri": "https://localhost:8080/"
        },
        "id": "1vSD2FyIeybW",
        "outputId": "db5c1811-8bc4-4537-e3ec-e31abae3ba24"
      },
      "execution_count": 50,
      "outputs": [
        {
          "output_type": "execute_result",
          "data": {
            "text/plain": [
              "array([[0.06968046, 0.3813433 , 0.02523266, ..., 0.04406763, 0.03456238,\n",
              "        0.1107709 ],\n",
              "       [0.10432386, 0.07985891, 0.11371843, ..., 0.3242596 , 0.07480898,\n",
              "        0.09957623],\n",
              "       [0.09906039, 0.10033116, 0.07441902, ..., 0.11722167, 0.25520954,\n",
              "        0.11440235],\n",
              "       ...,\n",
              "       [0.709944  , 0.09654384, 0.02760937, ..., 0.00994515, 0.02003605,\n",
              "        0.07326838],\n",
              "       [0.09560562, 0.45738244, 0.03090233, ..., 0.03250269, 0.1737997 ,\n",
              "        0.09705254],\n",
              "       [0.08394863, 0.48059803, 0.02485082, ..., 0.01734845, 0.09371851,\n",
              "        0.11052062]], dtype=float32)"
            ]
          },
          "metadata": {},
          "execution_count": 50
        }
      ]
    },
    {
      "cell_type": "code",
      "source": [
        "# Turn prediction probabilities into prediction classes\n",
        "model_4_preds = tf.argmax(model_4_pred_probs, axis=1) + 1\n",
        "model_4_preds"
      ],
      "metadata": {
        "colab": {
          "base_uri": "https://localhost:8080/"
        },
        "id": "O_kmMKVte0xx",
        "outputId": "2b9e57f1-e0ad-4a90-e065-2310faf3a912"
      },
      "execution_count": 51,
      "outputs": [
        {
          "output_type": "execute_result",
          "data": {
            "text/plain": [
              "<tf.Tensor: shape=(1000,), dtype=int64, numpy=\n",
              "array([2, 6, 7, 1, 7, 3, 1, 1, 6, 5, 8, 8, 1, 8, 2, 8, 8, 1, 1, 1, 5, 5,\n",
              "       1, 1, 1, 8, 5, 4, 2, 2, 2, 1, 8, 2, 4, 6, 4, 5, 8, 2, 6, 8, 1, 1,\n",
              "       2, 8, 2, 7, 5, 1, 2, 2, 5, 5, 6, 1, 2, 6, 2, 6, 1, 2, 3, 8, 3, 1,\n",
              "       8, 8, 4, 1, 7, 8, 6, 4, 2, 2, 4, 6, 2, 2, 2, 1, 5, 8, 4, 6, 1, 1,\n",
              "       1, 1, 2, 8, 4, 2, 8, 1, 4, 1, 6, 5, 1, 1, 3, 1, 6, 1, 1, 7, 7, 7,\n",
              "       8, 8, 1, 2, 1, 5, 5, 5, 4, 1, 2, 3, 2, 1, 7, 2, 1, 5, 7, 1, 5, 6,\n",
              "       8, 2, 8, 1, 1, 1, 1, 2, 5, 2, 1, 1, 8, 8, 8, 6, 1, 6, 8, 8, 5, 1,\n",
              "       1, 2, 6, 1, 5, 1, 6, 2, 2, 3, 3, 8, 1, 5, 6, 7, 2, 2, 7, 1, 1, 1,\n",
              "       2, 6, 3, 6, 2, 5, 7, 3, 4, 8, 5, 5, 8, 5, 2, 2, 6, 4, 5, 8, 1, 7,\n",
              "       1, 8, 1, 2, 1, 1, 1, 1, 8, 1, 2, 2, 5, 1, 2, 8, 5, 1, 2, 2, 1, 1,\n",
              "       2, 2, 5, 1, 2, 1, 8, 1, 8, 2, 2, 4, 2, 1, 2, 5, 6, 7, 1, 3, 4, 1,\n",
              "       3, 1, 2, 1, 3, 5, 8, 1, 1, 6, 7, 3, 1, 8, 6, 5, 5, 1, 2, 2, 1, 4,\n",
              "       3, 6, 4, 8, 2, 8, 1, 6, 2, 2, 2, 2, 1, 2, 8, 8, 1, 1, 1, 8, 2, 8,\n",
              "       1, 8, 8, 1, 1, 1, 1, 4, 6, 1, 5, 8, 3, 4, 2, 2, 2, 3, 8, 8, 3, 2,\n",
              "       2, 1, 2, 1, 1, 6, 1, 5, 8, 2, 3, 1, 2, 2, 8, 2, 6, 7, 8, 6, 1, 2,\n",
              "       7, 1, 8, 2, 1, 2, 3, 8, 6, 7, 8, 2, 8, 1, 7, 8, 4, 2, 7, 2, 1, 1,\n",
              "       5, 8, 5, 1, 5, 4, 6, 4, 1, 8, 2, 2, 3, 1, 7, 2, 2, 3, 1, 2, 2, 2,\n",
              "       1, 7, 6, 5, 1, 2, 2, 1, 2, 2, 7, 8, 1, 1, 1, 2, 6, 1, 5, 1, 2, 1,\n",
              "       2, 1, 1, 8, 6, 1, 1, 1, 1, 1, 8, 2, 6, 4, 8, 4, 5, 1, 1, 3, 4, 1,\n",
              "       7, 6, 1, 1, 6, 1, 8, 2, 5, 1, 6, 5, 4, 5, 1, 5, 2, 6, 1, 5, 8, 2,\n",
              "       8, 5, 1, 2, 4, 2, 1, 6, 1, 5, 6, 3, 6, 1, 1, 2, 5, 5, 6, 8, 3, 1,\n",
              "       3, 5, 8, 6, 2, 8, 1, 6, 4, 6, 1, 1, 8, 5, 2, 1, 1, 2, 8, 2, 1, 5,\n",
              "       1, 8, 6, 1, 5, 1, 2, 1, 1, 1, 4, 1, 1, 8, 2, 5, 1, 8, 1, 1, 5, 2,\n",
              "       7, 1, 1, 4, 2, 8, 2, 1, 5, 8, 2, 2, 8, 4, 6, 2, 4, 6, 7, 5, 1, 1,\n",
              "       8, 7, 5, 1, 1, 1, 6, 8, 6, 2, 1, 3, 1, 2, 3, 1, 2, 3, 4, 6, 1, 3,\n",
              "       2, 2, 8, 1, 5, 1, 2, 2, 1, 1, 2, 1, 8, 3, 1, 6, 1, 1, 8, 2, 3, 1,\n",
              "       5, 8, 1, 3, 6, 1, 6, 5, 3, 1, 1, 1, 3, 1, 2, 1, 1, 6, 1, 1, 8, 3,\n",
              "       1, 2, 8, 7, 2, 7, 2, 2, 7, 1, 2, 3, 8, 1, 1, 6, 5, 4, 1, 2, 5, 2,\n",
              "       1, 1, 5, 1, 8, 1, 8, 8, 1, 2, 8, 3, 2, 2, 6, 1, 5, 6, 1, 1, 1, 8,\n",
              "       7, 2, 1, 7, 1, 5, 5, 8, 4, 8, 2, 6, 8, 5, 8, 8, 8, 5, 1, 6, 7, 1,\n",
              "       1, 3, 5, 1, 1, 6, 1, 7, 8, 1, 6, 2, 8, 3, 2, 6, 1, 2, 5, 8, 4, 1,\n",
              "       5, 2, 2, 2, 6, 1, 2, 8, 1, 4, 5, 2, 1, 8, 2, 1, 1, 8, 2, 1, 3, 2,\n",
              "       2, 8, 1, 5, 1, 1, 1, 1, 4, 4, 6, 1, 8, 1, 1, 2, 6, 7, 1, 1, 6, 2,\n",
              "       1, 5, 2, 1, 2, 2, 8, 1, 7, 1, 6, 4, 2, 7, 2, 1, 1, 2, 2, 2, 1, 8,\n",
              "       5, 2, 2, 2, 8, 7, 1, 8, 3, 2, 1, 2, 6, 4, 8, 1, 1, 2, 5, 4, 8, 2,\n",
              "       4, 6, 6, 2, 2, 8, 5, 8, 7, 1, 1, 1, 3, 3, 1, 2, 1, 2, 3, 2, 5, 6,\n",
              "       3, 1, 4, 3, 2, 6, 2, 7, 3, 4, 5, 1, 8, 4, 7, 2, 8, 7, 4, 1, 1, 1,\n",
              "       7, 8, 5, 2, 3, 2, 8, 6, 6, 1, 1, 4, 1, 4, 8, 3, 4, 7, 2, 8, 8, 5,\n",
              "       8, 6, 8, 8, 1, 5, 2, 2, 8, 7, 5, 2, 1, 2, 2, 2, 6, 6, 5, 6, 7, 2,\n",
              "       7, 8, 2, 8, 4, 2, 2, 2, 8, 1, 8, 5, 1, 4, 1, 1, 6, 2, 1, 7, 7, 8,\n",
              "       4, 5, 1, 4, 6, 6, 2, 7, 5, 8, 1, 1, 2, 2, 6, 6, 1, 3, 8, 1, 1, 6,\n",
              "       6, 1, 1, 1, 7, 6, 1, 8, 1, 1, 5, 5, 4, 1, 2, 2, 2, 7, 8, 5, 5, 2,\n",
              "       1, 1, 4, 5, 1, 2, 6, 2, 3, 3, 7, 8, 2, 1, 3, 6, 1, 1, 1, 3, 1, 1,\n",
              "       7, 2, 4, 2, 5, 1, 8, 1, 2, 7, 1, 3, 4, 7, 1, 4, 1, 1, 1, 1, 1, 8,\n",
              "       1, 2, 1, 5, 8, 1, 5, 2, 6, 3, 2, 6, 8, 1, 2, 5, 5, 8, 8, 7, 3, 1,\n",
              "       8, 8, 1, 3, 1, 8, 3, 1, 2, 2])>"
            ]
          },
          "metadata": {},
          "execution_count": 51
        }
      ]
    },
    {
      "cell_type": "code",
      "source": [
        "# Get results of token-char-hybrid model\n",
        "model_4_results = calculate_results(y_true=val_labels,\n",
        "                                    y_pred=model_4_preds)\n",
        "model_4_results"
      ],
      "metadata": {
        "colab": {
          "base_uri": "https://localhost:8080/"
        },
        "id": "IQiHvT_Ue42h",
        "outputId": "e305d5fd-14d5-45de-e75a-baf0e7b62ecc"
      },
      "execution_count": 52,
      "outputs": [
        {
          "output_type": "execute_result",
          "data": {
            "text/plain": [
              "{'accuracy': 45.0,\n",
              " 'f1': 0.4400265694394553,\n",
              " 'precision': 0.4492801468539967,\n",
              " 'recall': 0.45}"
            ]
          },
          "metadata": {},
          "execution_count": 52
        }
      ]
    },
    {
      "cell_type": "markdown",
      "source": [
        "## Compare model results"
      ],
      "metadata": {
        "id": "pcitCiORgyd4"
      }
    },
    {
      "cell_type": "code",
      "source": [
        "# Combine model results into a DataFrame\n",
        "all_model_results = pd.DataFrame({\"custom_token_embed_conv1d\": model_1_results,\n",
        "                                  \"pretrained_token_embed\": model_2_results,\n",
        "                                  \"custom_char_embed_conv1d\": model_3_results,\n",
        "                                  \"hybrid_char_token_embed\": model_4_results})\n",
        "all_model_results = all_model_results.transpose()\n",
        "all_model_results"
      ],
      "metadata": {
        "colab": {
          "base_uri": "https://localhost:8080/",
          "height": 175
        },
        "id": "Yr3LEUnSg0yb",
        "outputId": "b38a03d6-ef71-4b98-8096-27a1a99af8c8"
      },
      "execution_count": 53,
      "outputs": [
        {
          "output_type": "execute_result",
          "data": {
            "text/plain": [
              "                           accuracy  precision  recall        f1\n",
              "custom_token_embed_conv1d      35.5   0.355624   0.355  0.352212\n",
              "pretrained_token_embed         45.8   0.458435   0.458  0.450423\n",
              "custom_char_embed_conv1d       28.0   0.265614   0.280  0.236619\n",
              "hybrid_char_token_embed        45.0   0.449280   0.450  0.440027"
            ],
            "text/html": [
              "\n",
              "  <div id=\"df-a8992d42-5b32-47f7-9358-a00ac837cf7d\">\n",
              "    <div class=\"colab-df-container\">\n",
              "      <div>\n",
              "<style scoped>\n",
              "    .dataframe tbody tr th:only-of-type {\n",
              "        vertical-align: middle;\n",
              "    }\n",
              "\n",
              "    .dataframe tbody tr th {\n",
              "        vertical-align: top;\n",
              "    }\n",
              "\n",
              "    .dataframe thead th {\n",
              "        text-align: right;\n",
              "    }\n",
              "</style>\n",
              "<table border=\"1\" class=\"dataframe\">\n",
              "  <thead>\n",
              "    <tr style=\"text-align: right;\">\n",
              "      <th></th>\n",
              "      <th>accuracy</th>\n",
              "      <th>precision</th>\n",
              "      <th>recall</th>\n",
              "      <th>f1</th>\n",
              "    </tr>\n",
              "  </thead>\n",
              "  <tbody>\n",
              "    <tr>\n",
              "      <th>custom_token_embed_conv1d</th>\n",
              "      <td>35.5</td>\n",
              "      <td>0.355624</td>\n",
              "      <td>0.355</td>\n",
              "      <td>0.352212</td>\n",
              "    </tr>\n",
              "    <tr>\n",
              "      <th>pretrained_token_embed</th>\n",
              "      <td>45.8</td>\n",
              "      <td>0.458435</td>\n",
              "      <td>0.458</td>\n",
              "      <td>0.450423</td>\n",
              "    </tr>\n",
              "    <tr>\n",
              "      <th>custom_char_embed_conv1d</th>\n",
              "      <td>28.0</td>\n",
              "      <td>0.265614</td>\n",
              "      <td>0.280</td>\n",
              "      <td>0.236619</td>\n",
              "    </tr>\n",
              "    <tr>\n",
              "      <th>hybrid_char_token_embed</th>\n",
              "      <td>45.0</td>\n",
              "      <td>0.449280</td>\n",
              "      <td>0.450</td>\n",
              "      <td>0.440027</td>\n",
              "    </tr>\n",
              "  </tbody>\n",
              "</table>\n",
              "</div>\n",
              "      <button class=\"colab-df-convert\" onclick=\"convertToInteractive('df-a8992d42-5b32-47f7-9358-a00ac837cf7d')\"\n",
              "              title=\"Convert this dataframe to an interactive table.\"\n",
              "              style=\"display:none;\">\n",
              "        \n",
              "  <svg xmlns=\"http://www.w3.org/2000/svg\" height=\"24px\"viewBox=\"0 0 24 24\"\n",
              "       width=\"24px\">\n",
              "    <path d=\"M0 0h24v24H0V0z\" fill=\"none\"/>\n",
              "    <path d=\"M18.56 5.44l.94 2.06.94-2.06 2.06-.94-2.06-.94-.94-2.06-.94 2.06-2.06.94zm-11 1L8.5 8.5l.94-2.06 2.06-.94-2.06-.94L8.5 2.5l-.94 2.06-2.06.94zm10 10l.94 2.06.94-2.06 2.06-.94-2.06-.94-.94-2.06-.94 2.06-2.06.94z\"/><path d=\"M17.41 7.96l-1.37-1.37c-.4-.4-.92-.59-1.43-.59-.52 0-1.04.2-1.43.59L10.3 9.45l-7.72 7.72c-.78.78-.78 2.05 0 2.83L4 21.41c.39.39.9.59 1.41.59.51 0 1.02-.2 1.41-.59l7.78-7.78 2.81-2.81c.8-.78.8-2.07 0-2.86zM5.41 20L4 18.59l7.72-7.72 1.47 1.35L5.41 20z\"/>\n",
              "  </svg>\n",
              "      </button>\n",
              "      \n",
              "  <style>\n",
              "    .colab-df-container {\n",
              "      display:flex;\n",
              "      flex-wrap:wrap;\n",
              "      gap: 12px;\n",
              "    }\n",
              "\n",
              "    .colab-df-convert {\n",
              "      background-color: #E8F0FE;\n",
              "      border: none;\n",
              "      border-radius: 50%;\n",
              "      cursor: pointer;\n",
              "      display: none;\n",
              "      fill: #1967D2;\n",
              "      height: 32px;\n",
              "      padding: 0 0 0 0;\n",
              "      width: 32px;\n",
              "    }\n",
              "\n",
              "    .colab-df-convert:hover {\n",
              "      background-color: #E2EBFA;\n",
              "      box-shadow: 0px 1px 2px rgba(60, 64, 67, 0.3), 0px 1px 3px 1px rgba(60, 64, 67, 0.15);\n",
              "      fill: #174EA6;\n",
              "    }\n",
              "\n",
              "    [theme=dark] .colab-df-convert {\n",
              "      background-color: #3B4455;\n",
              "      fill: #D2E3FC;\n",
              "    }\n",
              "\n",
              "    [theme=dark] .colab-df-convert:hover {\n",
              "      background-color: #434B5C;\n",
              "      box-shadow: 0px 1px 3px 1px rgba(0, 0, 0, 0.15);\n",
              "      filter: drop-shadow(0px 1px 2px rgba(0, 0, 0, 0.3));\n",
              "      fill: #FFFFFF;\n",
              "    }\n",
              "  </style>\n",
              "\n",
              "      <script>\n",
              "        const buttonEl =\n",
              "          document.querySelector('#df-a8992d42-5b32-47f7-9358-a00ac837cf7d button.colab-df-convert');\n",
              "        buttonEl.style.display =\n",
              "          google.colab.kernel.accessAllowed ? 'block' : 'none';\n",
              "\n",
              "        async function convertToInteractive(key) {\n",
              "          const element = document.querySelector('#df-a8992d42-5b32-47f7-9358-a00ac837cf7d');\n",
              "          const dataTable =\n",
              "            await google.colab.kernel.invokeFunction('convertToInteractive',\n",
              "                                                     [key], {});\n",
              "          if (!dataTable) return;\n",
              "\n",
              "          const docLinkHtml = 'Like what you see? Visit the ' +\n",
              "            '<a target=\"_blank\" href=https://colab.research.google.com/notebooks/data_table.ipynb>data table notebook</a>'\n",
              "            + ' to learn more about interactive tables.';\n",
              "          element.innerHTML = '';\n",
              "          dataTable['output_type'] = 'display_data';\n",
              "          await google.colab.output.renderOutput(dataTable, element);\n",
              "          const docLink = document.createElement('div');\n",
              "          docLink.innerHTML = docLinkHtml;\n",
              "          element.appendChild(docLink);\n",
              "        }\n",
              "      </script>\n",
              "    </div>\n",
              "  </div>\n",
              "  "
            ]
          },
          "metadata": {},
          "execution_count": 53
        }
      ]
    },
    {
      "cell_type": "markdown",
      "source": [
        "## Prediction - Model 2"
      ],
      "metadata": {
        "id": "S2ZrsrMqQyQ-"
      }
    },
    {
      "cell_type": "code",
      "source": [
        "# Save best performing model to SavedModel format\n",
        "model_2.save(\"tf_universal_sentence_model\")"
      ],
      "metadata": {
        "colab": {
          "base_uri": "https://localhost:8080/"
        },
        "id": "WuwAkU3wQxGb",
        "outputId": "8dae90b0-d6a4-447d-bfb0-ac6c1824ea9b"
      },
      "execution_count": 54,
      "outputs": [
        {
          "output_type": "stream",
          "name": "stdout",
          "text": [
            "INFO:tensorflow:Assets written to: tf_universal_sentence_model/assets\n"
          ]
        },
        {
          "output_type": "stream",
          "name": "stderr",
          "text": [
            "INFO:tensorflow:Assets written to: tf_universal_sentence_model/assets\n"
          ]
        }
      ]
    },
    {
      "cell_type": "code",
      "source": [
        "model_path = \"/content/tf_universal_sentence_model\"\n",
        "\n",
        "# Load downloaded model from Google Storage\n",
        "loaded_model = tf.keras.models.load_model(model_path)"
      ],
      "metadata": {
        "id": "R_4Yh-xYRDTM"
      },
      "execution_count": 55,
      "outputs": []
    },
    {
      "cell_type": "code",
      "source": [
        "# Converting test_set sentences\n",
        "test_dataset = tf.data.Dataset.from_tensor_slices((test_sentences))\n",
        "test_dataset = test_dataset.batch(32).prefetch(tf.data.AUTOTUNE)"
      ],
      "metadata": {
        "id": "SLE1RNQBRIiX"
      },
      "execution_count": 56,
      "outputs": []
    },
    {
      "cell_type": "code",
      "source": [
        "# Make predictions on the test dataset\n",
        "test_pred_probs = loaded_model.predict(test_dataset,\n",
        "                                       verbose=1)\n",
        "test_preds = tf.argmax(test_pred_probs, axis=1) +1\n",
        "\n",
        "# Inserting the emotion column in test_set dataframe\n",
        "test_df['emotion'] = test_preds\n",
        "\n",
        "# Save to csv\n",
        "test_df.to_csv(r'/content/test_set_predicted.txt', index=False, sep='\\t')\n",
        "\n",
        "test_df"
      ],
      "metadata": {
        "colab": {
          "base_uri": "https://localhost:8080/",
          "height": 441
        },
        "id": "ctppnlWmRSGz",
        "outputId": "44f02ca7-a9b0-47c8-cb94-9a717281585d"
      },
      "execution_count": 68,
      "outputs": [
        {
          "output_type": "stream",
          "name": "stdout",
          "text": [
            "63/63 [==============================] - 1s 8ms/step\n"
          ]
        },
        {
          "output_type": "execute_result",
          "data": {
            "text/plain": [
              "                                               sentence  emotion\n",
              "0                 Come , let's go get that automobile .        2\n",
              "1                       Well , some other time , then ?        2\n",
              "2                               He's in trouble . Boy ?        3\n",
              "3                  Criminal gang unit to take control .        4\n",
              "4                By Molto . No discussion . Interview .        1\n",
              "...                                                 ...      ...\n",
              "1995                               Let's do some good .        2\n",
              "1996                        Hey , you're looking good .        5\n",
              "1997  Have they moved the embassy , or are you hijac...        7\n",
              "1998                                        What that !        1\n",
              "1999  Imagine interplanetary trade , how exciting th...        2\n",
              "\n",
              "[2000 rows x 2 columns]"
            ],
            "text/html": [
              "\n",
              "  <div id=\"df-d7fe41e8-1c90-46cb-9774-49438a5ce053\">\n",
              "    <div class=\"colab-df-container\">\n",
              "      <div>\n",
              "<style scoped>\n",
              "    .dataframe tbody tr th:only-of-type {\n",
              "        vertical-align: middle;\n",
              "    }\n",
              "\n",
              "    .dataframe tbody tr th {\n",
              "        vertical-align: top;\n",
              "    }\n",
              "\n",
              "    .dataframe thead th {\n",
              "        text-align: right;\n",
              "    }\n",
              "</style>\n",
              "<table border=\"1\" class=\"dataframe\">\n",
              "  <thead>\n",
              "    <tr style=\"text-align: right;\">\n",
              "      <th></th>\n",
              "      <th>sentence</th>\n",
              "      <th>emotion</th>\n",
              "    </tr>\n",
              "  </thead>\n",
              "  <tbody>\n",
              "    <tr>\n",
              "      <th>0</th>\n",
              "      <td>Come , let's go get that automobile .</td>\n",
              "      <td>2</td>\n",
              "    </tr>\n",
              "    <tr>\n",
              "      <th>1</th>\n",
              "      <td>Well , some other time , then ?</td>\n",
              "      <td>2</td>\n",
              "    </tr>\n",
              "    <tr>\n",
              "      <th>2</th>\n",
              "      <td>He's in trouble . Boy ?</td>\n",
              "      <td>3</td>\n",
              "    </tr>\n",
              "    <tr>\n",
              "      <th>3</th>\n",
              "      <td>Criminal gang unit to take control .</td>\n",
              "      <td>4</td>\n",
              "    </tr>\n",
              "    <tr>\n",
              "      <th>4</th>\n",
              "      <td>By Molto . No discussion . Interview .</td>\n",
              "      <td>1</td>\n",
              "    </tr>\n",
              "    <tr>\n",
              "      <th>...</th>\n",
              "      <td>...</td>\n",
              "      <td>...</td>\n",
              "    </tr>\n",
              "    <tr>\n",
              "      <th>1995</th>\n",
              "      <td>Let's do some good .</td>\n",
              "      <td>2</td>\n",
              "    </tr>\n",
              "    <tr>\n",
              "      <th>1996</th>\n",
              "      <td>Hey , you're looking good .</td>\n",
              "      <td>5</td>\n",
              "    </tr>\n",
              "    <tr>\n",
              "      <th>1997</th>\n",
              "      <td>Have they moved the embassy , or are you hijac...</td>\n",
              "      <td>7</td>\n",
              "    </tr>\n",
              "    <tr>\n",
              "      <th>1998</th>\n",
              "      <td>What that !</td>\n",
              "      <td>1</td>\n",
              "    </tr>\n",
              "    <tr>\n",
              "      <th>1999</th>\n",
              "      <td>Imagine interplanetary trade , how exciting th...</td>\n",
              "      <td>2</td>\n",
              "    </tr>\n",
              "  </tbody>\n",
              "</table>\n",
              "<p>2000 rows × 2 columns</p>\n",
              "</div>\n",
              "      <button class=\"colab-df-convert\" onclick=\"convertToInteractive('df-d7fe41e8-1c90-46cb-9774-49438a5ce053')\"\n",
              "              title=\"Convert this dataframe to an interactive table.\"\n",
              "              style=\"display:none;\">\n",
              "        \n",
              "  <svg xmlns=\"http://www.w3.org/2000/svg\" height=\"24px\"viewBox=\"0 0 24 24\"\n",
              "       width=\"24px\">\n",
              "    <path d=\"M0 0h24v24H0V0z\" fill=\"none\"/>\n",
              "    <path d=\"M18.56 5.44l.94 2.06.94-2.06 2.06-.94-2.06-.94-.94-2.06-.94 2.06-2.06.94zm-11 1L8.5 8.5l.94-2.06 2.06-.94-2.06-.94L8.5 2.5l-.94 2.06-2.06.94zm10 10l.94 2.06.94-2.06 2.06-.94-2.06-.94-.94-2.06-.94 2.06-2.06.94z\"/><path d=\"M17.41 7.96l-1.37-1.37c-.4-.4-.92-.59-1.43-.59-.52 0-1.04.2-1.43.59L10.3 9.45l-7.72 7.72c-.78.78-.78 2.05 0 2.83L4 21.41c.39.39.9.59 1.41.59.51 0 1.02-.2 1.41-.59l7.78-7.78 2.81-2.81c.8-.78.8-2.07 0-2.86zM5.41 20L4 18.59l7.72-7.72 1.47 1.35L5.41 20z\"/>\n",
              "  </svg>\n",
              "      </button>\n",
              "      \n",
              "  <style>\n",
              "    .colab-df-container {\n",
              "      display:flex;\n",
              "      flex-wrap:wrap;\n",
              "      gap: 12px;\n",
              "    }\n",
              "\n",
              "    .colab-df-convert {\n",
              "      background-color: #E8F0FE;\n",
              "      border: none;\n",
              "      border-radius: 50%;\n",
              "      cursor: pointer;\n",
              "      display: none;\n",
              "      fill: #1967D2;\n",
              "      height: 32px;\n",
              "      padding: 0 0 0 0;\n",
              "      width: 32px;\n",
              "    }\n",
              "\n",
              "    .colab-df-convert:hover {\n",
              "      background-color: #E2EBFA;\n",
              "      box-shadow: 0px 1px 2px rgba(60, 64, 67, 0.3), 0px 1px 3px 1px rgba(60, 64, 67, 0.15);\n",
              "      fill: #174EA6;\n",
              "    }\n",
              "\n",
              "    [theme=dark] .colab-df-convert {\n",
              "      background-color: #3B4455;\n",
              "      fill: #D2E3FC;\n",
              "    }\n",
              "\n",
              "    [theme=dark] .colab-df-convert:hover {\n",
              "      background-color: #434B5C;\n",
              "      box-shadow: 0px 1px 3px 1px rgba(0, 0, 0, 0.15);\n",
              "      filter: drop-shadow(0px 1px 2px rgba(0, 0, 0, 0.3));\n",
              "      fill: #FFFFFF;\n",
              "    }\n",
              "  </style>\n",
              "\n",
              "      <script>\n",
              "        const buttonEl =\n",
              "          document.querySelector('#df-d7fe41e8-1c90-46cb-9774-49438a5ce053 button.colab-df-convert');\n",
              "        buttonEl.style.display =\n",
              "          google.colab.kernel.accessAllowed ? 'block' : 'none';\n",
              "\n",
              "        async function convertToInteractive(key) {\n",
              "          const element = document.querySelector('#df-d7fe41e8-1c90-46cb-9774-49438a5ce053');\n",
              "          const dataTable =\n",
              "            await google.colab.kernel.invokeFunction('convertToInteractive',\n",
              "                                                     [key], {});\n",
              "          if (!dataTable) return;\n",
              "\n",
              "          const docLinkHtml = 'Like what you see? Visit the ' +\n",
              "            '<a target=\"_blank\" href=https://colab.research.google.com/notebooks/data_table.ipynb>data table notebook</a>'\n",
              "            + ' to learn more about interactive tables.';\n",
              "          element.innerHTML = '';\n",
              "          dataTable['output_type'] = 'display_data';\n",
              "          await google.colab.output.renderOutput(dataTable, element);\n",
              "          const docLink = document.createElement('div');\n",
              "          docLink.innerHTML = docLinkHtml;\n",
              "          element.appendChild(docLink);\n",
              "        }\n",
              "      </script>\n",
              "    </div>\n",
              "  </div>\n",
              "  "
            ]
          },
          "metadata": {},
          "execution_count": 68
        }
      ]
    },
    {
      "cell_type": "code",
      "source": [
        "# check the emotions defined:\n",
        "print(np.sort(test_df['emotion'].unique()))\n",
        "\n",
        "# check the distribution of sentences in each emotion class:\n",
        "dft = test_df.groupby('emotion').count().reset_index()\n",
        "sum_total = dft['sentence'].sum()\n",
        "dft['perc_total'] = round(dft['sentence']/sum_total,2)\n",
        "dft['dataset'] = 'Test'\n",
        "df = df.append(dft)\n",
        "\n",
        "df_plt = df.pivot(index='emotion', columns='dataset', values='perc_total')\n",
        "\n",
        "# Plot and compare class distribution of the datasets\n",
        "df_plt.plot(kind=\"bar\", figsize=(10, 7)).legend(bbox_to_anchor=(1.0, 1.0))\n",
        "\n",
        "plt.show()"
      ],
      "metadata": {
        "colab": {
          "base_uri": "https://localhost:8080/",
          "height": 456
        },
        "id": "51GIU6FeSIxC",
        "outputId": "af733ff0-ce22-4985-d510-a0394d1bcee1"
      },
      "execution_count": 65,
      "outputs": [
        {
          "output_type": "stream",
          "name": "stdout",
          "text": [
            "[1 2 3 4 5 6 7 8]\n"
          ]
        },
        {
          "output_type": "display_data",
          "data": {
            "text/plain": [
              "<Figure size 720x504 with 1 Axes>"
            ],
            "image/png": "[encoded data removed]"
          },
          "metadata": {
            "needs_background": "light"
          }
        }
      ]
    },
    {
      "cell_type": "code",
      "source": [
        "# Analyze predictions valid dataframe\n",
        "valid_df[\"prediction\"] = model_2_preds # create column with test prediction class\n",
        "valid_df[\"pred_prob\"] = tf.reduce_max(model_2_pred_probs, axis=1).numpy() # get the maximum prediction probability\n",
        "valid_df[\"correct\"] = valid_df[\"prediction\"] == valid_df[\"emotion\"] # create binary column for whether the prediction is right or not\n",
        "valid_df.head(2)"
      ],
      "metadata": {
        "colab": {
          "base_uri": "https://localhost:8080/",
          "height": 112
        },
        "id": "RIWhkB1pjUVz",
        "outputId": "849d3574-7f6a-414e-a9bc-9fd6f380e8bf"
      },
      "execution_count": 76,
      "outputs": [
        {
          "output_type": "execute_result",
          "data": {
            "text/plain": [
              "                                 sentence  emotion  prediction  pred_prob  \\\n",
              "0  What happens to the gold in our safe ?        4           4   0.576391   \n",
              "1              Natural to get cold feet .        8           6   0.334920   \n",
              "\n",
              "   correct  \n",
              "0     True  \n",
              "1    False  "
            ],
            "text/html": [
              "\n",
              "  <div id=\"df-c4c39a65-5d78-44da-bfa3-2997f0e81fa0\">\n",
              "    <div class=\"colab-df-container\">\n",
              "      <div>\n",
              "<style scoped>\n",
              "    .dataframe tbody tr th:only-of-type {\n",
              "        vertical-align: middle;\n",
              "    }\n",
              "\n",
              "    .dataframe tbody tr th {\n",
              "        vertical-align: top;\n",
              "    }\n",
              "\n",
              "    .dataframe thead th {\n",
              "        text-align: right;\n",
              "    }\n",
              "</style>\n",
              "<table border=\"1\" class=\"dataframe\">\n",
              "  <thead>\n",
              "    <tr style=\"text-align: right;\">\n",
              "      <th></th>\n",
              "      <th>sentence</th>\n",
              "      <th>emotion</th>\n",
              "      <th>prediction</th>\n",
              "      <th>pred_prob</th>\n",
              "      <th>correct</th>\n",
              "    </tr>\n",
              "  </thead>\n",
              "  <tbody>\n",
              "    <tr>\n",
              "      <th>0</th>\n",
              "      <td>What happens to the gold in our safe ?</td>\n",
              "      <td>4</td>\n",
              "      <td>4</td>\n",
              "      <td>0.576391</td>\n",
              "      <td>True</td>\n",
              "    </tr>\n",
              "    <tr>\n",
              "      <th>1</th>\n",
              "      <td>Natural to get cold feet .</td>\n",
              "      <td>8</td>\n",
              "      <td>6</td>\n",
              "      <td>0.334920</td>\n",
              "      <td>False</td>\n",
              "    </tr>\n",
              "  </tbody>\n",
              "</table>\n",
              "</div>\n",
              "      <button class=\"colab-df-convert\" onclick=\"convertToInteractive('df-c4c39a65-5d78-44da-bfa3-2997f0e81fa0')\"\n",
              "              title=\"Convert this dataframe to an interactive table.\"\n",
              "              style=\"display:none;\">\n",
              "        \n",
              "  <svg xmlns=\"http://www.w3.org/2000/svg\" height=\"24px\"viewBox=\"0 0 24 24\"\n",
              "       width=\"24px\">\n",
              "    <path d=\"M0 0h24v24H0V0z\" fill=\"none\"/>\n",
              "    <path d=\"M18.56 5.44l.94 2.06.94-2.06 2.06-.94-2.06-.94-.94-2.06-.94 2.06-2.06.94zm-11 1L8.5 8.5l.94-2.06 2.06-.94-2.06-.94L8.5 2.5l-.94 2.06-2.06.94zm10 10l.94 2.06.94-2.06 2.06-.94-2.06-.94-.94-2.06-.94 2.06-2.06.94z\"/><path d=\"M17.41 7.96l-1.37-1.37c-.4-.4-.92-.59-1.43-.59-.52 0-1.04.2-1.43.59L10.3 9.45l-7.72 7.72c-.78.78-.78 2.05 0 2.83L4 21.41c.39.39.9.59 1.41.59.51 0 1.02-.2 1.41-.59l7.78-7.78 2.81-2.81c.8-.78.8-2.07 0-2.86zM5.41 20L4 18.59l7.72-7.72 1.47 1.35L5.41 20z\"/>\n",
              "  </svg>\n",
              "      </button>\n",
              "      \n",
              "  <style>\n",
              "    .colab-df-container {\n",
              "      display:flex;\n",
              "      flex-wrap:wrap;\n",
              "      gap: 12px;\n",
              "    }\n",
              "\n",
              "    .colab-df-convert {\n",
              "      background-color: #E8F0FE;\n",
              "      border: none;\n",
              "      border-radius: 50%;\n",
              "      cursor: pointer;\n",
              "      display: none;\n",
              "      fill: #1967D2;\n",
              "      height: 32px;\n",
              "      padding: 0 0 0 0;\n",
              "      width: 32px;\n",
              "    }\n",
              "\n",
              "    .colab-df-convert:hover {\n",
              "      background-color: #E2EBFA;\n",
              "      box-shadow: 0px 1px 2px rgba(60, 64, 67, 0.3), 0px 1px 3px 1px rgba(60, 64, 67, 0.15);\n",
              "      fill: #174EA6;\n",
              "    }\n",
              "\n",
              "    [theme=dark] .colab-df-convert {\n",
              "      background-color: #3B4455;\n",
              "      fill: #D2E3FC;\n",
              "    }\n",
              "\n",
              "    [theme=dark] .colab-df-convert:hover {\n",
              "      background-color: #434B5C;\n",
              "      box-shadow: 0px 1px 3px 1px rgba(0, 0, 0, 0.15);\n",
              "      filter: drop-shadow(0px 1px 2px rgba(0, 0, 0, 0.3));\n",
              "      fill: #FFFFFF;\n",
              "    }\n",
              "  </style>\n",
              "\n",
              "      <script>\n",
              "        const buttonEl =\n",
              "          document.querySelector('#df-c4c39a65-5d78-44da-bfa3-2997f0e81fa0 button.colab-df-convert');\n",
              "        buttonEl.style.display =\n",
              "          google.colab.kernel.accessAllowed ? 'block' : 'none';\n",
              "\n",
              "        async function convertToInteractive(key) {\n",
              "          const element = document.querySelector('#df-c4c39a65-5d78-44da-bfa3-2997f0e81fa0');\n",
              "          const dataTable =\n",
              "            await google.colab.kernel.invokeFunction('convertToInteractive',\n",
              "                                                     [key], {});\n",
              "          if (!dataTable) return;\n",
              "\n",
              "          const docLinkHtml = 'Like what you see? Visit the ' +\n",
              "            '<a target=\"_blank\" href=https://colab.research.google.com/notebooks/data_table.ipynb>data table notebook</a>'\n",
              "            + ' to learn more about interactive tables.';\n",
              "          element.innerHTML = '';\n",
              "          dataTable['output_type'] = 'display_data';\n",
              "          await google.colab.output.renderOutput(dataTable, element);\n",
              "          const docLink = document.createElement('div');\n",
              "          docLink.innerHTML = docLinkHtml;\n",
              "          element.appendChild(docLink);\n",
              "        }\n",
              "      </script>\n",
              "    </div>\n",
              "  </div>\n",
              "  "
            ]
          },
          "metadata": {},
          "execution_count": 76
        }
      ]
    },
    {
      "cell_type": "code",
      "source": [
        "# Find top 20 most wrong samples\n",
        "top_20_wrong = valid_df[valid_df[\"correct\"] == False].sort_values(\"pred_prob\", ascending=False)[:20]\n",
        "top_20_wrong"
      ],
      "metadata": {
        "colab": {
          "base_uri": "https://localhost:8080/",
          "height": 677
        },
        "id": "URCosLRxjfPK",
        "outputId": "4a31412e-ac2e-4c97-a047-c083101f16b1"
      },
      "execution_count": 75,
      "outputs": [
        {
          "output_type": "execute_result",
          "data": {
            "text/plain": [
              "                                              sentence  emotion  prediction  \\\n",
              "351                                   Leave us alone .        4           1   \n",
              "776                                  Simply gorgeous .        8           5   \n",
              "9    Happy may have hit on something tremendous here .        4           5   \n",
              "117                                     I look great !        8           5   \n",
              "948                          We're playing with fire .        2           4   \n",
              "634                      You're not going to hang me ?        7           1   \n",
              "329                                 See you tomorrow .        8           2   \n",
              "386                                        Calm down !        8           1   \n",
              "13                         I can take care of myself !        1           8   \n",
              "700                            I'll see you tomorrow .        8           2   \n",
              "160                                   I'm just tired .        1           6   \n",
              "992                                      Please stop !        4           1   \n",
              "412                             Oh , this is so cool !        2           5   \n",
              "240  They might have a hundred guns , but it's safe...        2           4   \n",
              "855        I've forgotten how good a bad woman feels .        5           6   \n",
              "268  [PERSON] , are we going to make it to the isla...        4           2   \n",
              "46                  You can come out now , Red Eagle .        8           2   \n",
              "299                                We was safe there .        8           4   \n",
              "452                  He's still emotionally unstable .        4           6   \n",
              "655                    It had to be filled with love .        2           5   \n",
              "\n",
              "     pred_prob  correct  \n",
              "351   0.938546    False  \n",
              "776   0.908190    False  \n",
              "9     0.901412    False  \n",
              "117   0.896160    False  \n",
              "948   0.869198    False  \n",
              "634   0.869110    False  \n",
              "329   0.864423    False  \n",
              "386   0.852373    False  \n",
              "13    0.852229    False  \n",
              "700   0.843304    False  \n",
              "160   0.835508    False  \n",
              "992   0.835416    False  \n",
              "412   0.834969    False  \n",
              "240   0.829419    False  \n",
              "855   0.825249    False  \n",
              "268   0.807158    False  \n",
              "46    0.803831    False  \n",
              "299   0.801632    False  \n",
              "452   0.793864    False  \n",
              "655   0.793227    False  "
            ],
            "text/html": [
              "\n",
              "  <div id=\"df-1e69432d-da69-46ae-947f-04eea119384d\">\n",
              "    <div class=\"colab-df-container\">\n",
              "      <div>\n",
              "<style scoped>\n",
              "    .dataframe tbody tr th:only-of-type {\n",
              "        vertical-align: middle;\n",
              "    }\n",
              "\n",
              "    .dataframe tbody tr th {\n",
              "        vertical-align: top;\n",
              "    }\n",
              "\n",
              "    .dataframe thead th {\n",
              "        text-align: right;\n",
              "    }\n",
              "</style>\n",
              "<table border=\"1\" class=\"dataframe\">\n",
              "  <thead>\n",
              "    <tr style=\"text-align: right;\">\n",
              "      <th></th>\n",
              "      <th>sentence</th>\n",
              "      <th>emotion</th>\n",
              "      <th>prediction</th>\n",
              "      <th>pred_prob</th>\n",
              "      <th>correct</th>\n",
              "    </tr>\n",
              "  </thead>\n",
              "  <tbody>\n",
              "    <tr>\n",
              "      <th>351</th>\n",
              "      <td>Leave us alone .</td>\n",
              "      <td>4</td>\n",
              "      <td>1</td>\n",
              "      <td>0.938546</td>\n",
              "      <td>False</td>\n",
              "    </tr>\n",
              "    <tr>\n",
              "      <th>776</th>\n",
              "      <td>Simply gorgeous .</td>\n",
              "      <td>8</td>\n",
              "      <td>5</td>\n",
              "      <td>0.908190</td>\n",
              "      <td>False</td>\n",
              "    </tr>\n",
              "    <tr>\n",
              "      <th>9</th>\n",
              "      <td>Happy may have hit on something tremendous here .</td>\n",
              "      <td>4</td>\n",
              "      <td>5</td>\n",
              "      <td>0.901412</td>\n",
              "      <td>False</td>\n",
              "    </tr>\n",
              "    <tr>\n",
              "      <th>117</th>\n",
              "      <td>I look great !</td>\n",
              "      <td>8</td>\n",
              "      <td>5</td>\n",
              "      <td>0.896160</td>\n",
              "      <td>False</td>\n",
              "    </tr>\n",
              "    <tr>\n",
              "      <th>948</th>\n",
              "      <td>We're playing with fire .</td>\n",
              "      <td>2</td>\n",
              "      <td>4</td>\n",
              "      <td>0.869198</td>\n",
              "      <td>False</td>\n",
              "    </tr>\n",
              "    <tr>\n",
              "      <th>634</th>\n",
              "      <td>You're not going to hang me ?</td>\n",
              "      <td>7</td>\n",
              "      <td>1</td>\n",
              "      <td>0.869110</td>\n",
              "      <td>False</td>\n",
              "    </tr>\n",
              "    <tr>\n",
              "      <th>329</th>\n",
              "      <td>See you tomorrow .</td>\n",
              "      <td>8</td>\n",
              "      <td>2</td>\n",
              "      <td>0.864423</td>\n",
              "      <td>False</td>\n",
              "    </tr>\n",
              "    <tr>\n",
              "      <th>386</th>\n",
              "      <td>Calm down !</td>\n",
              "      <td>8</td>\n",
              "      <td>1</td>\n",
              "      <td>0.852373</td>\n",
              "      <td>False</td>\n",
              "    </tr>\n",
              "    <tr>\n",
              "      <th>13</th>\n",
              "      <td>I can take care of myself !</td>\n",
              "      <td>1</td>\n",
              "      <td>8</td>\n",
              "      <td>0.852229</td>\n",
              "      <td>False</td>\n",
              "    </tr>\n",
              "    <tr>\n",
              "      <th>700</th>\n",
              "      <td>I'll see you tomorrow .</td>\n",
              "      <td>8</td>\n",
              "      <td>2</td>\n",
              "      <td>0.843304</td>\n",
              "      <td>False</td>\n",
              "    </tr>\n",
              "    <tr>\n",
              "      <th>160</th>\n",
              "      <td>I'm just tired .</td>\n",
              "      <td>1</td>\n",
              "      <td>6</td>\n",
              "      <td>0.835508</td>\n",
              "      <td>False</td>\n",
              "    </tr>\n",
              "    <tr>\n",
              "      <th>992</th>\n",
              "      <td>Please stop !</td>\n",
              "      <td>4</td>\n",
              "      <td>1</td>\n",
              "      <td>0.835416</td>\n",
              "      <td>False</td>\n",
              "    </tr>\n",
              "    <tr>\n",
              "      <th>412</th>\n",
              "      <td>Oh , this is so cool !</td>\n",
              "      <td>2</td>\n",
              "      <td>5</td>\n",
              "      <td>0.834969</td>\n",
              "      <td>False</td>\n",
              "    </tr>\n",
              "    <tr>\n",
              "      <th>240</th>\n",
              "      <td>They might have a hundred guns , but it's safe...</td>\n",
              "      <td>2</td>\n",
              "      <td>4</td>\n",
              "      <td>0.829419</td>\n",
              "      <td>False</td>\n",
              "    </tr>\n",
              "    <tr>\n",
              "      <th>855</th>\n",
              "      <td>I've forgotten how good a bad woman feels .</td>\n",
              "      <td>5</td>\n",
              "      <td>6</td>\n",
              "      <td>0.825249</td>\n",
              "      <td>False</td>\n",
              "    </tr>\n",
              "    <tr>\n",
              "      <th>268</th>\n",
              "      <td>[PERSON] , are we going to make it to the isla...</td>\n",
              "      <td>4</td>\n",
              "      <td>2</td>\n",
              "      <td>0.807158</td>\n",
              "      <td>False</td>\n",
              "    </tr>\n",
              "    <tr>\n",
              "      <th>46</th>\n",
              "      <td>You can come out now , Red Eagle .</td>\n",
              "      <td>8</td>\n",
              "      <td>2</td>\n",
              "      <td>0.803831</td>\n",
              "      <td>False</td>\n",
              "    </tr>\n",
              "    <tr>\n",
              "      <th>299</th>\n",
              "      <td>We was safe there .</td>\n",
              "      <td>8</td>\n",
              "      <td>4</td>\n",
              "      <td>0.801632</td>\n",
              "      <td>False</td>\n",
              "    </tr>\n",
              "    <tr>\n",
              "      <th>452</th>\n",
              "      <td>He's still emotionally unstable .</td>\n",
              "      <td>4</td>\n",
              "      <td>6</td>\n",
              "      <td>0.793864</td>\n",
              "      <td>False</td>\n",
              "    </tr>\n",
              "    <tr>\n",
              "      <th>655</th>\n",
              "      <td>It had to be filled with love .</td>\n",
              "      <td>2</td>\n",
              "      <td>5</td>\n",
              "      <td>0.793227</td>\n",
              "      <td>False</td>\n",
              "    </tr>\n",
              "  </tbody>\n",
              "</table>\n",
              "</div>\n",
              "      <button class=\"colab-df-convert\" onclick=\"convertToInteractive('df-1e69432d-da69-46ae-947f-04eea119384d')\"\n",
              "              title=\"Convert this dataframe to an interactive table.\"\n",
              "              style=\"display:none;\">\n",
              "        \n",
              "  <svg xmlns=\"http://www.w3.org/2000/svg\" height=\"24px\"viewBox=\"0 0 24 24\"\n",
              "       width=\"24px\">\n",
              "    <path d=\"M0 0h24v24H0V0z\" fill=\"none\"/>\n",
              "    <path d=\"M18.56 5.44l.94 2.06.94-2.06 2.06-.94-2.06-.94-.94-2.06-.94 2.06-2.06.94zm-11 1L8.5 8.5l.94-2.06 2.06-.94-2.06-.94L8.5 2.5l-.94 2.06-2.06.94zm10 10l.94 2.06.94-2.06 2.06-.94-2.06-.94-.94-2.06-.94 2.06-2.06.94z\"/><path d=\"M17.41 7.96l-1.37-1.37c-.4-.4-.92-.59-1.43-.59-.52 0-1.04.2-1.43.59L10.3 9.45l-7.72 7.72c-.78.78-.78 2.05 0 2.83L4 21.41c.39.39.9.59 1.41.59.51 0 1.02-.2 1.41-.59l7.78-7.78 2.81-2.81c.8-.78.8-2.07 0-2.86zM5.41 20L4 18.59l7.72-7.72 1.47 1.35L5.41 20z\"/>\n",
              "  </svg>\n",
              "      </button>\n",
              "      \n",
              "  <style>\n",
              "    .colab-df-container {\n",
              "      display:flex;\n",
              "      flex-wrap:wrap;\n",
              "      gap: 12px;\n",
              "    }\n",
              "\n",
              "    .colab-df-convert {\n",
              "      background-color: #E8F0FE;\n",
              "      border: none;\n",
              "      border-radius: 50%;\n",
              "      cursor: pointer;\n",
              "      display: none;\n",
              "      fill: #1967D2;\n",
              "      height: 32px;\n",
              "      padding: 0 0 0 0;\n",
              "      width: 32px;\n",
              "    }\n",
              "\n",
              "    .colab-df-convert:hover {\n",
              "      background-color: #E2EBFA;\n",
              "      box-shadow: 0px 1px 2px rgba(60, 64, 67, 0.3), 0px 1px 3px 1px rgba(60, 64, 67, 0.15);\n",
              "      fill: #174EA6;\n",
              "    }\n",
              "\n",
              "    [theme=dark] .colab-df-convert {\n",
              "      background-color: #3B4455;\n",
              "      fill: #D2E3FC;\n",
              "    }\n",
              "\n",
              "    [theme=dark] .colab-df-convert:hover {\n",
              "      background-color: #434B5C;\n",
              "      box-shadow: 0px 1px 3px 1px rgba(0, 0, 0, 0.15);\n",
              "      filter: drop-shadow(0px 1px 2px rgba(0, 0, 0, 0.3));\n",
              "      fill: #FFFFFF;\n",
              "    }\n",
              "  </style>\n",
              "\n",
              "      <script>\n",
              "        const buttonEl =\n",
              "          document.querySelector('#df-1e69432d-da69-46ae-947f-04eea119384d button.colab-df-convert');\n",
              "        buttonEl.style.display =\n",
              "          google.colab.kernel.accessAllowed ? 'block' : 'none';\n",
              "\n",
              "        async function convertToInteractive(key) {\n",
              "          const element = document.querySelector('#df-1e69432d-da69-46ae-947f-04eea119384d');\n",
              "          const dataTable =\n",
              "            await google.colab.kernel.invokeFunction('convertToInteractive',\n",
              "                                                     [key], {});\n",
              "          if (!dataTable) return;\n",
              "\n",
              "          const docLinkHtml = 'Like what you see? Visit the ' +\n",
              "            '<a target=\"_blank\" href=https://colab.research.google.com/notebooks/data_table.ipynb>data table notebook</a>'\n",
              "            + ' to learn more about interactive tables.';\n",
              "          element.innerHTML = '';\n",
              "          dataTable['output_type'] = 'display_data';\n",
              "          await google.colab.output.renderOutput(dataTable, element);\n",
              "          const docLink = document.createElement('div');\n",
              "          docLink.innerHTML = docLinkHtml;\n",
              "          element.appendChild(docLink);\n",
              "        }\n",
              "      </script>\n",
              "    </div>\n",
              "  </div>\n",
              "  "
            ]
          },
          "metadata": {},
          "execution_count": 75
        }
      ]
    }
  ]
}