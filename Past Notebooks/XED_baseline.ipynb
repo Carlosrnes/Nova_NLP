{
 "cells": [
  {
   "cell_type": "code",
   "execution_count": 61,
   "id": "820c2725",
   "metadata": {},
   "outputs": [],
   "source": [
    "#import packages \n",
    "import pandas as pd\n",
    "import numpy as np\n",
    "from sklearn.feature_extraction.text import TfidfVectorizer"
   ]
  },
  {
   "cell_type": "code",
   "execution_count": 168,
   "id": "314cc74d",
   "metadata": {},
   "outputs": [],
   "source": [
    "#import train data\n",
    "train = pd.read_csv(\"training_set.txt\",sep=\" .\t\",engine='python', names=[\"sentence\",\"emotion\"],skiprows=1 )"
   ]
  },
  {
   "cell_type": "code",
   "execution_count": 169,
   "id": "499716f6",
   "metadata": {},
   "outputs": [],
   "source": [
    "#preprocessing\n",
    "train.dropna(inplace=True)\n",
    "train.emotion=train.emotion-1\n",
    "train.emotion=train.emotion.astype(\"int\")\n",
    "train= train.reset_index(drop=True)"
   ]
  },
  {
   "cell_type": "code",
   "execution_count": 170,
   "id": "49503e76",
   "metadata": {},
   "outputs": [
    {
     "data": {
      "text/html": [
       "<div>\n",
       "<style scoped>\n",
       "    .dataframe tbody tr th:only-of-type {\n",
       "        vertical-align: middle;\n",
       "    }\n",
       "\n",
       "    .dataframe tbody tr th {\n",
       "        vertical-align: top;\n",
       "    }\n",
       "\n",
       "    .dataframe thead th {\n",
       "        text-align: right;\n",
       "    }\n",
       "</style>\n",
       "<table border=\"1\" class=\"dataframe\">\n",
       "  <thead>\n",
       "    <tr style=\"text-align: right;\">\n",
       "      <th></th>\n",
       "      <th>sentence</th>\n",
       "      <th>emotion</th>\n",
       "    </tr>\n",
       "  </thead>\n",
       "  <tbody>\n",
       "    <tr>\n",
       "      <th>0</th>\n",
       "      <td>I'm too old to be traded in</td>\n",
       "      <td>5</td>\n",
       "    </tr>\n",
       "    <tr>\n",
       "      <th>1</th>\n",
       "      <td>Mother said you could always tell a lady by he...</td>\n",
       "      <td>7</td>\n",
       "    </tr>\n",
       "    <tr>\n",
       "      <th>2</th>\n",
       "      <td>I always said I'd leave off when the time came</td>\n",
       "      <td>5</td>\n",
       "    </tr>\n",
       "    <tr>\n",
       "      <th>3</th>\n",
       "      <td>He'll be safe with me</td>\n",
       "      <td>1</td>\n",
       "    </tr>\n",
       "    <tr>\n",
       "      <th>4</th>\n",
       "      <td>Lay off</td>\n",
       "      <td>0</td>\n",
       "    </tr>\n",
       "    <tr>\n",
       "      <th>...</th>\n",
       "      <td>...</td>\n",
       "      <td>...</td>\n",
       "    </tr>\n",
       "    <tr>\n",
       "      <th>13528</th>\n",
       "      <td>Yes , Commissioner</td>\n",
       "      <td>7</td>\n",
       "    </tr>\n",
       "    <tr>\n",
       "      <th>13529</th>\n",
       "      <td>The ring</td>\n",
       "      <td>6</td>\n",
       "    </tr>\n",
       "    <tr>\n",
       "      <th>13530</th>\n",
       "      <td>That is my greatest and most enduring love</td>\n",
       "      <td>4</td>\n",
       "    </tr>\n",
       "    <tr>\n",
       "      <th>13531</th>\n",
       "      <td>When I came back from the war , I had a son</td>\n",
       "      <td>4</td>\n",
       "    </tr>\n",
       "    <tr>\n",
       "      <th>13532</th>\n",
       "      <td>You don't have to say the words , Governor</td>\n",
       "      <td>5</td>\n",
       "    </tr>\n",
       "  </tbody>\n",
       "</table>\n",
       "<p>13533 rows × 2 columns</p>\n",
       "</div>"
      ],
      "text/plain": [
       "                                                sentence  emotion\n",
       "0                            I'm too old to be traded in        5\n",
       "1      Mother said you could always tell a lady by he...        7\n",
       "2         I always said I'd leave off when the time came        5\n",
       "3                                  He'll be safe with me        1\n",
       "4                                                Lay off        0\n",
       "...                                                  ...      ...\n",
       "13528                                 Yes , Commissioner        7\n",
       "13529                                           The ring        6\n",
       "13530         That is my greatest and most enduring love        4\n",
       "13531        When I came back from the war , I had a son        4\n",
       "13532         You don't have to say the words , Governor        5\n",
       "\n",
       "[13533 rows x 2 columns]"
      ]
     },
     "execution_count": 170,
     "metadata": {},
     "output_type": "execute_result"
    }
   ],
   "source": [
    "train= train.reset_index(drop=True)\n",
    "train"
   ]
  },
  {
   "cell_type": "code",
   "execution_count": 171,
   "id": "e7414faf",
   "metadata": {},
   "outputs": [
    {
     "data": {
      "text/plain": [
       "((13533, 7011), (13533,))"
      ]
     },
     "execution_count": 171,
     "metadata": {},
     "output_type": "execute_result"
    }
   ],
   "source": [
    "#feature extraction \n",
    "vectorizer = TfidfVectorizer(stop_words=\"english\", max_df=.8)\n",
    "X = vectorizer.fit_transform(train.sentence).toarray()\n",
    "Y = train.emotion\n",
    "X.shape, Y.shape"
   ]
  },
  {
   "cell_type": "code",
   "execution_count": null,
   "id": "3fd45462",
   "metadata": {},
   "outputs": [],
   "source": [
    "#training "
   ]
  },
  {
   "cell_type": "code",
   "execution_count": 172,
   "id": "09bf1a0e",
   "metadata": {},
   "outputs": [],
   "source": [
    "import matplotlib.pyplot as plt\n",
    "from tqdm import tqdm_notebook as tqdm\n",
    "import numpy as np\n",
    "\n",
    "class Classifier(object):\n",
    "    \"\"\" Multi-class Classifier base class \"\"\"\n",
    "\n",
    "    def __init__(self, input_size, n_classes):\n",
    "        \"\"\"\n",
    "        Initializes a matrix in which each column will be the weights for a specific class.\n",
    "        :param input_size: Number of features\n",
    "        :param n_classes: Number of classes to classify the inputs\n",
    "        \"\"\"\n",
    "        self.parameters = np.zeros((input_size+1, n_classes)) # input_size +1 to include the Bias term\n",
    "\n",
    "    def train(self, X, Y, devX, devY, epochs=20):\n",
    "        \"\"\"\n",
    "        This trains the model over a certain number of epoch and records the\n",
    "            accuracy in Training and Dev sets along each epoch.\n",
    "        :param X: numpy array with size NxM where N is the number of training examples\n",
    "                 and M is the number of features.\n",
    "        :param Y: numpy array with size N containing the correct labels for the training set\n",
    "        :param devX (optional): same as X but for the dev set.\n",
    "        :param devY (optional): same as Y but for the dev set.\n",
    "        :param epochs (optional): number of epochs to run.\n",
    "        \"\"\"\n",
    "        train_accuracy = [self.evaluate(X, Y)]\n",
    "        dev_accuracy = [self.evaluate(devX, devY)]\n",
    "        \n",
    "        for epoch in range(epochs):\n",
    "            for i in tqdm(range(X.shape[0])):\n",
    "                self.update_weights(X[i, :], Y[i])\n",
    "                \n",
    "            train_accuracy.append(self.evaluate(X, Y))\n",
    "            dev_accuracy.append(self.evaluate(devX, devY))\n",
    "            \n",
    "        return train_accuracy, dev_accuracy\n",
    "        \n",
    "\n",
    "    def evaluate(self, X, Y):\n",
    "        \"\"\"\n",
    "        Evaluates the model's predictions for a given set of examples.\n",
    "        :param X: numpy array with size NxM where N is the number of examples to \n",
    "                    evaluate and M is the number of features.\n",
    "        :param Y: numpy array with size N containing the correct labels for the training set\n",
    "        \"\"\"\n",
    "        correct_predictions = 0\n",
    "        for i in range(X.shape[0]):\n",
    "            y_pred = self.predict(X[i, :])\n",
    "            if Y[i] == y_pred:\n",
    "                correct_predictions += 1\n",
    "        return correct_predictions/X.shape[0]\n",
    "\n",
    "\n",
    "    def plot_train(self, train_accuracy, dev_accuracy):\n",
    "        \"\"\"\n",
    "        Function to plot the accuracy of the Training set and Dev set per epoch.\n",
    "        :param train_accuracy: list containing the accuracies of the train set.\n",
    "        :param dev_accuracy: list containing the accuracies of the dev set.\n",
    "        \"\"\"\n",
    "        x_axis = [epoch+1 for epoch in range(len(train_accuracy))]\n",
    "        plt.plot(x_axis, train_accuracy, '-g', linewidth=1, label='Train')\n",
    "        plt.xlabel(\"epochs\")\n",
    "        plt.ylabel(\"Accuracy\")\n",
    "        plt.plot(x_axis, dev_accuracy, 'b-', linewidth=1, label='Dev')\n",
    "        plt.legend()\n",
    "        plt.show()\n",
    "\n",
    "\n",
    "    def update_weights(self, x, y):\n",
    "        \"\"\"\n",
    "        Function that will take an input example and the true prediction and will \n",
    "            update the model parameters.\n",
    "        \n",
    "        :param x: Array of size M where M its the number of features that the model \n",
    "                  takes as input.\n",
    "        :param y: The int corresponding to the correct label.\n",
    "        \n",
    "        Child classes must implement this function\n",
    "        \"\"\"\n",
    "        pass\n",
    "\n",
    "    def predict(self, x):\n",
    "        \"\"\"\n",
    "        This function will add a Bias value to the received input, multiply the weights \n",
    "            corresponding to the different classeswith the input vector and choose the \n",
    "            class that maximizes that multiplication.\n",
    "        \n",
    "        :param x: numpy array with size 1xN where N = number of features.\n",
    "        \n",
    "        Child classes must implement this function\n",
    "        \"\"\"\n",
    "        pass"
   ]
  },
  {
   "cell_type": "code",
   "execution_count": 173,
   "id": "1481a069",
   "metadata": {},
   "outputs": [],
   "source": [
    "import warnings\n",
    "warnings.filterwarnings(\"ignore\", category=DeprecationWarning) \n",
    "\n",
    "class MultinomialLR(Classifier):\n",
    "    \"\"\" Multinomial Logistic Regression \"\"\"\n",
    "\n",
    "    def __init__(self, input_size, n_classes, lr=0.001):\n",
    "        \"\"\"\n",
    "        Initializes a matrix in which each column will be the Weights for a specific class.\n",
    "        :param input_size: Number of features\n",
    "        :param n_classes: Number of classes to classify the inputs\n",
    "        :lr: learning rate (optional)\n",
    "        \"\"\"\n",
    "        Classifier.__init__(self, input_size, n_classes)\n",
    "        self.lr = lr\n",
    "\n",
    "    def predict(self, input):\n",
    "        \"\"\"\n",
    "        This function will add a Bias value to the received input, multiply the \n",
    "            Weights corresponding to the different classeswith the input vector, run \n",
    "            a softmax function and choose the class that achieves an higher probability.\n",
    "        :param x: numpy array with size 1xN where N = number of features.\n",
    "        \"\"\"\n",
    "        return np.argmax(self.softmax(np.dot(np.append(input, [1]), self.parameters)))\n",
    "\n",
    "    def softmax(self, x):\n",
    "        \"\"\" Computes softmax values for each sets of scores in x.\"\"\"\n",
    "        return np.exp(x-np.max(x))/np.sum(np.exp(x-np.max(x)), axis=0)\n",
    "\n",
    "    def update_weights(self, x, y):\n",
    "        \"\"\"\n",
    "        Function that will take an input example and the true prediction and will update\n",
    "            the model parameters.\n",
    "        :param x: Array of size M where M its the number of features that the model takes as input.\n",
    "        :param y: The int corresponding to the correct label.\n",
    "        \"\"\"\n",
    "        linear = np.dot(np.append(x, [1]), self.parameters)\n",
    "        predictions = self.softmax(linear)\n",
    "        \n",
    "        self.parameters = self.parameters - self.lr*(np.outer(predictions, np.append(x, [1])).T)\n",
    "        self.parameters[:, y] = self.parameters[:, y] + self.lr*np.append(x, [1])"
   ]
  },
  {
   "cell_type": "code",
   "execution_count": 1,
   "id": "3c351784",
   "metadata": {},
   "outputs": [
    {
     "ename": "NameError",
     "evalue": "name 'MultinomialLR' is not defined",
     "output_type": "error",
     "traceback": [
      "\u001b[1;31m---------------------------------------------------------------------------\u001b[0m",
      "\u001b[1;31mNameError\u001b[0m                                 Traceback (most recent call last)",
      "Input \u001b[1;32mIn [1]\u001b[0m, in \u001b[0;36m<cell line: 1>\u001b[1;34m()\u001b[0m\n\u001b[1;32m----> 1\u001b[0m lr  \u001b[38;5;241m=\u001b[39m \u001b[43mMultinomialLR\u001b[49m(X\u001b[38;5;241m.\u001b[39mshape[\u001b[38;5;241m1\u001b[39m], \u001b[38;5;28mlen\u001b[39m(np\u001b[38;5;241m.\u001b[39munique(Y)))\n\u001b[0;32m      2\u001b[0m lr\u001b[38;5;241m.\u001b[39mparameters\u001b[38;5;241m.\u001b[39mshape\n",
      "\u001b[1;31mNameError\u001b[0m: name 'MultinomialLR' is not defined"
     ]
    }
   ],
   "source": [
    "lr  = MultinomialLR(X.shape[1], len(np.unique(Y)))\n",
    "lr.parameters.shape"
   ]
  },
  {
   "cell_type": "code",
   "execution_count": 175,
   "id": "04d142a6",
   "metadata": {},
   "outputs": [
    {
     "data": {
      "text/plain": [
       "((968, 7011), (968,))"
      ]
     },
     "execution_count": 175,
     "metadata": {},
     "output_type": "execute_result"
    }
   ],
   "source": [
    "#validation data\n",
    "val = pd.read_csv(\"dev_set.txt\",sep=\" .\t\",engine='python', names=[\"sentence\",\"emotion\"],skiprows=1 )\n",
    "val.dropna(inplace=True)\n",
    "val.emotion=val.emotion-1\n",
    "val.emotion=val.emotion.astype(\"int\")\n",
    "val= val.reset_index(drop=True)\n",
    "\n",
    "X_test = vectorizer.transform(val.sentence).toarray()\n",
    "Y_test = val.emotion\n",
    "X_test.shape, Y_test.shape"
   ]
  },
  {
   "cell_type": "code",
   "execution_count": 176,
   "id": "cfa955c1",
   "metadata": {},
   "outputs": [
    {
     "data": {
      "application/vnd.jupyter.widget-view+json": {
       "model_id": "0a4d1a753c65423482805e9e71f2d2ae",
       "version_major": 2,
       "version_minor": 0
      },
      "text/plain": [
       "  0%|          | 0/13533 [00:00<?, ?it/s]"
      ]
     },
     "metadata": {},
     "output_type": "display_data"
    },
    {
     "data": {
      "application/vnd.jupyter.widget-view+json": {
       "model_id": "f34318de709941229e22c6d8266bb076",
       "version_major": 2,
       "version_minor": 0
      },
      "text/plain": [
       "  0%|          | 0/13533 [00:00<?, ?it/s]"
      ]
     },
     "metadata": {},
     "output_type": "display_data"
    },
    {
     "data": {
      "application/vnd.jupyter.widget-view+json": {
       "model_id": "68cc5a06ce27472b8d7433d5a4d22674",
       "version_major": 2,
       "version_minor": 0
      },
      "text/plain": [
       "  0%|          | 0/13533 [00:00<?, ?it/s]"
      ]
     },
     "metadata": {},
     "output_type": "display_data"
    },
    {
     "data": {
      "application/vnd.jupyter.widget-view+json": {
       "model_id": "e4c614c4d93e45da824b8d06e6b7a6fe",
       "version_major": 2,
       "version_minor": 0
      },
      "text/plain": [
       "  0%|          | 0/13533 [00:00<?, ?it/s]"
      ]
     },
     "metadata": {},
     "output_type": "display_data"
    },
    {
     "data": {
      "application/vnd.jupyter.widget-view+json": {
       "model_id": "ceb9cb6ba5744de6a54ea2e383fcee4e",
       "version_major": 2,
       "version_minor": 0
      },
      "text/plain": [
       "  0%|          | 0/13533 [00:00<?, ?it/s]"
      ]
     },
     "metadata": {},
     "output_type": "display_data"
    },
    {
     "data": {
      "application/vnd.jupyter.widget-view+json": {
       "model_id": "fe2aa747728c46d780ce1a821cbbc5dc",
       "version_major": 2,
       "version_minor": 0
      },
      "text/plain": [
       "  0%|          | 0/13533 [00:00<?, ?it/s]"
      ]
     },
     "metadata": {},
     "output_type": "display_data"
    },
    {
     "data": {
      "application/vnd.jupyter.widget-view+json": {
       "model_id": "a1d7ffff7b1646ee85026f8598fe7aaf",
       "version_major": 2,
       "version_minor": 0
      },
      "text/plain": [
       "  0%|          | 0/13533 [00:00<?, ?it/s]"
      ]
     },
     "metadata": {},
     "output_type": "display_data"
    },
    {
     "data": {
      "application/vnd.jupyter.widget-view+json": {
       "model_id": "3fdf67c2d9134c9dbdcca83de5d43493",
       "version_major": 2,
       "version_minor": 0
      },
      "text/plain": [
       "  0%|          | 0/13533 [00:00<?, ?it/s]"
      ]
     },
     "metadata": {},
     "output_type": "display_data"
    },
    {
     "data": {
      "application/vnd.jupyter.widget-view+json": {
       "model_id": "a4ae52f5327e40e6b52f9cfc21bafedf",
       "version_major": 2,
       "version_minor": 0
      },
      "text/plain": [
       "  0%|          | 0/13533 [00:00<?, ?it/s]"
      ]
     },
     "metadata": {},
     "output_type": "display_data"
    },
    {
     "data": {
      "application/vnd.jupyter.widget-view+json": {
       "model_id": "d363dada5d9b4778a7e8ea9eb27b4d42",
       "version_major": 2,
       "version_minor": 0
      },
      "text/plain": [
       "  0%|          | 0/13533 [00:00<?, ?it/s]"
      ]
     },
     "metadata": {},
     "output_type": "display_data"
    }
   ],
   "source": [
    "train_acc, dev_acc = lr.train(X, Y, devX=X_test, devY=Y_test, epochs=10)"
   ]
  },
  {
   "cell_type": "code",
   "execution_count": 177,
   "id": "051c1db2",
   "metadata": {},
   "outputs": [
    {
     "data": {
      "image/png": "[encoded data removed]",
      "text/plain": [
       "<Figure size 432x288 with 1 Axes>"
      ]
     },
     "metadata": {
      "needs_background": "light"
     },
     "output_type": "display_data"
    }
   ],
   "source": [
    "lr.plot_train(train_acc, dev_acc)"
   ]
  },
  {
   "cell_type": "code",
   "execution_count": 182,
   "id": "be02a31a",
   "metadata": {},
   "outputs": [],
   "source": [
    "class MultiClassPerceptron(Classifier):\n",
    "    \"\"\" Multi Class Perceptron \"\"\"\n",
    "\n",
    "    def __init__(self, input_size, n_classes):\n",
    "        \"\"\"\n",
    "        Initializes a matrix in which each column will be the Weights for a specific class.\n",
    "        :param input_size: Number of features\n",
    "        :param n_classes: Number of classes to classify the inputs\n",
    "        \"\"\"\n",
    "        Classifier.__init__(self, input_size, n_classes)\n",
    "\n",
    "    def predict(self, x):\n",
    "        \"\"\"\n",
    "        This function will add a Bias value to the received input, multiply the Weights \n",
    "             corresponding to the different classes with the input vector and choose the class \n",
    "             that maximizes that multiplication.\n",
    "        :param x: numpy array with size 1xM where M = number of features.\n",
    "        \"\"\"\n",
    "        \n",
    "        # your code here\n",
    "        return np.argmax(np.dot(np.append(x, [1]), self.parameters))\n",
    "\n",
    "    def update_weights(self, x, y):\n",
    "        \"\"\"\n",
    "        Function that will take an input example and the true prediction and will update the \n",
    "            model parameters.\n",
    "        :param x: Array of size M where M its the number of features that the model takes as input.\n",
    "        :param y: The int corresponding to the correct label.\n",
    "        \"\"\"\n",
    "        \n",
    "        # your code here-\n",
    "        y_pred = self.predict(x)\n",
    "        if y != y_pred:\n",
    "            self.parameters[:, y] += np.append(x, [1])\n",
    "            self.parameters[:, y_pred] -=  np.append(x, [1])\n",
    "        "
   ]
  },
  {
   "cell_type": "code",
   "execution_count": 179,
   "id": "7c9d51bd",
   "metadata": {},
   "outputs": [],
   "source": [
    "perceptron = MultiClassPerceptron(X.shape[1], len(np.unique(Y)))"
   ]
  },
  {
   "cell_type": "code",
   "execution_count": 180,
   "id": "5944ca71",
   "metadata": {},
   "outputs": [
    {
     "data": {
      "application/vnd.jupyter.widget-view+json": {
       "model_id": "6913a93830224808ac27a3c3992afcaf",
       "version_major": 2,
       "version_minor": 0
      },
      "text/plain": [
       "  0%|          | 0/13533 [00:00<?, ?it/s]"
      ]
     },
     "metadata": {},
     "output_type": "display_data"
    },
    {
     "data": {
      "application/vnd.jupyter.widget-view+json": {
       "model_id": "bfea77e3aa6b4a49ad6cd4b44e3a3858",
       "version_major": 2,
       "version_minor": 0
      },
      "text/plain": [
       "  0%|          | 0/13533 [00:00<?, ?it/s]"
      ]
     },
     "metadata": {},
     "output_type": "display_data"
    },
    {
     "data": {
      "application/vnd.jupyter.widget-view+json": {
       "model_id": "fd8ac577635d4756a30a204a595682c2",
       "version_major": 2,
       "version_minor": 0
      },
      "text/plain": [
       "  0%|          | 0/13533 [00:00<?, ?it/s]"
      ]
     },
     "metadata": {},
     "output_type": "display_data"
    },
    {
     "data": {
      "application/vnd.jupyter.widget-view+json": {
       "model_id": "4793a2bd4c6d4f8d83f29490ad859bc2",
       "version_major": 2,
       "version_minor": 0
      },
      "text/plain": [
       "  0%|          | 0/13533 [00:00<?, ?it/s]"
      ]
     },
     "metadata": {},
     "output_type": "display_data"
    },
    {
     "data": {
      "application/vnd.jupyter.widget-view+json": {
       "model_id": "e42dde5d22d2484b8c9eb178e4abf6e1",
       "version_major": 2,
       "version_minor": 0
      },
      "text/plain": [
       "  0%|          | 0/13533 [00:00<?, ?it/s]"
      ]
     },
     "metadata": {},
     "output_type": "display_data"
    }
   ],
   "source": [
    "train_acc, dev_acc = perceptron.train(X, Y, devX=X_test, devY=Y_test, epochs=5)"
   ]
  },
  {
   "cell_type": "code",
   "execution_count": 181,
   "id": "c4c1146c",
   "metadata": {},
   "outputs": [
    {
     "data": {
      "image/png": "[encoded data removed]",
      "text/plain": [
       "<Figure size 432x288 with 1 Axes>"
      ]
     },
     "metadata": {
      "needs_background": "light"
     },
     "output_type": "display_data"
    }
   ],
   "source": [
    "perceptron.plot_train(train_acc, dev_acc)"
   ]
  },
  {
   "cell_type": "code",
   "execution_count": null,
   "id": "5386dd0d",
   "metadata": {},
   "outputs": [],
   "source": []
  }
 ],
 "metadata": {
  "kernelspec": {
   "display_name": "Python 3 (ipykernel)",
   "language": "python",
   "name": "python3"
  },
  "language_info": {
   "codemirror_mode": {
    "name": "ipython",
    "version": 3
   },
   "file_extension": ".py",
   "mimetype": "text/x-python",
   "name": "python",
   "nbconvert_exporter": "python",
   "pygments_lexer": "ipython3",
   "version": "3.8.8"
  }
 },
 "nbformat": 4,
 "nbformat_minor": 5
}
